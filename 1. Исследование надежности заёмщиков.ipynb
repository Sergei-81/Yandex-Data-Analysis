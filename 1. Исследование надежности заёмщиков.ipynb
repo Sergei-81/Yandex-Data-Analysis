{
  "nbformat": 4,
  "nbformat_minor": 0,
  "metadata": {
    "kernelspec": {
      "display_name": "Python 3",
      "language": "python",
      "name": "python3"
    },
    "language_info": {
      "codemirror_mode": {
        "name": "ipython",
        "version": 3
      },
      "file_extension": ".py",
      "mimetype": "text/x-python",
      "name": "python",
      "nbconvert_exporter": "python",
      "pygments_lexer": "ipython3",
      "version": "3.7.4"
    },
    "colab": {
      "name": "1. Исследование надежности заемщиков.ipynb",
      "provenance": [],
      "collapsed_sections": [],
      "toc_visible": true,
      "include_colab_link": true
    }
  },
  "cells": [
    {
      "cell_type": "markdown",
      "metadata": {
        "id": "view-in-github",
        "colab_type": "text"
      },
      "source": [
        "<a href=\"https://colab.research.google.com/github/alexeiveselov92/Yandex-Data-Analysis/blob/master/1.%20%D0%98%D1%81%D1%81%D0%BB%D0%B5%D0%B4%D0%BE%D0%B2%D0%B0%D0%BD%D0%B8%D0%B5%20%D0%BD%D0%B0%D0%B4%D0%B5%D0%B6%D0%BD%D0%BE%D1%81%D1%82%D0%B8%20%D0%B7%D0%B0%D1%91%D0%BC%D1%89%D0%B8%D0%BA%D0%BE%D0%B2.ipynb\" target=\"_parent\"><img src=\"https://colab.research.google.com/assets/colab-badge.svg\" alt=\"Open In Colab\"/></a>"
      ]
    },
    {
      "cell_type": "markdown",
      "metadata": {
        "id": "Vh9HhRC7cbgC",
        "colab_type": "text"
      },
      "source": [
        "# Исследование надёжности заёмщиков\n",
        "\n",
        "Заказчик — кредитный отдел банка. Нужно разобраться, влияет ли семейное положение и количество детей клиента на факт погашения кредита в срок. Входные данные от банка — статистика о платёжеспособности клиентов.\n",
        "\n",
        "Результаты исследования будут учтены при построении модели **кредитного скоринга** — специальной системы, которая оценивает способность потенциального заёмщика вернуть кредит банку."
      ]
    },
    {
      "cell_type": "markdown",
      "metadata": {
        "id": "V5z9qmksoqDI",
        "colab_type": "text"
      },
      "source": [
        "## Загрузка библиотек\n"
      ]
    },
    {
      "cell_type": "code",
      "metadata": {
        "id": "NLbpaEd2o1kN",
        "colab_type": "code",
        "outputId": "d396cb42-e813-4da5-aaa2-86d318c9e9a6",
        "colab": {
          "base_uri": "https://localhost:8080/",
          "height": 34
        }
      },
      "source": [
        "import pandas as pd\n",
        "import math as mth\n",
        "from scipy import stats as st\n",
        "import random\n",
        "import numpy as np\n",
        "\n",
        "#визуализация\n",
        "import matplotlib.pyplot as plt\n",
        "from plotly import graph_objects as go\n",
        "import plotly.express as px\n",
        "import seaborn as sns; sns.set()\n",
        "import plotly\n",
        "plotly.io.renderers.default = 'colab'\n",
        "\n",
        "#другое\n",
        "pd.options.display.expand_frame_repr = False\n",
        "import warnings\n",
        "warnings.filterwarnings('ignore')\n",
        "\n",
        "#загрузка файлов с диска\n",
        "from google.colab import drive\n",
        "drive.mount('/content/drive')\n",
        "\n",
        "#ML\n",
        "from sklearn.preprocessing import StandardScaler\n",
        "from sklearn.model_selection import train_test_split\n",
        "\n",
        "from sklearn.linear_model import LogisticRegression\n",
        "from sklearn.metrics import accuracy_score, precision_score, recall_score, f1_score\n",
        "\n",
        "from sklearn.tree import DecisionTreeRegressor, DecisionTreeClassifier\n",
        "from sklearn.ensemble import RandomForestRegressor, GradientBoostingRegressor\n",
        "from sklearn.ensemble import RandomForestClassifier, GradientBoostingClassifier\n",
        "from sklearn.metrics import accuracy_score, precision_score, recall_score\n",
        "from sklearn.cluster import KMeans\n",
        "from scipy.cluster.hierarchy import dendrogram, linkage"
      ],
      "execution_count": 0,
      "outputs": [
        {
          "output_type": "stream",
          "text": [
            "Drive already mounted at /content/drive; to attempt to forcibly remount, call drive.mount(\"/content/drive\", force_remount=True).\n"
          ],
          "name": "stdout"
        }
      ]
    },
    {
      "cell_type": "markdown",
      "metadata": {
        "id": "9tBUPdJWcbgD",
        "colab_type": "text"
      },
      "source": [
        "## Загрузка датасета и предобработка данных"
      ]
    },
    {
      "cell_type": "markdown",
      "metadata": {
        "id": "E2ZuMwJGsCi-",
        "colab_type": "text"
      },
      "source": [
        "### Пропуски в данных"
      ]
    },
    {
      "cell_type": "code",
      "metadata": {
        "id": "uaVu5n2ncbgD",
        "colab_type": "code",
        "outputId": "cdbd9ef2-ea13-4daf-8cea-15f92f3b6414",
        "colab": {
          "base_uri": "https://localhost:8080/",
          "height": 812
        }
      },
      "source": [
        "df = pd.read_csv('/content/drive/My Drive/Colab Notebooks/datasets/1_credit_history.csv')\n",
        "df.info()\n",
        "gaps_in_the_data = pd.DataFrame({'percent_of_nulls':df.isnull().sum()/len(df)})\n",
        "gaps_in_the_data['percent_of_nulls'] = gaps_in_the_data['percent_of_nulls'].map(lambda x: '{:.2%}'.format(x))\n",
        "print('')\n",
        "print(df.query('days_employed.isnull()', engine='python')[['days_employed', 'total_income']].sum())\n",
        "gaps_in_the_data.sort_values(by='percent_of_nulls', ascending=False)"
      ],
      "execution_count": 0,
      "outputs": [
        {
          "output_type": "stream",
          "text": [
            "<class 'pandas.core.frame.DataFrame'>\n",
            "RangeIndex: 21525 entries, 0 to 21524\n",
            "Data columns (total 12 columns):\n",
            " #   Column            Non-Null Count  Dtype  \n",
            "---  ------            --------------  -----  \n",
            " 0   children          21525 non-null  int64  \n",
            " 1   days_employed     19351 non-null  float64\n",
            " 2   dob_years         21525 non-null  int64  \n",
            " 3   education         21525 non-null  object \n",
            " 4   education_id      21525 non-null  int64  \n",
            " 5   family_status     21525 non-null  object \n",
            " 6   family_status_id  21525 non-null  int64  \n",
            " 7   gender            21525 non-null  object \n",
            " 8   income_type       21525 non-null  object \n",
            " 9   debt              21525 non-null  int64  \n",
            " 10  total_income      19351 non-null  float64\n",
            " 11  purpose           21525 non-null  object \n",
            "dtypes: float64(2), int64(5), object(5)\n",
            "memory usage: 2.0+ MB\n",
            "\n",
            "days_employed    0.0\n",
            "total_income     0.0\n",
            "dtype: float64\n"
          ],
          "name": "stdout"
        },
        {
          "output_type": "execute_result",
          "data": {
            "text/html": [
              "<div>\n",
              "<style scoped>\n",
              "    .dataframe tbody tr th:only-of-type {\n",
              "        vertical-align: middle;\n",
              "    }\n",
              "\n",
              "    .dataframe tbody tr th {\n",
              "        vertical-align: top;\n",
              "    }\n",
              "\n",
              "    .dataframe thead th {\n",
              "        text-align: right;\n",
              "    }\n",
              "</style>\n",
              "<table border=\"1\" class=\"dataframe\">\n",
              "  <thead>\n",
              "    <tr style=\"text-align: right;\">\n",
              "      <th></th>\n",
              "      <th>percent_of_nulls</th>\n",
              "    </tr>\n",
              "  </thead>\n",
              "  <tbody>\n",
              "    <tr>\n",
              "      <th>days_employed</th>\n",
              "      <td>10.10%</td>\n",
              "    </tr>\n",
              "    <tr>\n",
              "      <th>total_income</th>\n",
              "      <td>10.10%</td>\n",
              "    </tr>\n",
              "    <tr>\n",
              "      <th>children</th>\n",
              "      <td>0.00%</td>\n",
              "    </tr>\n",
              "    <tr>\n",
              "      <th>dob_years</th>\n",
              "      <td>0.00%</td>\n",
              "    </tr>\n",
              "    <tr>\n",
              "      <th>education</th>\n",
              "      <td>0.00%</td>\n",
              "    </tr>\n",
              "    <tr>\n",
              "      <th>education_id</th>\n",
              "      <td>0.00%</td>\n",
              "    </tr>\n",
              "    <tr>\n",
              "      <th>family_status</th>\n",
              "      <td>0.00%</td>\n",
              "    </tr>\n",
              "    <tr>\n",
              "      <th>family_status_id</th>\n",
              "      <td>0.00%</td>\n",
              "    </tr>\n",
              "    <tr>\n",
              "      <th>gender</th>\n",
              "      <td>0.00%</td>\n",
              "    </tr>\n",
              "    <tr>\n",
              "      <th>income_type</th>\n",
              "      <td>0.00%</td>\n",
              "    </tr>\n",
              "    <tr>\n",
              "      <th>debt</th>\n",
              "      <td>0.00%</td>\n",
              "    </tr>\n",
              "    <tr>\n",
              "      <th>purpose</th>\n",
              "      <td>0.00%</td>\n",
              "    </tr>\n",
              "  </tbody>\n",
              "</table>\n",
              "</div>"
            ],
            "text/plain": [
              "                 percent_of_nulls\n",
              "days_employed              10.10%\n",
              "total_income               10.10%\n",
              "children                    0.00%\n",
              "dob_years                   0.00%\n",
              "education                   0.00%\n",
              "education_id                0.00%\n",
              "family_status               0.00%\n",
              "family_status_id            0.00%\n",
              "gender                      0.00%\n",
              "income_type                 0.00%\n",
              "debt                        0.00%\n",
              "purpose                     0.00%"
            ]
          },
          "metadata": {
            "tags": []
          },
          "execution_count": 42
        }
      ]
    },
    {
      "cell_type": "markdown",
      "metadata": {
        "id": "RhyU2VwBcbgJ",
        "colab_type": "text"
      },
      "source": [
        "> Мы видим в столбцах `days_employed` и `total_income` пропущенные значения, причём они находятся в одних и тех же строках.\n",
        "\n",
        "\n"
      ]
    },
    {
      "cell_type": "markdown",
      "metadata": {
        "id": "bVNBFhNKcbgK",
        "colab_type": "text"
      },
      "source": [
        "### Обработка пропусков"
      ]
    },
    {
      "cell_type": "code",
      "metadata": {
        "id": "PFAm9IfycbgK",
        "colab_type": "code",
        "colab": {}
      },
      "source": [
        "#найдем ср. знач и медиану дохода и стажа соотв.\n",
        "total_income_median = df['total_income'].median()\n",
        "days_employed_mean = df['days_employed'].mean()\n",
        "\n",
        "#заменим отрицательные числа на положительные в стаже\n",
        "def negative_to_pozitive(value):\n",
        "    if value < 0:\n",
        "        value *= -1\n",
        "        return value\n",
        "    else:\n",
        "        return value\n",
        "df['days_employed'] = df['days_employed'].apply(negative_to_pozitive)\n",
        "df['days_employed'] = df['days_employed'].fillna(days_employed_mean)\n",
        "df['total_income'] = df['total_income'].fillna(total_income_median)"
      ],
      "execution_count": 0,
      "outputs": []
    },
    {
      "cell_type": "markdown",
      "metadata": {
        "id": "-5vptxymcbgN",
        "colab_type": "text"
      },
      "source": [
        "> В стаже отрицательные числа сделали положительными, пропуски заменили на среднее значение. В доходе пропуски заменили на медианное значение.\n",
        "Обратили внимание на неадекватность стажа у пенсионеров, стоят завышенные значения, в 25% выборки. При использовании этих значений в расчетах, мы бы получили неправльную картину. О причинах неадекватности значений надо было бы уточнить у операторов и исправить ошибку."
      ]
    },
    {
      "cell_type": "markdown",
      "metadata": {
        "id": "eZUj6BHKcbgO",
        "colab_type": "text"
      },
      "source": [
        "### Замена типа данных"
      ]
    },
    {
      "cell_type": "code",
      "metadata": {
        "id": "0wu-UABkcbgP",
        "colab_type": "code",
        "colab": {}
      },
      "source": [
        "df['days_employed'] = df['days_employed'].astype('int')\n",
        "df['total_income'] = df['total_income'].astype('int')"
      ],
      "execution_count": 0,
      "outputs": []
    },
    {
      "cell_type": "markdown",
      "metadata": {
        "id": "DWm0x6aRcbgR",
        "colab_type": "text"
      },
      "source": [
        "> В стаже и доходе стояли значения типа float - заменили их на int."
      ]
    },
    {
      "cell_type": "markdown",
      "metadata": {
        "id": "WYzCkA4dcbgS",
        "colab_type": "text"
      },
      "source": [
        "### Обработка дубликатов"
      ]
    },
    {
      "cell_type": "code",
      "metadata": {
        "id": "rntGA7zjcbgS",
        "colab_type": "code",
        "outputId": "51324240-1d9e-444a-b8b7-4d6e6bfa2497",
        "colab": {
          "base_uri": "https://localhost:8080/",
          "height": 235
        }
      },
      "source": [
        "from collections import Counter\n",
        "#приведем в единый формат столбец образование (уберем дубликаты, полученные из-за разного регистра букв)\n",
        "Counter(df['education'])\n",
        "df['education'] = df['education'].str.lower()\n",
        "Counter(df['education'])\n",
        "\n",
        "#проверим формат столбца семейный статус\n",
        "df\n",
        "Counter(df['family_status'])\n",
        "df.loc[df.loc[:, 'gender'] == 'XNA']\n",
        "\n",
        "#проверим формат столбца профессии\n",
        "Counter(df['income_type'])\n",
        "\n",
        "#проверим формат столбца цель кредита\n",
        "Counter(df['purpose'])\n",
        "\n",
        "#проверим формат столбца количества детей\n",
        "df['children'].value_counts()\n",
        "#видим ошибку - присутствует значение -1, а также 20 в столбце количества детей\n",
        "# -1 заменим на 1, а 20 заменим медианным значением, так как \n",
        "# мы не знаем как возникла ошибка: случайно ввели лишний ноль при вводе 2 или же вместо 0 случайно поставили 20\n",
        "df['children'] = df['children'].replace(-1, 1)\n",
        "children_median = df.loc[df.loc[:, 'children'] != 20]['children'].median()\n",
        "df['children'] = df['children'].replace(20, children_median)\n",
        "pd.DataFrame({'Кол-во заёмщиков по кол-ву детей':df['children'].value_counts()})"
      ],
      "execution_count": 0,
      "outputs": [
        {
          "output_type": "execute_result",
          "data": {
            "text/html": [
              "<div>\n",
              "<style scoped>\n",
              "    .dataframe tbody tr th:only-of-type {\n",
              "        vertical-align: middle;\n",
              "    }\n",
              "\n",
              "    .dataframe tbody tr th {\n",
              "        vertical-align: top;\n",
              "    }\n",
              "\n",
              "    .dataframe thead th {\n",
              "        text-align: right;\n",
              "    }\n",
              "</style>\n",
              "<table border=\"1\" class=\"dataframe\">\n",
              "  <thead>\n",
              "    <tr style=\"text-align: right;\">\n",
              "      <th></th>\n",
              "      <th>Кол-во заёмщиков по кол-ву детей</th>\n",
              "    </tr>\n",
              "  </thead>\n",
              "  <tbody>\n",
              "    <tr>\n",
              "      <th>0</th>\n",
              "      <td>14225</td>\n",
              "    </tr>\n",
              "    <tr>\n",
              "      <th>1</th>\n",
              "      <td>4865</td>\n",
              "    </tr>\n",
              "    <tr>\n",
              "      <th>2</th>\n",
              "      <td>2055</td>\n",
              "    </tr>\n",
              "    <tr>\n",
              "      <th>3</th>\n",
              "      <td>330</td>\n",
              "    </tr>\n",
              "    <tr>\n",
              "      <th>4</th>\n",
              "      <td>41</td>\n",
              "    </tr>\n",
              "    <tr>\n",
              "      <th>5</th>\n",
              "      <td>9</td>\n",
              "    </tr>\n",
              "  </tbody>\n",
              "</table>\n",
              "</div>"
            ],
            "text/plain": [
              "   Кол-во заёмщиков по кол-ву детей\n",
              "0                             14225\n",
              "1                              4865\n",
              "2                              2055\n",
              "3                               330\n",
              "4                                41\n",
              "5                                 9"
            ]
          },
          "metadata": {
            "tags": []
          },
          "execution_count": 45
        }
      ]
    },
    {
      "cell_type": "markdown",
      "metadata": {
        "id": "Jh5O6cHzcbgW",
        "colab_type": "text"
      },
      "source": [
        "> Привели значения образования в единый формат, проверили остальные столбцы через метод Counter и метод value_counts(). Нашлась 1 строка со значением пола - 'XNA' - скорее всего пропуск, но так как мы не знаем пол человека и не можем сделать предположений из данных, а также в расчетах использовать значение не будем, то оставляем его как есть. Также были отрицательные значения в количестве детей и неадекватное значение 20 детей. Все их обработали."
      ]
    },
    {
      "cell_type": "markdown",
      "metadata": {
        "id": "h0J8Bc1zcbgX",
        "colab_type": "text"
      },
      "source": [
        "### Категоризация"
      ]
    },
    {
      "cell_type": "code",
      "metadata": {
        "id": "K8X7kkO8cbgX",
        "colab_type": "code",
        "outputId": "fbe176dd-ef88-4217-a716-a3af803e9c7e",
        "colab": {
          "base_uri": "https://localhost:8080/",
          "height": 85
        }
      },
      "source": [
        "#столбец цель кредита нужно лемматизировать и на основе его создать новый столбец с категориями \n",
        "\n",
        "estate = ['недвижим', 'жиль']\n",
        "wedding = ['свадьб']\n",
        "auto = ['автомоб']\n",
        "education = ['образова']\n",
        "\n",
        "df['purpose_category'] = 0\n",
        "def categoryzer(list_of_words, category):\n",
        "  join = '|'.join(list_of_words)\n",
        "  index = df[df['purpose'].str.lower().str.contains(join)].index.to_list()\n",
        "  for i in index:\n",
        "    df.loc[i, 'purpose_category'] = category\n",
        "  return df\n",
        "\n",
        "\n",
        "categoryzer(wedding, 'свадьба')\n",
        "categoryzer(estate, 'недвижимость')\n",
        "categoryzer(auto, 'авто')\n",
        "categoryzer(education, 'образование')\n",
        "\n",
        "#проверим результат и убедимся, что значений None не осталось\n",
        "Counter(df['purpose_category'])"
      ],
      "execution_count": 0,
      "outputs": [
        {
          "output_type": "execute_result",
          "data": {
            "text/plain": [
              "Counter({'авто': 4315,\n",
              "         'недвижимость': 10840,\n",
              "         'образование': 4022,\n",
              "         'свадьба': 2348})"
            ]
          },
          "metadata": {
            "tags": []
          },
          "execution_count": 46
        }
      ]
    },
    {
      "cell_type": "markdown",
      "metadata": {
        "id": "i7CbhRAYcbga",
        "colab_type": "text"
      },
      "source": [
        "> Видим, что многие уникальные значения цели кредита названы похожим образом, но имеют одинаковый смысл. Мы лемматизируем их, чтобы затем разбить на категории. Обе задачи мы выполнили с помощью одной функции. В итоге мы получили 4 категории целей кредита.\n",
        "В нашей задаче это не понадобится, но наша категоризация сможет помочь другим аналитикам, которые изучают влияние цели кредита на возврат денег в срок.\n",
        "\n",
        "* 'недвижимость': 10840,\n",
        "* 'авто': 4315,\n",
        "* 'образование': 4022,\n",
        "* 'свадьба': 2348"
      ]
    },
    {
      "cell_type": "code",
      "metadata": {
        "id": "etaQaK2Ccbgd",
        "colab_type": "code",
        "outputId": "7345d98d-ac20-40f2-abae-6697bbb5113e",
        "colab": {
          "base_uri": "https://localhost:8080/",
          "height": 266
        }
      },
      "source": [
        "debt_from_children = pd.DataFrame()\n",
        "debt_from_children['count_children'] = df.groupby('children')['debt'].count()\n",
        "debt_from_children['sum_children'] = df.groupby('children')['debt'].sum()\n",
        "debt_from_children['result_children'] = debt_from_children['sum_children'] / debt_from_children['count_children'] \n",
        "debt_from_children"
      ],
      "execution_count": 0,
      "outputs": [
        {
          "output_type": "execute_result",
          "data": {
            "text/html": [
              "<div>\n",
              "<style scoped>\n",
              "    .dataframe tbody tr th:only-of-type {\n",
              "        vertical-align: middle;\n",
              "    }\n",
              "\n",
              "    .dataframe tbody tr th {\n",
              "        vertical-align: top;\n",
              "    }\n",
              "\n",
              "    .dataframe thead th {\n",
              "        text-align: right;\n",
              "    }\n",
              "</style>\n",
              "<table border=\"1\" class=\"dataframe\">\n",
              "  <thead>\n",
              "    <tr style=\"text-align: right;\">\n",
              "      <th></th>\n",
              "      <th>count_children</th>\n",
              "      <th>sum_children</th>\n",
              "      <th>result_children</th>\n",
              "    </tr>\n",
              "    <tr>\n",
              "      <th>children</th>\n",
              "      <th></th>\n",
              "      <th></th>\n",
              "      <th></th>\n",
              "    </tr>\n",
              "  </thead>\n",
              "  <tbody>\n",
              "    <tr>\n",
              "      <th>0</th>\n",
              "      <td>14225</td>\n",
              "      <td>1071</td>\n",
              "      <td>0.075290</td>\n",
              "    </tr>\n",
              "    <tr>\n",
              "      <th>1</th>\n",
              "      <td>4865</td>\n",
              "      <td>445</td>\n",
              "      <td>0.091470</td>\n",
              "    </tr>\n",
              "    <tr>\n",
              "      <th>2</th>\n",
              "      <td>2055</td>\n",
              "      <td>194</td>\n",
              "      <td>0.094404</td>\n",
              "    </tr>\n",
              "    <tr>\n",
              "      <th>3</th>\n",
              "      <td>330</td>\n",
              "      <td>27</td>\n",
              "      <td>0.081818</td>\n",
              "    </tr>\n",
              "    <tr>\n",
              "      <th>4</th>\n",
              "      <td>41</td>\n",
              "      <td>4</td>\n",
              "      <td>0.097561</td>\n",
              "    </tr>\n",
              "    <tr>\n",
              "      <th>5</th>\n",
              "      <td>9</td>\n",
              "      <td>0</td>\n",
              "      <td>0.000000</td>\n",
              "    </tr>\n",
              "  </tbody>\n",
              "</table>\n",
              "</div>"
            ],
            "text/plain": [
              "          count_children  sum_children  result_children\n",
              "children                                               \n",
              "0                  14225          1071         0.075290\n",
              "1                   4865           445         0.091470\n",
              "2                   2055           194         0.094404\n",
              "3                    330            27         0.081818\n",
              "4                     41             4         0.097561\n",
              "5                      9             0         0.000000"
            ]
          },
          "metadata": {
            "tags": []
          },
          "execution_count": 47
        }
      ]
    },
    {
      "cell_type": "markdown",
      "metadata": {
        "id": "mcTFMDA6cbgg",
        "colab_type": "text"
      },
      "source": [
        "> Так как мы изучаем влияние семейного положения и наличия детей на факт погашения в срок, мы не будем разбивать возраста на категории, так как они нам не понадобятся. Для сдачи проекта категоризация была применена вместе с лемматизацией выше в одной функции. Категоризовать количество детей нет необходимости, категориями будет как раз их количество, так как всего 6 вариантов."
      ]
    },
    {
      "cell_type": "markdown",
      "metadata": {
        "id": "rqTLr4qHcbgh",
        "colab_type": "text"
      },
      "source": [
        "### Есть ли зависимость между наличием детей и возвратом кредита в срок?"
      ]
    },
    {
      "cell_type": "code",
      "metadata": {
        "id": "sEO7mIPhcbgi",
        "colab_type": "code",
        "outputId": "f0e3a6d1-468b-43f9-cac5-78879eea21bd",
        "colab": {
          "base_uri": "https://localhost:8080/",
          "height": 266
        }
      },
      "source": [
        "debt_from_children = pd.DataFrame()\n",
        "debt_from_children['count_children'] = df.groupby('children')['debt'].count()\n",
        "debt_from_children['sum_children'] = df.groupby('children')['debt'].sum()\n",
        "debt_from_children['result_children'] = debt_from_children['sum_children'] / debt_from_children['count_children'] \n",
        "debt_from_children.sort_values('result_children', ascending = False)"
      ],
      "execution_count": 0,
      "outputs": [
        {
          "output_type": "execute_result",
          "data": {
            "text/html": [
              "<div>\n",
              "<style scoped>\n",
              "    .dataframe tbody tr th:only-of-type {\n",
              "        vertical-align: middle;\n",
              "    }\n",
              "\n",
              "    .dataframe tbody tr th {\n",
              "        vertical-align: top;\n",
              "    }\n",
              "\n",
              "    .dataframe thead th {\n",
              "        text-align: right;\n",
              "    }\n",
              "</style>\n",
              "<table border=\"1\" class=\"dataframe\">\n",
              "  <thead>\n",
              "    <tr style=\"text-align: right;\">\n",
              "      <th></th>\n",
              "      <th>count_children</th>\n",
              "      <th>sum_children</th>\n",
              "      <th>result_children</th>\n",
              "    </tr>\n",
              "    <tr>\n",
              "      <th>children</th>\n",
              "      <th></th>\n",
              "      <th></th>\n",
              "      <th></th>\n",
              "    </tr>\n",
              "  </thead>\n",
              "  <tbody>\n",
              "    <tr>\n",
              "      <th>4</th>\n",
              "      <td>41</td>\n",
              "      <td>4</td>\n",
              "      <td>0.097561</td>\n",
              "    </tr>\n",
              "    <tr>\n",
              "      <th>2</th>\n",
              "      <td>2055</td>\n",
              "      <td>194</td>\n",
              "      <td>0.094404</td>\n",
              "    </tr>\n",
              "    <tr>\n",
              "      <th>1</th>\n",
              "      <td>4865</td>\n",
              "      <td>445</td>\n",
              "      <td>0.091470</td>\n",
              "    </tr>\n",
              "    <tr>\n",
              "      <th>3</th>\n",
              "      <td>330</td>\n",
              "      <td>27</td>\n",
              "      <td>0.081818</td>\n",
              "    </tr>\n",
              "    <tr>\n",
              "      <th>0</th>\n",
              "      <td>14225</td>\n",
              "      <td>1071</td>\n",
              "      <td>0.075290</td>\n",
              "    </tr>\n",
              "    <tr>\n",
              "      <th>5</th>\n",
              "      <td>9</td>\n",
              "      <td>0</td>\n",
              "      <td>0.000000</td>\n",
              "    </tr>\n",
              "  </tbody>\n",
              "</table>\n",
              "</div>"
            ],
            "text/plain": [
              "          count_children  sum_children  result_children\n",
              "children                                               \n",
              "4                     41             4         0.097561\n",
              "2                   2055           194         0.094404\n",
              "1                   4865           445         0.091470\n",
              "3                    330            27         0.081818\n",
              "0                  14225          1071         0.075290\n",
              "5                      9             0         0.000000"
            ]
          },
          "metadata": {
            "tags": []
          },
          "execution_count": 48
        }
      ]
    },
    {
      "cell_type": "markdown",
      "metadata": {
        "id": "j7Q6OgKRcbgk",
        "colab_type": "text"
      },
      "source": [
        "> С увеличением количества детей мы видим увеличение количества просроченных задолженностей, хотя люди с 3 детьми чаще платят в срок чем люди с 1 ребенком. Данные не однозначные, возможно, нужна большая выборка, чем та, которую мы имеем. \n",
        "Бездетные, как правило реже просрачивают оплату по кредиту, чем люди с детьми."
      ]
    },
    {
      "cell_type": "markdown",
      "metadata": {
        "id": "X3G9g258cbgl",
        "colab_type": "text"
      },
      "source": [
        "### Есть ли зависимость между семейным статусом и возвратом кредита в срок?"
      ]
    },
    {
      "cell_type": "code",
      "metadata": {
        "id": "RH3UcwdEcbgl",
        "colab_type": "code",
        "outputId": "b3a483d6-7019-44e6-b383-3b77bd6a403b",
        "colab": {
          "base_uri": "https://localhost:8080/",
          "height": 235
        }
      },
      "source": [
        "debt_from_family_status = pd.DataFrame()\n",
        "debt_from_family_status['sum_family_status'] = df.groupby('family_status')['debt'].sum()\n",
        "debt_from_family_status['count_family_status'] = df.groupby('family_status')['debt'].count()\n",
        "debt_from_family_status['result_family_status'] = debt_from_family_status['sum_family_status'] / debt_from_family_status['count_family_status'] \n",
        "debt_from_family_status.sort_values('result_family_status', ascending = False)"
      ],
      "execution_count": 0,
      "outputs": [
        {
          "output_type": "execute_result",
          "data": {
            "text/html": [
              "<div>\n",
              "<style scoped>\n",
              "    .dataframe tbody tr th:only-of-type {\n",
              "        vertical-align: middle;\n",
              "    }\n",
              "\n",
              "    .dataframe tbody tr th {\n",
              "        vertical-align: top;\n",
              "    }\n",
              "\n",
              "    .dataframe thead th {\n",
              "        text-align: right;\n",
              "    }\n",
              "</style>\n",
              "<table border=\"1\" class=\"dataframe\">\n",
              "  <thead>\n",
              "    <tr style=\"text-align: right;\">\n",
              "      <th></th>\n",
              "      <th>sum_family_status</th>\n",
              "      <th>count_family_status</th>\n",
              "      <th>result_family_status</th>\n",
              "    </tr>\n",
              "    <tr>\n",
              "      <th>family_status</th>\n",
              "      <th></th>\n",
              "      <th></th>\n",
              "      <th></th>\n",
              "    </tr>\n",
              "  </thead>\n",
              "  <tbody>\n",
              "    <tr>\n",
              "      <th>Не женат / не замужем</th>\n",
              "      <td>274</td>\n",
              "      <td>2813</td>\n",
              "      <td>0.097405</td>\n",
              "    </tr>\n",
              "    <tr>\n",
              "      <th>гражданский брак</th>\n",
              "      <td>388</td>\n",
              "      <td>4177</td>\n",
              "      <td>0.092890</td>\n",
              "    </tr>\n",
              "    <tr>\n",
              "      <th>женат / замужем</th>\n",
              "      <td>931</td>\n",
              "      <td>12380</td>\n",
              "      <td>0.075202</td>\n",
              "    </tr>\n",
              "    <tr>\n",
              "      <th>в разводе</th>\n",
              "      <td>85</td>\n",
              "      <td>1195</td>\n",
              "      <td>0.071130</td>\n",
              "    </tr>\n",
              "    <tr>\n",
              "      <th>вдовец / вдова</th>\n",
              "      <td>63</td>\n",
              "      <td>960</td>\n",
              "      <td>0.065625</td>\n",
              "    </tr>\n",
              "  </tbody>\n",
              "</table>\n",
              "</div>"
            ],
            "text/plain": [
              "                       sum_family_status  count_family_status  result_family_status\n",
              "family_status                                                                      \n",
              "Не женат / не замужем                274                 2813              0.097405\n",
              "гражданский брак                     388                 4177              0.092890\n",
              "женат / замужем                      931                12380              0.075202\n",
              "в разводе                             85                 1195              0.071130\n",
              "вдовец / вдова                        63                  960              0.065625"
            ]
          },
          "metadata": {
            "tags": []
          },
          "execution_count": 49
        }
      ]
    },
    {
      "cell_type": "markdown",
      "metadata": {
        "id": "NZZRG90fcbgo",
        "colab_type": "text"
      },
      "source": [
        "> Да, зависимость есть. Люди не в браке и не бывавшие в браке имеют больший процент невозвратов в срок. \n",
        "Но, те кто развелись или овдовели чаще платят в срок, чем люди в браке."
      ]
    },
    {
      "cell_type": "markdown",
      "metadata": {
        "id": "VrqiwHDlcbgp",
        "colab_type": "text"
      },
      "source": [
        "### Есть ли зависимость между уровнем дохода и возвратом кредита в срок?"
      ]
    },
    {
      "cell_type": "code",
      "metadata": {
        "id": "INpAR0d3cbgp",
        "colab_type": "code",
        "outputId": "8ddc6039-e8fc-4cdf-fbea-7e65ac4839e9",
        "colab": {
          "base_uri": "https://localhost:8080/",
          "height": 111
        }
      },
      "source": [
        "def total_income_category(value):\n",
        "    if value >= 500000:\n",
        "        return 10\n",
        "    else:\n",
        "        value = value // 50000\n",
        "        return value\n",
        "df['total_income_id'] = df['total_income'].apply(total_income_category)\n",
        "df['total_income_id'].value_counts()\n",
        "debt_from_total_income = pd.DataFrame()\n",
        "debt_from_total_income['sum'] = df.groupby('total_income_id')['debt'].sum()\n",
        "debt_from_total_income['count'] = df.groupby('total_income_id')['debt'].count()\n",
        "debt_from_total_income['conversion'] = debt_from_total_income['sum'] / debt_from_total_income['count']\n",
        "debt_from_total_income.sort_values('conversion', ascending = False)\n",
        "\n",
        "#Ранее мы категоризировали уровень дохода создав доп столбец total_income_id. Мы выполнили целочисленное \n",
        "#деление дохода на 50000, тем самым разбив люей на категории каждые 50000 дохода. \n",
        "#Мы видим, что начиная с id 10 (зп >= 500000) выборка людей становится нерепрезентативной, поэтому объединяем\n",
        "#людей с доходом => 500000 в одну категорию - id = 10. Для этого добавим в функцию условие.\n",
        "\n",
        "#видим что зависимости долга от доходов кадется нет, на всякий случай посмотрим корреляцию между столбцами дохода и долгом\n",
        "verification_through_correlation = pd.DataFrame()\n",
        "verification_through_correlation['total_income'] = df['total_income']\n",
        "verification_through_correlation['debt'] = df['debt']\n",
        "verification_through_correlation.corr()\n",
        "#видим, что корреляции нет, теперь вывод очевиден"
      ],
      "execution_count": 0,
      "outputs": [
        {
          "output_type": "execute_result",
          "data": {
            "text/html": [
              "<div>\n",
              "<style scoped>\n",
              "    .dataframe tbody tr th:only-of-type {\n",
              "        vertical-align: middle;\n",
              "    }\n",
              "\n",
              "    .dataframe tbody tr th {\n",
              "        vertical-align: top;\n",
              "    }\n",
              "\n",
              "    .dataframe thead th {\n",
              "        text-align: right;\n",
              "    }\n",
              "</style>\n",
              "<table border=\"1\" class=\"dataframe\">\n",
              "  <thead>\n",
              "    <tr style=\"text-align: right;\">\n",
              "      <th></th>\n",
              "      <th>total_income</th>\n",
              "      <th>debt</th>\n",
              "    </tr>\n",
              "  </thead>\n",
              "  <tbody>\n",
              "    <tr>\n",
              "      <th>total_income</th>\n",
              "      <td>1.000000</td>\n",
              "      <td>-0.011592</td>\n",
              "    </tr>\n",
              "    <tr>\n",
              "      <th>debt</th>\n",
              "      <td>-0.011592</td>\n",
              "      <td>1.000000</td>\n",
              "    </tr>\n",
              "  </tbody>\n",
              "</table>\n",
              "</div>"
            ],
            "text/plain": [
              "              total_income      debt\n",
              "total_income      1.000000 -0.011592\n",
              "debt             -0.011592  1.000000"
            ]
          },
          "metadata": {
            "tags": []
          },
          "execution_count": 50
        }
      ]
    },
    {
      "cell_type": "markdown",
      "metadata": {
        "id": "UsWNOBADcbgs",
        "colab_type": "text"
      },
      "source": [
        "> Зависимости между уровнем дохода и возвратом кредита в срок нет!"
      ]
    },
    {
      "cell_type": "markdown",
      "metadata": {
        "id": "OX2AgY7Mcbgs",
        "colab_type": "text"
      },
      "source": [
        "### Как разные цели кредита влияют на его возврат в срок?"
      ]
    },
    {
      "cell_type": "code",
      "metadata": {
        "id": "EH5wlSsEcbgt",
        "colab_type": "code",
        "outputId": "02ee96d5-55b0-471e-ef4f-c09f90df0be6",
        "colab": {
          "base_uri": "https://localhost:8080/",
          "height": 204
        }
      },
      "source": [
        "debt_from_purpose_category = pd.DataFrame()\n",
        "debt_from_purpose_category['sum_purpose_category'] = df.groupby('purpose_category')['debt'].sum()\n",
        "debt_from_purpose_category['count_purpose_category'] = df.groupby('purpose_category')['debt'].count()\n",
        "debt_from_purpose_category['result_purpose_category'] = debt_from_purpose_category['sum_purpose_category'] / debt_from_purpose_category['count_purpose_category'] \n",
        "debt_from_purpose_category.sort_values('result_purpose_category', ascending = False)"
      ],
      "execution_count": 0,
      "outputs": [
        {
          "output_type": "execute_result",
          "data": {
            "text/html": [
              "<div>\n",
              "<style scoped>\n",
              "    .dataframe tbody tr th:only-of-type {\n",
              "        vertical-align: middle;\n",
              "    }\n",
              "\n",
              "    .dataframe tbody tr th {\n",
              "        vertical-align: top;\n",
              "    }\n",
              "\n",
              "    .dataframe thead th {\n",
              "        text-align: right;\n",
              "    }\n",
              "</style>\n",
              "<table border=\"1\" class=\"dataframe\">\n",
              "  <thead>\n",
              "    <tr style=\"text-align: right;\">\n",
              "      <th></th>\n",
              "      <th>sum_purpose_category</th>\n",
              "      <th>count_purpose_category</th>\n",
              "      <th>result_purpose_category</th>\n",
              "    </tr>\n",
              "    <tr>\n",
              "      <th>purpose_category</th>\n",
              "      <th></th>\n",
              "      <th></th>\n",
              "      <th></th>\n",
              "    </tr>\n",
              "  </thead>\n",
              "  <tbody>\n",
              "    <tr>\n",
              "      <th>авто</th>\n",
              "      <td>403</td>\n",
              "      <td>4315</td>\n",
              "      <td>0.093395</td>\n",
              "    </tr>\n",
              "    <tr>\n",
              "      <th>образование</th>\n",
              "      <td>370</td>\n",
              "      <td>4022</td>\n",
              "      <td>0.091994</td>\n",
              "    </tr>\n",
              "    <tr>\n",
              "      <th>свадьба</th>\n",
              "      <td>186</td>\n",
              "      <td>2348</td>\n",
              "      <td>0.079216</td>\n",
              "    </tr>\n",
              "    <tr>\n",
              "      <th>недвижимость</th>\n",
              "      <td>782</td>\n",
              "      <td>10840</td>\n",
              "      <td>0.072140</td>\n",
              "    </tr>\n",
              "  </tbody>\n",
              "</table>\n",
              "</div>"
            ],
            "text/plain": [
              "                  sum_purpose_category  count_purpose_category  result_purpose_category\n",
              "purpose_category                                                                       \n",
              "авто                               403                    4315                 0.093395\n",
              "образование                        370                    4022                 0.091994\n",
              "свадьба                            186                    2348                 0.079216\n",
              "недвижимость                       782                   10840                 0.072140"
            ]
          },
          "metadata": {
            "tags": []
          },
          "execution_count": 51
        }
      ]
    },
    {
      "cell_type": "markdown",
      "metadata": {
        "id": "jtDzy6KAcbgw",
        "colab_type": "text"
      },
      "source": [
        "> Вот нам и понадобилось разбиение целей кредита по категориям.\n",
        "Как мы видим, среди 4 наших категорий, чаще всего платят в срок с целью кредита недвижимость, чаще просрочка у тех кому нужен кредит на авто и образование. Кредиты на свадьбу просрачивают реже - примерно как и в случае недвижимости."
      ]
    },
    {
      "cell_type": "markdown",
      "metadata": {
        "id": "IyNpi7Slcbgx",
        "colab_type": "text"
      },
      "source": [
        "## Общий вывод"
      ]
    },
    {
      "cell_type": "markdown",
      "metadata": {
        "id": "A2yt6tWccbgx",
        "colab_type": "text"
      },
      "source": [
        "Общий вывод - семейный статус влияет на вероятность платежей по кредиту в срок - люди, бывший в браке чаще плятят в срок чем те, кто не бывали в браке, причем разведенные и овдовевшие платят в срок чаще, чем люди в браке. Чем больше детей, тем чаще платят не в срок, бездетные реже просрачивают оплату."
      ]
    }
  ]
}