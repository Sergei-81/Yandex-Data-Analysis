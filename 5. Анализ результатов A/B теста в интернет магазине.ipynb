{
  "nbformat": 4,
  "nbformat_minor": 0,
  "metadata": {
    "kernelspec": {
      "display_name": "Python 3",
      "language": "python",
      "name": "python3"
    },
    "language_info": {
      "codemirror_mode": {
        "name": "ipython",
        "version": 3
      },
      "file_extension": ".py",
      "mimetype": "text/x-python",
      "name": "python",
      "nbconvert_exporter": "python",
      "pygments_lexer": "ipython3",
      "version": "3.7.4"
    },
    "colab": {
      "name": "5. Анализ результатов A/B теста в интернет магазине",
      "provenance": [],
      "toc_visible": true,
      "include_colab_link": true
    }
  },
  "cells": [
    {
      "cell_type": "markdown",
      "metadata": {
        "id": "view-in-github",
        "colab_type": "text"
      },
      "source": [
        "<a href=\"https://colab.research.google.com/github/alexeiveselov92/Yandex-Data-Analysis/blob/master/5.%20%D0%90%D0%BD%D0%B0%D0%BB%D0%B8%D0%B7%20%D1%80%D0%B5%D0%B7%D1%83%D0%BB%D1%8C%D1%82%D0%B0%D1%82%D0%BE%D0%B2%20A/B%20%D1%82%D0%B5%D1%81%D1%82%D0%B0%20%D0%B2%20%D0%B8%D0%BD%D1%82%D0%B5%D1%80%D0%BD%D0%B5%D1%82%20%D0%BC%D0%B0%D0%B3%D0%B0%D0%B7%D0%B8%D0%BD%D0%B5.ipynb\" target=\"_parent\"><img src=\"https://colab.research.google.com/assets/colab-badge.svg\" alt=\"Open In Colab\"/></a>"
      ]
    },
    {
      "cell_type": "markdown",
      "metadata": {
        "id": "Vw_UlwI8xybu",
        "colab_type": "text"
      },
      "source": [
        "# Принятие решений в бизнесе на основе данных. Приоритезация гипотез. A/B тест.\n",
        "## Описание проекта\n",
        "Вы — аналитик крупного интернет-магазина. Вместе с отделом маркетинга вы подготовили список гипотез для увеличения выручки.\n",
        "Приоритизируйте гипотезы, запустите A/B-тест и проанализируйте результаты.\n",
        "\n",
        "## Оглавление <a id='Оглавление'></a>\n",
        "\n",
        "### Подготовка\n",
        "1. [Загрузка библиотек](#1)\n",
        "2. [Загрузка датасетов и их проверка на наличие пропусков и на правильность выгрузки](#2)\n",
        "\n",
        "### Приоритизация гипотез\n",
        "3. [Примените фреймворк ICE для приоритизации гипотез. Отсортируйте их по убыванию приоритета.](#3)\n",
        "4. [Примените фреймворк RICE для приоритизации гипотез. Отсортируйте их по убыванию приоритета.](#4)\n",
        "5. [Укажите, как изменилась приоритизация гипотез при применении RICE вместо ICE. Объясните, почему так произошло.](#5)\n",
        "\n",
        "### Анализ A/B-теста\n",
        "6. [Проверка корректности распределения на группы A/B](#6)\n",
        "\n",
        "**Кумулятивные метрики**\n",
        "\n",
        "7. [Постройте график кумулятивной выручки по группам. Сделайте выводы и предположения.](#7)\n",
        "8. [Постройте график кумулятивного среднего чека по группам. Сделайте выводы и предположения.](#8)\n",
        "9. [Постройте график относительного изменения кумулятивного среднего чека группы B к группе A. Сделайте выводы и предположения.](#9)\n",
        "10. [Постройте график кумулятивной конверсии по группам. Сделайте выводы и предположения.](#10)\n",
        "11. [Постройте график относительного изменения кумулятивной конверсии группы B к группе A. Сделайте выводы и предположения.](#11)\n",
        "\n",
        "**Анализ выбросов и всплесков**\n",
        "\n",
        "12. [Постройте точечный график количества заказов по пользователям. Сделайте выводы и предположения.](#12)\n",
        "13. [Посчитайте 95-й и 99-й перцентили количества заказов на пользователя. Выберите границу для определения аномальных пользователей.](#13)\n",
        "14. [Постройте точечный график стоимостей заказов. Сделайте выводы и предположения.](#14)\n",
        "15. [Посчитайте 95-й и 99-й перцентили стоимости заказов. Выберите границу для определения аномальных заказов.](#15)\n",
        "16. [Посчитайте статистическую значимость различий в конверсии между группами по «сырым» данным. Сделайте выводы и предположения.](#16)\n",
        "17. [Посчитайте статистическую значимость различий в среднем чеке заказа между группами по «сырым» данным. Сделайте выводы и предположения.](#17)\n",
        "18. [Посчитайте статистическую значимость различий в конверсии между группами по «очищенным» данным. Сделайте выводы и предположения.](#18)\n",
        "19. [Посчитайте статистическую значимость различий в среднем чеке заказа между группами по «очищенным» данным. Сделайте выводы и предположения.](#19)\n",
        "\n",
        "**Принятие решения по результатам теста**\n",
        "\n",
        "20. [Примите решение по результатам теста и объясните его. Варианты решений: 1. Остановить тест, зафиксировать победу одной из групп. 2. Остановить тест, зафиксировать отсутствие различий между группами. 3. Продолжить тест.](#20)"
      ]
    },
    {
      "cell_type": "markdown",
      "metadata": {
        "id": "s2p1AnbSxyby",
        "colab_type": "text"
      },
      "source": [
        "# Подготовка\n",
        "<a id='1'></a>\n",
        "### Загрузка библиотек \n",
        "[*Назад к оглавлению*](#Оглавление)"
      ]
    },
    {
      "cell_type": "code",
      "metadata": {
        "id": "sWLxFZhCxyb1",
        "colab_type": "code",
        "outputId": "3428290a-3fe4-4e75-b4ea-f49ad22def47",
        "colab": {
          "base_uri": "https://localhost:8080/",
          "height": 35
        }
      },
      "source": [
        "#импортируем библиотеки\n",
        "import pandas as pd\n",
        "import numpy as np\n",
        "import matplotlib.pyplot as plt\n",
        "from scipy import stats\n",
        "import datetime as dt\n",
        "from google.colab import drive\n",
        "drive.mount('/content/drive')"
      ],
      "execution_count": 0,
      "outputs": [
        {
          "output_type": "stream",
          "text": [
            "Drive already mounted at /content/drive; to attempt to forcibly remount, call drive.mount(\"/content/drive\", force_remount=True).\n"
          ],
          "name": "stdout"
        }
      ]
    },
    {
      "cell_type": "markdown",
      "metadata": {
        "id": "KT0N1eASxycE",
        "colab_type": "text"
      },
      "source": [
        "<a id='2'></a>\n",
        "### Подгрузим датасеты, проверим их на наличие пропусков и соответствие типам данных, а также правильность выгрузки\n",
        "[*Назад к оглавлению*](#Оглавление)"
      ]
    },
    {
      "cell_type": "code",
      "metadata": {
        "id": "7_k1ZlFbxycH",
        "colab_type": "code",
        "outputId": "382d4d14-046b-43de-c9a4-a85156f5a22d",
        "colab": {
          "base_uri": "https://localhost:8080/",
          "height": 460
        }
      },
      "source": [
        "orders = pd.read_csv('/content/drive/My Drive/Colab Notebooks/datasets/orders.csv')\n",
        "orders['date'] = orders['date'].astype('datetime64[D]')\n",
        "orders['date'] = orders['date'].map(lambda x: dt.datetime.strftime(x, '%Y-%m-%d'))\n",
        "print('\\nНачальная дата {}, конечная дата {}\\n'.format(orders['date'].min(), orders['date'].max()))\n",
        "orders['date'] = orders['date'].map(lambda x: dt.datetime.strptime(x, '%Y-%m-%d'))\n",
        "orders.info()\n",
        "orders.head(5)"
      ],
      "execution_count": 0,
      "outputs": [
        {
          "output_type": "stream",
          "text": [
            "\n",
            "Начальная дата 2019-08-01, конечная дата 2019-08-31\n",
            "\n",
            "<class 'pandas.core.frame.DataFrame'>\n",
            "RangeIndex: 1197 entries, 0 to 1196\n",
            "Data columns (total 5 columns):\n",
            " #   Column         Non-Null Count  Dtype         \n",
            "---  ------         --------------  -----         \n",
            " 0   transactionId  1197 non-null   int64         \n",
            " 1   visitorId      1197 non-null   int64         \n",
            " 2   date           1197 non-null   datetime64[ns]\n",
            " 3   revenue        1197 non-null   int64         \n",
            " 4   group          1197 non-null   object        \n",
            "dtypes: datetime64[ns](1), int64(3), object(1)\n",
            "memory usage: 46.9+ KB\n"
          ],
          "name": "stdout"
        },
        {
          "output_type": "execute_result",
          "data": {
            "text/html": [
              "<div>\n",
              "<style scoped>\n",
              "    .dataframe tbody tr th:only-of-type {\n",
              "        vertical-align: middle;\n",
              "    }\n",
              "\n",
              "    .dataframe tbody tr th {\n",
              "        vertical-align: top;\n",
              "    }\n",
              "\n",
              "    .dataframe thead th {\n",
              "        text-align: right;\n",
              "    }\n",
              "</style>\n",
              "<table border=\"1\" class=\"dataframe\">\n",
              "  <thead>\n",
              "    <tr style=\"text-align: right;\">\n",
              "      <th></th>\n",
              "      <th>transactionId</th>\n",
              "      <th>visitorId</th>\n",
              "      <th>date</th>\n",
              "      <th>revenue</th>\n",
              "      <th>group</th>\n",
              "    </tr>\n",
              "  </thead>\n",
              "  <tbody>\n",
              "    <tr>\n",
              "      <th>0</th>\n",
              "      <td>3667963787</td>\n",
              "      <td>3312258926</td>\n",
              "      <td>2019-08-15</td>\n",
              "      <td>1650</td>\n",
              "      <td>B</td>\n",
              "    </tr>\n",
              "    <tr>\n",
              "      <th>1</th>\n",
              "      <td>2804400009</td>\n",
              "      <td>3642806036</td>\n",
              "      <td>2019-08-15</td>\n",
              "      <td>730</td>\n",
              "      <td>B</td>\n",
              "    </tr>\n",
              "    <tr>\n",
              "      <th>2</th>\n",
              "      <td>2961555356</td>\n",
              "      <td>4069496402</td>\n",
              "      <td>2019-08-15</td>\n",
              "      <td>400</td>\n",
              "      <td>A</td>\n",
              "    </tr>\n",
              "    <tr>\n",
              "      <th>3</th>\n",
              "      <td>3797467345</td>\n",
              "      <td>1196621759</td>\n",
              "      <td>2019-08-15</td>\n",
              "      <td>9759</td>\n",
              "      <td>B</td>\n",
              "    </tr>\n",
              "    <tr>\n",
              "      <th>4</th>\n",
              "      <td>2282983706</td>\n",
              "      <td>2322279887</td>\n",
              "      <td>2019-08-15</td>\n",
              "      <td>2308</td>\n",
              "      <td>B</td>\n",
              "    </tr>\n",
              "  </tbody>\n",
              "</table>\n",
              "</div>"
            ],
            "text/plain": [
              "   transactionId   visitorId       date  revenue group\n",
              "0     3667963787  3312258926 2019-08-15     1650     B\n",
              "1     2804400009  3642806036 2019-08-15      730     B\n",
              "2     2961555356  4069496402 2019-08-15      400     A\n",
              "3     3797467345  1196621759 2019-08-15     9759     B\n",
              "4     2282983706  2322279887 2019-08-15     2308     B"
            ]
          },
          "metadata": {
            "tags": []
          },
          "execution_count": 3
        }
      ]
    },
    {
      "cell_type": "code",
      "metadata": {
        "id": "yLdN3PQexycW",
        "colab_type": "code",
        "outputId": "51629810-9eb8-43d5-b443-87715ed9ded7",
        "colab": {
          "base_uri": "https://localhost:8080/",
          "height": 301
        }
      },
      "source": [
        "visitors = pd.read_csv('/content/drive/My Drive/Colab Notebooks/datasets/visitors.csv')\n",
        "visitors['date'] = visitors['date'].astype('datetime64[D]')\n",
        "visitors['date'] = visitors['date'].map(lambda x: dt.datetime.strftime(x, '%Y-%m-%d'))\n",
        "print('\\nНачальная дата {}, конечная дата {}\\n'.format(visitors['date'].min(), visitors['date'].max()))\n",
        "visitors['date'] = visitors['date'].map(lambda x: dt.datetime.strptime(x, '%Y-%m-%d'))\n",
        "visitors.info()\n",
        "visitors.head(5)\n",
        "print('\\nРезультаты подготовки:\\nДанные прочитали, изменили тип данных у столбцов с датами, выгрузка совершена корректно, даты совпадают.')"
      ],
      "execution_count": 0,
      "outputs": [
        {
          "output_type": "stream",
          "text": [
            "\n",
            "Начальная дата 2019-08-01, конечная дата 2019-08-31\n",
            "\n",
            "<class 'pandas.core.frame.DataFrame'>\n",
            "RangeIndex: 62 entries, 0 to 61\n",
            "Data columns (total 3 columns):\n",
            " #   Column    Non-Null Count  Dtype         \n",
            "---  ------    --------------  -----         \n",
            " 0   date      62 non-null     datetime64[ns]\n",
            " 1   group     62 non-null     object        \n",
            " 2   visitors  62 non-null     int64         \n",
            "dtypes: datetime64[ns](1), int64(1), object(1)\n",
            "memory usage: 1.6+ KB\n",
            "\n",
            "Результаты подготовки:\n",
            "Данные прочитали, изменили тип данных у столбцов с датами, выгрузка совершена корректно, даты совпадают.\n"
          ],
          "name": "stdout"
        }
      ]
    },
    {
      "cell_type": "markdown",
      "metadata": {
        "id": "sVVdSLBoxycj",
        "colab_type": "text"
      },
      "source": [
        "**Результаты подготовки:**\n",
        "\n",
        "Данные прочитали, изменили тип данных у столбцов с датами, выгрузка совершена корректно, даты совпадают."
      ]
    },
    {
      "cell_type": "markdown",
      "metadata": {
        "id": "6evSWUh7xyco",
        "colab_type": "text"
      },
      "source": [
        "# Приоритезация гипотез\n",
        "<a id='3'></a>\n",
        "### Приоритезация гипотез методом ICE \n",
        "[*Назад к оглавлению*](#Оглавление)"
      ]
    },
    {
      "cell_type": "code",
      "metadata": {
        "id": "Pjr21aAPxycp",
        "colab_type": "code",
        "outputId": "1289d3b7-faa9-45a5-94dd-8ec4c22fe628",
        "colab": {
          "base_uri": "https://localhost:8080/",
          "height": 311
        }
      },
      "source": [
        "hypotheses = pd.read_csv('/content/drive/My Drive/Colab Notebooks/datasets/hypothesis.csv')\n",
        "hypotheses['ice'] = hypotheses['Impact'] * hypotheses['Confidence'] / hypotheses['Efforts']\n",
        "hypotheses['rice'] = hypotheses['Reach'] * hypotheses['Impact'] * hypotheses['Confidence'] / hypotheses['Efforts']\n",
        "hypotheses.sort_values(by='ice', ascending =False)"
      ],
      "execution_count": 0,
      "outputs": [
        {
          "output_type": "execute_result",
          "data": {
            "text/html": [
              "<div>\n",
              "<style scoped>\n",
              "    .dataframe tbody tr th:only-of-type {\n",
              "        vertical-align: middle;\n",
              "    }\n",
              "\n",
              "    .dataframe tbody tr th {\n",
              "        vertical-align: top;\n",
              "    }\n",
              "\n",
              "    .dataframe thead th {\n",
              "        text-align: right;\n",
              "    }\n",
              "</style>\n",
              "<table border=\"1\" class=\"dataframe\">\n",
              "  <thead>\n",
              "    <tr style=\"text-align: right;\">\n",
              "      <th></th>\n",
              "      <th>Hypothesis</th>\n",
              "      <th>Reach</th>\n",
              "      <th>Impact</th>\n",
              "      <th>Confidence</th>\n",
              "      <th>Efforts</th>\n",
              "      <th>ice</th>\n",
              "      <th>rice</th>\n",
              "    </tr>\n",
              "  </thead>\n",
              "  <tbody>\n",
              "    <tr>\n",
              "      <th>8</th>\n",
              "      <td>Запустить акцию, дающую скидку на товар в день...</td>\n",
              "      <td>1</td>\n",
              "      <td>9</td>\n",
              "      <td>9</td>\n",
              "      <td>5</td>\n",
              "      <td>16.200000</td>\n",
              "      <td>16.2</td>\n",
              "    </tr>\n",
              "    <tr>\n",
              "      <th>0</th>\n",
              "      <td>Добавить два новых канала привлечения трафика,...</td>\n",
              "      <td>3</td>\n",
              "      <td>10</td>\n",
              "      <td>8</td>\n",
              "      <td>6</td>\n",
              "      <td>13.333333</td>\n",
              "      <td>40.0</td>\n",
              "    </tr>\n",
              "    <tr>\n",
              "      <th>7</th>\n",
              "      <td>Добавить форму подписки на все основные страни...</td>\n",
              "      <td>10</td>\n",
              "      <td>7</td>\n",
              "      <td>8</td>\n",
              "      <td>5</td>\n",
              "      <td>11.200000</td>\n",
              "      <td>112.0</td>\n",
              "    </tr>\n",
              "    <tr>\n",
              "      <th>6</th>\n",
              "      <td>Показать на главной странице баннеры с актуаль...</td>\n",
              "      <td>5</td>\n",
              "      <td>3</td>\n",
              "      <td>8</td>\n",
              "      <td>3</td>\n",
              "      <td>8.000000</td>\n",
              "      <td>40.0</td>\n",
              "    </tr>\n",
              "    <tr>\n",
              "      <th>2</th>\n",
              "      <td>Добавить блоки рекомендаций товаров на сайт ин...</td>\n",
              "      <td>8</td>\n",
              "      <td>3</td>\n",
              "      <td>7</td>\n",
              "      <td>3</td>\n",
              "      <td>7.000000</td>\n",
              "      <td>56.0</td>\n",
              "    </tr>\n",
              "    <tr>\n",
              "      <th>1</th>\n",
              "      <td>Запустить собственную службу доставки, что сок...</td>\n",
              "      <td>2</td>\n",
              "      <td>5</td>\n",
              "      <td>4</td>\n",
              "      <td>10</td>\n",
              "      <td>2.000000</td>\n",
              "      <td>4.0</td>\n",
              "    </tr>\n",
              "    <tr>\n",
              "      <th>5</th>\n",
              "      <td>Добавить страницу отзывов клиентов о магазине,...</td>\n",
              "      <td>3</td>\n",
              "      <td>2</td>\n",
              "      <td>2</td>\n",
              "      <td>3</td>\n",
              "      <td>1.333333</td>\n",
              "      <td>4.0</td>\n",
              "    </tr>\n",
              "    <tr>\n",
              "      <th>3</th>\n",
              "      <td>Изменить структура категорий, что увеличит кон...</td>\n",
              "      <td>8</td>\n",
              "      <td>3</td>\n",
              "      <td>3</td>\n",
              "      <td>8</td>\n",
              "      <td>1.125000</td>\n",
              "      <td>9.0</td>\n",
              "    </tr>\n",
              "    <tr>\n",
              "      <th>4</th>\n",
              "      <td>Изменить цвет фона главной страницы, чтобы уве...</td>\n",
              "      <td>3</td>\n",
              "      <td>1</td>\n",
              "      <td>1</td>\n",
              "      <td>1</td>\n",
              "      <td>1.000000</td>\n",
              "      <td>3.0</td>\n",
              "    </tr>\n",
              "  </tbody>\n",
              "</table>\n",
              "</div>"
            ],
            "text/plain": [
              "                                          Hypothesis  Reach  ...        ice   rice\n",
              "8  Запустить акцию, дающую скидку на товар в день...      1  ...  16.200000   16.2\n",
              "0  Добавить два новых канала привлечения трафика,...      3  ...  13.333333   40.0\n",
              "7  Добавить форму подписки на все основные страни...     10  ...  11.200000  112.0\n",
              "6  Показать на главной странице баннеры с актуаль...      5  ...   8.000000   40.0\n",
              "2  Добавить блоки рекомендаций товаров на сайт ин...      8  ...   7.000000   56.0\n",
              "1  Запустить собственную службу доставки, что сок...      2  ...   2.000000    4.0\n",
              "5  Добавить страницу отзывов клиентов о магазине,...      3  ...   1.333333    4.0\n",
              "3  Изменить структура категорий, что увеличит кон...      8  ...   1.125000    9.0\n",
              "4  Изменить цвет фона главной страницы, чтобы уве...      3  ...   1.000000    3.0\n",
              "\n",
              "[9 rows x 7 columns]"
            ]
          },
          "metadata": {
            "tags": []
          },
          "execution_count": 5
        }
      ]
    },
    {
      "cell_type": "markdown",
      "metadata": {
        "id": "ZWBvuG7kxycw",
        "colab_type": "text"
      },
      "source": [
        "<a id='4'></a>\n",
        "### Приоритезация гипотез методом RICE \n",
        "[*Назад к оглавлению*](#Оглавление)"
      ]
    },
    {
      "cell_type": "code",
      "metadata": {
        "id": "f3XIatO6xycy",
        "colab_type": "code",
        "outputId": "f6f170e5-8521-468c-cc37-b2b68791bd1a",
        "colab": {
          "base_uri": "https://localhost:8080/",
          "height": 311
        }
      },
      "source": [
        "hypotheses.sort_values(by='rice', ascending =False)"
      ],
      "execution_count": 0,
      "outputs": [
        {
          "output_type": "execute_result",
          "data": {
            "text/html": [
              "<div>\n",
              "<style scoped>\n",
              "    .dataframe tbody tr th:only-of-type {\n",
              "        vertical-align: middle;\n",
              "    }\n",
              "\n",
              "    .dataframe tbody tr th {\n",
              "        vertical-align: top;\n",
              "    }\n",
              "\n",
              "    .dataframe thead th {\n",
              "        text-align: right;\n",
              "    }\n",
              "</style>\n",
              "<table border=\"1\" class=\"dataframe\">\n",
              "  <thead>\n",
              "    <tr style=\"text-align: right;\">\n",
              "      <th></th>\n",
              "      <th>Hypothesis</th>\n",
              "      <th>Reach</th>\n",
              "      <th>Impact</th>\n",
              "      <th>Confidence</th>\n",
              "      <th>Efforts</th>\n",
              "      <th>ice</th>\n",
              "      <th>rice</th>\n",
              "    </tr>\n",
              "  </thead>\n",
              "  <tbody>\n",
              "    <tr>\n",
              "      <th>7</th>\n",
              "      <td>Добавить форму подписки на все основные страни...</td>\n",
              "      <td>10</td>\n",
              "      <td>7</td>\n",
              "      <td>8</td>\n",
              "      <td>5</td>\n",
              "      <td>11.200000</td>\n",
              "      <td>112.0</td>\n",
              "    </tr>\n",
              "    <tr>\n",
              "      <th>2</th>\n",
              "      <td>Добавить блоки рекомендаций товаров на сайт ин...</td>\n",
              "      <td>8</td>\n",
              "      <td>3</td>\n",
              "      <td>7</td>\n",
              "      <td>3</td>\n",
              "      <td>7.000000</td>\n",
              "      <td>56.0</td>\n",
              "    </tr>\n",
              "    <tr>\n",
              "      <th>0</th>\n",
              "      <td>Добавить два новых канала привлечения трафика,...</td>\n",
              "      <td>3</td>\n",
              "      <td>10</td>\n",
              "      <td>8</td>\n",
              "      <td>6</td>\n",
              "      <td>13.333333</td>\n",
              "      <td>40.0</td>\n",
              "    </tr>\n",
              "    <tr>\n",
              "      <th>6</th>\n",
              "      <td>Показать на главной странице баннеры с актуаль...</td>\n",
              "      <td>5</td>\n",
              "      <td>3</td>\n",
              "      <td>8</td>\n",
              "      <td>3</td>\n",
              "      <td>8.000000</td>\n",
              "      <td>40.0</td>\n",
              "    </tr>\n",
              "    <tr>\n",
              "      <th>8</th>\n",
              "      <td>Запустить акцию, дающую скидку на товар в день...</td>\n",
              "      <td>1</td>\n",
              "      <td>9</td>\n",
              "      <td>9</td>\n",
              "      <td>5</td>\n",
              "      <td>16.200000</td>\n",
              "      <td>16.2</td>\n",
              "    </tr>\n",
              "    <tr>\n",
              "      <th>3</th>\n",
              "      <td>Изменить структура категорий, что увеличит кон...</td>\n",
              "      <td>8</td>\n",
              "      <td>3</td>\n",
              "      <td>3</td>\n",
              "      <td>8</td>\n",
              "      <td>1.125000</td>\n",
              "      <td>9.0</td>\n",
              "    </tr>\n",
              "    <tr>\n",
              "      <th>1</th>\n",
              "      <td>Запустить собственную службу доставки, что сок...</td>\n",
              "      <td>2</td>\n",
              "      <td>5</td>\n",
              "      <td>4</td>\n",
              "      <td>10</td>\n",
              "      <td>2.000000</td>\n",
              "      <td>4.0</td>\n",
              "    </tr>\n",
              "    <tr>\n",
              "      <th>5</th>\n",
              "      <td>Добавить страницу отзывов клиентов о магазине,...</td>\n",
              "      <td>3</td>\n",
              "      <td>2</td>\n",
              "      <td>2</td>\n",
              "      <td>3</td>\n",
              "      <td>1.333333</td>\n",
              "      <td>4.0</td>\n",
              "    </tr>\n",
              "    <tr>\n",
              "      <th>4</th>\n",
              "      <td>Изменить цвет фона главной страницы, чтобы уве...</td>\n",
              "      <td>3</td>\n",
              "      <td>1</td>\n",
              "      <td>1</td>\n",
              "      <td>1</td>\n",
              "      <td>1.000000</td>\n",
              "      <td>3.0</td>\n",
              "    </tr>\n",
              "  </tbody>\n",
              "</table>\n",
              "</div>"
            ],
            "text/plain": [
              "                                          Hypothesis  Reach  ...        ice   rice\n",
              "7  Добавить форму подписки на все основные страни...     10  ...  11.200000  112.0\n",
              "2  Добавить блоки рекомендаций товаров на сайт ин...      8  ...   7.000000   56.0\n",
              "0  Добавить два новых канала привлечения трафика,...      3  ...  13.333333   40.0\n",
              "6  Показать на главной странице баннеры с актуаль...      5  ...   8.000000   40.0\n",
              "8  Запустить акцию, дающую скидку на товар в день...      1  ...  16.200000   16.2\n",
              "3  Изменить структура категорий, что увеличит кон...      8  ...   1.125000    9.0\n",
              "1  Запустить собственную службу доставки, что сок...      2  ...   2.000000    4.0\n",
              "5  Добавить страницу отзывов клиентов о магазине,...      3  ...   1.333333    4.0\n",
              "4  Изменить цвет фона главной страницы, чтобы уве...      3  ...   1.000000    3.0\n",
              "\n",
              "[9 rows x 7 columns]"
            ]
          },
          "metadata": {
            "tags": []
          },
          "execution_count": 6
        }
      ]
    },
    {
      "cell_type": "markdown",
      "metadata": {
        "id": "MYzkAbuexyc4",
        "colab_type": "text"
      },
      "source": [
        "<a id='5'></a>\n",
        "### Вывод по приоритезации гипотез \n",
        "[*Назад к оглавлению*](#Оглавление)\n",
        "\n",
        "По фреймворку ICE наибольшую оценку имели гпиотезы 8,0 и 7. После применения фреймворка RICE приоритеты изменились на гпиотезы 7,2 и 0. Это объясняется тем, что в случае фреймворка ICE в отличие от RICE мы не учитывали охват изменений, тогда как это важная составляющая оценки гипотез. \n",
        "\n",
        "В нашем случае наиболее приоритетными гипотезами будут 7, 2, 0."
      ]
    },
    {
      "cell_type": "markdown",
      "metadata": {
        "id": "WyZhjNjCxyc6",
        "colab_type": "text"
      },
      "source": [
        "# Анализ A/B-теста\n",
        "<a id='6'></a>\n",
        "### Проверим корректность распределения на группы A/B\n",
        "[*Назад к оглавлению*](#Оглавление)\n",
        "- Проверим размеры групп в выборке, есть ли разница между ними\n",
        "- Проверим, корректно ли был рассчитан размер выборки для проведения теста"
      ]
    },
    {
      "cell_type": "code",
      "metadata": {
        "id": "xdaHoDcuxyc7",
        "colab_type": "code",
        "outputId": "1fd0665f-e82c-4fb5-f7df-6af26a728035",
        "colab": {
          "base_uri": "https://localhost:8080/",
          "height": 619
        }
      },
      "source": [
        "print('Кол-во посетителей в группе А: {}\\n'\n",
        "      'Кол-во посетителей в группе B: {}'.format(visitors[visitors['group']=='A']['visitors'].sum(), \n",
        "                                                 visitors[visitors['group']=='B']['visitors'].sum()))\n",
        "purchasesA = len(orders[orders['group']=='A'])\n",
        "purchasesB = len(orders[orders['group']=='B'])\n",
        "print('Кол-во покупок в группе A: {}'.format(purchasesA))\n",
        "print('Кол-во покупок в группе B: {}'.format(purchasesB))\n",
        "plt.hist(visitors[visitors['group']=='A']['visitors'], alpha = 0.8, label='A', bins = 30)\n",
        "plt.hist(visitors[visitors['group']=='B']['visitors'], alpha = 0.8, label='B', bins = 30)\n",
        "plt.legend()\n",
        "plt.title('Гистограммы кол-ва посетителей в день по группам A и B')\n",
        "plt.show()\n",
        "results = stats.mannwhitneyu(visitors[visitors['group']=='A']['visitors'], visitors[visitors['group']=='B']['visitors'])\n",
        "alpha = 0.05\n",
        "print('P-value:{}'.format(results.pvalue))\n",
        "if results.pvalue < alpha:\n",
        "    print('Разница в количестве посетителей в группах A и B статистически значима\\n')\n",
        "else:\n",
        "    print('Разница в количестве посетителей в группах A и B статистически НЕ значима\\n')\n",
        "\n",
        "initial_conversion = len(orders[orders['group']=='A']) / visitors[visitors['group']=='A']['visitors'].sum() \n",
        "resulting_conversion = len(orders[orders['group']=='B']) / visitors[visitors['group']=='B']['visitors'].sum()\n",
        "print('Начальная конверсия: {:.3f}'.format(initial_conversion))\n",
        "print('Полученная после изменений конверсия: {:.3f}'.format(resulting_conversion))\n",
        "print('Относительное изменение конверсии после изменений: {:.3f}'.format(abs(1-(initial_conversion/resulting_conversion))))\n",
        "print('\\nВводим начальную конверсию и полученное относительное изменение конверсии в калькулятор\\n'\n",
        "     'Сайт калькулятора: https://www.evanmiller.org/ab-testing/sample-size.html\\n'\n",
        "     'Получаем необходимое количество выборки 35855 для корректного проведения тестирования\\n'\n",
        "     'В нашем случае количество {} посещений\\n'\n",
        "      'Кол-во выборки для A/B тестирования корректно подобрано, ' \n",
        "      'статистически значимой разницы\\nв количестве посещений м/у группами не обнаружено\\n\\nОк, идём дальше.'.format(visitors['visitors'].sum()))"
      ],
      "execution_count": 0,
      "outputs": [
        {
          "output_type": "stream",
          "text": [
            "Кол-во посетителей в группе А: 18736\n",
            "Кол-во посетителей в группе B: 18916\n",
            "Кол-во покупок в группе A: 557\n",
            "Кол-во покупок в группе B: 640\n"
          ],
          "name": "stdout"
        },
        {
          "output_type": "display_data",
          "data": {
            "image/png": "[encoded data removed]",
            "text/plain": [
              "<Figure size 432x288 with 1 Axes>"
            ]
          },
          "metadata": {
            "tags": [],
            "needs_background": "light"
          }
        },
        {
          "output_type": "stream",
          "text": [
            "P-value:0.36506882746952496\n",
            "Разница в количестве посетителей в группах A и B статистически НЕ значима\n",
            "\n",
            "Начальная конверсия: 0.030\n",
            "Полученная после изменений конверсия: 0.034\n",
            "Относительное изменение конверсии после изменений: 0.121\n",
            "\n",
            "Вводим начальную конверсию и полученное относительное изменение конверсии в калькулятор\n",
            "Сайт калькулятора: https://www.evanmiller.org/ab-testing/sample-size.html\n",
            "Получаем необходимое количество выборки 35855 для корректного проведения тестирования\n",
            "В нашем случае количество 37652 посещений\n",
            "Кол-во выборки для A/B тестирования корректно подобрано, статистически значимой разницы\n",
            "в количестве посещений м/у группами не обнаружено\n",
            "\n",
            "Ок, идём дальше.\n"
          ],
          "name": "stdout"
        }
      ]
    },
    {
      "cell_type": "markdown",
      "metadata": {
        "id": "tkp0bUqSxydA",
        "colab_type": "text"
      },
      "source": [
        "## Кумулятивные метрики\n",
        "<a id='7'></a>\n",
        "### Построим график кумулятивной выручки по группам \n",
        "[*Назад к оглавлению*](#Оглавление)"
      ]
    },
    {
      "cell_type": "code",
      "metadata": {
        "id": "3J1ttQV4xydB",
        "colab_type": "code",
        "outputId": "b40fcbe5-dca7-4a0e-e560-17c26ca4831b",
        "colab": {
          "base_uri": "https://localhost:8080/",
          "height": 300
        }
      },
      "source": [
        "#достаем уникальные значения дат и групп\n",
        "datesGroups = orders[['date','group']].drop_duplicates().sort_values(by=['date', 'group'])\n",
        "\n",
        "#выводим кумулятивные показатели из orders\n",
        "ordersAggregated = datesGroups.apply(lambda x: orders[np.logical_and(x['date'] >= orders['date'], x['group']==orders['group'])]\\\n",
        ".agg({'date':'max', 'group':'max', 'transactionId':'nunique', 'visitorId':'nunique', 'revenue':'sum'}), axis = 1)\n",
        "ordersAggregated.columns = ['date', 'group', 'orders', 'buyers', 'revenue']\n",
        "#выводим кумулятивные показатели из visitors\n",
        "visitorsAggregated = datesGroups.apply(lambda x: visitors[np.logical_and(x['date'] >= visitors['date'], x['group']==visitors['group'])]\\\n",
        ".agg({'date':'max', 'group':'max', 'visitors':'sum'}), axis = 1)\n",
        "#сводим все накопительные данные в одну таблицу\n",
        "cummulativeData = ordersAggregated.merge(visitorsAggregated, left_on=['date', 'group'], right_on=['date', 'group'])\n",
        "print('\\nПолученная таблица с кумулятивными (накопленными) значениями по дате и группам:'\n",
        "'\\n- кол-во покупок \\n- кол-во покупателей \\n- выручка \\n- кол-во посетителей')\n",
        "cummulativeData.head(5)"
      ],
      "execution_count": 0,
      "outputs": [
        {
          "output_type": "stream",
          "text": [
            "\n",
            "Полученная таблица с кумулятивными (накопленными) значениями по дате и группам:\n",
            "- кол-во покупок \n",
            "- кол-во покупателей \n",
            "- выручка \n",
            "- кол-во посетителей\n"
          ],
          "name": "stdout"
        },
        {
          "output_type": "execute_result",
          "data": {
            "text/html": [
              "<div>\n",
              "<style scoped>\n",
              "    .dataframe tbody tr th:only-of-type {\n",
              "        vertical-align: middle;\n",
              "    }\n",
              "\n",
              "    .dataframe tbody tr th {\n",
              "        vertical-align: top;\n",
              "    }\n",
              "\n",
              "    .dataframe thead th {\n",
              "        text-align: right;\n",
              "    }\n",
              "</style>\n",
              "<table border=\"1\" class=\"dataframe\">\n",
              "  <thead>\n",
              "    <tr style=\"text-align: right;\">\n",
              "      <th></th>\n",
              "      <th>date</th>\n",
              "      <th>group</th>\n",
              "      <th>orders</th>\n",
              "      <th>buyers</th>\n",
              "      <th>revenue</th>\n",
              "      <th>visitors</th>\n",
              "    </tr>\n",
              "  </thead>\n",
              "  <tbody>\n",
              "    <tr>\n",
              "      <th>0</th>\n",
              "      <td>2019-08-01</td>\n",
              "      <td>A</td>\n",
              "      <td>24</td>\n",
              "      <td>20</td>\n",
              "      <td>148579</td>\n",
              "      <td>719</td>\n",
              "    </tr>\n",
              "    <tr>\n",
              "      <th>1</th>\n",
              "      <td>2019-08-01</td>\n",
              "      <td>B</td>\n",
              "      <td>21</td>\n",
              "      <td>20</td>\n",
              "      <td>101217</td>\n",
              "      <td>713</td>\n",
              "    </tr>\n",
              "    <tr>\n",
              "      <th>2</th>\n",
              "      <td>2019-08-02</td>\n",
              "      <td>A</td>\n",
              "      <td>44</td>\n",
              "      <td>38</td>\n",
              "      <td>242401</td>\n",
              "      <td>1338</td>\n",
              "    </tr>\n",
              "    <tr>\n",
              "      <th>3</th>\n",
              "      <td>2019-08-02</td>\n",
              "      <td>B</td>\n",
              "      <td>45</td>\n",
              "      <td>43</td>\n",
              "      <td>266748</td>\n",
              "      <td>1294</td>\n",
              "    </tr>\n",
              "    <tr>\n",
              "      <th>4</th>\n",
              "      <td>2019-08-03</td>\n",
              "      <td>A</td>\n",
              "      <td>68</td>\n",
              "      <td>62</td>\n",
              "      <td>354874</td>\n",
              "      <td>1845</td>\n",
              "    </tr>\n",
              "  </tbody>\n",
              "</table>\n",
              "</div>"
            ],
            "text/plain": [
              "        date group  orders  buyers  revenue  visitors\n",
              "0 2019-08-01     A      24      20   148579       719\n",
              "1 2019-08-01     B      21      20   101217       713\n",
              "2 2019-08-02     A      44      38   242401      1338\n",
              "3 2019-08-02     B      45      43   266748      1294\n",
              "4 2019-08-03     A      68      62   354874      1845"
            ]
          },
          "metadata": {
            "tags": []
          },
          "execution_count": 8
        }
      ]
    },
    {
      "cell_type": "code",
      "metadata": {
        "scrolled": false,
        "id": "3wp28_FAxydF",
        "colab_type": "code",
        "outputId": "b7347bc8-415e-49b0-a601-bd627e038379",
        "colab": {
          "base_uri": "https://localhost:8080/",
          "height": 331
        }
      },
      "source": [
        "cummulativeDataA = cummulativeData[cummulativeData['group']=='A']\n",
        "cummulativeDataB = cummulativeData[cummulativeData['group']=='B']\n",
        "plt.figure(figsize=(10,4))\n",
        "plt.plot(cummulativeDataA['date'], cummulativeDataA['revenue'], label = 'A')\n",
        "plt.plot(cummulativeDataB['date'], cummulativeDataB['revenue'], label = 'B')\n",
        "plt.ylabel('Выручка')\n",
        "plt.xlabel('Дата')\n",
        "plt.title('Графики кумулятивной выручки по группам A/B')\n",
        "plt.legend()\n",
        "plt.show()\n",
        "print('Выводы:')\n",
        "print('Как мы видим, группа B стабильно показывает большую выручку чем группа A')"
      ],
      "execution_count": 0,
      "outputs": [
        {
          "output_type": "display_data",
          "data": {
            "image/png": "[encoded data removed]",
            "text/plain": [
              "<Figure size 720x288 with 1 Axes>"
            ]
          },
          "metadata": {
            "tags": [],
            "needs_background": "light"
          }
        },
        {
          "output_type": "stream",
          "text": [
            "Выводы:\n",
            "Как мы видим, группа B стабильно показывает большую выручку чем группа A\n"
          ],
          "name": "stdout"
        }
      ]
    },
    {
      "cell_type": "markdown",
      "metadata": {
        "id": "CrOfHXS-xydL",
        "colab_type": "text"
      },
      "source": [
        "<a id='8'></a>\n",
        "### Построим график кумулятивного среднего чека по группам \n",
        "[*Назад к оглавлению*](#Оглавление)"
      ]
    },
    {
      "cell_type": "code",
      "metadata": {
        "scrolled": true,
        "id": "B57pKfU_xydL",
        "colab_type": "code",
        "outputId": "1c9715e5-e1de-4ec8-e3f1-136f5db52c91",
        "colab": {
          "base_uri": "https://localhost:8080/",
          "height": 348
        }
      },
      "source": [
        "plt.figure(figsize=(10,4))\n",
        "plt.plot(cummulativeDataA['date'], cummulativeDataA['revenue']/cummulativeDataA['orders'], label = 'A')\n",
        "plt.plot(cummulativeDataB['date'], cummulativeDataB['revenue']/cummulativeDataB['orders'], label = 'B')\n",
        "plt.title('Графики кумулятивного среднего чека по группам A/B')\n",
        "plt.ylabel('Средний чек')\n",
        "plt.xlabel('Дата')\n",
        "plt.legend()\n",
        "plt.show()\n",
        "print('Выводы:')\n",
        "print('Как мы видим, средний чек в группе B почти всё время был выше, но нас должно \\nсмутить '\n",
        "      'его резкое колебание во второй половине графика, есть вероятность что оно обусловлено аномалиями')"
      ],
      "execution_count": 0,
      "outputs": [
        {
          "output_type": "display_data",
          "data": {
            "image/png": "[encoded data removed]",
            "text/plain": [
              "<Figure size 720x288 with 1 Axes>"
            ]
          },
          "metadata": {
            "tags": [],
            "needs_background": "light"
          }
        },
        {
          "output_type": "stream",
          "text": [
            "Выводы:\n",
            "Как мы видим, средний чек в группе B почти всё время был выше, но нас должно \n",
            "смутить его резкое колебание во второй половине графика, есть вероятность что оно обусловлено аномалиями\n"
          ],
          "name": "stdout"
        }
      ]
    },
    {
      "cell_type": "markdown",
      "metadata": {
        "id": "wP0d0KSaxydS",
        "colab_type": "text"
      },
      "source": [
        "<a id='9'></a>\n",
        "### Построим график относительного изменения кумулятивного среднего чека группы B к группе A\n",
        "[*Назад к оглавлению*](#Оглавление)"
      ]
    },
    {
      "cell_type": "code",
      "metadata": {
        "scrolled": true,
        "id": "4abQGOrdxydS",
        "colab_type": "code",
        "outputId": "4dc0b803-62d9-4ebf-abbb-b63b0c6b264a",
        "colab": {
          "base_uri": "https://localhost:8080/",
          "height": 331
        }
      },
      "source": [
        "mergedCummulativeData = cummulativeDataA.merge(cummulativeDataB, left_on='date', right_on='date', suffixes=['A', 'B'])\n",
        "mergedCummulativeData.head(5)\n",
        "plt.figure(figsize=(10,4))\n",
        "plt.plot(mergedCummulativeData['date'], ((mergedCummulativeData['revenueB']/mergedCummulativeData['ordersB'])/\n",
        "                                       (mergedCummulativeData['revenueA']/mergedCummulativeData['ordersA'])-1))\n",
        "plt.axhline(y=0, color='black', linestyle = '--')\n",
        "plt.title('График относительного изменения кумулятивного среднего чека группы B к группе A')\n",
        "plt.xlabel('Дата')\n",
        "plt.show()\n",
        "print('Выводы:')\n",
        "print('Как мы и говорили, колебания слишком резкие, необходимо будет проверить данные на наличие аномальных пользователей')"
      ],
      "execution_count": 0,
      "outputs": [
        {
          "output_type": "display_data",
          "data": {
            "image/png": "[encoded data removed]",
            "text/plain": [
              "<Figure size 720x288 with 1 Axes>"
            ]
          },
          "metadata": {
            "tags": [],
            "needs_background": "light"
          }
        },
        {
          "output_type": "stream",
          "text": [
            "Выводы:\n",
            "Как мы и говорили, колебания слишком резкие, необходимо будет проверить данные на наличие аномальных пользователей\n"
          ],
          "name": "stdout"
        }
      ]
    },
    {
      "cell_type": "markdown",
      "metadata": {
        "id": "YYwHXTvBxydY",
        "colab_type": "text"
      },
      "source": [
        "<a id='10'></a>\n",
        "### Построим график кумулятивной конверсии по группам\n",
        "[*Назад к оглавлению*](#Оглавление)"
      ]
    },
    {
      "cell_type": "code",
      "metadata": {
        "scrolled": true,
        "id": "RO_ZHw8bxydY",
        "colab_type": "code",
        "outputId": "2892d65b-2747-4785-fb6f-fd0ad05fd5e0",
        "colab": {
          "base_uri": "https://localhost:8080/",
          "height": 331
        }
      },
      "source": [
        "mergedCummulativeData['conversionA'] =  mergedCummulativeData['ordersA'] / mergedCummulativeData['visitorsA'] \n",
        "mergedCummulativeData['conversionB'] =  mergedCummulativeData['ordersB'] / mergedCummulativeData['visitorsB']\n",
        "mergedCummulativeData.head(5)\n",
        "plt.figure(figsize=(10,4))\n",
        "plt.plot(mergedCummulativeData['date'], mergedCummulativeData['conversionA'], label='A')\n",
        "plt.plot(mergedCummulativeData['date'], mergedCummulativeData['conversionB'], label='B')\n",
        "plt.title('График кумулятивной конверсии по группам A/B')\n",
        "plt.xlabel('Дата')\n",
        "plt.ylabel('Конверсия')\n",
        "plt.legend()\n",
        "plt.show()\n",
        "print('Выводы:')\n",
        "print('Группа B стабильно показывает большую конверсию чем группа A, это обнадеживает')"
      ],
      "execution_count": 0,
      "outputs": [
        {
          "output_type": "display_data",
          "data": {
            "image/png": "[encoded data removed]",
            "text/plain": [
              "<Figure size 720x288 with 1 Axes>"
            ]
          },
          "metadata": {
            "tags": [],
            "needs_background": "light"
          }
        },
        {
          "output_type": "stream",
          "text": [
            "Выводы:\n",
            "Группа B стабильно показывает большую конверсию чем группа A, это обнадеживает\n"
          ],
          "name": "stdout"
        }
      ]
    },
    {
      "cell_type": "markdown",
      "metadata": {
        "id": "rAz2HD9Dxyde",
        "colab_type": "text"
      },
      "source": [
        "<a id='11'></a>\n",
        "### Построим график относительного изменения кумулятивной конверсии группы B к группе A\n",
        "[*Назад к оглавлению*](#Оглавление)"
      ]
    },
    {
      "cell_type": "code",
      "metadata": {
        "id": "xrkll7qJxydf",
        "colab_type": "code",
        "outputId": "50e6c9d9-7e3b-46ac-bf78-b09af9389687",
        "colab": {
          "base_uri": "https://localhost:8080/",
          "height": 331
        }
      },
      "source": [
        "mergedCummulativeData.head(5)\n",
        "plt.figure(figsize=(10,4))\n",
        "plt.plot(mergedCummulativeData['date'], ((mergedCummulativeData['conversionB']/mergedCummulativeData['conversionA'])-1))\n",
        "plt.title('График относительного изменения кумулятивной конверсии группы B к группе A')\n",
        "plt.axhline(y=0, color='black', linestyle='--')\n",
        "plt.axhline(y=0.1, color='grey', linestyle='--')\n",
        "plt.xlabel('Дата')\n",
        "plt.show()\n",
        "print('Выводы:')\n",
        "print('Конверсия в группе B стабильно лучше конверсии в группе A на 10% по просшествии 1 недели после начала')"
      ],
      "execution_count": 0,
      "outputs": [
        {
          "output_type": "display_data",
          "data": {
            "image/png": "[encoded data removed]",
            "text/plain": [
              "<Figure size 720x288 with 1 Axes>"
            ]
          },
          "metadata": {
            "tags": [],
            "needs_background": "light"
          }
        },
        {
          "output_type": "stream",
          "text": [
            "Выводы:\n",
            "Конверсия в группе B стабильно лучше конверсии в группе A на 10% по просшествии 1 недели после начала\n"
          ],
          "name": "stdout"
        }
      ]
    },
    {
      "cell_type": "markdown",
      "metadata": {
        "id": "ZaOqnMSgxydl",
        "colab_type": "text"
      },
      "source": [
        "## Анализ выбросов и всплесков\n",
        "<a id='12'></a>\n",
        "### Построим точечный график количества заказов по пользователям\n",
        "[*Назад к оглавлению*](#Оглавление)"
      ]
    },
    {
      "cell_type": "code",
      "metadata": {
        "id": "7B0UsaETxydm",
        "colab_type": "code",
        "outputId": "41402c9c-d48e-413d-d2b5-be6cb34e8576",
        "colab": {
          "base_uri": "https://localhost:8080/",
          "height": 580
        }
      },
      "source": [
        "orders.head(5)\n",
        "ordersByUsers = orders.groupby('visitorId', as_index = False).agg({'transactionId':'nunique'}).sort_values(by='transactionId', ascending = False)\n",
        "ordersByUsers.columns = ['visitorId', 'orders']\n",
        "ordersByUsers.head(5)\n",
        "plt.figure(figsize=(10,4))\n",
        "plt.hist(ordersByUsers['orders'], bins = 10)\n",
        "plt.title('Гистрограмма распределения количества заказов на одного пользователя')\n",
        "plt.show()\n",
        "x_values = pd.Series(range(0, len(ordersByUsers)))\n",
        "plt.figure(figsize=(10,4))\n",
        "plt.scatter(x_values, ordersByUsers['orders'])\n",
        "plt.title('Точечная диаграмма числа заказов на одного пользователя')\n",
        "plt.show()\n",
        "print('Выводы:')\n",
        "print('Судя по граифкам, подавляющее большинство пользователей не совершает более 2 заказов')"
      ],
      "execution_count": 0,
      "outputs": [
        {
          "output_type": "display_data",
          "data": {
            "image/png": "[encoded data removed]",
            "text/plain": [
              "<Figure size 720x288 with 1 Axes>"
            ]
          },
          "metadata": {
            "tags": [],
            "needs_background": "light"
          }
        },
        {
          "output_type": "display_data",
          "data": {
            "image/png": "[encoded data removed]",
            "text/plain": [
              "<Figure size 720x288 with 1 Axes>"
            ]
          },
          "metadata": {
            "tags": [],
            "needs_background": "light"
          }
        },
        {
          "output_type": "stream",
          "text": [
            "Выводы:\n",
            "Судя по граифкам, подавляющее большинство пользователей не совершает более 2 заказов\n"
          ],
          "name": "stdout"
        }
      ]
    },
    {
      "cell_type": "markdown",
      "metadata": {
        "id": "Bbmu-qbSxyds",
        "colab_type": "text"
      },
      "source": [
        "<a id='13'></a>\n",
        "### Посчитаем 95-й и 99-й перцентили количества заказов на пользователя. Выберем границу для определения аномальных пользователей.\n",
        "[*Назад к оглавлению*](#Оглавление)"
      ]
    },
    {
      "cell_type": "code",
      "metadata": {
        "scrolled": true,
        "id": "Rmswg4Wcxydt",
        "colab_type": "code",
        "outputId": "6fd9951c-867a-43cb-9842-80ee0f86d079",
        "colab": {
          "base_uri": "https://localhost:8080/",
          "height": 124
        }
      },
      "source": [
        "percentiles = np.percentile(ordersByUsers['orders'], [95, 99])\n",
        "print('Перцентили:\\n95: {}\\n99: {}'.format(percentiles[0],percentiles[1]))\n",
        "print('\\nВыводы:')\n",
        "print('Как мы и предполагали, больше 2 заказов совершают только 5% пользователей')"
      ],
      "execution_count": 0,
      "outputs": [
        {
          "output_type": "stream",
          "text": [
            "Перцентили:\n",
            "95: 2.0\n",
            "99: 4.0\n",
            "\n",
            "Выводы:\n",
            "Как мы и предполагали, больше 2 заказов совершают только 5% пользователей\n"
          ],
          "name": "stdout"
        }
      ]
    },
    {
      "cell_type": "markdown",
      "metadata": {
        "id": "tGJ0pfyXxydz",
        "colab_type": "text"
      },
      "source": [
        "<a id='14'></a>\n",
        "### Построим точечный график стоимостей заказов\n",
        "[*Назад к оглавлению*](#Оглавление)"
      ]
    },
    {
      "cell_type": "code",
      "metadata": {
        "id": "eo09kgtCxyd0",
        "colab_type": "code",
        "outputId": "2b03831f-7e4e-4dd4-c775-b1f190160528",
        "colab": {
          "base_uri": "https://localhost:8080/",
          "height": 580
        }
      },
      "source": [
        "plt.figure(figsize=(10,4))\n",
        "plt.hist(orders['revenue'], range=(0,100000), bins = 100)\n",
        "plt.title('Гистрограмма распределения сумм заказов на одного пользователя')\n",
        "plt.show()\n",
        "x_values = pd.Series(range(0, len(orders)))\n",
        "plt.figure(figsize=(10,4))\n",
        "plt.scatter(x_values, orders['revenue'])\n",
        "plt.title('Точечная диаграмма сумм заказов на одного пользователя')\n",
        "plt.axis([0, 1200, 0, 200000])\n",
        "plt.show()\n",
        "print('Выводы:')\n",
        "print('Судя по графикам, большая часть пользователей делает покупки суммой не больше 25-30 т.р. Проверим это далее.')"
      ],
      "execution_count": 0,
      "outputs": [
        {
          "output_type": "display_data",
          "data": {
            "image/png": "[encoded data removed]",
            "text/plain": [
              "<Figure size 720x288 with 1 Axes>"
            ]
          },
          "metadata": {
            "tags": [],
            "needs_background": "light"
          }
        },
        {
          "output_type": "display_data",
          "data": {
            "image/png": "[encoded data removed]",
            "text/plain": [
              "<Figure size 720x288 with 1 Axes>"
            ]
          },
          "metadata": {
            "tags": [],
            "needs_background": "light"
          }
        },
        {
          "output_type": "stream",
          "text": [
            "Выводы:\n",
            "Судя по графикам, большая часть пользователей делает покупки суммой не больше 25-30 т.р. Проверим это далее.\n"
          ],
          "name": "stdout"
        }
      ]
    },
    {
      "cell_type": "markdown",
      "metadata": {
        "id": "Hm9yk7kwxyd4",
        "colab_type": "text"
      },
      "source": [
        "<a id='15'></a>\n",
        "### Посчитаем 95-й и 99-й перцентили сумм заказов на пользователя. Выберем границу для определения аномальных пользователей.\n",
        "[*Назад к оглавлению*](#Оглавление)"
      ]
    },
    {
      "cell_type": "code",
      "metadata": {
        "id": "KqNtklDDxyd5",
        "colab_type": "code",
        "outputId": "badcecd3-73c2-4267-ee42-1db8c8e50b93",
        "colab": {
          "base_uri": "https://localhost:8080/",
          "height": 124
        }
      },
      "source": [
        "percentiles = np.percentile(orders['revenue'], [95, 99])\n",
        "print('Перцентили:\\n95: {:.0f}\\n99: {:.0f}'.format(percentiles[0],percentiles[1]))\n",
        "print('\\nВыводы:')\n",
        "print('Всего лишь 5% заказов дороже 28 т.р.')"
      ],
      "execution_count": 0,
      "outputs": [
        {
          "output_type": "stream",
          "text": [
            "Перцентили:\n",
            "95: 28000\n",
            "99: 58233\n",
            "\n",
            "Выводы:\n",
            "Всего лишь 5% заказов дороже 28 т.р.\n"
          ],
          "name": "stdout"
        }
      ]
    },
    {
      "cell_type": "markdown",
      "metadata": {
        "id": "ktNyJAOWxyd_",
        "colab_type": "text"
      },
      "source": [
        "<a id='16'></a>\n",
        "### Посчитаем статистическую значимость различий в конверсии между группами по «сырым» данным\n",
        "[*Назад к оглавлению*](#Оглавление)"
      ]
    },
    {
      "cell_type": "code",
      "metadata": {
        "scrolled": true,
        "id": "68WZbrdkxyeA",
        "colab_type": "code",
        "outputId": "f8b3a88d-2528-4380-ec0d-bdbd116247cc",
        "colab": {
          "base_uri": "https://localhost:8080/",
          "height": 212
        }
      },
      "source": [
        "ordersByUsersA = orders[orders['group']=='A'].groupby('visitorId', as_index=False).agg({'transactionId':'nunique'})\n",
        "ordersByUsersA.columns = ['visitorId', 'orders']\n",
        "ordersByUsersB = orders[orders['group']=='B'].groupby('visitorId', as_index=False).agg({'transactionId':'nunique'})\n",
        "ordersByUsersB.columns = ['visitorId', 'orders']\n",
        "print('Кол-во покупателей в группе A: {}'.format(len(ordersByUsersA)))\n",
        "print('Кол-во покупок в группе А: {}'.format(ordersByUsersA['orders'].sum()))\n",
        "print('Кол-во посетителей в группе A: {}\\n'.format(visitors[visitors['group']=='A']['visitors'].sum()))\n",
        "print('Кол-во покупателей в группе B: {}'.format(len(ordersByUsersB)))\n",
        "print('Кол-во покупок в группе B: {}'.format(ordersByUsersB['orders'].sum()))\n",
        "print('Кол-во посетителей в группе B: {}'.format(visitors[visitors['group']=='B']['visitors'].sum()))\n",
        "\n",
        "\n",
        "#составим списки кол-ва заказов sampleA и sampleB со всеми пользователями (в том числе и не купившими) по группам \n",
        "list_orders_1 =[]\n",
        "for i in range(0,(visitors[visitors['group']=='A']['visitors'].sum()-len(ordersByUsersA))):\n",
        "    list_orders_1.append(0)\n",
        "orders_by_non_purchased_users_A = pd.Series(data = list_orders_1, name = 'orders')\n",
        "\n",
        "list_orders_2 =[]\n",
        "for i in range(0,(visitors[visitors['group']=='B']['visitors'].sum()-len(ordersByUsersB))):\n",
        "    list_orders_2.append(0)\n",
        "orders_by_non_purchased_users_B = pd.Series(data = list_orders_2, name = 'orders')\n",
        "\n",
        "sampleA = pd.concat([ordersByUsersA['orders'], orders_by_non_purchased_users_A], axis=0)\n",
        "sampleB = pd.concat([ordersByUsersB['orders'], orders_by_non_purchased_users_B], axis=0)\n",
        "print('\\nОтносительный прирост конверсии группы B по отношению к группе A: {:.3f}'.format(sampleB.mean()/sampleA.mean()-1))\n",
        "alpha = 0.05\n",
        "results = stats.mannwhitneyu(sampleA, sampleB)\n",
        "print('P-value: {}'.format(results.pvalue))\n",
        "if results.pvalue < alpha:\n",
        "    print('По неочищенным данным в конверсии групп A и B РАЗНИЦА СТАТИСТИЧЕСКИ ЗНАЧИМА!')\n",
        "else:\n",
        "    print('По неочищенным данным РАЗЛИЧИЙ в конверсии групп A и B НЕТ!')"
      ],
      "execution_count": 0,
      "outputs": [
        {
          "output_type": "stream",
          "text": [
            "Кол-во покупателей в группе A: 503\n",
            "Кол-во покупок в группе А: 557\n",
            "Кол-во посетителей в группе A: 18736\n",
            "\n",
            "Кол-во покупателей в группе B: 586\n",
            "Кол-во покупок в группе B: 640\n",
            "Кол-во посетителей в группе B: 18916\n",
            "\n",
            "Относительный прирост конверсии группы B по отношению к группе A: 0.138\n",
            "P-value: 0.008396177528376304\n",
            "По неочищенным данным в конверсии групп A и B РАЗНИЦА СТАТИСТИЧЕСКИ ЗНАЧИМА!\n"
          ],
          "name": "stdout"
        }
      ]
    },
    {
      "cell_type": "markdown",
      "metadata": {
        "id": "MMulDtaTxyeF",
        "colab_type": "text"
      },
      "source": [
        "<a id='17'></a>\n",
        "### Посчитаем статистическую значимость различий в среднем чеке заказа между группами по «сырым» данным\n",
        "[*Назад к оглавлению*](#Оглавление)"
      ]
    },
    {
      "cell_type": "code",
      "metadata": {
        "scrolled": true,
        "id": "lYqAhBU-xyeG",
        "colab_type": "code",
        "outputId": "b093fbb9-4e41-4d9d-c4e7-1b13167143b6",
        "colab": {
          "base_uri": "https://localhost:8080/",
          "height": 70
        }
      },
      "source": [
        "print('Относительное изменение среднего чека в группе B по отношению группы A: {:.3f}'.format(\n",
        "orders[orders['group']=='B']['revenue'].mean()/orders[orders['group']=='A']['revenue'].mean()-1))\n",
        "results = stats.mannwhitneyu(orders[orders['group']=='A']['revenue'], orders[orders['group']=='B']['revenue'])\n",
        "print('P-value: {}'.format(results.pvalue))\n",
        "if results.pvalue < alpha:\n",
        "    print('По неочищенным данным РАЗНИЦА в средних чеках в группах A и B СТАТИСТИЧЕСКИ ЗНАЧИМА!')\n",
        "else:\n",
        "    print('По неочищенным данным РАЗЛИЧИЙ в средних чеках в группах A и B НЕТ!')"
      ],
      "execution_count": 0,
      "outputs": [
        {
          "output_type": "stream",
          "text": [
            "Относительное изменение среднего чека в группе B по отношению группы A: 0.259\n",
            "P-value: 0.3646454927716229\n",
            "По неочищенным данным РАЗЛИЧИЙ в средних чеках в группах A и B НЕТ!\n"
          ],
          "name": "stdout"
        }
      ]
    },
    {
      "cell_type": "markdown",
      "metadata": {
        "id": "vgs1vOHDxyeS",
        "colab_type": "text"
      },
      "source": [
        "<a id='18'></a>\n",
        "### Посчитаем статистическую значимость различий в конверсии между группами по «очищенным» данным\n",
        "[*Назад к оглавлению*](#Оглавление)\n",
        "\n",
        "Ранее мы уже выяснили, что подавляющее большинство пользователей не делает более 2 заказов и сумма 1 покупки в большинстве случаев не превышает 28 т.р. Очистим данные от аномальных пользователей с превышающими данные лимиты значениями."
      ]
    },
    {
      "cell_type": "code",
      "metadata": {
        "id": "-M3wG_VjxyeT",
        "colab_type": "code",
        "colab": {}
      },
      "source": [
        "#зададим предельные кол-во заказов и сумму покупки для формирования списка аномальных пользователей\n",
        "limit_orders = 2\n",
        "limit_revenue = 28000"
      ],
      "execution_count": 0,
      "outputs": []
    },
    {
      "cell_type": "code",
      "metadata": {
        "id": "7CzTPpz4xyeX",
        "colab_type": "code",
        "outputId": "a2437902-4cef-4f68-e3fc-cddc3a45c530",
        "colab": {
          "base_uri": "https://localhost:8080/",
          "height": 35
        }
      },
      "source": [
        "usersWithManyOrders = pd.concat([ordersByUsersA[ordersByUsersA['orders']>limit_orders]['visitorId'], \n",
        "                                ordersByUsersB[ordersByUsersB['orders']>limit_orders]['visitorId']], axis = 0)\n",
        "usersWithExpensiveOrders = orders[orders['revenue']>limit_revenue]['visitorId']\n",
        "abnormalUsers = pd.concat([usersWithManyOrders, usersWithExpensiveOrders], axis = 0).drop_duplicates().sort_values()\n",
        "print('Кол-во аномальных пользователей: {}'.format(len(abnormalUsers)))"
      ],
      "execution_count": 0,
      "outputs": [
        {
          "output_type": "stream",
          "text": [
            "Кол-во аномальных пользователей: 74\n"
          ],
          "name": "stdout"
        }
      ]
    },
    {
      "cell_type": "code",
      "metadata": {
        "scrolled": true,
        "id": "9ZMdU3vYxyec",
        "colab_type": "code",
        "outputId": "2d3a0095-b348-481a-ed1c-4b5063318c1e",
        "colab": {
          "base_uri": "https://localhost:8080/",
          "height": 88
        }
      },
      "source": [
        "sampleAFiltered = pd.concat([\n",
        "    ordersByUsersA[np.logical_not(ordersByUsersA['visitorId'].isin(abnormalUsers))]['orders'],\n",
        "    orders_by_non_purchased_users_A\n",
        "], axis = 0)\n",
        "sampleBFiltered = pd.concat([\n",
        "    ordersByUsersB[np.logical_not(ordersByUsersB['visitorId'].isin(abnormalUsers))]['orders'],\n",
        "    orders_by_non_purchased_users_B\n",
        "], axis = 0)\n",
        "print('\\nОтносительный прирост конверсии группы B по отношению к группе A после очистки данных: {:.3f}'.format(sampleBFiltered.mean()/sampleAFiltered.mean()-1))\n",
        "results = stats.mannwhitneyu(sampleAFiltered, sampleBFiltered)\n",
        "print('P-value: {}'.format(results.pvalue))\n",
        "if results.pvalue < alpha:\n",
        "    print('По очищенным данным в конверсии групп A и B РАЗНИЦА СТАТИСТИЧЕСКИ ЗНАЧИМА!')\n",
        "else:\n",
        "    print('По очищенным данным РАЗЛИЧИЙ в конверсии групп A и B НЕТ!')"
      ],
      "execution_count": 0,
      "outputs": [
        {
          "output_type": "stream",
          "text": [
            "\n",
            "Относительный прирост конверсии группы B по отношению к группе A после очистки данных: 0.173\n",
            "P-value: 0.006521296371518379\n",
            "По очищенным данным в конверсии групп A и B РАЗНИЦА СТАТИСТИЧЕСКИ ЗНАЧИМА!\n"
          ],
          "name": "stdout"
        }
      ]
    },
    {
      "cell_type": "markdown",
      "metadata": {
        "id": "BcbxEfVKxyei",
        "colab_type": "text"
      },
      "source": [
        "<a id='19'></a>\n",
        "### Посчитаем статистическую значимость различий в среднем чеке заказа между группами по «очищенным» данным\n",
        "[*Назад к оглавлению*](#Оглавление)"
      ]
    },
    {
      "cell_type": "code",
      "metadata": {
        "id": "nDRF_fX9xyej",
        "colab_type": "code",
        "outputId": "0f37660b-fb10-4d3b-ddd4-dc6d60063bc5",
        "colab": {
          "base_uri": "https://localhost:8080/",
          "height": 70
        }
      },
      "source": [
        "print('Относительное изменение среднего чека в группе B по отношению группы A после очистки данных: {:.3f}'.format(\n",
        "orders[np.logical_and(orders['group']=='B', np.logical_not(orders['visitorId'].isin(abnormalUsers)))]['revenue'].mean()\\\n",
        "/orders[np.logical_and(orders['group']=='A', np.logical_not(orders['visitorId'].isin(abnormalUsers)))]['revenue'].mean()-1))\n",
        "       \n",
        "       \n",
        "results = stats.mannwhitneyu(orders[np.logical_and(orders['group']=='A', np.logical_not(orders['visitorId'].isin(abnormalUsers)))]['revenue'],\n",
        "                             orders[np.logical_and(orders['group']=='B', np.logical_not(orders['visitorId'].isin(abnormalUsers)))]['revenue'])\n",
        "print('P-value: {}'.format(results.pvalue))\n",
        "if results.pvalue < alpha:\n",
        "    print('По очищенным данным РАЗНИЦА в средних чеках в группах A и B СТАТИСТИЧЕСКИ ЗНАЧИМА!')\n",
        "else:\n",
        "    print('По очищенным данным РАЗЛИЧИЙ в средних чеках в группах A и B НЕТ!')"
      ],
      "execution_count": 0,
      "outputs": [
        {
          "output_type": "stream",
          "text": [
            "Относительное изменение среднего чека в группе B по отношению группы A после очистки данных: -0.020\n",
            "P-value: 0.3692408756572825\n",
            "По очищенным данным РАЗЛИЧИЙ в средних чеках в группах A и B НЕТ!\n"
          ],
          "name": "stdout"
        }
      ]
    },
    {
      "cell_type": "markdown",
      "metadata": {
        "id": "0FQLO6h5xyeo",
        "colab_type": "text"
      },
      "source": [
        "<a id='20'></a>\n",
        "## Примем решение по результатам теста \n",
        "[*Назад к оглавлению*](#Оглавление)\n",
        "\n",
        "**Варианты принимаемых решений:** \n",
        "1. Остановить тест, зафиксировать победу одной из групп. \n",
        "2. Остановить тест, зафиксировать отсутствие различий между группами. \n",
        "3. Продолжить тест.\n",
        "\n",
        "По порядку. Выборка данных имеет корректный размер, проблему подглядывания в результате сравнения групп во время проведения теста мы исключили!\n",
        "Кумулятивные метрики по выручке, среднему чеку и конверсии почти все время лидировали в группе B. \n",
        "У нас на некоторое время возникли сомнения из-за резких колебаний на графике кумулятивного среднего чека в группе B до очистки данных от аномальных пользователей. Наши сомнения подтвердились на этот счет, т.к. после очистки разница между средними чеками стала минимальна, но это не даёт нам повода сомневаться в проведении теста и его результатах. \n",
        "До и после очистки данных, показатель конверсии в группе B больше показателя в группе A - сначала на 14% до и на 17% после очистки данных. **Данная разница показателей конверсии между группами и до и после очистки данных является СТАТИСТИЧЕСКИ ЗНАЧИМОЙ, что пользволяет нам сделать вывод о том, что мы можем остановить наш A/B тест и зафиксировать победу группы B!**"
      ]
    },
    {
      "cell_type": "code",
      "metadata": {
        "id": "w2l80BYZ_D-C",
        "colab_type": "code",
        "colab": {}
      },
      "source": [
        ""
      ],
      "execution_count": 0,
      "outputs": []
    }
  ]
}