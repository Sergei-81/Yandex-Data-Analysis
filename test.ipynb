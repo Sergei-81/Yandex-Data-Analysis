{
  "nbformat": 4,
  "nbformat_minor": 0,
  "metadata": {
    "kernelspec": {
      "display_name": "Python 3",
      "language": "python",
      "name": "python3"
    },
    "language_info": {
      "codemirror_mode": {
        "name": "ipython",
        "version": 3
      },
      "file_extension": ".py",
      "mimetype": "text/x-python",
      "name": "python",
      "nbconvert_exporter": "python",
      "pygments_lexer": "ipython3",
      "version": "3.7.4"
    },
    "colab": {
      "name": "7. A/B тест в магазине продуктов питания ",
      "provenance": [],
      "collapsed_sections": [],
      "include_colab_link": true
    }
  },
  "cells": [
    {
      "cell_type": "markdown",
      "metadata": {
        "id": "view-in-github",
        "colab_type": "text"
      },
      "source": [
        "<a href=\"https://colab.research.google.com/github/alexeiveselov92/Yandex-Data-Analysis/blob/master/test.ipynb\" target=\"_parent\"><img src=\"https://colab.research.google.com/assets/colab-badge.svg\" alt=\"Open In Colab\"/></a>"
      ]
    },
    {
      "cell_type": "markdown",
      "metadata": {
        "id": "B20bUmgZzzF6",
        "colab_type": "text"
      },
      "source": [
        "<font color='blue'> Привет. Извини за долгую проверку. Ниже мои комментарии выделены синим. </font>"
      ]
    },
    {
      "cell_type": "markdown",
      "metadata": {
        "id": "0gRuh1HazzF-",
        "colab_type": "text"
      },
      "source": [
        "# Магазин продуктов питания. A/B тест - использование новых шрифтов.\n",
        "\n",
        "\n",
        "## Описание проекта\n",
        "Вы работаете в стартапе, который продаёт продукты питания. Нужно разобраться, как ведут себя пользователи вашего мобильного приложения.\n",
        "\n",
        "Изучите воронку продаж. Узнайте, как пользователи доходят до покупки. Сколько пользователей доходит до покупки, а сколько — «застревает» на предыдущих шагах? На каких именно?\n",
        "\n",
        "После этого исследуйте результаты A/B-эксперимента. Дизайнеры захотели поменять шрифты во всём приложении, а менеджеры испугались, что пользователям будет непривычно. Договорились принять решение по результатам A/B-теста. Для него пользователей разбили на 3 группы: 2 контрольные со старыми шрифтами и одну экспериментальную — с новыми. Выясните, какой шрифт лучше.\n",
        "\n",
        "В случае общей аналитики и A/B-эксперимента работайте с одними и теми же данными. В реальных проектах всегда идут эксперименты. Аналитики исследуют качество работы приложения по общим данным, не учитывая принадлежность пользователей к экспериментам.\n",
        "\n",
        "<a id='content'></a>\n",
        "## Оглавление\n",
        "\n",
        "### Подготовка\n",
        "* [Загрузка библиотек](#download_libraries)\n",
        "* [Загрузка датасета и проверка его на наличие дубликатов, пропусков и соответствие типам данных, а также правильность выгрузки](#download_dataset)\n",
        "* [Замена названий столбцов, добавление необходимых столбцов для удобной работы](#preparation)\n",
        "   \n",
        "\n",
        "\n",
        "### Изучим и проверим данные\n",
        "\n",
        "* [Сколько всего событий в логе? Сколько всего пользователей в логе? Сколько в среднем событий приходится на пользователя?](#how_many_events)\n",
        "* [Данными за какой период обладаем? Можем ли быть уверенными, что у нас одинаково полные данные за весь период?](#period)\n",
        "\n",
        "### Изучим воронку событий\n",
        "\n",
        "* [Посмотрим, какие события есть в логах, как часто они встречаются. Отсортируем события по частоте.](#funnel)\n",
        "* [Посчитаем, сколько пользователей совершали каждое из этих событий. Отсортируйте события по числу пользователей. Посчитаем долю пользователей, которые хоть раз совершали событие.](#funnel)\n",
        "* [Предположим, в каком порядке происходят события. Все ли они выстраиваются в последовательную цепочку? Их не нужно учитывать при расчёте воронки.](#funnel)\n",
        "* [По воронке событий посчитайте, какая доля пользователей проходит на следующий шаг воронки (от числа пользователей на предыдущем). То есть для последовательности событий A → B → C, посчитайте отношение числа пользователей с событием B к количеству пользователей с событием A.](#funnel)\n",
        "* [На каком шаге теряете больше всего пользователей?](#funnel)\n",
        "* [Какая доля пользователей доходит от первого события до оплаты?](#funnel)\n",
        "\n",
        "### Изучим результаты эксперимента\n",
        "* [Сколько пользователей в каждой экспериментальной группе?](#results)\n",
        "* [Есть 2 контрольные группы для А/А-эксперимента, чтобы проверить корректность всех механизмов и расчётов. Проверьте, находят ли статистические критерии разницу между выборками 246 и 247.](#results)\n",
        "* [Посчитайте долю пользователей, совершивших это событие. Проверьте, будет ли отличие между группами статистически достоверным. Проделайте то же самое для всех других событий (удобно обернуть проверку в отдельную функцию). Можно ли сказать, что разбиение на группы работает корректно?](#results)\n",
        "* [Аналогично поступите с группой с изменённым шрифтом. Сравните результаты с каждой из контрольных групп в отдельности по каждому событию. Сравните результаты с объединённой контрольной группой. Какие выводы из эксперимента можно сделать?](#results)\n",
        "* [Какой уровень значимости вы выбрали при проверке статистических гипотез выше? Посчитайте, сколько проверок статистических гипотез вы сделали. При уровне значимости 0.1 каждый десятый раз можно получать ложный результат. Какой уровень значимости стоит применить? Если вы хотите изменить его, проделайте предыдущие пункты и проверьте свои выводы.](#results)\n",
        "\n",
        "## Выводы\n",
        "\n",
        "* [Выводы по проекту](#summary)"
      ]
    },
    {
      "cell_type": "markdown",
      "metadata": {
        "id": "_QVdsTNszzGB",
        "colab_type": "text"
      },
      "source": [
        "# Подготовка\n",
        "<a id='download_libraries'></a>\n",
        "### Загрузим библиотеки\n",
        "[*Назад к оглавлению*](#content)"
      ]
    },
    {
      "cell_type": "code",
      "metadata": {
        "id": "QnX2fmm3zzGE",
        "colab_type": "code",
        "outputId": "f9aecbd2-97c8-419b-f575-0c941d1ba560",
        "colab": {
          "base_uri": "https://localhost:8080/",
          "height": 156
        }
      },
      "source": [
        "import pandas as pd\n",
        "import numpy as np\n",
        "from scipy import stats\n",
        "import seaborn as sns\n",
        "import matplotlib.pyplot as plt\n",
        "import plotly.express as px\n",
        "from plotly import graph_objects as go\n",
        "import copy\n",
        "import math as mth\n",
        "from google.colab import drive\n",
        "drive.mount('/content/drive')"
      ],
      "execution_count": 0,
      "outputs": [
        {
          "output_type": "stream",
          "text": [
            "/usr/local/lib/python3.6/dist-packages/statsmodels/tools/_testing.py:19: FutureWarning: pandas.util.testing is deprecated. Use the functions in the public API at pandas.testing instead.\n",
            "  import pandas.util.testing as tm\n"
          ],
          "name": "stderr"
        },
        {
          "output_type": "stream",
          "text": [
            "Go to this URL in a browser: https://accounts.google.com/o/oauth2/auth?client_id=947318989803-6bn6qk8qdgf4n4g3pfee6491hc0brc4i.apps.googleusercontent.com&redirect_uri=urn%3aietf%3awg%3aoauth%3a2.0%3aoob&response_type=code&scope=email%20https%3a%2f%2fwww.googleapis.com%2fauth%2fdocs.test%20https%3a%2f%2fwww.googleapis.com%2fauth%2fdrive%20https%3a%2f%2fwww.googleapis.com%2fauth%2fdrive.photos.readonly%20https%3a%2f%2fwww.googleapis.com%2fauth%2fpeopleapi.readonly\n",
            "\n",
            "Enter your authorization code:\n",
            "··········\n",
            "Mounted at /content/drive\n"
          ],
          "name": "stdout"
        }
      ]
    },
    {
      "cell_type": "markdown",
      "metadata": {
        "id": "7C2jOVBrzzGR",
        "colab_type": "text"
      },
      "source": [
        "<a id='download_dataset'></a>\n",
        "### Загрузим датасет и проверим его на наличие дубликатов, пропусков и соответствие типам данных, а также правильность выгрузки\n",
        "[*Назад к оглавлению*](#content)"
      ]
    },
    {
      "cell_type": "code",
      "metadata": {
        "id": "_45tn8NTzzGS",
        "colab_type": "code",
        "outputId": "20447556-6e0a-437e-c363-53edba93d0a4",
        "colab": {
          "base_uri": "https://localhost:8080/",
          "height": 629
        }
      },
      "source": [
        "df = pd.read_csv('/content/drive/My Drive/Colab Notebooks/datasets/logs_exp.csv', sep='\\t')\n",
        "print('Дубликатов обнаружено: {}\\n'.format(df.duplicated().sum()))\n",
        "df = df.drop_duplicates().reset_index(drop = True)\n",
        "df.info()\n",
        "print('\\nДубликаты удалены')\n",
        "\n",
        "print('\\nПроверим категорийную переменную:\\n{}\\n\\nВсе впорядке, идём дальше'.format(df['EventName'].value_counts()))\n",
        "df.head(5)"
      ],
      "execution_count": 0,
      "outputs": [
        {
          "output_type": "stream",
          "text": [
            "Дубликатов обнаружено: 413\n",
            "\n",
            "<class 'pandas.core.frame.DataFrame'>\n",
            "RangeIndex: 243713 entries, 0 to 243712\n",
            "Data columns (total 4 columns):\n",
            " #   Column          Non-Null Count   Dtype \n",
            "---  ------          --------------   ----- \n",
            " 0   EventName       243713 non-null  object\n",
            " 1   DeviceIDHash    243713 non-null  int64 \n",
            " 2   EventTimestamp  243713 non-null  int64 \n",
            " 3   ExpId           243713 non-null  int64 \n",
            "dtypes: int64(3), object(1)\n",
            "memory usage: 7.4+ MB\n",
            "\n",
            "Дубликаты удалены\n",
            "\n",
            "Проверим категорийную переменную:\n",
            "MainScreenAppear           119101\n",
            "OffersScreenAppear          46808\n",
            "CartScreenAppear            42668\n",
            "PaymentScreenSuccessful     34118\n",
            "Tutorial                     1018\n",
            "Name: EventName, dtype: int64\n",
            "\n",
            "Все впорядке, идём дальше\n"
          ],
          "name": "stdout"
        },
        {
          "output_type": "execute_result",
          "data": {
            "text/html": [
              "<div>\n",
              "<style scoped>\n",
              "    .dataframe tbody tr th:only-of-type {\n",
              "        vertical-align: middle;\n",
              "    }\n",
              "\n",
              "    .dataframe tbody tr th {\n",
              "        vertical-align: top;\n",
              "    }\n",
              "\n",
              "    .dataframe thead th {\n",
              "        text-align: right;\n",
              "    }\n",
              "</style>\n",
              "<table border=\"1\" class=\"dataframe\">\n",
              "  <thead>\n",
              "    <tr style=\"text-align: right;\">\n",
              "      <th></th>\n",
              "      <th>EventName</th>\n",
              "      <th>DeviceIDHash</th>\n",
              "      <th>EventTimestamp</th>\n",
              "      <th>ExpId</th>\n",
              "    </tr>\n",
              "  </thead>\n",
              "  <tbody>\n",
              "    <tr>\n",
              "      <th>0</th>\n",
              "      <td>MainScreenAppear</td>\n",
              "      <td>4575588528974610257</td>\n",
              "      <td>1564029816</td>\n",
              "      <td>246</td>\n",
              "    </tr>\n",
              "    <tr>\n",
              "      <th>1</th>\n",
              "      <td>MainScreenAppear</td>\n",
              "      <td>7416695313311560658</td>\n",
              "      <td>1564053102</td>\n",
              "      <td>246</td>\n",
              "    </tr>\n",
              "    <tr>\n",
              "      <th>2</th>\n",
              "      <td>PaymentScreenSuccessful</td>\n",
              "      <td>3518123091307005509</td>\n",
              "      <td>1564054127</td>\n",
              "      <td>248</td>\n",
              "    </tr>\n",
              "    <tr>\n",
              "      <th>3</th>\n",
              "      <td>CartScreenAppear</td>\n",
              "      <td>3518123091307005509</td>\n",
              "      <td>1564054127</td>\n",
              "      <td>248</td>\n",
              "    </tr>\n",
              "    <tr>\n",
              "      <th>4</th>\n",
              "      <td>PaymentScreenSuccessful</td>\n",
              "      <td>6217807653094995999</td>\n",
              "      <td>1564055322</td>\n",
              "      <td>248</td>\n",
              "    </tr>\n",
              "  </tbody>\n",
              "</table>\n",
              "</div>"
            ],
            "text/plain": [
              "                 EventName         DeviceIDHash  EventTimestamp  ExpId\n",
              "0         MainScreenAppear  4575588528974610257      1564029816    246\n",
              "1         MainScreenAppear  7416695313311560658      1564053102    246\n",
              "2  PaymentScreenSuccessful  3518123091307005509      1564054127    248\n",
              "3         CartScreenAppear  3518123091307005509      1564054127    248\n",
              "4  PaymentScreenSuccessful  6217807653094995999      1564055322    248"
            ]
          },
          "metadata": {
            "tags": []
          },
          "execution_count": 2
        }
      ]
    },
    {
      "cell_type": "markdown",
      "metadata": {
        "id": "AxxbaK12zzGl",
        "colab_type": "text"
      },
      "source": [
        "<a id='preparation'></a>\n",
        "### Замена названий столбцов, добавление необходимых столбцов для удобной работы\n",
        "[*Назад к оглавлению*](#content)"
      ]
    },
    {
      "cell_type": "code",
      "metadata": {
        "id": "jJNTfqM2zzGn",
        "colab_type": "code",
        "outputId": "d5d5be59-4926-4d38-cd0f-e905151be9b9",
        "colab": {
          "base_uri": "https://localhost:8080/",
          "height": 238
        }
      },
      "source": [
        "df.columns = ['event', 'user_id', 'ts', 'group_id']\n",
        "df['datetime'] = pd.to_datetime(df['ts'], unit='s')\n",
        "df['date'] = pd.to_datetime(df['datetime'].dt.date)\n",
        "df.info()"
      ],
      "execution_count": 0,
      "outputs": [
        {
          "output_type": "stream",
          "text": [
            "<class 'pandas.core.frame.DataFrame'>\n",
            "RangeIndex: 243713 entries, 0 to 243712\n",
            "Data columns (total 6 columns):\n",
            " #   Column    Non-Null Count   Dtype         \n",
            "---  ------    --------------   -----         \n",
            " 0   event     243713 non-null  object        \n",
            " 1   user_id   243713 non-null  int64         \n",
            " 2   ts        243713 non-null  int64         \n",
            " 3   group_id  243713 non-null  int64         \n",
            " 4   datetime  243713 non-null  datetime64[ns]\n",
            " 5   date      243713 non-null  datetime64[ns]\n",
            "dtypes: datetime64[ns](2), int64(3), object(1)\n",
            "memory usage: 11.2+ MB\n"
          ],
          "name": "stdout"
        }
      ]
    },
    {
      "cell_type": "code",
      "metadata": {
        "id": "BvyQMQGpzzGx",
        "colab_type": "code",
        "outputId": "4a1439e8-bc4f-4c4a-a3e2-67efa9db16db",
        "colab": {
          "base_uri": "https://localhost:8080/",
          "height": 221
        }
      },
      "source": [
        "print('Подготовка завершена, идём дальше')\n",
        "df.head(5)"
      ],
      "execution_count": 0,
      "outputs": [
        {
          "output_type": "stream",
          "text": [
            "Подготовка завершена, идём дальше\n"
          ],
          "name": "stdout"
        },
        {
          "output_type": "execute_result",
          "data": {
            "text/html": [
              "<div>\n",
              "<style scoped>\n",
              "    .dataframe tbody tr th:only-of-type {\n",
              "        vertical-align: middle;\n",
              "    }\n",
              "\n",
              "    .dataframe tbody tr th {\n",
              "        vertical-align: top;\n",
              "    }\n",
              "\n",
              "    .dataframe thead th {\n",
              "        text-align: right;\n",
              "    }\n",
              "</style>\n",
              "<table border=\"1\" class=\"dataframe\">\n",
              "  <thead>\n",
              "    <tr style=\"text-align: right;\">\n",
              "      <th></th>\n",
              "      <th>event</th>\n",
              "      <th>user_id</th>\n",
              "      <th>ts</th>\n",
              "      <th>group_id</th>\n",
              "      <th>datetime</th>\n",
              "      <th>date</th>\n",
              "    </tr>\n",
              "  </thead>\n",
              "  <tbody>\n",
              "    <tr>\n",
              "      <th>0</th>\n",
              "      <td>MainScreenAppear</td>\n",
              "      <td>4575588528974610257</td>\n",
              "      <td>1564029816</td>\n",
              "      <td>246</td>\n",
              "      <td>2019-07-25 04:43:36</td>\n",
              "      <td>2019-07-25</td>\n",
              "    </tr>\n",
              "    <tr>\n",
              "      <th>1</th>\n",
              "      <td>MainScreenAppear</td>\n",
              "      <td>7416695313311560658</td>\n",
              "      <td>1564053102</td>\n",
              "      <td>246</td>\n",
              "      <td>2019-07-25 11:11:42</td>\n",
              "      <td>2019-07-25</td>\n",
              "    </tr>\n",
              "    <tr>\n",
              "      <th>2</th>\n",
              "      <td>PaymentScreenSuccessful</td>\n",
              "      <td>3518123091307005509</td>\n",
              "      <td>1564054127</td>\n",
              "      <td>248</td>\n",
              "      <td>2019-07-25 11:28:47</td>\n",
              "      <td>2019-07-25</td>\n",
              "    </tr>\n",
              "    <tr>\n",
              "      <th>3</th>\n",
              "      <td>CartScreenAppear</td>\n",
              "      <td>3518123091307005509</td>\n",
              "      <td>1564054127</td>\n",
              "      <td>248</td>\n",
              "      <td>2019-07-25 11:28:47</td>\n",
              "      <td>2019-07-25</td>\n",
              "    </tr>\n",
              "    <tr>\n",
              "      <th>4</th>\n",
              "      <td>PaymentScreenSuccessful</td>\n",
              "      <td>6217807653094995999</td>\n",
              "      <td>1564055322</td>\n",
              "      <td>248</td>\n",
              "      <td>2019-07-25 11:48:42</td>\n",
              "      <td>2019-07-25</td>\n",
              "    </tr>\n",
              "  </tbody>\n",
              "</table>\n",
              "</div>"
            ],
            "text/plain": [
              "                     event              user_id  ...            datetime       date\n",
              "0         MainScreenAppear  4575588528974610257  ... 2019-07-25 04:43:36 2019-07-25\n",
              "1         MainScreenAppear  7416695313311560658  ... 2019-07-25 11:11:42 2019-07-25\n",
              "2  PaymentScreenSuccessful  3518123091307005509  ... 2019-07-25 11:28:47 2019-07-25\n",
              "3         CartScreenAppear  3518123091307005509  ... 2019-07-25 11:28:47 2019-07-25\n",
              "4  PaymentScreenSuccessful  6217807653094995999  ... 2019-07-25 11:48:42 2019-07-25\n",
              "\n",
              "[5 rows x 6 columns]"
            ]
          },
          "metadata": {
            "tags": []
          },
          "execution_count": 4
        }
      ]
    },
    {
      "cell_type": "markdown",
      "metadata": {
        "id": "WqlaOPQjzzG7",
        "colab_type": "text"
      },
      "source": [
        "# Изучим и проверим данные\n",
        "<a id='how_many_events'></a>\n",
        "### Сколько всего событий в логе? Сколько всего пользователей в логе? Сколько в среднем событий приходится на пользователя?\n",
        "[*Назад к оглавлению*](#content)"
      ]
    },
    {
      "cell_type": "code",
      "metadata": {
        "id": "RCs4mYzkzzG9",
        "colab_type": "code",
        "outputId": "52161e99-e64e-4b06-c593-a798bdb60813",
        "colab": {
          "base_uri": "https://localhost:8080/",
          "height": 68
        }
      },
      "source": [
        "print('Событий в логе: {}'.format(len(df)))\n",
        "print('Пользователей в логе: {}'.format(len(df['user_id'].unique())))\n",
        "print('В среднем событий на одного пользователя: {:.0f}'.format(stats.mode(df.groupby('user_id').agg({'event':'count'}))[0][0][0]))"
      ],
      "execution_count": 0,
      "outputs": [
        {
          "output_type": "stream",
          "text": [
            "Событий в логе: 243713\n",
            "Пользователей в логе: 7551\n",
            "В среднем событий на одного пользователя: 5\n"
          ],
          "name": "stdout"
        }
      ]
    },
    {
      "cell_type": "markdown",
      "metadata": {
        "id": "G8EWjUAZzzHH",
        "colab_type": "text"
      },
      "source": [
        "<font color='blue'> Хорошо, верно. </font>"
      ]
    },
    {
      "cell_type": "markdown",
      "metadata": {
        "id": "Rvd03ZTHzzHJ",
        "colab_type": "text"
      },
      "source": [
        "<a id='period'></a>\n",
        "### Данными за какой период обладаем?   Можем ли быть уверенными, что у нас одинаково полные данные за весь период?   \n",
        "[*Назад к оглавлению*](#content)\n",
        "\n",
        "**Выполним по пунктам:**\n",
        "* Найдем максимальную и минимальную дату.\n",
        "* Построим гистограмму по дате и времени.\n",
        "* Так как технически в логи новых дней по некоторым пользователям могут «доезжать» события из прошлого — это может «перекашивать данные», определим, с какого момента данные полные и отбросим более старые.\n",
        "* Данными за какой период времени мы располагаете на теперь?\n",
        "* Много ли событий и пользователей мы потеряли, отбросив старые данные?\n",
        "* Проверим, что у нас есть пользователи из всех трёх экспериментальных групп."
      ]
    },
    {
      "cell_type": "code",
      "metadata": {
        "id": "hqpr5cOVzzHM",
        "colab_type": "code",
        "outputId": "1de30def-99f8-436b-fe02-05f0bfbb320c",
        "colab": {
          "base_uri": "https://localhost:8080/",
          "height": 502
        }
      },
      "source": [
        "print('Минимальная дата: {}'.format(df['date'].min()))\n",
        "print('Максимальная дата: {}'.format(df['date'].max()))\n",
        "print('Период составляет: {}'.format(df['datetime'].max()-df['datetime'].min()))\n",
        "\n",
        "event_date_grouped = df.groupby('date', as_index=False).agg({'datetime':'count'}).reset_index()\n",
        "event_date_grouped['date_text'] = event_date_grouped['date'].dt.strftime('%d.%m')\n",
        "# df.head(5)\n",
        "fig = px.bar(event_date_grouped, x = 'date', y='datetime', text='date_text', width=750, height=400)\n",
        "fig.update_layout(\n",
        "    title={\n",
        "        'text': \"Распределение количества событий по дням\",\n",
        "        'xanchor': 'center',\n",
        "        'x':0.5\n",
        "    },\n",
        "    yaxis_title=\"Количество событий\",\n",
        "    xaxis_title=\"Дата\")\n",
        "fig.update_traces(textposition='outside')\n",
        "fig.show()\n",
        "print('Полные данные у нас есть только за период с 1 по 7 августа включительно.'\n",
        "      '\\nОтбросим периоды, по которым данных недостаточно.')"
      ],
      "execution_count": 0,
      "outputs": [
        {
          "output_type": "stream",
          "text": [
            "Минимальная дата: 2019-07-25 00:00:00\n",
            "Максимальная дата: 2019-08-07 00:00:00\n",
            "Период составляет: 13 days 16:31:41\n"
          ],
          "name": "stdout"
        },
        {
          "output_type": "display_data",
          "data": {
            "text/html": [
              "<html>\n",
              "<head><meta charset=\"utf-8\" /></head>\n",
              "<body>\n",
              "    <div>\n",
              "            <script src=\"https://cdnjs.cloudflare.com/ajax/libs/mathjax/2.7.5/MathJax.js?config=TeX-AMS-MML_SVG\"></script><script type=\"text/javascript\">if (window.MathJax) {MathJax.Hub.Config({SVG: {font: \"STIX-Web\"}});}</script>\n",
              "                <script type=\"text/javascript\">window.PlotlyConfig = {MathJaxConfig: 'local'};</script>\n",
              "        <script src=\"https://cdn.plot.ly/plotly-latest.min.js\"></script>    \n",
              "            <div id=\"ef091fe5-c55e-43aa-987b-93872d363e8a\" class=\"plotly-graph-div\" style=\"height:400px; width:750px;\"></div>\n",
              "            <script type=\"text/javascript\">\n",
              "                \n",
              "                    window.PLOTLYENV=window.PLOTLYENV || {};\n",
              "                    \n",
              "                if (document.getElementById(\"ef091fe5-c55e-43aa-987b-93872d363e8a\")) {\n",
              "                    Plotly.newPlot(\n",
              "                        'ef091fe5-c55e-43aa-987b-93872d363e8a',\n",
              "                        [{\"alignmentgroup\": \"True\", \"hoverlabel\": {\"namelength\": 0}, \"hovertemplate\": \"date=%{x}<br>datetime=%{y}<br>date_text=%{text}\", \"legendgroup\": \"\", \"marker\": {\"color\": \"#636efa\"}, \"name\": \"\", \"offsetgroup\": \"\", \"orientation\": \"v\", \"showlegend\": false, \"text\": [\"25.07\", \"26.07\", \"27.07\", \"28.07\", \"29.07\", \"30.07\", \"31.07\", \"01.08\", \"02.08\", \"03.08\", \"04.08\", \"05.08\", \"06.08\", \"07.08\"], \"textposition\": \"outside\", \"type\": \"bar\", \"x\": [\"2019-07-25T00:00:00\", \"2019-07-26T00:00:00\", \"2019-07-27T00:00:00\", \"2019-07-28T00:00:00\", \"2019-07-29T00:00:00\", \"2019-07-30T00:00:00\", \"2019-07-31T00:00:00\", \"2019-08-01T00:00:00\", \"2019-08-02T00:00:00\", \"2019-08-03T00:00:00\", \"2019-08-04T00:00:00\", \"2019-08-05T00:00:00\", \"2019-08-06T00:00:00\", \"2019-08-07T00:00:00\"], \"xaxis\": \"x\", \"y\": [9, 31, 55, 105, 184, 412, 2030, 36141, 35554, 33282, 32968, 36058, 35788, 31096], \"yaxis\": \"y\"}],\n",
              "                        {\"barmode\": \"relative\", \"height\": 400, \"legend\": {\"tracegroupgap\": 0}, \"margin\": {\"t\": 60}, \"template\": {\"data\": {\"bar\": [{\"error_x\": {\"color\": \"#2a3f5f\"}, \"error_y\": {\"color\": \"#2a3f5f\"}, \"marker\": {\"line\": {\"color\": \"#E5ECF6\", \"width\": 0.5}}, \"type\": \"bar\"}], \"barpolar\": [{\"marker\": {\"line\": {\"color\": \"#E5ECF6\", \"width\": 0.5}}, \"type\": \"barpolar\"}], \"carpet\": [{\"aaxis\": {\"endlinecolor\": \"#2a3f5f\", \"gridcolor\": \"white\", \"linecolor\": \"white\", \"minorgridcolor\": \"white\", \"startlinecolor\": \"#2a3f5f\"}, \"baxis\": {\"endlinecolor\": \"#2a3f5f\", \"gridcolor\": \"white\", \"linecolor\": \"white\", \"minorgridcolor\": \"white\", \"startlinecolor\": \"#2a3f5f\"}, \"type\": \"carpet\"}], \"choropleth\": [{\"colorbar\": {\"outlinewidth\": 0, \"ticks\": \"\"}, \"type\": \"choropleth\"}], \"contour\": [{\"colorbar\": {\"outlinewidth\": 0, \"ticks\": \"\"}, \"colorscale\": [[0.0, \"#0d0887\"], [0.1111111111111111, \"#46039f\"], [0.2222222222222222, \"#7201a8\"], [0.3333333333333333, \"#9c179e\"], [0.4444444444444444, \"#bd3786\"], [0.5555555555555556, \"#d8576b\"], [0.6666666666666666, \"#ed7953\"], [0.7777777777777778, \"#fb9f3a\"], [0.8888888888888888, \"#fdca26\"], [1.0, \"#f0f921\"]], \"type\": \"contour\"}], \"contourcarpet\": [{\"colorbar\": {\"outlinewidth\": 0, \"ticks\": \"\"}, \"type\": \"contourcarpet\"}], \"heatmap\": [{\"colorbar\": {\"outlinewidth\": 0, \"ticks\": \"\"}, \"colorscale\": [[0.0, \"#0d0887\"], [0.1111111111111111, \"#46039f\"], [0.2222222222222222, \"#7201a8\"], [0.3333333333333333, \"#9c179e\"], [0.4444444444444444, \"#bd3786\"], [0.5555555555555556, \"#d8576b\"], [0.6666666666666666, \"#ed7953\"], [0.7777777777777778, \"#fb9f3a\"], [0.8888888888888888, \"#fdca26\"], [1.0, \"#f0f921\"]], \"type\": \"heatmap\"}], \"heatmapgl\": [{\"colorbar\": {\"outlinewidth\": 0, \"ticks\": \"\"}, \"colorscale\": [[0.0, \"#0d0887\"], [0.1111111111111111, \"#46039f\"], [0.2222222222222222, \"#7201a8\"], [0.3333333333333333, \"#9c179e\"], [0.4444444444444444, \"#bd3786\"], [0.5555555555555556, \"#d8576b\"], [0.6666666666666666, \"#ed7953\"], [0.7777777777777778, \"#fb9f3a\"], [0.8888888888888888, \"#fdca26\"], [1.0, \"#f0f921\"]], \"type\": \"heatmapgl\"}], \"histogram\": [{\"marker\": {\"colorbar\": {\"outlinewidth\": 0, \"ticks\": \"\"}}, \"type\": \"histogram\"}], \"histogram2d\": [{\"colorbar\": {\"outlinewidth\": 0, \"ticks\": \"\"}, \"colorscale\": [[0.0, \"#0d0887\"], [0.1111111111111111, \"#46039f\"], [0.2222222222222222, \"#7201a8\"], [0.3333333333333333, \"#9c179e\"], [0.4444444444444444, \"#bd3786\"], [0.5555555555555556, \"#d8576b\"], [0.6666666666666666, \"#ed7953\"], [0.7777777777777778, \"#fb9f3a\"], [0.8888888888888888, \"#fdca26\"], [1.0, \"#f0f921\"]], \"type\": \"histogram2d\"}], \"histogram2dcontour\": [{\"colorbar\": {\"outlinewidth\": 0, \"ticks\": \"\"}, \"colorscale\": [[0.0, \"#0d0887\"], [0.1111111111111111, \"#46039f\"], [0.2222222222222222, \"#7201a8\"], [0.3333333333333333, \"#9c179e\"], [0.4444444444444444, \"#bd3786\"], [0.5555555555555556, \"#d8576b\"], [0.6666666666666666, \"#ed7953\"], [0.7777777777777778, \"#fb9f3a\"], [0.8888888888888888, \"#fdca26\"], [1.0, \"#f0f921\"]], \"type\": \"histogram2dcontour\"}], \"mesh3d\": [{\"colorbar\": {\"outlinewidth\": 0, \"ticks\": \"\"}, \"type\": \"mesh3d\"}], \"parcoords\": [{\"line\": {\"colorbar\": {\"outlinewidth\": 0, \"ticks\": \"\"}}, \"type\": \"parcoords\"}], \"pie\": [{\"automargin\": true, \"type\": \"pie\"}], \"scatter\": [{\"marker\": {\"colorbar\": {\"outlinewidth\": 0, \"ticks\": \"\"}}, \"type\": \"scatter\"}], \"scatter3d\": [{\"line\": {\"colorbar\": {\"outlinewidth\": 0, \"ticks\": \"\"}}, \"marker\": {\"colorbar\": {\"outlinewidth\": 0, \"ticks\": \"\"}}, \"type\": \"scatter3d\"}], \"scattercarpet\": [{\"marker\": {\"colorbar\": {\"outlinewidth\": 0, \"ticks\": \"\"}}, \"type\": \"scattercarpet\"}], \"scattergeo\": [{\"marker\": {\"colorbar\": {\"outlinewidth\": 0, \"ticks\": \"\"}}, \"type\": \"scattergeo\"}], \"scattergl\": [{\"marker\": {\"colorbar\": {\"outlinewidth\": 0, \"ticks\": \"\"}}, \"type\": \"scattergl\"}], \"scattermapbox\": [{\"marker\": {\"colorbar\": {\"outlinewidth\": 0, \"ticks\": \"\"}}, \"type\": \"scattermapbox\"}], \"scatterpolar\": [{\"marker\": {\"colorbar\": {\"outlinewidth\": 0, \"ticks\": \"\"}}, \"type\": \"scatterpolar\"}], \"scatterpolargl\": [{\"marker\": {\"colorbar\": {\"outlinewidth\": 0, \"ticks\": \"\"}}, \"type\": \"scatterpolargl\"}], \"scatterternary\": [{\"marker\": {\"colorbar\": {\"outlinewidth\": 0, \"ticks\": \"\"}}, \"type\": \"scatterternary\"}], \"surface\": [{\"colorbar\": {\"outlinewidth\": 0, \"ticks\": \"\"}, \"colorscale\": [[0.0, \"#0d0887\"], [0.1111111111111111, \"#46039f\"], [0.2222222222222222, \"#7201a8\"], [0.3333333333333333, \"#9c179e\"], [0.4444444444444444, \"#bd3786\"], [0.5555555555555556, \"#d8576b\"], [0.6666666666666666, \"#ed7953\"], [0.7777777777777778, \"#fb9f3a\"], [0.8888888888888888, \"#fdca26\"], [1.0, \"#f0f921\"]], \"type\": \"surface\"}], \"table\": [{\"cells\": {\"fill\": {\"color\": \"#EBF0F8\"}, \"line\": {\"color\": \"white\"}}, \"header\": {\"fill\": {\"color\": \"#C8D4E3\"}, \"line\": {\"color\": \"white\"}}, \"type\": \"table\"}]}, \"layout\": {\"annotationdefaults\": {\"arrowcolor\": \"#2a3f5f\", \"arrowhead\": 0, \"arrowwidth\": 1}, \"coloraxis\": {\"colorbar\": {\"outlinewidth\": 0, \"ticks\": \"\"}}, \"colorscale\": {\"diverging\": [[0, \"#8e0152\"], [0.1, \"#c51b7d\"], [0.2, \"#de77ae\"], [0.3, \"#f1b6da\"], [0.4, \"#fde0ef\"], [0.5, \"#f7f7f7\"], [0.6, \"#e6f5d0\"], [0.7, \"#b8e186\"], [0.8, \"#7fbc41\"], [0.9, \"#4d9221\"], [1, \"#276419\"]], \"sequential\": [[0.0, \"#0d0887\"], [0.1111111111111111, \"#46039f\"], [0.2222222222222222, \"#7201a8\"], [0.3333333333333333, \"#9c179e\"], [0.4444444444444444, \"#bd3786\"], [0.5555555555555556, \"#d8576b\"], [0.6666666666666666, \"#ed7953\"], [0.7777777777777778, \"#fb9f3a\"], [0.8888888888888888, \"#fdca26\"], [1.0, \"#f0f921\"]], \"sequentialminus\": [[0.0, \"#0d0887\"], [0.1111111111111111, \"#46039f\"], [0.2222222222222222, \"#7201a8\"], [0.3333333333333333, \"#9c179e\"], [0.4444444444444444, \"#bd3786\"], [0.5555555555555556, \"#d8576b\"], [0.6666666666666666, \"#ed7953\"], [0.7777777777777778, \"#fb9f3a\"], [0.8888888888888888, \"#fdca26\"], [1.0, \"#f0f921\"]]}, \"colorway\": [\"#636efa\", \"#EF553B\", \"#00cc96\", \"#ab63fa\", \"#FFA15A\", \"#19d3f3\", \"#FF6692\", \"#B6E880\", \"#FF97FF\", \"#FECB52\"], \"font\": {\"color\": \"#2a3f5f\"}, \"geo\": {\"bgcolor\": \"white\", \"lakecolor\": \"white\", \"landcolor\": \"#E5ECF6\", \"showlakes\": true, \"showland\": true, \"subunitcolor\": \"white\"}, \"hoverlabel\": {\"align\": \"left\"}, \"hovermode\": \"closest\", \"mapbox\": {\"style\": \"light\"}, \"paper_bgcolor\": \"white\", \"plot_bgcolor\": \"#E5ECF6\", \"polar\": {\"angularaxis\": {\"gridcolor\": \"white\", \"linecolor\": \"white\", \"ticks\": \"\"}, \"bgcolor\": \"#E5ECF6\", \"radialaxis\": {\"gridcolor\": \"white\", \"linecolor\": \"white\", \"ticks\": \"\"}}, \"scene\": {\"xaxis\": {\"backgroundcolor\": \"#E5ECF6\", \"gridcolor\": \"white\", \"gridwidth\": 2, \"linecolor\": \"white\", \"showbackground\": true, \"ticks\": \"\", \"zerolinecolor\": \"white\"}, \"yaxis\": {\"backgroundcolor\": \"#E5ECF6\", \"gridcolor\": \"white\", \"gridwidth\": 2, \"linecolor\": \"white\", \"showbackground\": true, \"ticks\": \"\", \"zerolinecolor\": \"white\"}, \"zaxis\": {\"backgroundcolor\": \"#E5ECF6\", \"gridcolor\": \"white\", \"gridwidth\": 2, \"linecolor\": \"white\", \"showbackground\": true, \"ticks\": \"\", \"zerolinecolor\": \"white\"}}, \"shapedefaults\": {\"line\": {\"color\": \"#2a3f5f\"}}, \"ternary\": {\"aaxis\": {\"gridcolor\": \"white\", \"linecolor\": \"white\", \"ticks\": \"\"}, \"baxis\": {\"gridcolor\": \"white\", \"linecolor\": \"white\", \"ticks\": \"\"}, \"bgcolor\": \"#E5ECF6\", \"caxis\": {\"gridcolor\": \"white\", \"linecolor\": \"white\", \"ticks\": \"\"}}, \"title\": {\"x\": 0.05}, \"xaxis\": {\"automargin\": true, \"gridcolor\": \"white\", \"linecolor\": \"white\", \"ticks\": \"\", \"title\": {\"standoff\": 15}, \"zerolinecolor\": \"white\", \"zerolinewidth\": 2}, \"yaxis\": {\"automargin\": true, \"gridcolor\": \"white\", \"linecolor\": \"white\", \"ticks\": \"\", \"title\": {\"standoff\": 15}, \"zerolinecolor\": \"white\", \"zerolinewidth\": 2}}}, \"title\": {\"text\": \"\\u0420\\u0430\\u0441\\u043f\\u0440\\u0435\\u0434\\u0435\\u043b\\u0435\\u043d\\u0438\\u0435 \\u043a\\u043e\\u043b\\u0438\\u0447\\u0435\\u0441\\u0442\\u0432\\u0430 \\u0441\\u043e\\u0431\\u044b\\u0442\\u0438\\u0439 \\u043f\\u043e \\u0434\\u043d\\u044f\\u043c\", \"x\": 0.5, \"xanchor\": \"center\"}, \"width\": 750, \"xaxis\": {\"anchor\": \"y\", \"domain\": [0.0, 1.0], \"title\": {\"text\": \"\\u0414\\u0430\\u0442\\u0430\"}}, \"yaxis\": {\"anchor\": \"x\", \"domain\": [0.0, 1.0], \"title\": {\"text\": \"\\u041a\\u043e\\u043b\\u0438\\u0447\\u0435\\u0441\\u0442\\u0432\\u043e \\u0441\\u043e\\u0431\\u044b\\u0442\\u0438\\u0439\"}}},\n",
              "                        {\"responsive\": true}\n",
              "                    ).then(function(){\n",
              "                            \n",
              "var gd = document.getElementById('ef091fe5-c55e-43aa-987b-93872d363e8a');\n",
              "var x = new MutationObserver(function (mutations, observer) {{\n",
              "        var display = window.getComputedStyle(gd).display;\n",
              "        if (!display || display === 'none') {{\n",
              "            console.log([gd, 'removed!']);\n",
              "            Plotly.purge(gd);\n",
              "            observer.disconnect();\n",
              "        }}\n",
              "}});\n",
              "\n",
              "// Listen for the removal of the full notebook cells\n",
              "var notebookContainer = gd.closest('#notebook-container');\n",
              "if (notebookContainer) {{\n",
              "    x.observe(notebookContainer, {childList: true});\n",
              "}}\n",
              "\n",
              "// Listen for the clearing of the current output cell\n",
              "var outputEl = gd.closest('.output');\n",
              "if (outputEl) {{\n",
              "    x.observe(outputEl, {childList: true});\n",
              "}}\n",
              "\n",
              "                        })\n",
              "                };\n",
              "                \n",
              "            </script>\n",
              "        </div>\n",
              "</body>\n",
              "</html>"
            ]
          },
          "metadata": {
            "tags": []
          }
        },
        {
          "output_type": "stream",
          "text": [
            "Полные данные у нас есть только за период с 1 по 7 августа включительно.\n",
            "Отбросим периоды, по которым данных недостаточно.\n"
          ],
          "name": "stdout"
        }
      ]
    },
    {
      "cell_type": "code",
      "metadata": {
        "id": "0b-Fp145zzHf",
        "colab_type": "code",
        "outputId": "529c49be-a03a-48f0-af69-ccd7402652d4",
        "colab": {
          "base_uri": "https://localhost:8080/",
          "height": 238
        }
      },
      "source": [
        "events_before_filtration = len(df)\n",
        "users_before_filtration = len(df.groupby('user_id')['date'].count())\n",
        "print('Событий до фильтрации: {}\\nПользователей до фильтрации: {}'\\\n",
        "     .format(events_before_filtration, users_before_filtration))\n",
        "df = df[(df['date']>='2019-08-01')]\n",
        "events_after_filtration = len(df)\n",
        "users_after_filtration = len(df.groupby('user_id')['date'].count())\n",
        "print('\\nСобытий после фильтрации: {} (-{:.2%})'\n",
        "      '\\nПользователей после фильтрации: {} (-{:.2%})\\n'\\\n",
        "     .format(events_after_filtration,\n",
        "             ((events_before_filtration-events_after_filtration)/events_before_filtration),\n",
        "             users_after_filtration,\n",
        "             ((users_before_filtration-users_after_filtration)/users_before_filtration)))\n",
        "df_grouped_by_groups = df.groupby('group_id', as_index=False).agg({'user_id':['nunique', 'count']})\n",
        "df_grouped_by_groups.columns = ['group_id', 'users', 'events']\n",
        "print('Кол-во событий и пользователей после фильтрации:\\n{}'.format(df_grouped_by_groups))\n",
        "print('\\nПосле фильтрации присутствуют события из всез трёх групп. Всё хорошо, идём дальше.')"
      ],
      "execution_count": 0,
      "outputs": [
        {
          "output_type": "stream",
          "text": [
            "Событий до фильтрации: 243713\n",
            "Пользователей до фильтрации: 7551\n",
            "\n",
            "Событий после фильтрации: 240887 (-1.16%)\n",
            "Пользователей после фильтрации: 7534 (-0.23%)\n",
            "\n",
            "Кол-во событий и пользователей после фильтрации:\n",
            "   group_id  users  events\n",
            "0       246   2484   79302\n",
            "1       247   2513   77022\n",
            "2       248   2537   84563\n",
            "\n",
            "После фильтрации присутствуют события из всез трёх групп. Всё хорошо, идём дальше.\n"
          ],
          "name": "stdout"
        }
      ]
    },
    {
      "cell_type": "markdown",
      "metadata": {
        "id": "YsP3HxG1zzHo",
        "colab_type": "text"
      },
      "source": [
        "<font color='blue'>Ок, процент вполне приемлимый, группы сопоставимы, можно переходить к анализу. </font>"
      ]
    },
    {
      "cell_type": "markdown",
      "metadata": {
        "id": "v_Q_Trc5zzHq",
        "colab_type": "text"
      },
      "source": [
        "<a id='funnel'></a>\n",
        "# Изучим воронку событий\n",
        "[*Назад к оглавлению*](#content)\n",
        "\n",
        "**Выполним по пунктам:**\n",
        "* Посмотрим, какие события есть в логах, как часто они встречаются. Отсортируем события по частоте.\n",
        "* Посчитаем, сколько пользователей совершали каждое из этих событий. Отсортируем события по числу пользователей.\n",
        "* Посчитаем долю пользователей, которые хоть раз совершали событие. \n",
        "* Предположим, в каком порядке происходят события. Все ли они выстраиваются в последовательную цепочку? Их не нужно учитывать при расчёте воронки. \n",
        "* По воронке событий посчитаем, какая доля пользователей проходит на следующий шаг воронки (от числа пользователей на предыдущем). То есть для последовательности событий A → B → C, посчитаем отношение числа пользователей с событием B к количеству пользователей с событием A. На каком шаге теряем больше всего пользователей? Какая доля пользователей доходит от первого события до оплаты?\n"
      ]
    },
    {
      "cell_type": "code",
      "metadata": {
        "id": "l2FACW3XzzHs",
        "colab_type": "code",
        "outputId": "01a30772-5966-4931-f44e-98af8482eacc",
        "colab": {
          "base_uri": "https://localhost:8080/",
          "height": 221
        }
      },
      "source": [
        "df_grouped_by_events = df.groupby('event', as_index=False).agg({'user_id':['count', 'nunique']})\n",
        "df_grouped_by_events.columns = ['event', 'events', 'users']\n",
        "df_grouped_by_events = df_grouped_by_events.sort_values(by='events', ascending=False)\n",
        "print('События, отсортированные по частоте и количеству пользователей:')\n",
        "df_grouped_by_events"
      ],
      "execution_count": 0,
      "outputs": [
        {
          "output_type": "stream",
          "text": [
            "События, отсортированные по частоте и количеству пользователей:\n"
          ],
          "name": "stdout"
        },
        {
          "output_type": "execute_result",
          "data": {
            "text/html": [
              "<div>\n",
              "<style scoped>\n",
              "    .dataframe tbody tr th:only-of-type {\n",
              "        vertical-align: middle;\n",
              "    }\n",
              "\n",
              "    .dataframe tbody tr th {\n",
              "        vertical-align: top;\n",
              "    }\n",
              "\n",
              "    .dataframe thead th {\n",
              "        text-align: right;\n",
              "    }\n",
              "</style>\n",
              "<table border=\"1\" class=\"dataframe\">\n",
              "  <thead>\n",
              "    <tr style=\"text-align: right;\">\n",
              "      <th></th>\n",
              "      <th>event</th>\n",
              "      <th>events</th>\n",
              "      <th>users</th>\n",
              "    </tr>\n",
              "  </thead>\n",
              "  <tbody>\n",
              "    <tr>\n",
              "      <th>1</th>\n",
              "      <td>MainScreenAppear</td>\n",
              "      <td>117328</td>\n",
              "      <td>7419</td>\n",
              "    </tr>\n",
              "    <tr>\n",
              "      <th>2</th>\n",
              "      <td>OffersScreenAppear</td>\n",
              "      <td>46333</td>\n",
              "      <td>4593</td>\n",
              "    </tr>\n",
              "    <tr>\n",
              "      <th>0</th>\n",
              "      <td>CartScreenAppear</td>\n",
              "      <td>42303</td>\n",
              "      <td>3734</td>\n",
              "    </tr>\n",
              "    <tr>\n",
              "      <th>3</th>\n",
              "      <td>PaymentScreenSuccessful</td>\n",
              "      <td>33918</td>\n",
              "      <td>3539</td>\n",
              "    </tr>\n",
              "    <tr>\n",
              "      <th>4</th>\n",
              "      <td>Tutorial</td>\n",
              "      <td>1005</td>\n",
              "      <td>840</td>\n",
              "    </tr>\n",
              "  </tbody>\n",
              "</table>\n",
              "</div>"
            ],
            "text/plain": [
              "                     event  events  users\n",
              "1         MainScreenAppear  117328   7419\n",
              "2       OffersScreenAppear   46333   4593\n",
              "0         CartScreenAppear   42303   3734\n",
              "3  PaymentScreenSuccessful   33918   3539\n",
              "4                 Tutorial    1005    840"
            ]
          },
          "metadata": {
            "tags": []
          },
          "execution_count": 8
        }
      ]
    },
    {
      "cell_type": "code",
      "metadata": {
        "id": "5iBMIrJozzH1",
        "colab_type": "code",
        "outputId": "3e8cdb1b-1281-4a96-b4cd-e10d266481b7",
        "colab": {
          "base_uri": "https://localhost:8080/",
          "height": 527
        }
      },
      "source": [
        "print('\\nКак мы видим из полученной таблицы, одно событие Tutorial не вписывается в нашу воронку.'\n",
        "     '\\nСудя по-всему это событие не обязательно для каждого пользователя и идёт первым или вторым по порядку исходя из логики.'\n",
        "     '\\nНе будем его учитывать в воронке.')\n",
        "\n",
        "df_grouped_by_events['part_of_users'] = (df_grouped_by_events['users']/df_grouped_by_events['users'].max()).round(2)\n",
        "df_grouped_by_events['part_of_last_event'] = 1 + df_grouped_by_events['users'].pct_change()\n",
        "events_funnel = df_grouped_by_events[df_grouped_by_events['event']!='Tutorial']\n",
        "print(events_funnel)\n",
        "print('\\nБольше всего пользователей теряем на первом шаге воронки MainScreenAppear - OffersScreenApppear.')\n",
        "print('До оплаты же доходит около 48% пользователей.')\n",
        "print('Но все ли из них прошли через каждый шаг?')\n",
        "print('\\nКакие события есть:')\n",
        "print('''MainScreenAppear - главный экран;\n",
        "Tutorial - экран с обучением;\n",
        "OffersScreenAppear - экран с товаром;\n",
        "CartScreenAppear - экран корзины;\n",
        "PaymentScreenSuccessful - экран успешной оплаты заказа.'''\n",
        ")\n",
        "\n",
        "events_per_user = df.pivot_table(index='user_id', values='group_id', columns='event', aggfunc='count')\\\n",
        "[['Tutorial', 'MainScreenAppear', 'OffersScreenAppear', 'CartScreenAppear', 'PaymentScreenSuccessful']].reset_index()\n",
        "\n",
        "#список купивших пользователей\n",
        "purchased_users_list = events_per_user[~events_per_user['PaymentScreenSuccessful'].isnull()]['user_id']\n",
        "#список не купивших пользователей\n",
        "not_purchased_users_list = events_per_user[events_per_user['PaymentScreenSuccessful'].isnull()]['user_id']\n",
        "\n",
        "events_by_all_users = df.groupby('event', as_index=False).agg({'user_id':'nunique'})\n",
        "events_by_all_users['percent_of_all'] = events_by_all_users['user_id'] / len(df.groupby('user_id'))\n",
        "events_by_all_users.columns = ['event', 'all_users', 'percent_of_all']\n",
        "\n",
        "events_by_purchased_users = df.query('user_id in @purchased_users_list').groupby('event', as_index=False).agg({'user_id':'nunique'})\n",
        "events_by_purchased_users['percent_of_purchased'] = events_by_purchased_users['user_id'] / len(df.query('user_id in @purchased_users_list').groupby('user_id'))\n",
        "events_by_purchased_users.columns = ['event', 'purchased_users', 'percent_of_purchased']\n",
        "\n",
        "events_by_not_purchased_users = df.query('user_id not in @purchased_users_list').groupby('event', as_index=False).agg({'user_id':'nunique'})\n",
        "events_by_not_purchased_users['percent_of_not_purchased'] = events_by_not_purchased_users['user_id'] / len(df.query('user_id not in @purchased_users_list').groupby('user_id'))\n",
        "events_by_not_purchased_users.columns = ['event', 'not_purchased_users', 'percent_of_not_purchased']\n",
        "\n",
        "events_by_users = events_by_all_users.merge(events_by_purchased_users, on='event')\n",
        "events_by_users = events_by_users.merge(events_by_not_purchased_users, how='left', on='event')\n",
        "events_by_users = events_by_users.sort_values(by='all_users', ascending = False)\n",
        "print('\\nДоля купивших пользователей, прошедших события:\\n{}\\n\\nКак мы видим, не каждый купивший клиент прошел через все этапы'.format(events_by_users[['event', 'purchased_users', 'percent_of_purchased']]))"
      ],
      "execution_count": 0,
      "outputs": [
        {
          "output_type": "stream",
          "text": [
            "\n",
            "Как мы видим из полученной таблицы, одно событие Tutorial не вписывается в нашу воронку.\n",
            "Судя по-всему это событие не обязательно для каждого пользователя и идёт первым или вторым по порядку исходя из логики.\n",
            "Не будем его учитывать в воронке.\n",
            "                     event  events  users  part_of_users  part_of_last_event\n",
            "1         MainScreenAppear  117328   7419           1.00                 NaN\n",
            "2       OffersScreenAppear   46333   4593           0.62            0.619086\n",
            "0         CartScreenAppear   42303   3734           0.50            0.812976\n",
            "3  PaymentScreenSuccessful   33918   3539           0.48            0.947777\n",
            "\n",
            "Больше всего пользователей теряем на первом шаге воронки MainScreenAppear - OffersScreenApppear.\n",
            "До оплаты же доходит около 48% пользователей.\n",
            "Но все ли из них прошли через каждый шаг?\n",
            "\n",
            "Какие события есть:\n",
            "MainScreenAppear - главный экран;\n",
            "Tutorial - экран с обучением;\n",
            "OffersScreenAppear - экран с товаром;\n",
            "CartScreenAppear - экран корзины;\n",
            "PaymentScreenSuccessful - экран успешной оплаты заказа.\n",
            "\n",
            "Доля купивших пользователей, прошедших события:\n",
            "                     event  purchased_users  percent_of_purchased\n",
            "1         MainScreenAppear             3441              0.972309\n",
            "2       OffersScreenAppear             3532              0.998022\n",
            "0         CartScreenAppear             3534              0.998587\n",
            "3  PaymentScreenSuccessful             3539              1.000000\n",
            "4                 Tutorial              467              0.131958\n",
            "\n",
            "Как мы видим, не каждый купивший клиент прошел через все этапы\n"
          ],
          "name": "stdout"
        }
      ]
    },
    {
      "cell_type": "code",
      "metadata": {
        "id": "QLkvXF61zzID",
        "colab_type": "code",
        "outputId": "3692498d-3b21-43bd-e67d-d7c988de6e08",
        "colab": {
          "base_uri": "https://localhost:8080/",
          "height": 542
        }
      },
      "source": [
        "purchased = copy.copy(events_by_purchased_users[:-1])\n",
        "purchased.columns = ['event', 'users', 'percent']\n",
        "purchased = purchased.loc[[1, 2, 0, 3]]\n",
        "purchased['event'] = [\"Посетителей\",\"Открыли страницу товара\", \"Перешли в корзину\", \"Оплатили\"]\n",
        "purchased['status'] = 'purchased'\n",
        "\n",
        "not_purchased = copy.copy(events_by_not_purchased_users[:-1])\n",
        "not_purchased = not_purchased.loc[[1, 2, 0]]\n",
        "not_purchased.columns = ['event', 'users', 'percent']\n",
        "not_purchased.loc[3] = ['PaymentScreenSuccessful', 0, 0]\n",
        "not_purchased['event'] = [\"Посетителей\",\"Открыли страницу товара\", \"Перешли в корзину\", \"Оплатили\"]\n",
        "not_purchased['status'] = 'not purchased'\n",
        "\n",
        "fig = go.Figure()\n",
        "fig.add_trace(go.Funnel(\n",
        "    name = 'Купившие посетители',\n",
        "    y = purchased['event'],\n",
        "    x = purchased['users'],\n",
        "    textinfo = \"value+percent previous\"))\n",
        "fig.add_trace(go.Funnel(\n",
        "    name = 'Не купившие посетители',\n",
        "    y = not_purchased['event'],\n",
        "    x = not_purchased['users'],\n",
        "    textinfo = \"value+percent previous\"))\n",
        "fig.update_layout(title={'text': \"Воронка событий\", 'xanchor': 'center', 'x':0.5, 'y':0.87})\n",
        "fig.show()"
      ],
      "execution_count": 0,
      "outputs": [
        {
          "output_type": "display_data",
          "data": {
            "text/html": [
              "<html>\n",
              "<head><meta charset=\"utf-8\" /></head>\n",
              "<body>\n",
              "    <div>\n",
              "            <script src=\"https://cdnjs.cloudflare.com/ajax/libs/mathjax/2.7.5/MathJax.js?config=TeX-AMS-MML_SVG\"></script><script type=\"text/javascript\">if (window.MathJax) {MathJax.Hub.Config({SVG: {font: \"STIX-Web\"}});}</script>\n",
              "                <script type=\"text/javascript\">window.PlotlyConfig = {MathJaxConfig: 'local'};</script>\n",
              "        <script src=\"https://cdn.plot.ly/plotly-latest.min.js\"></script>    \n",
              "            <div id=\"dd58d032-3a49-4efb-8c7f-808825f252ba\" class=\"plotly-graph-div\" style=\"height:525px; width:100%;\"></div>\n",
              "            <script type=\"text/javascript\">\n",
              "                \n",
              "                    window.PLOTLYENV=window.PLOTLYENV || {};\n",
              "                    \n",
              "                if (document.getElementById(\"dd58d032-3a49-4efb-8c7f-808825f252ba\")) {\n",
              "                    Plotly.newPlot(\n",
              "                        'dd58d032-3a49-4efb-8c7f-808825f252ba',\n",
              "                        [{\"name\": \"\\u041a\\u0443\\u043f\\u0438\\u0432\\u0448\\u0438\\u0435 \\u043f\\u043e\\u0441\\u0435\\u0442\\u0438\\u0442\\u0435\\u043b\\u0438\", \"textinfo\": \"value+percent previous\", \"type\": \"funnel\", \"x\": [3441, 3532, 3534, 3539], \"y\": [\"\\u041f\\u043e\\u0441\\u0435\\u0442\\u0438\\u0442\\u0435\\u043b\\u0435\\u0439\", \"\\u041e\\u0442\\u043a\\u0440\\u044b\\u043b\\u0438 \\u0441\\u0442\\u0440\\u0430\\u043d\\u0438\\u0446\\u0443 \\u0442\\u043e\\u0432\\u0430\\u0440\\u0430\", \"\\u041f\\u0435\\u0440\\u0435\\u0448\\u043b\\u0438 \\u0432 \\u043a\\u043e\\u0440\\u0437\\u0438\\u043d\\u0443\", \"\\u041e\\u043f\\u043b\\u0430\\u0442\\u0438\\u043b\\u0438\"]}, {\"name\": \"\\u041d\\u0435 \\u043a\\u0443\\u043f\\u0438\\u0432\\u0448\\u0438\\u0435 \\u043f\\u043e\\u0441\\u0435\\u0442\\u0438\\u0442\\u0435\\u043b\\u0438\", \"textinfo\": \"value+percent previous\", \"type\": \"funnel\", \"x\": [3978, 1061, 200, 0], \"y\": [\"\\u041f\\u043e\\u0441\\u0435\\u0442\\u0438\\u0442\\u0435\\u043b\\u0435\\u0439\", \"\\u041e\\u0442\\u043a\\u0440\\u044b\\u043b\\u0438 \\u0441\\u0442\\u0440\\u0430\\u043d\\u0438\\u0446\\u0443 \\u0442\\u043e\\u0432\\u0430\\u0440\\u0430\", \"\\u041f\\u0435\\u0440\\u0435\\u0448\\u043b\\u0438 \\u0432 \\u043a\\u043e\\u0440\\u0437\\u0438\\u043d\\u0443\", \"\\u041e\\u043f\\u043b\\u0430\\u0442\\u0438\\u043b\\u0438\"]}],\n",
              "                        {\"template\": {\"data\": {\"bar\": [{\"error_x\": {\"color\": \"#2a3f5f\"}, \"error_y\": {\"color\": \"#2a3f5f\"}, \"marker\": {\"line\": {\"color\": \"#E5ECF6\", \"width\": 0.5}}, \"type\": \"bar\"}], \"barpolar\": [{\"marker\": {\"line\": {\"color\": \"#E5ECF6\", \"width\": 0.5}}, \"type\": \"barpolar\"}], \"carpet\": [{\"aaxis\": {\"endlinecolor\": \"#2a3f5f\", \"gridcolor\": \"white\", \"linecolor\": \"white\", \"minorgridcolor\": \"white\", \"startlinecolor\": \"#2a3f5f\"}, \"baxis\": {\"endlinecolor\": \"#2a3f5f\", \"gridcolor\": \"white\", \"linecolor\": \"white\", \"minorgridcolor\": \"white\", \"startlinecolor\": \"#2a3f5f\"}, \"type\": \"carpet\"}], \"choropleth\": [{\"colorbar\": {\"outlinewidth\": 0, \"ticks\": \"\"}, \"type\": \"choropleth\"}], \"contour\": [{\"colorbar\": {\"outlinewidth\": 0, \"ticks\": \"\"}, \"colorscale\": [[0.0, \"#0d0887\"], [0.1111111111111111, \"#46039f\"], [0.2222222222222222, \"#7201a8\"], [0.3333333333333333, \"#9c179e\"], [0.4444444444444444, \"#bd3786\"], [0.5555555555555556, \"#d8576b\"], [0.6666666666666666, \"#ed7953\"], [0.7777777777777778, \"#fb9f3a\"], [0.8888888888888888, \"#fdca26\"], [1.0, \"#f0f921\"]], \"type\": \"contour\"}], \"contourcarpet\": [{\"colorbar\": {\"outlinewidth\": 0, \"ticks\": \"\"}, \"type\": \"contourcarpet\"}], \"heatmap\": [{\"colorbar\": {\"outlinewidth\": 0, \"ticks\": \"\"}, \"colorscale\": [[0.0, \"#0d0887\"], [0.1111111111111111, \"#46039f\"], [0.2222222222222222, \"#7201a8\"], [0.3333333333333333, \"#9c179e\"], [0.4444444444444444, \"#bd3786\"], [0.5555555555555556, \"#d8576b\"], [0.6666666666666666, \"#ed7953\"], [0.7777777777777778, \"#fb9f3a\"], [0.8888888888888888, \"#fdca26\"], [1.0, \"#f0f921\"]], \"type\": \"heatmap\"}], \"heatmapgl\": [{\"colorbar\": {\"outlinewidth\": 0, \"ticks\": \"\"}, \"colorscale\": [[0.0, \"#0d0887\"], [0.1111111111111111, \"#46039f\"], [0.2222222222222222, \"#7201a8\"], [0.3333333333333333, \"#9c179e\"], [0.4444444444444444, \"#bd3786\"], [0.5555555555555556, \"#d8576b\"], [0.6666666666666666, \"#ed7953\"], [0.7777777777777778, \"#fb9f3a\"], [0.8888888888888888, \"#fdca26\"], [1.0, \"#f0f921\"]], \"type\": \"heatmapgl\"}], \"histogram\": [{\"marker\": {\"colorbar\": {\"outlinewidth\": 0, \"ticks\": \"\"}}, \"type\": \"histogram\"}], \"histogram2d\": [{\"colorbar\": {\"outlinewidth\": 0, \"ticks\": \"\"}, \"colorscale\": [[0.0, \"#0d0887\"], [0.1111111111111111, \"#46039f\"], [0.2222222222222222, \"#7201a8\"], [0.3333333333333333, \"#9c179e\"], [0.4444444444444444, \"#bd3786\"], [0.5555555555555556, \"#d8576b\"], [0.6666666666666666, \"#ed7953\"], [0.7777777777777778, \"#fb9f3a\"], [0.8888888888888888, \"#fdca26\"], [1.0, \"#f0f921\"]], \"type\": \"histogram2d\"}], \"histogram2dcontour\": [{\"colorbar\": {\"outlinewidth\": 0, \"ticks\": \"\"}, \"colorscale\": [[0.0, \"#0d0887\"], [0.1111111111111111, \"#46039f\"], [0.2222222222222222, \"#7201a8\"], [0.3333333333333333, \"#9c179e\"], [0.4444444444444444, \"#bd3786\"], [0.5555555555555556, \"#d8576b\"], [0.6666666666666666, \"#ed7953\"], [0.7777777777777778, \"#fb9f3a\"], [0.8888888888888888, \"#fdca26\"], [1.0, \"#f0f921\"]], \"type\": \"histogram2dcontour\"}], \"mesh3d\": [{\"colorbar\": {\"outlinewidth\": 0, \"ticks\": \"\"}, \"type\": \"mesh3d\"}], \"parcoords\": [{\"line\": {\"colorbar\": {\"outlinewidth\": 0, \"ticks\": \"\"}}, \"type\": \"parcoords\"}], \"pie\": [{\"automargin\": true, \"type\": \"pie\"}], \"scatter\": [{\"marker\": {\"colorbar\": {\"outlinewidth\": 0, \"ticks\": \"\"}}, \"type\": \"scatter\"}], \"scatter3d\": [{\"line\": {\"colorbar\": {\"outlinewidth\": 0, \"ticks\": \"\"}}, \"marker\": {\"colorbar\": {\"outlinewidth\": 0, \"ticks\": \"\"}}, \"type\": \"scatter3d\"}], \"scattercarpet\": [{\"marker\": {\"colorbar\": {\"outlinewidth\": 0, \"ticks\": \"\"}}, \"type\": \"scattercarpet\"}], \"scattergeo\": [{\"marker\": {\"colorbar\": {\"outlinewidth\": 0, \"ticks\": \"\"}}, \"type\": \"scattergeo\"}], \"scattergl\": [{\"marker\": {\"colorbar\": {\"outlinewidth\": 0, \"ticks\": \"\"}}, \"type\": \"scattergl\"}], \"scattermapbox\": [{\"marker\": {\"colorbar\": {\"outlinewidth\": 0, \"ticks\": \"\"}}, \"type\": \"scattermapbox\"}], \"scatterpolar\": [{\"marker\": {\"colorbar\": {\"outlinewidth\": 0, \"ticks\": \"\"}}, \"type\": \"scatterpolar\"}], \"scatterpolargl\": [{\"marker\": {\"colorbar\": {\"outlinewidth\": 0, \"ticks\": \"\"}}, \"type\": \"scatterpolargl\"}], \"scatterternary\": [{\"marker\": {\"colorbar\": {\"outlinewidth\": 0, \"ticks\": \"\"}}, \"type\": \"scatterternary\"}], \"surface\": [{\"colorbar\": {\"outlinewidth\": 0, \"ticks\": \"\"}, \"colorscale\": [[0.0, \"#0d0887\"], [0.1111111111111111, \"#46039f\"], [0.2222222222222222, \"#7201a8\"], [0.3333333333333333, \"#9c179e\"], [0.4444444444444444, \"#bd3786\"], [0.5555555555555556, \"#d8576b\"], [0.6666666666666666, \"#ed7953\"], [0.7777777777777778, \"#fb9f3a\"], [0.8888888888888888, \"#fdca26\"], [1.0, \"#f0f921\"]], \"type\": \"surface\"}], \"table\": [{\"cells\": {\"fill\": {\"color\": \"#EBF0F8\"}, \"line\": {\"color\": \"white\"}}, \"header\": {\"fill\": {\"color\": \"#C8D4E3\"}, \"line\": {\"color\": \"white\"}}, \"type\": \"table\"}]}, \"layout\": {\"annotationdefaults\": {\"arrowcolor\": \"#2a3f5f\", \"arrowhead\": 0, \"arrowwidth\": 1}, \"coloraxis\": {\"colorbar\": {\"outlinewidth\": 0, \"ticks\": \"\"}}, \"colorscale\": {\"diverging\": [[0, \"#8e0152\"], [0.1, \"#c51b7d\"], [0.2, \"#de77ae\"], [0.3, \"#f1b6da\"], [0.4, \"#fde0ef\"], [0.5, \"#f7f7f7\"], [0.6, \"#e6f5d0\"], [0.7, \"#b8e186\"], [0.8, \"#7fbc41\"], [0.9, \"#4d9221\"], [1, \"#276419\"]], \"sequential\": [[0.0, \"#0d0887\"], [0.1111111111111111, \"#46039f\"], [0.2222222222222222, \"#7201a8\"], [0.3333333333333333, \"#9c179e\"], [0.4444444444444444, \"#bd3786\"], [0.5555555555555556, \"#d8576b\"], [0.6666666666666666, \"#ed7953\"], [0.7777777777777778, \"#fb9f3a\"], [0.8888888888888888, \"#fdca26\"], [1.0, \"#f0f921\"]], \"sequentialminus\": [[0.0, \"#0d0887\"], [0.1111111111111111, \"#46039f\"], [0.2222222222222222, \"#7201a8\"], [0.3333333333333333, \"#9c179e\"], [0.4444444444444444, \"#bd3786\"], [0.5555555555555556, \"#d8576b\"], [0.6666666666666666, \"#ed7953\"], [0.7777777777777778, \"#fb9f3a\"], [0.8888888888888888, \"#fdca26\"], [1.0, \"#f0f921\"]]}, \"colorway\": [\"#636efa\", \"#EF553B\", \"#00cc96\", \"#ab63fa\", \"#FFA15A\", \"#19d3f3\", \"#FF6692\", \"#B6E880\", \"#FF97FF\", \"#FECB52\"], \"font\": {\"color\": \"#2a3f5f\"}, \"geo\": {\"bgcolor\": \"white\", \"lakecolor\": \"white\", \"landcolor\": \"#E5ECF6\", \"showlakes\": true, \"showland\": true, \"subunitcolor\": \"white\"}, \"hoverlabel\": {\"align\": \"left\"}, \"hovermode\": \"closest\", \"mapbox\": {\"style\": \"light\"}, \"paper_bgcolor\": \"white\", \"plot_bgcolor\": \"#E5ECF6\", \"polar\": {\"angularaxis\": {\"gridcolor\": \"white\", \"linecolor\": \"white\", \"ticks\": \"\"}, \"bgcolor\": \"#E5ECF6\", \"radialaxis\": {\"gridcolor\": \"white\", \"linecolor\": \"white\", \"ticks\": \"\"}}, \"scene\": {\"xaxis\": {\"backgroundcolor\": \"#E5ECF6\", \"gridcolor\": \"white\", \"gridwidth\": 2, \"linecolor\": \"white\", \"showbackground\": true, \"ticks\": \"\", \"zerolinecolor\": \"white\"}, \"yaxis\": {\"backgroundcolor\": \"#E5ECF6\", \"gridcolor\": \"white\", \"gridwidth\": 2, \"linecolor\": \"white\", \"showbackground\": true, \"ticks\": \"\", \"zerolinecolor\": \"white\"}, \"zaxis\": {\"backgroundcolor\": \"#E5ECF6\", \"gridcolor\": \"white\", \"gridwidth\": 2, \"linecolor\": \"white\", \"showbackground\": true, \"ticks\": \"\", \"zerolinecolor\": \"white\"}}, \"shapedefaults\": {\"line\": {\"color\": \"#2a3f5f\"}}, \"ternary\": {\"aaxis\": {\"gridcolor\": \"white\", \"linecolor\": \"white\", \"ticks\": \"\"}, \"baxis\": {\"gridcolor\": \"white\", \"linecolor\": \"white\", \"ticks\": \"\"}, \"bgcolor\": \"#E5ECF6\", \"caxis\": {\"gridcolor\": \"white\", \"linecolor\": \"white\", \"ticks\": \"\"}}, \"title\": {\"x\": 0.05}, \"xaxis\": {\"automargin\": true, \"gridcolor\": \"white\", \"linecolor\": \"white\", \"ticks\": \"\", \"title\": {\"standoff\": 15}, \"zerolinecolor\": \"white\", \"zerolinewidth\": 2}, \"yaxis\": {\"automargin\": true, \"gridcolor\": \"white\", \"linecolor\": \"white\", \"ticks\": \"\", \"title\": {\"standoff\": 15}, \"zerolinecolor\": \"white\", \"zerolinewidth\": 2}}}, \"title\": {\"text\": \"\\u0412\\u043e\\u0440\\u043e\\u043d\\u043a\\u0430 \\u0441\\u043e\\u0431\\u044b\\u0442\\u0438\\u0439\", \"x\": 0.5, \"xanchor\": \"center\", \"y\": 0.87}},\n",
              "                        {\"responsive\": true}\n",
              "                    ).then(function(){\n",
              "                            \n",
              "var gd = document.getElementById('dd58d032-3a49-4efb-8c7f-808825f252ba');\n",
              "var x = new MutationObserver(function (mutations, observer) {{\n",
              "        var display = window.getComputedStyle(gd).display;\n",
              "        if (!display || display === 'none') {{\n",
              "            console.log([gd, 'removed!']);\n",
              "            Plotly.purge(gd);\n",
              "            observer.disconnect();\n",
              "        }}\n",
              "}});\n",
              "\n",
              "// Listen for the removal of the full notebook cells\n",
              "var notebookContainer = gd.closest('#notebook-container');\n",
              "if (notebookContainer) {{\n",
              "    x.observe(notebookContainer, {childList: true});\n",
              "}}\n",
              "\n",
              "// Listen for the clearing of the current output cell\n",
              "var outputEl = gd.closest('.output');\n",
              "if (outputEl) {{\n",
              "    x.observe(outputEl, {childList: true});\n",
              "}}\n",
              "\n",
              "                        })\n",
              "                };\n",
              "                \n",
              "            </script>\n",
              "        </div>\n",
              "</body>\n",
              "</html>"
            ]
          },
          "metadata": {
            "tags": []
          }
        }
      ]
    },
    {
      "cell_type": "markdown",
      "metadata": {
        "id": "WcvK4Gu0zzIR",
        "colab_type": "text"
      },
      "source": [
        "<font color='blue'> Воронка рассчитана верно. Надо было посмотреть еще рассчитать и визуализировать долю пользователей на каждом этапе.Также надо было построить воронку без разделения, а только потом, если это интресно, с разделением на купивших и не купивших пользователей </font>\n",
        "\n",
        "<font color='#2b6ca3'>Не совсем понял - долю пользователей на каждом этапе от общего числа или от прошлого этапа? Они уже были посчитаны выше, вот снизу еще раз вставил таблицу, по ней мы и определили, что мы больше всего теряем на данном этапе пользователей - MainScreenAppear - OffersScreenAppear. \n",
        "\n",
        "Вот ниже сделал общую воронку с указанием процентов от предыдущего этапа.</font>"
      ]
    },
    {
      "cell_type": "code",
      "metadata": {
        "id": "RZlmMxuFzzIV",
        "colab_type": "code",
        "outputId": "acf524b2-5dc6-4e35-8754-7bc0380dc884",
        "colab": {
          "base_uri": "https://localhost:8080/",
          "height": 627
        }
      },
      "source": [
        "print(events_funnel)\n",
        "\n",
        "fig = go.Figure()\n",
        "fig.add_trace(go.Funnel(\n",
        "    y = events_funnel['event'],\n",
        "    x = events_funnel['users'],\n",
        "    textinfo = \"value+percent previous\"))\n",
        "fig.update_layout(title={'text': \"Воронка событий\", 'xanchor': 'center', 'x':0.5, 'y':0.87})\n",
        "fig.show()"
      ],
      "execution_count": 0,
      "outputs": [
        {
          "output_type": "stream",
          "text": [
            "                     event  events  users  part_of_users  part_of_last_event\n",
            "1         MainScreenAppear  117328   7419           1.00                 NaN\n",
            "2       OffersScreenAppear   46333   4593           0.62            0.619086\n",
            "0         CartScreenAppear   42303   3734           0.50            0.812976\n",
            "3  PaymentScreenSuccessful   33918   3539           0.48            0.947777\n"
          ],
          "name": "stdout"
        },
        {
          "output_type": "display_data",
          "data": {
            "text/html": [
              "<html>\n",
              "<head><meta charset=\"utf-8\" /></head>\n",
              "<body>\n",
              "    <div>\n",
              "            <script src=\"https://cdnjs.cloudflare.com/ajax/libs/mathjax/2.7.5/MathJax.js?config=TeX-AMS-MML_SVG\"></script><script type=\"text/javascript\">if (window.MathJax) {MathJax.Hub.Config({SVG: {font: \"STIX-Web\"}});}</script>\n",
              "                <script type=\"text/javascript\">window.PlotlyConfig = {MathJaxConfig: 'local'};</script>\n",
              "        <script src=\"https://cdn.plot.ly/plotly-latest.min.js\"></script>    \n",
              "            <div id=\"ac50f15a-18e4-4fa2-8f79-0c1a3294ffb6\" class=\"plotly-graph-div\" style=\"height:525px; width:100%;\"></div>\n",
              "            <script type=\"text/javascript\">\n",
              "                \n",
              "                    window.PLOTLYENV=window.PLOTLYENV || {};\n",
              "                    \n",
              "                if (document.getElementById(\"ac50f15a-18e4-4fa2-8f79-0c1a3294ffb6\")) {\n",
              "                    Plotly.newPlot(\n",
              "                        'ac50f15a-18e4-4fa2-8f79-0c1a3294ffb6',\n",
              "                        [{\"textinfo\": \"value+percent previous\", \"type\": \"funnel\", \"x\": [7419, 4593, 3734, 3539], \"y\": [\"MainScreenAppear\", \"OffersScreenAppear\", \"CartScreenAppear\", \"PaymentScreenSuccessful\"]}],\n",
              "                        {\"template\": {\"data\": {\"bar\": [{\"error_x\": {\"color\": \"#2a3f5f\"}, \"error_y\": {\"color\": \"#2a3f5f\"}, \"marker\": {\"line\": {\"color\": \"#E5ECF6\", \"width\": 0.5}}, \"type\": \"bar\"}], \"barpolar\": [{\"marker\": {\"line\": {\"color\": \"#E5ECF6\", \"width\": 0.5}}, \"type\": \"barpolar\"}], \"carpet\": [{\"aaxis\": {\"endlinecolor\": \"#2a3f5f\", \"gridcolor\": \"white\", \"linecolor\": \"white\", \"minorgridcolor\": \"white\", \"startlinecolor\": \"#2a3f5f\"}, \"baxis\": {\"endlinecolor\": \"#2a3f5f\", \"gridcolor\": \"white\", \"linecolor\": \"white\", \"minorgridcolor\": \"white\", \"startlinecolor\": \"#2a3f5f\"}, \"type\": \"carpet\"}], \"choropleth\": [{\"colorbar\": {\"outlinewidth\": 0, \"ticks\": \"\"}, \"type\": \"choropleth\"}], \"contour\": [{\"colorbar\": {\"outlinewidth\": 0, \"ticks\": \"\"}, \"colorscale\": [[0.0, \"#0d0887\"], [0.1111111111111111, \"#46039f\"], [0.2222222222222222, \"#7201a8\"], [0.3333333333333333, \"#9c179e\"], [0.4444444444444444, \"#bd3786\"], [0.5555555555555556, \"#d8576b\"], [0.6666666666666666, \"#ed7953\"], [0.7777777777777778, \"#fb9f3a\"], [0.8888888888888888, \"#fdca26\"], [1.0, \"#f0f921\"]], \"type\": \"contour\"}], \"contourcarpet\": [{\"colorbar\": {\"outlinewidth\": 0, \"ticks\": \"\"}, \"type\": \"contourcarpet\"}], \"heatmap\": [{\"colorbar\": {\"outlinewidth\": 0, \"ticks\": \"\"}, \"colorscale\": [[0.0, \"#0d0887\"], [0.1111111111111111, \"#46039f\"], [0.2222222222222222, \"#7201a8\"], [0.3333333333333333, \"#9c179e\"], [0.4444444444444444, \"#bd3786\"], [0.5555555555555556, \"#d8576b\"], [0.6666666666666666, \"#ed7953\"], [0.7777777777777778, \"#fb9f3a\"], [0.8888888888888888, \"#fdca26\"], [1.0, \"#f0f921\"]], \"type\": \"heatmap\"}], \"heatmapgl\": [{\"colorbar\": {\"outlinewidth\": 0, \"ticks\": \"\"}, \"colorscale\": [[0.0, \"#0d0887\"], [0.1111111111111111, \"#46039f\"], [0.2222222222222222, \"#7201a8\"], [0.3333333333333333, \"#9c179e\"], [0.4444444444444444, \"#bd3786\"], [0.5555555555555556, \"#d8576b\"], [0.6666666666666666, \"#ed7953\"], [0.7777777777777778, \"#fb9f3a\"], [0.8888888888888888, \"#fdca26\"], [1.0, \"#f0f921\"]], \"type\": \"heatmapgl\"}], \"histogram\": [{\"marker\": {\"colorbar\": {\"outlinewidth\": 0, \"ticks\": \"\"}}, \"type\": \"histogram\"}], \"histogram2d\": [{\"colorbar\": {\"outlinewidth\": 0, \"ticks\": \"\"}, \"colorscale\": [[0.0, \"#0d0887\"], [0.1111111111111111, \"#46039f\"], [0.2222222222222222, \"#7201a8\"], [0.3333333333333333, \"#9c179e\"], [0.4444444444444444, \"#bd3786\"], [0.5555555555555556, \"#d8576b\"], [0.6666666666666666, \"#ed7953\"], [0.7777777777777778, \"#fb9f3a\"], [0.8888888888888888, \"#fdca26\"], [1.0, \"#f0f921\"]], \"type\": \"histogram2d\"}], \"histogram2dcontour\": [{\"colorbar\": {\"outlinewidth\": 0, \"ticks\": \"\"}, \"colorscale\": [[0.0, \"#0d0887\"], [0.1111111111111111, \"#46039f\"], [0.2222222222222222, \"#7201a8\"], [0.3333333333333333, \"#9c179e\"], [0.4444444444444444, \"#bd3786\"], [0.5555555555555556, \"#d8576b\"], [0.6666666666666666, \"#ed7953\"], [0.7777777777777778, \"#fb9f3a\"], [0.8888888888888888, \"#fdca26\"], [1.0, \"#f0f921\"]], \"type\": \"histogram2dcontour\"}], \"mesh3d\": [{\"colorbar\": {\"outlinewidth\": 0, \"ticks\": \"\"}, \"type\": \"mesh3d\"}], \"parcoords\": [{\"line\": {\"colorbar\": {\"outlinewidth\": 0, \"ticks\": \"\"}}, \"type\": \"parcoords\"}], \"pie\": [{\"automargin\": true, \"type\": \"pie\"}], \"scatter\": [{\"marker\": {\"colorbar\": {\"outlinewidth\": 0, \"ticks\": \"\"}}, \"type\": \"scatter\"}], \"scatter3d\": [{\"line\": {\"colorbar\": {\"outlinewidth\": 0, \"ticks\": \"\"}}, \"marker\": {\"colorbar\": {\"outlinewidth\": 0, \"ticks\": \"\"}}, \"type\": \"scatter3d\"}], \"scattercarpet\": [{\"marker\": {\"colorbar\": {\"outlinewidth\": 0, \"ticks\": \"\"}}, \"type\": \"scattercarpet\"}], \"scattergeo\": [{\"marker\": {\"colorbar\": {\"outlinewidth\": 0, \"ticks\": \"\"}}, \"type\": \"scattergeo\"}], \"scattergl\": [{\"marker\": {\"colorbar\": {\"outlinewidth\": 0, \"ticks\": \"\"}}, \"type\": \"scattergl\"}], \"scattermapbox\": [{\"marker\": {\"colorbar\": {\"outlinewidth\": 0, \"ticks\": \"\"}}, \"type\": \"scattermapbox\"}], \"scatterpolar\": [{\"marker\": {\"colorbar\": {\"outlinewidth\": 0, \"ticks\": \"\"}}, \"type\": \"scatterpolar\"}], \"scatterpolargl\": [{\"marker\": {\"colorbar\": {\"outlinewidth\": 0, \"ticks\": \"\"}}, \"type\": \"scatterpolargl\"}], \"scatterternary\": [{\"marker\": {\"colorbar\": {\"outlinewidth\": 0, \"ticks\": \"\"}}, \"type\": \"scatterternary\"}], \"surface\": [{\"colorbar\": {\"outlinewidth\": 0, \"ticks\": \"\"}, \"colorscale\": [[0.0, \"#0d0887\"], [0.1111111111111111, \"#46039f\"], [0.2222222222222222, \"#7201a8\"], [0.3333333333333333, \"#9c179e\"], [0.4444444444444444, \"#bd3786\"], [0.5555555555555556, \"#d8576b\"], [0.6666666666666666, \"#ed7953\"], [0.7777777777777778, \"#fb9f3a\"], [0.8888888888888888, \"#fdca26\"], [1.0, \"#f0f921\"]], \"type\": \"surface\"}], \"table\": [{\"cells\": {\"fill\": {\"color\": \"#EBF0F8\"}, \"line\": {\"color\": \"white\"}}, \"header\": {\"fill\": {\"color\": \"#C8D4E3\"}, \"line\": {\"color\": \"white\"}}, \"type\": \"table\"}]}, \"layout\": {\"annotationdefaults\": {\"arrowcolor\": \"#2a3f5f\", \"arrowhead\": 0, \"arrowwidth\": 1}, \"coloraxis\": {\"colorbar\": {\"outlinewidth\": 0, \"ticks\": \"\"}}, \"colorscale\": {\"diverging\": [[0, \"#8e0152\"], [0.1, \"#c51b7d\"], [0.2, \"#de77ae\"], [0.3, \"#f1b6da\"], [0.4, \"#fde0ef\"], [0.5, \"#f7f7f7\"], [0.6, \"#e6f5d0\"], [0.7, \"#b8e186\"], [0.8, \"#7fbc41\"], [0.9, \"#4d9221\"], [1, \"#276419\"]], \"sequential\": [[0.0, \"#0d0887\"], [0.1111111111111111, \"#46039f\"], [0.2222222222222222, \"#7201a8\"], [0.3333333333333333, \"#9c179e\"], [0.4444444444444444, \"#bd3786\"], [0.5555555555555556, \"#d8576b\"], [0.6666666666666666, \"#ed7953\"], [0.7777777777777778, \"#fb9f3a\"], [0.8888888888888888, \"#fdca26\"], [1.0, \"#f0f921\"]], \"sequentialminus\": [[0.0, \"#0d0887\"], [0.1111111111111111, \"#46039f\"], [0.2222222222222222, \"#7201a8\"], [0.3333333333333333, \"#9c179e\"], [0.4444444444444444, \"#bd3786\"], [0.5555555555555556, \"#d8576b\"], [0.6666666666666666, \"#ed7953\"], [0.7777777777777778, \"#fb9f3a\"], [0.8888888888888888, \"#fdca26\"], [1.0, \"#f0f921\"]]}, \"colorway\": [\"#636efa\", \"#EF553B\", \"#00cc96\", \"#ab63fa\", \"#FFA15A\", \"#19d3f3\", \"#FF6692\", \"#B6E880\", \"#FF97FF\", \"#FECB52\"], \"font\": {\"color\": \"#2a3f5f\"}, \"geo\": {\"bgcolor\": \"white\", \"lakecolor\": \"white\", \"landcolor\": \"#E5ECF6\", \"showlakes\": true, \"showland\": true, \"subunitcolor\": \"white\"}, \"hoverlabel\": {\"align\": \"left\"}, \"hovermode\": \"closest\", \"mapbox\": {\"style\": \"light\"}, \"paper_bgcolor\": \"white\", \"plot_bgcolor\": \"#E5ECF6\", \"polar\": {\"angularaxis\": {\"gridcolor\": \"white\", \"linecolor\": \"white\", \"ticks\": \"\"}, \"bgcolor\": \"#E5ECF6\", \"radialaxis\": {\"gridcolor\": \"white\", \"linecolor\": \"white\", \"ticks\": \"\"}}, \"scene\": {\"xaxis\": {\"backgroundcolor\": \"#E5ECF6\", \"gridcolor\": \"white\", \"gridwidth\": 2, \"linecolor\": \"white\", \"showbackground\": true, \"ticks\": \"\", \"zerolinecolor\": \"white\"}, \"yaxis\": {\"backgroundcolor\": \"#E5ECF6\", \"gridcolor\": \"white\", \"gridwidth\": 2, \"linecolor\": \"white\", \"showbackground\": true, \"ticks\": \"\", \"zerolinecolor\": \"white\"}, \"zaxis\": {\"backgroundcolor\": \"#E5ECF6\", \"gridcolor\": \"white\", \"gridwidth\": 2, \"linecolor\": \"white\", \"showbackground\": true, \"ticks\": \"\", \"zerolinecolor\": \"white\"}}, \"shapedefaults\": {\"line\": {\"color\": \"#2a3f5f\"}}, \"ternary\": {\"aaxis\": {\"gridcolor\": \"white\", \"linecolor\": \"white\", \"ticks\": \"\"}, \"baxis\": {\"gridcolor\": \"white\", \"linecolor\": \"white\", \"ticks\": \"\"}, \"bgcolor\": \"#E5ECF6\", \"caxis\": {\"gridcolor\": \"white\", \"linecolor\": \"white\", \"ticks\": \"\"}}, \"title\": {\"x\": 0.05}, \"xaxis\": {\"automargin\": true, \"gridcolor\": \"white\", \"linecolor\": \"white\", \"ticks\": \"\", \"title\": {\"standoff\": 15}, \"zerolinecolor\": \"white\", \"zerolinewidth\": 2}, \"yaxis\": {\"automargin\": true, \"gridcolor\": \"white\", \"linecolor\": \"white\", \"ticks\": \"\", \"title\": {\"standoff\": 15}, \"zerolinecolor\": \"white\", \"zerolinewidth\": 2}}}, \"title\": {\"text\": \"\\u0412\\u043e\\u0440\\u043e\\u043d\\u043a\\u0430 \\u0441\\u043e\\u0431\\u044b\\u0442\\u0438\\u0439\", \"x\": 0.5, \"xanchor\": \"center\", \"y\": 0.87}},\n",
              "                        {\"responsive\": true}\n",
              "                    ).then(function(){\n",
              "                            \n",
              "var gd = document.getElementById('ac50f15a-18e4-4fa2-8f79-0c1a3294ffb6');\n",
              "var x = new MutationObserver(function (mutations, observer) {{\n",
              "        var display = window.getComputedStyle(gd).display;\n",
              "        if (!display || display === 'none') {{\n",
              "            console.log([gd, 'removed!']);\n",
              "            Plotly.purge(gd);\n",
              "            observer.disconnect();\n",
              "        }}\n",
              "}});\n",
              "\n",
              "// Listen for the removal of the full notebook cells\n",
              "var notebookContainer = gd.closest('#notebook-container');\n",
              "if (notebookContainer) {{\n",
              "    x.observe(notebookContainer, {childList: true});\n",
              "}}\n",
              "\n",
              "// Listen for the clearing of the current output cell\n",
              "var outputEl = gd.closest('.output');\n",
              "if (outputEl) {{\n",
              "    x.observe(outputEl, {childList: true});\n",
              "}}\n",
              "\n",
              "                        })\n",
              "                };\n",
              "                \n",
              "            </script>\n",
              "        </div>\n",
              "</body>\n",
              "</html>"
            ]
          },
          "metadata": {
            "tags": []
          }
        }
      ]
    },
    {
      "cell_type": "markdown",
      "metadata": {
        "id": "nZNFT-1pzzIg",
        "colab_type": "text"
      },
      "source": [
        "<font color='red'> Ок.  Имелась ввиду доля пользователей от общего числа. Доля от предыдущего этапа - это воронка. Дялее цитата из брифа  </font>\n",
        "\n",
        "       Посчитайте, сколько пользователей совершали каждое из этих событий. \n",
        "       \n",
        "       Отсортируйте события по числу пользователей. \n",
        "       \n",
        "       Посчитайте долю пользователей, которые хоть раз совершали событие"
      ]
    },
    {
      "cell_type": "markdown",
      "metadata": {
        "id": "zHeQ7ufWzzIh",
        "colab_type": "text"
      },
      "source": [
        "<a id='results'></a>\n",
        "# Изучим результаты эксперимента\n",
        "[*Назад к оглавлению*](#content)\n",
        "\n",
        "**Выполним по пунктам:**\n",
        "* Сколько пользователей в каждой экспериментальной группе?\n",
        "* Есть 2 контрольные группы для А/А-эксперимента, чтобы проверить корректность всех механизмов и расчётов. Проверьте, находят ли статистические критерии разницу между выборками 246 и 247.\n",
        "* Посчитайте долю пользователей, совершивших это событие. Проверьте, будет ли отличие между группами статистически достоверным. Проделайте то же самое для всех других событий (удобно обернуть проверку в отдельную функцию). Можно ли сказать, что разбиение на группы работает корректно?\n",
        "* Аналогично поступите с группой с изменённым шрифтом. Сравните результаты с каждой из контрольных групп в отдельности по каждому событию. Сравните результаты с объединённой контрольной группой. Какие выводы из эксперимента можно сделать?\n",
        "* Какой уровень значимости вы выбрали при проверке статистических гипотез выше? Посчитайте, сколько проверок статистических гипотез вы сделали. При уровне значимости 0.1 каждый десятый раз можно получать ложный результат. Какой уровень значимости стоит применить? Если вы хотите изменить его, проделайте предыдущие пункты и проверьте свои выводы."
      ]
    },
    {
      "cell_type": "code",
      "metadata": {
        "id": "HXFD5hEjzzIj",
        "colab_type": "code",
        "outputId": "d853fcd8-b393-47c0-add7-46a680034b80",
        "colab": {
          "base_uri": "https://localhost:8080/",
          "height": 102
        }
      },
      "source": [
        "print('Пользователей по группам:\\n{}'.format(df_grouped_by_groups[['group_id', 'users']]))"
      ],
      "execution_count": 0,
      "outputs": [
        {
          "output_type": "stream",
          "text": [
            "Пользователей по группам:\n",
            "   group_id  users\n",
            "0       246   2484\n",
            "1       247   2513\n",
            "2       248   2537\n"
          ],
          "name": "stdout"
        }
      ]
    },
    {
      "cell_type": "code",
      "metadata": {
        "id": "xfIuopP8zzIr",
        "colab_type": "code",
        "outputId": "bd84dc7b-28be-45db-c277-434b0e03e4ff",
        "colab": {
          "base_uri": "https://localhost:8080/",
          "height": 442
        }
      },
      "source": [
        "pd.options.display.expand_frame_repr = False\n",
        "event_parts_per_groups = df.pivot_table(index='event', values='user_id', columns='group_id', aggfunc='nunique').reset_index()\n",
        "event_parts_per_groups = event_parts_per_groups[:-1]\n",
        "users_by_group_246 = event_parts_per_groups[246].sum()\n",
        "users_by_group_247 = event_parts_per_groups[247].sum()\n",
        "users_by_group_248 = event_parts_per_groups[248].sum()\n",
        "event_parts_per_groups['246_247'] = event_parts_per_groups[246] + event_parts_per_groups[247]\n",
        "users_by_group_246_247 = event_parts_per_groups['246_247'].sum()\n",
        "event_parts_per_groups['246_part'] = event_parts_per_groups[246] / users_by_group_246\n",
        "event_parts_per_groups['247_part'] = event_parts_per_groups[247] / users_by_group_247\n",
        "event_parts_per_groups['248_part'] = event_parts_per_groups[248] / users_by_group_248\n",
        "event_parts_per_groups = event_parts_per_groups.set_index('event')\n",
        "event_parts_per_groups['246_247_part'] = event_parts_per_groups['246_247'] / users_by_group_246_247\n",
        "print(event_parts_per_groups)\n",
        "\n",
        "print('\\nПроверим нулевые гипотезы о том, что доли событий в группах 246 и 247 равны по-очередно:\\n')\n",
        "alpha =0.05\n",
        "\n",
        "def Z_test(index, group_1, group_2, part_1, part_2, number_1, number_2):\n",
        "    print('{}:'.format(index))\n",
        "    p1 = event_parts_per_groups[part_1][index]\n",
        "    p2 = event_parts_per_groups[part_2][index]\n",
        "    p = (event_parts_per_groups[group_1][index]+event_parts_per_groups[group_2][index])/\\\n",
        "    (users_by_group_246 + users_by_group_247)\n",
        "    n1 = number_1\n",
        "    n2 = number_2\n",
        "    z_value = (p1-p2)/mth.sqrt(p * (1-p) * (1/n1 + 1/n2))\n",
        "    distr = stats.norm(0, 1)\n",
        "    p_value = (1 - distr.cdf(abs(z_value))) * 2\n",
        "    print('p-значение: ', p_value)\n",
        "    if p_value < alpha:\n",
        "        print(\"Отвергаем нулевую гипотезу: между долями есть значимая разница\")\n",
        "    else:\n",
        "        print(\"Не получилось отвергнуть нулевую гипотезу, нет оснований считать доли разными\")\n",
        "\n",
        "Z_test('CartScreenAppear', 246, 247, '246_part', '247_part', users_by_group_246, users_by_group_247)\n",
        "Z_test('MainScreenAppear', 246, 247, '246_part', '247_part', users_by_group_246, users_by_group_247)\n",
        "Z_test('OffersScreenAppear', 246, 247, '246_part', '247_part', users_by_group_246, users_by_group_247)\n",
        "Z_test('PaymentScreenSuccessful', 246, 247, '246_part', '247_part', users_by_group_246, users_by_group_247)\n",
        "print('Разницы между группами 246 и 247 не обнаружено')\n",
        "\n",
        "if df.groupby('user_id').agg({'group_id':'nunique'}).sum()[0] == len(df.groupby('user_id').agg({'group_id':'nunique'})):\n",
        "    print('\\nПользователи разбиты на группы корректно, одних и тех же пользователей в нескольких'\n",
        "         '\\nгруппах одновременно не наблюдается.')"
      ],
      "execution_count": 0,
      "outputs": [
        {
          "output_type": "stream",
          "text": [
            "group_id                  246   247   248  246_247  246_part  247_part  248_part  246_247_part\n",
            "event                                                                                         \n",
            "CartScreenAppear         1266  1238  1230     2504  0.196036  0.193680  0.191142      0.194864\n",
            "MainScreenAppear         2450  2476  2493     4926  0.379374  0.387359  0.387413      0.383346\n",
            "OffersScreenAppear       1542  1520  1531     3062  0.238774  0.237797  0.237918      0.238288\n",
            "PaymentScreenSuccessful  1200  1158  1181     2358  0.185816  0.181164  0.183528      0.183502\n",
            "\n",
            "Проверим нулевые гипотезы о том, что доли событий в группах 246 и 247 равны по-очередно:\n",
            "\n",
            "CartScreenAppear:\n",
            "p-значение:  0.7359876852552283\n",
            "Не получилось отвергнуть нулевую гипотезу, нет оснований считать доли разными\n",
            "MainScreenAppear:\n",
            "p-значение:  0.35195027387494493\n",
            "Не получилось отвергнуть нулевую гипотезу, нет оснований считать доли разными\n",
            "OffersScreenAppear:\n",
            "p-значение:  0.8966517949162409\n",
            "Не получилось отвергнуть нулевую гипотезу, нет оснований считать доли разными\n",
            "PaymentScreenSuccessful:\n",
            "p-значение:  0.4957537491808677\n",
            "Не получилось отвергнуть нулевую гипотезу, нет оснований считать доли разными\n",
            "Разницы между группами 246 и 247 не обнаружено\n",
            "\n",
            "Пользователи разбиты на группы корректно, одних и тех же пользователей в нескольких\n",
            "группах одновременно не наблюдается.\n"
          ],
          "name": "stdout"
        }
      ]
    },
    {
      "cell_type": "markdown",
      "metadata": {
        "id": "nsti_Z1WzzI0",
        "colab_type": "text"
      },
      "source": [
        "<font color='blue'> Функция для проверки написана верно. </font>"
      ]
    },
    {
      "cell_type": "markdown",
      "metadata": {
        "id": "3xbnCmwPzzI1",
        "colab_type": "text"
      },
      "source": [
        "<font color='blue'> Хорошо, АА тест пройден, можно переходить к АВ тесту. </font>"
      ]
    },
    {
      "cell_type": "code",
      "metadata": {
        "id": "uPqOdD3yzzI3",
        "colab_type": "code",
        "outputId": "1a09e5f1-6d8f-4e99-9521-20b8da54d60e",
        "colab": {
          "base_uri": "https://localhost:8080/",
          "height": 1000
        }
      },
      "source": [
        "print('Сравним группу с измененным шрифтом 248 с контрольной группой 246')\n",
        "\n",
        "print('\\nПроверим нулевые гипотезы о том, что доли событий в группах 246 и 248 равны по-очередно:')\n",
        "alpha =0.05\n",
        "Z_test('CartScreenAppear', 246, 248, '246_part', '248_part', users_by_group_246, users_by_group_248)\n",
        "Z_test('MainScreenAppear', 246, 248, '246_part', '248_part', users_by_group_246, users_by_group_248)\n",
        "Z_test('OffersScreenAppear', 246, 248, '246_part', '248_part', users_by_group_246, users_by_group_248)\n",
        "Z_test('PaymentScreenSuccessful', 246, 248, '246_part', '248_part', users_by_group_246, users_by_group_248)\n",
        "print('\\nРазницы между группами 246 и 248 не обнаружено\\n\\n')\n",
        "\n",
        "print('Сравним группу с измененным шрифтом 248 с контрольной группой 247')\n",
        "\n",
        "print('\\nПроверим нулевые гипотезы о том, что доли событий в группах 247 и 248 равны по-очередно:')\n",
        "alpha =0.05\n",
        "Z_test('CartScreenAppear', 247, 248, '247_part', '248_part', users_by_group_247, users_by_group_248)\n",
        "Z_test('MainScreenAppear', 247, 248, '247_part', '248_part', users_by_group_247, users_by_group_248)\n",
        "Z_test('OffersScreenAppear', 247, 248, '247_part', '248_part', users_by_group_247, users_by_group_248)\n",
        "Z_test('PaymentScreenSuccessful', 247, 248, '247_part', '248_part', users_by_group_247, users_by_group_248)\n",
        "print('\\nРазницы между группами 247 и 248 не обнаружено\\n\\n')\n",
        "\n",
        "print('Сравним группу с измененным шрифтом 248 с объединенной контрольной группой 246-247')\n",
        "\n",
        "print('\\nПроверим нулевые гипотезы о том, что доли событий в группах 246-247 и 248 равны по-очередно:')\n",
        "alpha =0.05\n",
        "Z_test('CartScreenAppear', '246_247', 248, '246_247_part', '248_part', users_by_group_246_247, users_by_group_248)\n",
        "Z_test('MainScreenAppear', '246_247', 248, '246_247_part', '248_part', users_by_group_246_247, users_by_group_248)\n",
        "Z_test('OffersScreenAppear', '246_247', 248, '246_247_part', '248_part', users_by_group_246_247, users_by_group_248)\n",
        "Z_test('PaymentScreenSuccessful', '246_247', 248, '246_247_part', '248_part', users_by_group_246_247, users_by_group_248)\n",
        "print('\\nРазницы между объединенной группой 246-247 и 248 не обнаружено\\n\\n')\n",
        "\n",
        "print('\\nВ рамках множественного сравнения групп мы использовали критический уровень значимости 0.05.'\n",
        "     '\\nПри множественном тестировании иногда используют поправки критического уровня значимости (уменьшение его)'\n",
        "     '\\nдля снижения вероятности ошибки первого рода. В нашем случае p-value в каждом тесте достаточно высок,'\n",
        "     '\\nдля того, чтобы введение поправок критического уровня значимости было бессмысленным. Это не изменит результаты.'\n",
        "     '\\nБолее того никто в курсе так и не удосужился нам объянсить толково смысл этих поправок'\n",
        "     ' и ответить \\nна мои вопросы на этот счёт. Так что, я вообще не понимаю зачем они нам нужны до сих пор. Ересь полная.')"
      ],
      "execution_count": 0,
      "outputs": [
        {
          "output_type": "stream",
          "text": [
            "Сравним группу с измененным шрифтом 248 с контрольной группой 246\n",
            "\n",
            "Проверим нулевые гипотезы о том, что доли событий в группах 246 и 248 равны по-очередно:\n",
            "CartScreenAppear:\n",
            "p-значение:  0.4825014804387422\n",
            "Не получилось отвергнуть нулевую гипотезу, нет оснований считать доли разными\n",
            "MainScreenAppear:\n",
            "p-значение:  0.3482416320635866\n",
            "Не получилось отвергнуть нулевую гипотезу, нет оснований считать доли разными\n",
            "OffersScreenAppear:\n",
            "p-значение:  0.9092955840456791\n",
            "Не получилось отвергнуть нулевую гипотезу, нет оснований считать доли разными\n",
            "PaymentScreenSuccessful:\n",
            "p-значение:  0.7380812690877536\n",
            "Не получилось отвергнуть нулевую гипотезу, нет оснований считать доли разными\n",
            "\n",
            "Разницы между группами 246 и 248 не обнаружено\n",
            "\n",
            "\n",
            "Сравним группу с измененным шрифтом 248 с контрольной группой 247\n",
            "\n",
            "Проверим нулевые гипотезы о том, что доли событий в группах 247 и 248 равны по-очередно:\n",
            "CartScreenAppear:\n",
            "p-значение:  0.7152884920301557\n",
            "Не получилось отвергнуть нулевую гипотезу, нет оснований считать доли разными\n",
            "MainScreenAppear:\n",
            "p-значение:  0.9950467258338362\n",
            "Не получилось отвергнуть нулевую гипотезу, нет оснований считать доли разными\n",
            "OffersScreenAppear:\n",
            "p-значение:  0.987216844973783\n",
            "Не получилось отвергнуть нулевую гипотезу, нет оснований считать доли разными\n",
            "PaymentScreenSuccessful:\n",
            "p-значение:  0.7286838230483854\n",
            "Не получилось отвергнуть нулевую гипотезу, нет оснований считать доли разными\n",
            "\n",
            "Разницы между группами 247 и 248 не обнаружено\n",
            "\n",
            "\n",
            "Сравним группу с измененным шрифтом 248 с объединенной контрольной группой 246-247\n",
            "\n",
            "Проверим нулевые гипотезы о том, что доли событий в группах 246-247 и 248 равны по-очередно:\n",
            "CartScreenAppear:\n",
            "p-значение:  0.59144881065968\n",
            "Не получилось отвергнуть нулевую гипотезу, нет оснований считать доли разными\n",
            "MainScreenAppear:\n",
            "p-значение:  0.5898735880269661\n",
            "Не получилось отвергнуть нулевую гипотезу, нет оснований считать доли разными\n",
            "OffersScreenAppear:\n",
            "p-значение:  0.9596477191283197\n",
            "Не получилось отвергнуть нулевую гипотезу, нет оснований считать доли разными\n",
            "PaymentScreenSuccessful:\n",
            "p-значение:  0.997001500904831\n",
            "Не получилось отвергнуть нулевую гипотезу, нет оснований считать доли разными\n",
            "\n",
            "Разницы между объединенной группой 246-247 и 248 не обнаружено\n",
            "\n",
            "\n",
            "\n",
            "В рамках множественного сравнения групп мы использовали критический уровень значимости 0.05.\n",
            "При множественном тестировании иногда используют поправки критического уровня значимости (уменьшение его)\n",
            "для снижения вероятности ошибки первого рода. В нашем случае p-value в каждом тесте достаточно высок,\n",
            "для того, чтобы введение поправок критического уровня значимости было бессмысленным. Это не изменит результаты.\n",
            "Более того никто в курсе так и не удосужился нам объянсить толково смысл этих поправок и ответить \n",
            "на мои вопросы на этот счёт. Так что, я вообще не понимаю зачем они нам нужны до сих пор. Ересь полная.\n"
          ],
          "name": "stdout"
        }
      ]
    },
    {
      "cell_type": "markdown",
      "metadata": {
        "id": "TpVXbOi3zzJH",
        "colab_type": "text"
      },
      "source": [
        "<font color='blue'> Хорошо. Да гипотезы проверены правильно. </font>\n",
        "\n",
        "<font color='blue'> Выводы в целом верны, хотя все же надо рассчитать alpha с учетом поправок и только потом написать, что оно меньше 0.05 и меньше всех полученых p_value. </font>\n",
        "\n",
        "<font color='blue'> Продробнее прочитать про поправки можно, например, тут. </font>\n",
        "\n",
        "https://r-analytics.blogspot.com/2013/10/blog-post_13.html\n",
        "\n",
        "<font color='#2b6ca3'> Прочитал, спасибо! Я не понимаю применять их надо ко всем 16 тестам в рамках проекта или же тольво внутри групп, где проводятся по 4 тестирования. Ответов на этот вопрос нам не давали. \n",
        "Более того я сам задавал этот вопрос и мне обещали дать ответ от разработчиков, но увы. (во время прохождения теории этот момент я как раз и не понял).\n",
        "\n",
        "При увеличении количества абсолютно любых тестов, вероятность ошибки первого рода хотябы в одном из них будет увеличиваться - независимо от того, в рамках одного проекта тесты или же в рамках одной ГС или же в рамках одного дня, в который в научном институте было проведено 120 A/B тестов по разным темам. В случае с институтом за 1 этот день мы должны были бы совершить 6 ошибок первого рода в среднем.\n",
        "    \n",
        "Так вот учитывая этот факт непонятно когда надо применять эти поправки, а когда не надо. Почему их надо применять в группах но не применять вне групп? Что считать группой - одно исследование, одну группу из ГС или все группы из одной ГС? \n",
        "\n",
        "Более того я так же задавал разработчикам вопрос - уменьшая крит. уровень занчимости (alpha), мы увеличиваем вероятность ошибки второго рода. Но почему никто об этом не упоминает при множественном сравнении? Мы беспокоимся об ошибке первого рода, уменьшая её вероятность, увеличиваем вероятность ошибки второго рода. Отклонить крутое изменение не так страшно, как сделать бесполезное изменение, которое ничего не изменит? Ересь полная получается.  </font>"
      ]
    },
    {
      "cell_type": "markdown",
      "metadata": {
        "id": "5soqS_3yzzJK",
        "colab_type": "text"
      },
      "source": [
        "<font color='red'> Очень много вопросов связанго с процедурой проведения эксперимента и ответ на них будет разный при различных постановках эксперимента. Здесь речь идет не о том сколько дней мы проводим эксперимент и сколько еще идет эксперисентов в нашем офисе. Речь об одном конкретном проекте. Мы собрали для него несколько групп и хотим проверить сразу несколько гипотез, чтоб не собирать много раз данные - это затратно. Но тогда есть шанс, что одна проверка влияет на другую и именно это должна учитывать поправка </font>\n",
        "\n",
        "\n",
        "<font color='red'> Ты гне совсем точно формулируешь. Ошибка первого рода - принятие негативных изменений. Ошибка второго рода - отклонение позитивных. Да, для нас важнее исключить ошибку первого рода. Т.е принятие негативных изменений недопустимо. При этом возможно мы пропустим полезные изменения - за все надо платить. Негативные изменения не допустимы, т.к. они потратят наше время во вред и отпугнут пользователей. После этого можно сколько угодно делать положительные изменения, но пользователи уже ушли...  </font>\n",
        "\n",
        "\n",
        "<font color='red'> Поправки в даннном случае рассчтываются так  </font>\n",
        "\n",
        "\n"
      ]
    },
    {
      "cell_type": "markdown",
      "metadata": {
        "id": "_Rl5IjmhzzJP",
        "colab_type": "text"
      },
      "source": [
        "<a id='summary'></a>\n",
        "# Выводы\n",
        "[*Назад к оглавлению*](#content)\n",
        "\n",
        "На этапе подготовки данных мы выявили несущественное количество дублей строк и удалили их.\n",
        "\n",
        "Событий в логе: 240887\n",
        "Пользователей в логе: 7534\n",
        "В среднем событий на одного пользователя: 6\n",
        "\n",
        "Данные в логе были за период в 2 недели, но мы выяснили, что полноценные данные были лишь за неделю, поэтому неполноценные данные мы отсекли и взяли период с 1 по 7 августа. Количество данных уменьшилось несущественно.\n",
        "\n",
        "В нашу воронку из лога мы взяли 4 события из 5, так как событие Tutorial необязательно для пользователей и для нас не показательно. \n",
        "\n",
        "В нашей воронке по количеству события распологаются в логичном порядке:\n",
        "* MainScreenAppear - 117328 событий, 7419 пользователей, доля 1.00                \n",
        "* OffersScreenAppear - 46333 событий, 4593 пользователей, доля 0.62           \n",
        "* CartScreenAppear - 42303 событий, 3734 пользователей, доля 0.50            \n",
        "* PaymentScreenSuccessful - 33918 событий, 3539 пользователей, доля 0.48    \n",
        "\n",
        "Больше всего пользователей теряем на первом шаге воронки MainScreenAppear - OffersScreenApppear.\n",
        "До оплаты же доходит около 48% пользователей.\n",
        "\n",
        "Дополнительно мы выяснили, что купившие пользователи не обязательно проходили все предыдущие события до попадания на экран покупки, но доля таких пользователей не существенна, хотя и имеет место быть. Это может быть предметом обсуждения с коллегами.\n",
        "\n",
        "Критический уровень значимости перед проведением тестирований мы взяли 0.05.\n",
        "Перед A/B тестирование мы провели A/A тестирование групп 246 и 247, выяснилось что всё впорядке и распределение на группы было корректным.\n",
        "\n",
        "Мы провели A/B тестирование и не заметили статистически значимых отличий между контрольными группами и экспериментальной. \n",
        "\n",
        "Вывод - изменение шрифта не привело ни к каким статистически значимым отличиям.\n",
        "\n",
        "Проводя множественное сравнение при A/A и A/B тестированиях, мы не использовали никакие поправки критического уровня значимости, так как в этом не было никакого смысла - при уменьшении критического уровня значимости с помощью имеющихся поправок результаты тестирования не изменились бы, это видно из полученных p-value (минимальное p-value - 0.34).\n",
        "\n",
        "От себя:\n",
        "\n",
        "Нам УЖАСНО преподали тему Бонферони и других поправок. Толковых объяснений зачем их применять не было, кроме того, что чем больше экспериментов, то вероятность ошибки первого рода растет с их количеством. (это и ежу понятно, ток нафига это необходимо только при множественном сравнении, почему нельзя применять тогда при разных A/B тестах на разных ГС? Мне обещали уже очень давно дать ответ от разработчиков, но так и не дали.)"
      ]
    },
    {
      "cell_type": "markdown",
      "metadata": {
        "id": "zM1mJRHEzzJQ",
        "colab_type": "text"
      },
      "source": [
        "<font color='blue'> Ты проделал хорошую работу, но нужно немного доработать, а именно: отобразить джолю пользователей для каждого события, построить общую вороо. </font>\n",
        "\n",
        "<font color='#2b6ca3'>Отобразил долю пользователей в воронке, в таблице эти значения уже были.</font>"
      ]
    },
    {
      "cell_type": "code",
      "metadata": {
        "id": "3ic8xNGEzzJS",
        "colab_type": "code",
        "colab": {}
      },
      "source": [
        ""
      ],
      "execution_count": 0,
      "outputs": []
    }
  ]
}