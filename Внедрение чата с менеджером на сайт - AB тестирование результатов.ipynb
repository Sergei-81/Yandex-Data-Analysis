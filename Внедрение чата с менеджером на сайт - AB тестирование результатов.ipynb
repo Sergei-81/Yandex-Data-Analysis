{
  "nbformat": 4,
  "nbformat_minor": 0,
  "metadata": {
    "colab": {
      "name": "7. A/B тестирование внедрения чата с менеджером на сайт",
      "provenance": [],
      "collapsed_sections": [],
      "toc_visible": true,
      "authorship_tag": "ABX9TyMVrEFZhxt2adLv4v0P7ZNM",
      "include_colab_link": true
    },
    "kernelspec": {
      "name": "python3",
      "display_name": "Python 3"
    }
  },
  "cells": [
    {
      "cell_type": "markdown",
      "metadata": {
        "id": "view-in-github",
        "colab_type": "text"
      },
      "source": [
        "<a href=\"https://colab.research.google.com/github/alexeiveselov92/Yandex-Data-Analysis/blob/master/%D0%92%D0%BD%D0%B5%D0%B4%D1%80%D0%B5%D0%BD%D0%B8%D0%B5%20%D1%87%D0%B0%D1%82%D0%B0%20%D1%81%20%D0%BC%D0%B5%D0%BD%D0%B5%D0%B4%D0%B6%D0%B5%D1%80%D0%BE%D0%BC%20%D0%BD%D0%B0%20%D1%81%D0%B0%D0%B9%D1%82%20-%20AB%20%D1%82%D0%B5%D1%81%D1%82%D0%B8%D1%80%D0%BE%D0%B2%D0%B0%D0%BD%D0%B8%D0%B5%20%D1%80%D0%B5%D0%B7%D1%83%D0%BB%D1%8C%D1%82%D0%B0%D1%82%D0%BE%D0%B2.ipynb\" target=\"_parent\"><img src=\"https://colab.research.google.com/assets/colab-badge.svg\" alt=\"Open In Colab\"/></a>"
      ]
    },
    {
      "cell_type": "markdown",
      "metadata": {
        "id": "3audkeJ4lVbr",
        "colab_type": "text"
      },
      "source": [
        "# **A/B тестирование внедрения чата с менеджером на сайт**"
      ]
    },
    {
      "cell_type": "markdown",
      "metadata": {
        "id": "y5ntpubgqy9q",
        "colab_type": "text"
      },
      "source": [
        "<a id='content'></a>\n",
        "## Оглавление\n",
        "* [Описание целей исследования](#description)\n",
        "* [Загрузка библиотек](#download)\n",
        "* [Спецификация](#specification)\n",
        "* [Предобработка](#preprocessing)\n",
        "* [Проведем исследовательский анализ данных](#research)\n",
        "  * Исследуем конверсию в воронке на разных этапах\n",
        "  * Обладают ли выборки одинаковыми распределениями количества событий на пользователя?\n",
        "  * Как число событий распределено по дням?\n",
        "  * Подумаем, есть ли какие-то нюансы данных, которые нужно учесть, прежде чем приступать к A/B-тестированию?\n",
        "* [Проведем оценку результатов A/B-тестирования](#test)\n",
        "  * Что можно сказать про результаты A/A-тестирования?\n",
        "  * Проверим статистическую разницу долей z-критерием\n",
        "* [Опишем выводы по этапу исследовательского анализа данных и по проведённой оценке результатов A/B-тестирования](#results)"
      ]
    },
    {
      "cell_type": "markdown",
      "metadata": {
        "id": "1FcQl3K8uq2W",
        "colab_type": "text"
      },
      "source": [
        "<a id='description'></a>\n",
        "## Описание целей исследования\n",
        "[К оглавлению](#content)"
      ]
    },
    {
      "cell_type": "markdown",
      "metadata": {
        "id": "0V9WZSiV_LJQ",
        "colab_type": "text"
      },
      "source": [
        "<a id='download'></a>\n",
        "## Загрузка библиотек\n",
        "[К оглавлению](#content)\n",
        "\n"
      ]
    },
    {
      "cell_type": "code",
      "metadata": {
        "id": "7HbDEPxa_CL7",
        "colab_type": "code",
        "outputId": "62bb378b-f4bd-4e50-fe43-85fd11d58135",
        "colab": {
          "base_uri": "https://localhost:8080/",
          "height": 166
        }
      },
      "source": [
        "import pandas as pd\n",
        "import math as mth\n",
        "from scipy import stats as st\n",
        "import random\n",
        "import numpy as np\n",
        "\n",
        "#визуализация\n",
        "import seaborn as sns\n",
        "import matplotlib.pyplot as plt\n",
        "from plotly import graph_objects as go\n",
        "import plotly.express as px\n",
        "\n",
        "#другое\n",
        "pd.options.display.expand_frame_repr = False\n",
        "import warnings\n",
        "warnings.filterwarnings('ignore')\n",
        "\n",
        "#загрузка файлов с диска\n",
        "from google.colab import drive\n",
        "drive.mount('/content/drive')"
      ],
      "execution_count": 0,
      "outputs": [
        {
          "output_type": "stream",
          "text": [
            "/usr/local/lib/python3.6/dist-packages/statsmodels/tools/_testing.py:19: FutureWarning: pandas.util.testing is deprecated. Use the functions in the public API at pandas.testing instead.\n",
            "  import pandas.util.testing as tm\n"
          ],
          "name": "stderr"
        },
        {
          "output_type": "stream",
          "text": [
            "Go to this URL in a browser: https://accounts.google.com/o/oauth2/auth?client_id=947318989803-6bn6qk8qdgf4n4g3pfee6491hc0brc4i.apps.googleusercontent.com&redirect_uri=urn%3aietf%3awg%3aoauth%3a2.0%3aoob&response_type=code&scope=email%20https%3a%2f%2fwww.googleapis.com%2fauth%2fdocs.test%20https%3a%2f%2fwww.googleapis.com%2fauth%2fdrive%20https%3a%2f%2fwww.googleapis.com%2fauth%2fdrive.photos.readonly%20https%3a%2f%2fwww.googleapis.com%2fauth%2fpeopleapi.readonly\n",
            "\n",
            "Enter your authorization code:\n",
            "··········\n",
            "Mounted at /content/drive\n"
          ],
          "name": "stdout"
        }
      ]
    },
    {
      "cell_type": "markdown",
      "metadata": {
        "id": "KkQ0utm1BXw8",
        "colab_type": "text"
      },
      "source": [
        "<a id='specification'></a>\n",
        "## Спецификация\n",
        "[К оглавлению](#content)\n",
        "* **`Event`** - тип события\n",
        "  * `StartReadingOffer`\n",
        "  * `OpenProductCard`\n",
        "  * `OpenPaymentScreen`\n",
        "  * `StartCheckProduct`\n",
        "* **`user_id`** - id пользователя\n",
        "* **`EventTime`** - время события\n",
        "* **`Group`** - группа события\n",
        "  * `A1` - контрольная группа\n",
        "  * `A2` - контрольная группа\n",
        "  * `B` - экспериментальная группа"
      ]
    },
    {
      "cell_type": "markdown",
      "metadata": {
        "id": "BtnkHnMnEjvd",
        "colab_type": "text"
      },
      "source": [
        "<a id='preprocessing'></a>\n",
        "## Предобработка данных\n",
        "[К оглавлению](#content)"
      ]
    },
    {
      "cell_type": "code",
      "metadata": {
        "id": "vKyjFtNB_Tbi",
        "colab_type": "code",
        "outputId": "f9bd9128-d5a1-47e9-b965-a6905405e3b0",
        "colab": {
          "base_uri": "https://localhost:8080/",
          "height": 311
        }
      },
      "source": [
        "df = pd.read_csv('/content/drive/My Drive/Colab Notebooks/final/ab_log.csv')\n",
        "df.columns = df.columns.str.lower()\n",
        "df['eventtime'] = pd.to_datetime(df['eventtime'],unit='s')\n",
        "df['date'] = pd.to_datetime(df['eventtime'].dt.date)\n",
        "df.info()\n",
        "print('\\nДубликатов в выгрузке: {}'.format(df.duplicated().sum()))\n",
        "df = df.drop_duplicates().reset_index(drop = True)\n",
        "print('Дубликаты удалены, дубликатов осталось: {}'.format(df.duplicated().sum()))\n",
        "print('Пропущенных значений не обнаружено')"
      ],
      "execution_count": 0,
      "outputs": [
        {
          "output_type": "stream",
          "text": [
            "<class 'pandas.core.frame.DataFrame'>\n",
            "RangeIndex: 154788 entries, 0 to 154787\n",
            "Data columns (total 5 columns):\n",
            " #   Column     Non-Null Count   Dtype         \n",
            "---  ------     --------------   -----         \n",
            " 0   event      154788 non-null  object        \n",
            " 1   user_id    154788 non-null  int64         \n",
            " 2   eventtime  154788 non-null  datetime64[ns]\n",
            " 3   group      154788 non-null  object        \n",
            " 4   date       154788 non-null  datetime64[ns]\n",
            "dtypes: datetime64[ns](2), int64(1), object(2)\n",
            "memory usage: 5.9+ MB\n",
            "\n",
            "Дубликатов в выгрузке: 296\n",
            "Дубликаты удалены, дубликатов осталось: 0\n",
            "Пропущенных значений не обнаружено\n"
          ],
          "name": "stdout"
        }
      ]
    },
    {
      "cell_type": "markdown",
      "metadata": {
        "id": "goJ-iVaLEvFr",
        "colab_type": "text"
      },
      "source": [
        "<a id='research'></a>\n",
        "## Исследовательский анализ данных\n",
        "[К оглавлению](#content)\n",
        "\n",
        "* Исследуем конверсию в воронке на разных этапах\n",
        "* Обладают ли выборки одинаковыми распределениями количества событий на пользователя?\n",
        "* Как число событий распределено по дням?\n",
        "* Подумаем, есть ли какие-то нюансы данных, которые нужно учесть, прежде чем приступать к A/B-тестированию?\n"
      ]
    },
    {
      "cell_type": "code",
      "metadata": {
        "id": "6iHJKONjF3yi",
        "colab_type": "code",
        "outputId": "30143402-0b12-489d-a8f3-f7f6ff385113",
        "colab": {
          "base_uri": "https://localhost:8080/",
          "height": 633
        }
      },
      "source": [
        "print('Всего событий в логе: {}'.format(len(df)))\n",
        "print('Всего пользователей: {}'.format(len(df.user_id.unique())))\n",
        "print('В среднем событий на одного пользователя: {}'.format(df.groupby('user_id')['event'].count().mode()[0]))\n",
        "for group in df['group'].unique():\n",
        "  print('Кол-во событий в группе {}: {}'.format(group , len(df[df['group']==group])))\n",
        "print('Минимальная дата: {}'.format(df['date'].min()))\n",
        "print('Максимальная дата: {}'.format(df['date'].max()))\n",
        "print('Период составляет: {}'.format(df['eventtime'].max()-df['eventtime'].min()))\n",
        "event_date_grouped = df.groupby('date', as_index=False).agg({'eventtime':'count'})\n",
        "event_date_grouped['date_text'] = event_date_grouped['date'].dt.strftime('%d.%m')\n",
        "fig = px.bar(event_date_grouped, x = 'date', y='eventtime', text='date_text', width=750, height=450)\n",
        "fig.update_layout(\n",
        "    title={\n",
        "        'text': \"Распределение количества событий по дням\",\n",
        "        'xanchor': 'center',\n",
        "        'x':0.5\n",
        "    },\n",
        "    yaxis_title=\"Количество событий\",\n",
        "    xaxis_title=\"Дата\")\n",
        "fig.update_traces(textposition='outside')\n",
        "fig.show()"
      ],
      "execution_count": 0,
      "outputs": [
        {
          "output_type": "stream",
          "text": [
            "Всего событий в логе: 154492\n",
            "Всего пользователей: 6805\n",
            "В среднем событий на одного пользователя: 6\n",
            "Кол-во событий в группе A2: 49828\n",
            "Кол-во событий в группе B: 55018\n",
            "Кол-во событий в группе A1: 49646\n",
            "Минимальная дата: 2019-07-25 00:00:00\n",
            "Максимальная дата: 2019-08-05 00:00:00\n",
            "Период составляет: 11 days 06:46:54\n"
          ],
          "name": "stdout"
        },
        {
          "output_type": "display_data",
          "data": {
            "text/html": [
              "<html>\n",
              "<head><meta charset=\"utf-8\" /></head>\n",
              "<body>\n",
              "    <div>\n",
              "            <script src=\"https://cdnjs.cloudflare.com/ajax/libs/mathjax/2.7.5/MathJax.js?config=TeX-AMS-MML_SVG\"></script><script type=\"text/javascript\">if (window.MathJax) {MathJax.Hub.Config({SVG: {font: \"STIX-Web\"}});}</script>\n",
              "                <script type=\"text/javascript\">window.PlotlyConfig = {MathJaxConfig: 'local'};</script>\n",
              "        <script src=\"https://cdn.plot.ly/plotly-latest.min.js\"></script>    \n",
              "            <div id=\"b0762c51-7f88-466b-b2ad-1f250fd43291\" class=\"plotly-graph-div\" style=\"height:450px; width:750px;\"></div>\n",
              "            <script type=\"text/javascript\">\n",
              "                \n",
              "                    window.PLOTLYENV=window.PLOTLYENV || {};\n",
              "                    \n",
              "                if (document.getElementById(\"b0762c51-7f88-466b-b2ad-1f250fd43291\")) {\n",
              "                    Plotly.newPlot(\n",
              "                        'b0762c51-7f88-466b-b2ad-1f250fd43291',\n",
              "                        [{\"alignmentgroup\": \"True\", \"hoverlabel\": {\"namelength\": 0}, \"hovertemplate\": \"date=%{x}<br>eventtime=%{y}<br>date_text=%{text}\", \"legendgroup\": \"\", \"marker\": {\"color\": \"#636efa\"}, \"name\": \"\", \"offsetgroup\": \"\", \"orientation\": \"v\", \"showlegend\": false, \"text\": [\"25.07\", \"26.07\", \"27.07\", \"28.07\", \"29.07\", \"30.07\", \"31.07\", \"01.08\", \"02.08\", \"03.08\", \"04.08\", \"05.08\"], \"textposition\": \"outside\", \"type\": \"bar\", \"x\": [\"2019-07-25T00:00:00\", \"2019-07-26T00:00:00\", \"2019-07-27T00:00:00\", \"2019-07-28T00:00:00\", \"2019-07-29T00:00:00\", \"2019-07-30T00:00:00\", \"2019-07-31T00:00:00\", \"2019-08-01T00:00:00\", \"2019-08-02T00:00:00\", \"2019-08-03T00:00:00\", \"2019-08-04T00:00:00\", \"2019-08-05T00:00:00\"], \"xaxis\": \"x\", \"y\": [9, 30, 56, 105, 184, 411, 2019, 36090, 35564, 33286, 32961, 13777], \"yaxis\": \"y\"}],\n",
              "                        {\"barmode\": \"relative\", \"height\": 450, \"legend\": {\"tracegroupgap\": 0}, \"margin\": {\"t\": 60}, \"template\": {\"data\": {\"bar\": [{\"error_x\": {\"color\": \"#2a3f5f\"}, \"error_y\": {\"color\": \"#2a3f5f\"}, \"marker\": {\"line\": {\"color\": \"#E5ECF6\", \"width\": 0.5}}, \"type\": \"bar\"}], \"barpolar\": [{\"marker\": {\"line\": {\"color\": \"#E5ECF6\", \"width\": 0.5}}, \"type\": \"barpolar\"}], \"carpet\": [{\"aaxis\": {\"endlinecolor\": \"#2a3f5f\", \"gridcolor\": \"white\", \"linecolor\": \"white\", \"minorgridcolor\": \"white\", \"startlinecolor\": \"#2a3f5f\"}, \"baxis\": {\"endlinecolor\": \"#2a3f5f\", \"gridcolor\": \"white\", \"linecolor\": \"white\", \"minorgridcolor\": \"white\", \"startlinecolor\": \"#2a3f5f\"}, \"type\": \"carpet\"}], \"choropleth\": [{\"colorbar\": {\"outlinewidth\": 0, \"ticks\": \"\"}, \"type\": \"choropleth\"}], \"contour\": [{\"colorbar\": {\"outlinewidth\": 0, \"ticks\": \"\"}, \"colorscale\": [[0.0, \"#0d0887\"], [0.1111111111111111, \"#46039f\"], [0.2222222222222222, \"#7201a8\"], [0.3333333333333333, \"#9c179e\"], [0.4444444444444444, \"#bd3786\"], [0.5555555555555556, \"#d8576b\"], [0.6666666666666666, \"#ed7953\"], [0.7777777777777778, \"#fb9f3a\"], [0.8888888888888888, \"#fdca26\"], [1.0, \"#f0f921\"]], \"type\": \"contour\"}], \"contourcarpet\": [{\"colorbar\": {\"outlinewidth\": 0, \"ticks\": \"\"}, \"type\": \"contourcarpet\"}], \"heatmap\": [{\"colorbar\": {\"outlinewidth\": 0, \"ticks\": \"\"}, \"colorscale\": [[0.0, \"#0d0887\"], [0.1111111111111111, \"#46039f\"], [0.2222222222222222, \"#7201a8\"], [0.3333333333333333, \"#9c179e\"], [0.4444444444444444, \"#bd3786\"], [0.5555555555555556, \"#d8576b\"], [0.6666666666666666, \"#ed7953\"], [0.7777777777777778, \"#fb9f3a\"], [0.8888888888888888, \"#fdca26\"], [1.0, \"#f0f921\"]], \"type\": \"heatmap\"}], \"heatmapgl\": [{\"colorbar\": {\"outlinewidth\": 0, \"ticks\": \"\"}, \"colorscale\": [[0.0, \"#0d0887\"], [0.1111111111111111, \"#46039f\"], [0.2222222222222222, \"#7201a8\"], [0.3333333333333333, \"#9c179e\"], [0.4444444444444444, \"#bd3786\"], [0.5555555555555556, \"#d8576b\"], [0.6666666666666666, \"#ed7953\"], [0.7777777777777778, \"#fb9f3a\"], [0.8888888888888888, \"#fdca26\"], [1.0, \"#f0f921\"]], \"type\": \"heatmapgl\"}], \"histogram\": [{\"marker\": {\"colorbar\": {\"outlinewidth\": 0, \"ticks\": \"\"}}, \"type\": \"histogram\"}], \"histogram2d\": [{\"colorbar\": {\"outlinewidth\": 0, \"ticks\": \"\"}, \"colorscale\": [[0.0, \"#0d0887\"], [0.1111111111111111, \"#46039f\"], [0.2222222222222222, \"#7201a8\"], [0.3333333333333333, \"#9c179e\"], [0.4444444444444444, \"#bd3786\"], [0.5555555555555556, \"#d8576b\"], [0.6666666666666666, \"#ed7953\"], [0.7777777777777778, \"#fb9f3a\"], [0.8888888888888888, \"#fdca26\"], [1.0, \"#f0f921\"]], \"type\": \"histogram2d\"}], \"histogram2dcontour\": [{\"colorbar\": {\"outlinewidth\": 0, \"ticks\": \"\"}, \"colorscale\": [[0.0, \"#0d0887\"], [0.1111111111111111, \"#46039f\"], [0.2222222222222222, \"#7201a8\"], [0.3333333333333333, \"#9c179e\"], [0.4444444444444444, \"#bd3786\"], [0.5555555555555556, \"#d8576b\"], [0.6666666666666666, \"#ed7953\"], [0.7777777777777778, \"#fb9f3a\"], [0.8888888888888888, \"#fdca26\"], [1.0, \"#f0f921\"]], \"type\": \"histogram2dcontour\"}], \"mesh3d\": [{\"colorbar\": {\"outlinewidth\": 0, \"ticks\": \"\"}, \"type\": \"mesh3d\"}], \"parcoords\": [{\"line\": {\"colorbar\": {\"outlinewidth\": 0, \"ticks\": \"\"}}, \"type\": \"parcoords\"}], \"pie\": [{\"automargin\": true, \"type\": \"pie\"}], \"scatter\": [{\"marker\": {\"colorbar\": {\"outlinewidth\": 0, \"ticks\": \"\"}}, \"type\": \"scatter\"}], \"scatter3d\": [{\"line\": {\"colorbar\": {\"outlinewidth\": 0, \"ticks\": \"\"}}, \"marker\": {\"colorbar\": {\"outlinewidth\": 0, \"ticks\": \"\"}}, \"type\": \"scatter3d\"}], \"scattercarpet\": [{\"marker\": {\"colorbar\": {\"outlinewidth\": 0, \"ticks\": \"\"}}, \"type\": \"scattercarpet\"}], \"scattergeo\": [{\"marker\": {\"colorbar\": {\"outlinewidth\": 0, \"ticks\": \"\"}}, \"type\": \"scattergeo\"}], \"scattergl\": [{\"marker\": {\"colorbar\": {\"outlinewidth\": 0, \"ticks\": \"\"}}, \"type\": \"scattergl\"}], \"scattermapbox\": [{\"marker\": {\"colorbar\": {\"outlinewidth\": 0, \"ticks\": \"\"}}, \"type\": \"scattermapbox\"}], \"scatterpolar\": [{\"marker\": {\"colorbar\": {\"outlinewidth\": 0, \"ticks\": \"\"}}, \"type\": \"scatterpolar\"}], \"scatterpolargl\": [{\"marker\": {\"colorbar\": {\"outlinewidth\": 0, \"ticks\": \"\"}}, \"type\": \"scatterpolargl\"}], \"scatterternary\": [{\"marker\": {\"colorbar\": {\"outlinewidth\": 0, \"ticks\": \"\"}}, \"type\": \"scatterternary\"}], \"surface\": [{\"colorbar\": {\"outlinewidth\": 0, \"ticks\": \"\"}, \"colorscale\": [[0.0, \"#0d0887\"], [0.1111111111111111, \"#46039f\"], [0.2222222222222222, \"#7201a8\"], [0.3333333333333333, \"#9c179e\"], [0.4444444444444444, \"#bd3786\"], [0.5555555555555556, \"#d8576b\"], [0.6666666666666666, \"#ed7953\"], [0.7777777777777778, \"#fb9f3a\"], [0.8888888888888888, \"#fdca26\"], [1.0, \"#f0f921\"]], \"type\": \"surface\"}], \"table\": [{\"cells\": {\"fill\": {\"color\": \"#EBF0F8\"}, \"line\": {\"color\": \"white\"}}, \"header\": {\"fill\": {\"color\": \"#C8D4E3\"}, \"line\": {\"color\": \"white\"}}, \"type\": \"table\"}]}, \"layout\": {\"annotationdefaults\": {\"arrowcolor\": \"#2a3f5f\", \"arrowhead\": 0, \"arrowwidth\": 1}, \"coloraxis\": {\"colorbar\": {\"outlinewidth\": 0, \"ticks\": \"\"}}, \"colorscale\": {\"diverging\": [[0, \"#8e0152\"], [0.1, \"#c51b7d\"], [0.2, \"#de77ae\"], [0.3, \"#f1b6da\"], [0.4, \"#fde0ef\"], [0.5, \"#f7f7f7\"], [0.6, \"#e6f5d0\"], [0.7, \"#b8e186\"], [0.8, \"#7fbc41\"], [0.9, \"#4d9221\"], [1, \"#276419\"]], \"sequential\": [[0.0, \"#0d0887\"], [0.1111111111111111, \"#46039f\"], [0.2222222222222222, \"#7201a8\"], [0.3333333333333333, \"#9c179e\"], [0.4444444444444444, \"#bd3786\"], [0.5555555555555556, \"#d8576b\"], [0.6666666666666666, \"#ed7953\"], [0.7777777777777778, \"#fb9f3a\"], [0.8888888888888888, \"#fdca26\"], [1.0, \"#f0f921\"]], \"sequentialminus\": [[0.0, \"#0d0887\"], [0.1111111111111111, \"#46039f\"], [0.2222222222222222, \"#7201a8\"], [0.3333333333333333, \"#9c179e\"], [0.4444444444444444, \"#bd3786\"], [0.5555555555555556, \"#d8576b\"], [0.6666666666666666, \"#ed7953\"], [0.7777777777777778, \"#fb9f3a\"], [0.8888888888888888, \"#fdca26\"], [1.0, \"#f0f921\"]]}, \"colorway\": [\"#636efa\", \"#EF553B\", \"#00cc96\", \"#ab63fa\", \"#FFA15A\", \"#19d3f3\", \"#FF6692\", \"#B6E880\", \"#FF97FF\", \"#FECB52\"], \"font\": {\"color\": \"#2a3f5f\"}, \"geo\": {\"bgcolor\": \"white\", \"lakecolor\": \"white\", \"landcolor\": \"#E5ECF6\", \"showlakes\": true, \"showland\": true, \"subunitcolor\": \"white\"}, \"hoverlabel\": {\"align\": \"left\"}, \"hovermode\": \"closest\", \"mapbox\": {\"style\": \"light\"}, \"paper_bgcolor\": \"white\", \"plot_bgcolor\": \"#E5ECF6\", \"polar\": {\"angularaxis\": {\"gridcolor\": \"white\", \"linecolor\": \"white\", \"ticks\": \"\"}, \"bgcolor\": \"#E5ECF6\", \"radialaxis\": {\"gridcolor\": \"white\", \"linecolor\": \"white\", \"ticks\": \"\"}}, \"scene\": {\"xaxis\": {\"backgroundcolor\": \"#E5ECF6\", \"gridcolor\": \"white\", \"gridwidth\": 2, \"linecolor\": \"white\", \"showbackground\": true, \"ticks\": \"\", \"zerolinecolor\": \"white\"}, \"yaxis\": {\"backgroundcolor\": \"#E5ECF6\", \"gridcolor\": \"white\", \"gridwidth\": 2, \"linecolor\": \"white\", \"showbackground\": true, \"ticks\": \"\", \"zerolinecolor\": \"white\"}, \"zaxis\": {\"backgroundcolor\": \"#E5ECF6\", \"gridcolor\": \"white\", \"gridwidth\": 2, \"linecolor\": \"white\", \"showbackground\": true, \"ticks\": \"\", \"zerolinecolor\": \"white\"}}, \"shapedefaults\": {\"line\": {\"color\": \"#2a3f5f\"}}, \"ternary\": {\"aaxis\": {\"gridcolor\": \"white\", \"linecolor\": \"white\", \"ticks\": \"\"}, \"baxis\": {\"gridcolor\": \"white\", \"linecolor\": \"white\", \"ticks\": \"\"}, \"bgcolor\": \"#E5ECF6\", \"caxis\": {\"gridcolor\": \"white\", \"linecolor\": \"white\", \"ticks\": \"\"}}, \"title\": {\"x\": 0.05}, \"xaxis\": {\"automargin\": true, \"gridcolor\": \"white\", \"linecolor\": \"white\", \"ticks\": \"\", \"title\": {\"standoff\": 15}, \"zerolinecolor\": \"white\", \"zerolinewidth\": 2}, \"yaxis\": {\"automargin\": true, \"gridcolor\": \"white\", \"linecolor\": \"white\", \"ticks\": \"\", \"title\": {\"standoff\": 15}, \"zerolinecolor\": \"white\", \"zerolinewidth\": 2}}}, \"title\": {\"text\": \"\\u0420\\u0430\\u0441\\u043f\\u0440\\u0435\\u0434\\u0435\\u043b\\u0435\\u043d\\u0438\\u0435 \\u043a\\u043e\\u043b\\u0438\\u0447\\u0435\\u0441\\u0442\\u0432\\u0430 \\u0441\\u043e\\u0431\\u044b\\u0442\\u0438\\u0439 \\u043f\\u043e \\u0434\\u043d\\u044f\\u043c\", \"x\": 0.5, \"xanchor\": \"center\"}, \"width\": 750, \"xaxis\": {\"anchor\": \"y\", \"domain\": [0.0, 1.0], \"title\": {\"text\": \"\\u0414\\u0430\\u0442\\u0430\"}}, \"yaxis\": {\"anchor\": \"x\", \"domain\": [0.0, 1.0], \"title\": {\"text\": \"\\u041a\\u043e\\u043b\\u0438\\u0447\\u0435\\u0441\\u0442\\u0432\\u043e \\u0441\\u043e\\u0431\\u044b\\u0442\\u0438\\u0439\"}}},\n",
              "                        {\"responsive\": true}\n",
              "                    ).then(function(){\n",
              "                            \n",
              "var gd = document.getElementById('b0762c51-7f88-466b-b2ad-1f250fd43291');\n",
              "var x = new MutationObserver(function (mutations, observer) {{\n",
              "        var display = window.getComputedStyle(gd).display;\n",
              "        if (!display || display === 'none') {{\n",
              "            console.log([gd, 'removed!']);\n",
              "            Plotly.purge(gd);\n",
              "            observer.disconnect();\n",
              "        }}\n",
              "}});\n",
              "\n",
              "// Listen for the removal of the full notebook cells\n",
              "var notebookContainer = gd.closest('#notebook-container');\n",
              "if (notebookContainer) {{\n",
              "    x.observe(notebookContainer, {childList: true});\n",
              "}}\n",
              "\n",
              "// Listen for the clearing of the current output cell\n",
              "var outputEl = gd.closest('.output');\n",
              "if (outputEl) {{\n",
              "    x.observe(outputEl, {childList: true});\n",
              "}}\n",
              "\n",
              "                        })\n",
              "                };\n",
              "                \n",
              "            </script>\n",
              "        </div>\n",
              "</body>\n",
              "</html>"
            ]
          },
          "metadata": {
            "tags": []
          }
        }
      ]
    },
    {
      "cell_type": "markdown",
      "metadata": {
        "id": "BY45n-t6Inco",
        "colab_type": "text"
      },
      "source": [
        "> Видим, что данные предоставллены полноценно только за 5 дней с 01.08 по 05.08, остальные дни отбросим"
      ]
    },
    {
      "cell_type": "code",
      "metadata": {
        "id": "X38Ws7_C40pU",
        "colab_type": "code",
        "outputId": "836f4564-9225-4241-b876-9db7aee355b9",
        "colab": {
          "base_uri": "https://localhost:8080/",
          "height": 1000
        }
      },
      "source": [
        "filtered_df = df[df['date']>='2019-08-01']\n",
        "funnel = filtered_df.groupby('event').agg({'user_id':'nunique', 'eventtime':'count'}).sort_values(by='user_id', ascending=False)\n",
        "funnel = funnel.loc[['StartReadingOffer', 'StartCheckProduct', 'OpenProductCard', 'OpenPaymentScreen']]\n",
        "funnel.columns = ['users', 'events']\n",
        "funnel['change_users'] = funnel['users'].pct_change() + 1\n",
        "funnel['change_events'] = funnel['events'].pct_change() + 1\n",
        "funnel = funnel.fillna(1)\n",
        "funnel = funnel.reset_index()\n",
        "print(funnel)\n",
        "fig = go.Figure()\n",
        "fig.add_trace(go.Funnel(\n",
        "    y = funnel['event'],\n",
        "    x = funnel['events'],\n",
        "    textinfo = \"value+percent previous\"))\n",
        "fig.update_layout(title={'text': \"Воронка событий\", 'xanchor': 'center', 'x':0.5, 'y':0.87})\n",
        "fig.show()\n",
        "fig = go.Figure()\n",
        "fig.add_trace(go.Funnel(\n",
        "    y = funnel['event'],\n",
        "    x = funnel['users'],\n",
        "    textinfo = \"value+percent previous\"))\n",
        "fig.update_layout(title={'text': \"Воронка пользователей\", 'xanchor': 'center', 'x':0.5, 'y':0.87})\n",
        "fig.show()"
      ],
      "execution_count": 0,
      "outputs": [
        {
          "output_type": "stream",
          "text": [
            "               event  users  events  change_users  change_events\n",
            "0  StartReadingOffer   6592   72281      1.000000       1.000000\n",
            "1  StartCheckProduct   3972   29641      0.602549       0.410080\n",
            "2    OpenProductCard   3229   27334      0.812941       0.922169\n",
            "3  OpenPaymentScreen   3340   22422      1.034376       0.820297\n"
          ],
          "name": "stdout"
        },
        {
          "output_type": "display_data",
          "data": {
            "text/html": [
              "<html>\n",
              "<head><meta charset=\"utf-8\" /></head>\n",
              "<body>\n",
              "    <div>\n",
              "            <script src=\"https://cdnjs.cloudflare.com/ajax/libs/mathjax/2.7.5/MathJax.js?config=TeX-AMS-MML_SVG\"></script><script type=\"text/javascript\">if (window.MathJax) {MathJax.Hub.Config({SVG: {font: \"STIX-Web\"}});}</script>\n",
              "                <script type=\"text/javascript\">window.PlotlyConfig = {MathJaxConfig: 'local'};</script>\n",
              "        <script src=\"https://cdn.plot.ly/plotly-latest.min.js\"></script>    \n",
              "            <div id=\"7bbfc993-6cf2-4e02-9f0a-5e054945b081\" class=\"plotly-graph-div\" style=\"height:525px; width:100%;\"></div>\n",
              "            <script type=\"text/javascript\">\n",
              "                \n",
              "                    window.PLOTLYENV=window.PLOTLYENV || {};\n",
              "                    \n",
              "                if (document.getElementById(\"7bbfc993-6cf2-4e02-9f0a-5e054945b081\")) {\n",
              "                    Plotly.newPlot(\n",
              "                        '7bbfc993-6cf2-4e02-9f0a-5e054945b081',\n",
              "                        [{\"textinfo\": \"value+percent previous\", \"type\": \"funnel\", \"x\": [72281, 29641, 27334, 22422], \"y\": [\"StartReadingOffer\", \"StartCheckProduct\", \"OpenProductCard\", \"OpenPaymentScreen\"]}],\n",
              "                        {\"template\": {\"data\": {\"bar\": [{\"error_x\": {\"color\": \"#2a3f5f\"}, \"error_y\": {\"color\": \"#2a3f5f\"}, \"marker\": {\"line\": {\"color\": \"#E5ECF6\", \"width\": 0.5}}, \"type\": \"bar\"}], \"barpolar\": [{\"marker\": {\"line\": {\"color\": \"#E5ECF6\", \"width\": 0.5}}, \"type\": \"barpolar\"}], \"carpet\": [{\"aaxis\": {\"endlinecolor\": \"#2a3f5f\", \"gridcolor\": \"white\", \"linecolor\": \"white\", \"minorgridcolor\": \"white\", \"startlinecolor\": \"#2a3f5f\"}, \"baxis\": {\"endlinecolor\": \"#2a3f5f\", \"gridcolor\": \"white\", \"linecolor\": \"white\", \"minorgridcolor\": \"white\", \"startlinecolor\": \"#2a3f5f\"}, \"type\": \"carpet\"}], \"choropleth\": [{\"colorbar\": {\"outlinewidth\": 0, \"ticks\": \"\"}, \"type\": \"choropleth\"}], \"contour\": [{\"colorbar\": {\"outlinewidth\": 0, \"ticks\": \"\"}, \"colorscale\": [[0.0, \"#0d0887\"], [0.1111111111111111, \"#46039f\"], [0.2222222222222222, \"#7201a8\"], [0.3333333333333333, \"#9c179e\"], [0.4444444444444444, \"#bd3786\"], [0.5555555555555556, \"#d8576b\"], [0.6666666666666666, \"#ed7953\"], [0.7777777777777778, \"#fb9f3a\"], [0.8888888888888888, \"#fdca26\"], [1.0, \"#f0f921\"]], \"type\": \"contour\"}], \"contourcarpet\": [{\"colorbar\": {\"outlinewidth\": 0, \"ticks\": \"\"}, \"type\": \"contourcarpet\"}], \"heatmap\": [{\"colorbar\": {\"outlinewidth\": 0, \"ticks\": \"\"}, \"colorscale\": [[0.0, \"#0d0887\"], [0.1111111111111111, \"#46039f\"], [0.2222222222222222, \"#7201a8\"], [0.3333333333333333, \"#9c179e\"], [0.4444444444444444, \"#bd3786\"], [0.5555555555555556, \"#d8576b\"], [0.6666666666666666, \"#ed7953\"], [0.7777777777777778, \"#fb9f3a\"], [0.8888888888888888, \"#fdca26\"], [1.0, \"#f0f921\"]], \"type\": \"heatmap\"}], \"heatmapgl\": [{\"colorbar\": {\"outlinewidth\": 0, \"ticks\": \"\"}, \"colorscale\": [[0.0, \"#0d0887\"], [0.1111111111111111, \"#46039f\"], [0.2222222222222222, \"#7201a8\"], [0.3333333333333333, \"#9c179e\"], [0.4444444444444444, \"#bd3786\"], [0.5555555555555556, \"#d8576b\"], [0.6666666666666666, \"#ed7953\"], [0.7777777777777778, \"#fb9f3a\"], [0.8888888888888888, \"#fdca26\"], [1.0, \"#f0f921\"]], \"type\": \"heatmapgl\"}], \"histogram\": [{\"marker\": {\"colorbar\": {\"outlinewidth\": 0, \"ticks\": \"\"}}, \"type\": \"histogram\"}], \"histogram2d\": [{\"colorbar\": {\"outlinewidth\": 0, \"ticks\": \"\"}, \"colorscale\": [[0.0, \"#0d0887\"], [0.1111111111111111, \"#46039f\"], [0.2222222222222222, \"#7201a8\"], [0.3333333333333333, \"#9c179e\"], [0.4444444444444444, \"#bd3786\"], [0.5555555555555556, \"#d8576b\"], [0.6666666666666666, \"#ed7953\"], [0.7777777777777778, \"#fb9f3a\"], [0.8888888888888888, \"#fdca26\"], [1.0, \"#f0f921\"]], \"type\": \"histogram2d\"}], \"histogram2dcontour\": [{\"colorbar\": {\"outlinewidth\": 0, \"ticks\": \"\"}, \"colorscale\": [[0.0, \"#0d0887\"], [0.1111111111111111, \"#46039f\"], [0.2222222222222222, \"#7201a8\"], [0.3333333333333333, \"#9c179e\"], [0.4444444444444444, \"#bd3786\"], [0.5555555555555556, \"#d8576b\"], [0.6666666666666666, \"#ed7953\"], [0.7777777777777778, \"#fb9f3a\"], [0.8888888888888888, \"#fdca26\"], [1.0, \"#f0f921\"]], \"type\": \"histogram2dcontour\"}], \"mesh3d\": [{\"colorbar\": {\"outlinewidth\": 0, \"ticks\": \"\"}, \"type\": \"mesh3d\"}], \"parcoords\": [{\"line\": {\"colorbar\": {\"outlinewidth\": 0, \"ticks\": \"\"}}, \"type\": \"parcoords\"}], \"pie\": [{\"automargin\": true, \"type\": \"pie\"}], \"scatter\": [{\"marker\": {\"colorbar\": {\"outlinewidth\": 0, \"ticks\": \"\"}}, \"type\": \"scatter\"}], \"scatter3d\": [{\"line\": {\"colorbar\": {\"outlinewidth\": 0, \"ticks\": \"\"}}, \"marker\": {\"colorbar\": {\"outlinewidth\": 0, \"ticks\": \"\"}}, \"type\": \"scatter3d\"}], \"scattercarpet\": [{\"marker\": {\"colorbar\": {\"outlinewidth\": 0, \"ticks\": \"\"}}, \"type\": \"scattercarpet\"}], \"scattergeo\": [{\"marker\": {\"colorbar\": {\"outlinewidth\": 0, \"ticks\": \"\"}}, \"type\": \"scattergeo\"}], \"scattergl\": [{\"marker\": {\"colorbar\": {\"outlinewidth\": 0, \"ticks\": \"\"}}, \"type\": \"scattergl\"}], \"scattermapbox\": [{\"marker\": {\"colorbar\": {\"outlinewidth\": 0, \"ticks\": \"\"}}, \"type\": \"scattermapbox\"}], \"scatterpolar\": [{\"marker\": {\"colorbar\": {\"outlinewidth\": 0, \"ticks\": \"\"}}, \"type\": \"scatterpolar\"}], \"scatterpolargl\": [{\"marker\": {\"colorbar\": {\"outlinewidth\": 0, \"ticks\": \"\"}}, \"type\": \"scatterpolargl\"}], \"scatterternary\": [{\"marker\": {\"colorbar\": {\"outlinewidth\": 0, \"ticks\": \"\"}}, \"type\": \"scatterternary\"}], \"surface\": [{\"colorbar\": {\"outlinewidth\": 0, \"ticks\": \"\"}, \"colorscale\": [[0.0, \"#0d0887\"], [0.1111111111111111, \"#46039f\"], [0.2222222222222222, \"#7201a8\"], [0.3333333333333333, \"#9c179e\"], [0.4444444444444444, \"#bd3786\"], [0.5555555555555556, \"#d8576b\"], [0.6666666666666666, \"#ed7953\"], [0.7777777777777778, \"#fb9f3a\"], [0.8888888888888888, \"#fdca26\"], [1.0, \"#f0f921\"]], \"type\": \"surface\"}], \"table\": [{\"cells\": {\"fill\": {\"color\": \"#EBF0F8\"}, \"line\": {\"color\": \"white\"}}, \"header\": {\"fill\": {\"color\": \"#C8D4E3\"}, \"line\": {\"color\": \"white\"}}, \"type\": \"table\"}]}, \"layout\": {\"annotationdefaults\": {\"arrowcolor\": \"#2a3f5f\", \"arrowhead\": 0, \"arrowwidth\": 1}, \"coloraxis\": {\"colorbar\": {\"outlinewidth\": 0, \"ticks\": \"\"}}, \"colorscale\": {\"diverging\": [[0, \"#8e0152\"], [0.1, \"#c51b7d\"], [0.2, \"#de77ae\"], [0.3, \"#f1b6da\"], [0.4, \"#fde0ef\"], [0.5, \"#f7f7f7\"], [0.6, \"#e6f5d0\"], [0.7, \"#b8e186\"], [0.8, \"#7fbc41\"], [0.9, \"#4d9221\"], [1, \"#276419\"]], \"sequential\": [[0.0, \"#0d0887\"], [0.1111111111111111, \"#46039f\"], [0.2222222222222222, \"#7201a8\"], [0.3333333333333333, \"#9c179e\"], [0.4444444444444444, \"#bd3786\"], [0.5555555555555556, \"#d8576b\"], [0.6666666666666666, \"#ed7953\"], [0.7777777777777778, \"#fb9f3a\"], [0.8888888888888888, \"#fdca26\"], [1.0, \"#f0f921\"]], \"sequentialminus\": [[0.0, \"#0d0887\"], [0.1111111111111111, \"#46039f\"], [0.2222222222222222, \"#7201a8\"], [0.3333333333333333, \"#9c179e\"], [0.4444444444444444, \"#bd3786\"], [0.5555555555555556, \"#d8576b\"], [0.6666666666666666, \"#ed7953\"], [0.7777777777777778, \"#fb9f3a\"], [0.8888888888888888, \"#fdca26\"], [1.0, \"#f0f921\"]]}, \"colorway\": [\"#636efa\", \"#EF553B\", \"#00cc96\", \"#ab63fa\", \"#FFA15A\", \"#19d3f3\", \"#FF6692\", \"#B6E880\", \"#FF97FF\", \"#FECB52\"], \"font\": {\"color\": \"#2a3f5f\"}, \"geo\": {\"bgcolor\": \"white\", \"lakecolor\": \"white\", \"landcolor\": \"#E5ECF6\", \"showlakes\": true, \"showland\": true, \"subunitcolor\": \"white\"}, \"hoverlabel\": {\"align\": \"left\"}, \"hovermode\": \"closest\", \"mapbox\": {\"style\": \"light\"}, \"paper_bgcolor\": \"white\", \"plot_bgcolor\": \"#E5ECF6\", \"polar\": {\"angularaxis\": {\"gridcolor\": \"white\", \"linecolor\": \"white\", \"ticks\": \"\"}, \"bgcolor\": \"#E5ECF6\", \"radialaxis\": {\"gridcolor\": \"white\", \"linecolor\": \"white\", \"ticks\": \"\"}}, \"scene\": {\"xaxis\": {\"backgroundcolor\": \"#E5ECF6\", \"gridcolor\": \"white\", \"gridwidth\": 2, \"linecolor\": \"white\", \"showbackground\": true, \"ticks\": \"\", \"zerolinecolor\": \"white\"}, \"yaxis\": {\"backgroundcolor\": \"#E5ECF6\", \"gridcolor\": \"white\", \"gridwidth\": 2, \"linecolor\": \"white\", \"showbackground\": true, \"ticks\": \"\", \"zerolinecolor\": \"white\"}, \"zaxis\": {\"backgroundcolor\": \"#E5ECF6\", \"gridcolor\": \"white\", \"gridwidth\": 2, \"linecolor\": \"white\", \"showbackground\": true, \"ticks\": \"\", \"zerolinecolor\": \"white\"}}, \"shapedefaults\": {\"line\": {\"color\": \"#2a3f5f\"}}, \"ternary\": {\"aaxis\": {\"gridcolor\": \"white\", \"linecolor\": \"white\", \"ticks\": \"\"}, \"baxis\": {\"gridcolor\": \"white\", \"linecolor\": \"white\", \"ticks\": \"\"}, \"bgcolor\": \"#E5ECF6\", \"caxis\": {\"gridcolor\": \"white\", \"linecolor\": \"white\", \"ticks\": \"\"}}, \"title\": {\"x\": 0.05}, \"xaxis\": {\"automargin\": true, \"gridcolor\": \"white\", \"linecolor\": \"white\", \"ticks\": \"\", \"title\": {\"standoff\": 15}, \"zerolinecolor\": \"white\", \"zerolinewidth\": 2}, \"yaxis\": {\"automargin\": true, \"gridcolor\": \"white\", \"linecolor\": \"white\", \"ticks\": \"\", \"title\": {\"standoff\": 15}, \"zerolinecolor\": \"white\", \"zerolinewidth\": 2}}}, \"title\": {\"text\": \"\\u0412\\u043e\\u0440\\u043e\\u043d\\u043a\\u0430 \\u0441\\u043e\\u0431\\u044b\\u0442\\u0438\\u0439\", \"x\": 0.5, \"xanchor\": \"center\", \"y\": 0.87}},\n",
              "                        {\"responsive\": true}\n",
              "                    ).then(function(){\n",
              "                            \n",
              "var gd = document.getElementById('7bbfc993-6cf2-4e02-9f0a-5e054945b081');\n",
              "var x = new MutationObserver(function (mutations, observer) {{\n",
              "        var display = window.getComputedStyle(gd).display;\n",
              "        if (!display || display === 'none') {{\n",
              "            console.log([gd, 'removed!']);\n",
              "            Plotly.purge(gd);\n",
              "            observer.disconnect();\n",
              "        }}\n",
              "}});\n",
              "\n",
              "// Listen for the removal of the full notebook cells\n",
              "var notebookContainer = gd.closest('#notebook-container');\n",
              "if (notebookContainer) {{\n",
              "    x.observe(notebookContainer, {childList: true});\n",
              "}}\n",
              "\n",
              "// Listen for the clearing of the current output cell\n",
              "var outputEl = gd.closest('.output');\n",
              "if (outputEl) {{\n",
              "    x.observe(outputEl, {childList: true});\n",
              "}}\n",
              "\n",
              "                        })\n",
              "                };\n",
              "                \n",
              "            </script>\n",
              "        </div>\n",
              "</body>\n",
              "</html>"
            ]
          },
          "metadata": {
            "tags": []
          }
        },
        {
          "output_type": "display_data",
          "data": {
            "text/html": [
              "<html>\n",
              "<head><meta charset=\"utf-8\" /></head>\n",
              "<body>\n",
              "    <div>\n",
              "            <script src=\"https://cdnjs.cloudflare.com/ajax/libs/mathjax/2.7.5/MathJax.js?config=TeX-AMS-MML_SVG\"></script><script type=\"text/javascript\">if (window.MathJax) {MathJax.Hub.Config({SVG: {font: \"STIX-Web\"}});}</script>\n",
              "                <script type=\"text/javascript\">window.PlotlyConfig = {MathJaxConfig: 'local'};</script>\n",
              "        <script src=\"https://cdn.plot.ly/plotly-latest.min.js\"></script>    \n",
              "            <div id=\"f98f1707-d309-4169-8118-7191e016832a\" class=\"plotly-graph-div\" style=\"height:525px; width:100%;\"></div>\n",
              "            <script type=\"text/javascript\">\n",
              "                \n",
              "                    window.PLOTLYENV=window.PLOTLYENV || {};\n",
              "                    \n",
              "                if (document.getElementById(\"f98f1707-d309-4169-8118-7191e016832a\")) {\n",
              "                    Plotly.newPlot(\n",
              "                        'f98f1707-d309-4169-8118-7191e016832a',\n",
              "                        [{\"textinfo\": \"value+percent previous\", \"type\": \"funnel\", \"x\": [6592, 3972, 3229, 3340], \"y\": [\"StartReadingOffer\", \"StartCheckProduct\", \"OpenProductCard\", \"OpenPaymentScreen\"]}],\n",
              "                        {\"template\": {\"data\": {\"bar\": [{\"error_x\": {\"color\": \"#2a3f5f\"}, \"error_y\": {\"color\": \"#2a3f5f\"}, \"marker\": {\"line\": {\"color\": \"#E5ECF6\", \"width\": 0.5}}, \"type\": \"bar\"}], \"barpolar\": [{\"marker\": {\"line\": {\"color\": \"#E5ECF6\", \"width\": 0.5}}, \"type\": \"barpolar\"}], \"carpet\": [{\"aaxis\": {\"endlinecolor\": \"#2a3f5f\", \"gridcolor\": \"white\", \"linecolor\": \"white\", \"minorgridcolor\": \"white\", \"startlinecolor\": \"#2a3f5f\"}, \"baxis\": {\"endlinecolor\": \"#2a3f5f\", \"gridcolor\": \"white\", \"linecolor\": \"white\", \"minorgridcolor\": \"white\", \"startlinecolor\": \"#2a3f5f\"}, \"type\": \"carpet\"}], \"choropleth\": [{\"colorbar\": {\"outlinewidth\": 0, \"ticks\": \"\"}, \"type\": \"choropleth\"}], \"contour\": [{\"colorbar\": {\"outlinewidth\": 0, \"ticks\": \"\"}, \"colorscale\": [[0.0, \"#0d0887\"], [0.1111111111111111, \"#46039f\"], [0.2222222222222222, \"#7201a8\"], [0.3333333333333333, \"#9c179e\"], [0.4444444444444444, \"#bd3786\"], [0.5555555555555556, \"#d8576b\"], [0.6666666666666666, \"#ed7953\"], [0.7777777777777778, \"#fb9f3a\"], [0.8888888888888888, \"#fdca26\"], [1.0, \"#f0f921\"]], \"type\": \"contour\"}], \"contourcarpet\": [{\"colorbar\": {\"outlinewidth\": 0, \"ticks\": \"\"}, \"type\": \"contourcarpet\"}], \"heatmap\": [{\"colorbar\": {\"outlinewidth\": 0, \"ticks\": \"\"}, \"colorscale\": [[0.0, \"#0d0887\"], [0.1111111111111111, \"#46039f\"], [0.2222222222222222, \"#7201a8\"], [0.3333333333333333, \"#9c179e\"], [0.4444444444444444, \"#bd3786\"], [0.5555555555555556, \"#d8576b\"], [0.6666666666666666, \"#ed7953\"], [0.7777777777777778, \"#fb9f3a\"], [0.8888888888888888, \"#fdca26\"], [1.0, \"#f0f921\"]], \"type\": \"heatmap\"}], \"heatmapgl\": [{\"colorbar\": {\"outlinewidth\": 0, \"ticks\": \"\"}, \"colorscale\": [[0.0, \"#0d0887\"], [0.1111111111111111, \"#46039f\"], [0.2222222222222222, \"#7201a8\"], [0.3333333333333333, \"#9c179e\"], [0.4444444444444444, \"#bd3786\"], [0.5555555555555556, \"#d8576b\"], [0.6666666666666666, \"#ed7953\"], [0.7777777777777778, \"#fb9f3a\"], [0.8888888888888888, \"#fdca26\"], [1.0, \"#f0f921\"]], \"type\": \"heatmapgl\"}], \"histogram\": [{\"marker\": {\"colorbar\": {\"outlinewidth\": 0, \"ticks\": \"\"}}, \"type\": \"histogram\"}], \"histogram2d\": [{\"colorbar\": {\"outlinewidth\": 0, \"ticks\": \"\"}, \"colorscale\": [[0.0, \"#0d0887\"], [0.1111111111111111, \"#46039f\"], [0.2222222222222222, \"#7201a8\"], [0.3333333333333333, \"#9c179e\"], [0.4444444444444444, \"#bd3786\"], [0.5555555555555556, \"#d8576b\"], [0.6666666666666666, \"#ed7953\"], [0.7777777777777778, \"#fb9f3a\"], [0.8888888888888888, \"#fdca26\"], [1.0, \"#f0f921\"]], \"type\": \"histogram2d\"}], \"histogram2dcontour\": [{\"colorbar\": {\"outlinewidth\": 0, \"ticks\": \"\"}, \"colorscale\": [[0.0, \"#0d0887\"], [0.1111111111111111, \"#46039f\"], [0.2222222222222222, \"#7201a8\"], [0.3333333333333333, \"#9c179e\"], [0.4444444444444444, \"#bd3786\"], [0.5555555555555556, \"#d8576b\"], [0.6666666666666666, \"#ed7953\"], [0.7777777777777778, \"#fb9f3a\"], [0.8888888888888888, \"#fdca26\"], [1.0, \"#f0f921\"]], \"type\": \"histogram2dcontour\"}], \"mesh3d\": [{\"colorbar\": {\"outlinewidth\": 0, \"ticks\": \"\"}, \"type\": \"mesh3d\"}], \"parcoords\": [{\"line\": {\"colorbar\": {\"outlinewidth\": 0, \"ticks\": \"\"}}, \"type\": \"parcoords\"}], \"pie\": [{\"automargin\": true, \"type\": \"pie\"}], \"scatter\": [{\"marker\": {\"colorbar\": {\"outlinewidth\": 0, \"ticks\": \"\"}}, \"type\": \"scatter\"}], \"scatter3d\": [{\"line\": {\"colorbar\": {\"outlinewidth\": 0, \"ticks\": \"\"}}, \"marker\": {\"colorbar\": {\"outlinewidth\": 0, \"ticks\": \"\"}}, \"type\": \"scatter3d\"}], \"scattercarpet\": [{\"marker\": {\"colorbar\": {\"outlinewidth\": 0, \"ticks\": \"\"}}, \"type\": \"scattercarpet\"}], \"scattergeo\": [{\"marker\": {\"colorbar\": {\"outlinewidth\": 0, \"ticks\": \"\"}}, \"type\": \"scattergeo\"}], \"scattergl\": [{\"marker\": {\"colorbar\": {\"outlinewidth\": 0, \"ticks\": \"\"}}, \"type\": \"scattergl\"}], \"scattermapbox\": [{\"marker\": {\"colorbar\": {\"outlinewidth\": 0, \"ticks\": \"\"}}, \"type\": \"scattermapbox\"}], \"scatterpolar\": [{\"marker\": {\"colorbar\": {\"outlinewidth\": 0, \"ticks\": \"\"}}, \"type\": \"scatterpolar\"}], \"scatterpolargl\": [{\"marker\": {\"colorbar\": {\"outlinewidth\": 0, \"ticks\": \"\"}}, \"type\": \"scatterpolargl\"}], \"scatterternary\": [{\"marker\": {\"colorbar\": {\"outlinewidth\": 0, \"ticks\": \"\"}}, \"type\": \"scatterternary\"}], \"surface\": [{\"colorbar\": {\"outlinewidth\": 0, \"ticks\": \"\"}, \"colorscale\": [[0.0, \"#0d0887\"], [0.1111111111111111, \"#46039f\"], [0.2222222222222222, \"#7201a8\"], [0.3333333333333333, \"#9c179e\"], [0.4444444444444444, \"#bd3786\"], [0.5555555555555556, \"#d8576b\"], [0.6666666666666666, \"#ed7953\"], [0.7777777777777778, \"#fb9f3a\"], [0.8888888888888888, \"#fdca26\"], [1.0, \"#f0f921\"]], \"type\": \"surface\"}], \"table\": [{\"cells\": {\"fill\": {\"color\": \"#EBF0F8\"}, \"line\": {\"color\": \"white\"}}, \"header\": {\"fill\": {\"color\": \"#C8D4E3\"}, \"line\": {\"color\": \"white\"}}, \"type\": \"table\"}]}, \"layout\": {\"annotationdefaults\": {\"arrowcolor\": \"#2a3f5f\", \"arrowhead\": 0, \"arrowwidth\": 1}, \"coloraxis\": {\"colorbar\": {\"outlinewidth\": 0, \"ticks\": \"\"}}, \"colorscale\": {\"diverging\": [[0, \"#8e0152\"], [0.1, \"#c51b7d\"], [0.2, \"#de77ae\"], [0.3, \"#f1b6da\"], [0.4, \"#fde0ef\"], [0.5, \"#f7f7f7\"], [0.6, \"#e6f5d0\"], [0.7, \"#b8e186\"], [0.8, \"#7fbc41\"], [0.9, \"#4d9221\"], [1, \"#276419\"]], \"sequential\": [[0.0, \"#0d0887\"], [0.1111111111111111, \"#46039f\"], [0.2222222222222222, \"#7201a8\"], [0.3333333333333333, \"#9c179e\"], [0.4444444444444444, \"#bd3786\"], [0.5555555555555556, \"#d8576b\"], [0.6666666666666666, \"#ed7953\"], [0.7777777777777778, \"#fb9f3a\"], [0.8888888888888888, \"#fdca26\"], [1.0, \"#f0f921\"]], \"sequentialminus\": [[0.0, \"#0d0887\"], [0.1111111111111111, \"#46039f\"], [0.2222222222222222, \"#7201a8\"], [0.3333333333333333, \"#9c179e\"], [0.4444444444444444, \"#bd3786\"], [0.5555555555555556, \"#d8576b\"], [0.6666666666666666, \"#ed7953\"], [0.7777777777777778, \"#fb9f3a\"], [0.8888888888888888, \"#fdca26\"], [1.0, \"#f0f921\"]]}, \"colorway\": [\"#636efa\", \"#EF553B\", \"#00cc96\", \"#ab63fa\", \"#FFA15A\", \"#19d3f3\", \"#FF6692\", \"#B6E880\", \"#FF97FF\", \"#FECB52\"], \"font\": {\"color\": \"#2a3f5f\"}, \"geo\": {\"bgcolor\": \"white\", \"lakecolor\": \"white\", \"landcolor\": \"#E5ECF6\", \"showlakes\": true, \"showland\": true, \"subunitcolor\": \"white\"}, \"hoverlabel\": {\"align\": \"left\"}, \"hovermode\": \"closest\", \"mapbox\": {\"style\": \"light\"}, \"paper_bgcolor\": \"white\", \"plot_bgcolor\": \"#E5ECF6\", \"polar\": {\"angularaxis\": {\"gridcolor\": \"white\", \"linecolor\": \"white\", \"ticks\": \"\"}, \"bgcolor\": \"#E5ECF6\", \"radialaxis\": {\"gridcolor\": \"white\", \"linecolor\": \"white\", \"ticks\": \"\"}}, \"scene\": {\"xaxis\": {\"backgroundcolor\": \"#E5ECF6\", \"gridcolor\": \"white\", \"gridwidth\": 2, \"linecolor\": \"white\", \"showbackground\": true, \"ticks\": \"\", \"zerolinecolor\": \"white\"}, \"yaxis\": {\"backgroundcolor\": \"#E5ECF6\", \"gridcolor\": \"white\", \"gridwidth\": 2, \"linecolor\": \"white\", \"showbackground\": true, \"ticks\": \"\", \"zerolinecolor\": \"white\"}, \"zaxis\": {\"backgroundcolor\": \"#E5ECF6\", \"gridcolor\": \"white\", \"gridwidth\": 2, \"linecolor\": \"white\", \"showbackground\": true, \"ticks\": \"\", \"zerolinecolor\": \"white\"}}, \"shapedefaults\": {\"line\": {\"color\": \"#2a3f5f\"}}, \"ternary\": {\"aaxis\": {\"gridcolor\": \"white\", \"linecolor\": \"white\", \"ticks\": \"\"}, \"baxis\": {\"gridcolor\": \"white\", \"linecolor\": \"white\", \"ticks\": \"\"}, \"bgcolor\": \"#E5ECF6\", \"caxis\": {\"gridcolor\": \"white\", \"linecolor\": \"white\", \"ticks\": \"\"}}, \"title\": {\"x\": 0.05}, \"xaxis\": {\"automargin\": true, \"gridcolor\": \"white\", \"linecolor\": \"white\", \"ticks\": \"\", \"title\": {\"standoff\": 15}, \"zerolinecolor\": \"white\", \"zerolinewidth\": 2}, \"yaxis\": {\"automargin\": true, \"gridcolor\": \"white\", \"linecolor\": \"white\", \"ticks\": \"\", \"title\": {\"standoff\": 15}, \"zerolinecolor\": \"white\", \"zerolinewidth\": 2}}}, \"title\": {\"text\": \"\\u0412\\u043e\\u0440\\u043e\\u043d\\u043a\\u0430 \\u043f\\u043e\\u043b\\u044c\\u0437\\u043e\\u0432\\u0430\\u0442\\u0435\\u043b\\u0435\\u0439\", \"x\": 0.5, \"xanchor\": \"center\", \"y\": 0.87}},\n",
              "                        {\"responsive\": true}\n",
              "                    ).then(function(){\n",
              "                            \n",
              "var gd = document.getElementById('f98f1707-d309-4169-8118-7191e016832a');\n",
              "var x = new MutationObserver(function (mutations, observer) {{\n",
              "        var display = window.getComputedStyle(gd).display;\n",
              "        if (!display || display === 'none') {{\n",
              "            console.log([gd, 'removed!']);\n",
              "            Plotly.purge(gd);\n",
              "            observer.disconnect();\n",
              "        }}\n",
              "}});\n",
              "\n",
              "// Listen for the removal of the full notebook cells\n",
              "var notebookContainer = gd.closest('#notebook-container');\n",
              "if (notebookContainer) {{\n",
              "    x.observe(notebookContainer, {childList: true});\n",
              "}}\n",
              "\n",
              "// Listen for the clearing of the current output cell\n",
              "var outputEl = gd.closest('.output');\n",
              "if (outputEl) {{\n",
              "    x.observe(outputEl, {childList: true});\n",
              "}}\n",
              "\n",
              "                        })\n",
              "                };\n",
              "                \n",
              "            </script>\n",
              "        </div>\n",
              "</body>\n",
              "</html>"
            ]
          },
          "metadata": {
            "tags": []
          }
        }
      ]
    },
    {
      "cell_type": "markdown",
      "metadata": {
        "id": "AsZL-w_HI37m",
        "colab_type": "text"
      },
      "source": [
        "> 1.   Видим странную особенность - экран оплаты увидело бОльшее кол-во пользователей, чем карточку самого продукта - возможно, у пользователей есть возможность совершить оплату раньше просмотра самого продукта и такая разница возникает из-за повторных покупок пользователей, которые оплачивают сразу не переходя в карточку продукта.\n",
        "2.   Больше всего пользователей теряется на перввом этапе - StartReadingOffer - StartCheckProduct - около 40\\%\n",
        "\n"
      ]
    },
    {
      "cell_type": "code",
      "metadata": {
        "id": "WnVRnnJALz8z",
        "colab_type": "code",
        "outputId": "e57f5fb5-9f6f-4666-f18a-04699f2ba162",
        "colab": {
          "base_uri": "https://localhost:8080/",
          "height": 72
        }
      },
      "source": [
        "events_group_by_users = df.pivot_table(index='user_id', columns='event', values = 'eventtime', aggfunc='count')\n",
        "events_by_buyers = events_group_by_users[events_group_by_users['OpenPaymentScreen']>0]\n",
        "def whats_more(row):\n",
        "  if row['OpenPaymentScreen'] > row['OpenProductCard']:\n",
        "    return True\n",
        "  else:\n",
        "    return False\n",
        "\n",
        "events_by_buyers['whats_more'] = events_by_buyers.apply(whats_more, axis=1)\n",
        "print('Покупателей, которые экран покупки смотрели чаще экрана продукта - {:.2%}'.format(events_by_buyers['whats_more'].mean()))\n",
        "print('Покупатели всего посмотрели экран оплаты - {}, в среднем просмотров на покупателя - {}\\nПокупатели всего посмотрели экран продукта - {}, в среднем просмотров на покупателя - {}'.format(\n",
        "    events_by_buyers['OpenPaymentScreen'].sum(), events_by_buyers['OpenPaymentScreen'].median(),\n",
        "    events_by_buyers['OpenProductCard'].sum(), events_by_buyers['OpenProductCard'].median()\n",
        "))\n"
      ],
      "execution_count": 0,
      "outputs": [
        {
          "output_type": "stream",
          "text": [
            "Покупателей, которые экран покупки смотрели чаще экрана продукта - 3.12%\n",
            "Покупатели всего посмотрели экран оплаты - 22635.0, в среднем просмотров на покупателя - 3.0\n",
            "Покупатели всего посмотрели экран продукта - 27454.0, в среднем просмотров на покупателя - 4.0\n"
          ],
          "name": "stdout"
        }
      ]
    },
    {
      "cell_type": "markdown",
      "metadata": {
        "id": "j6EoW3GouEkv",
        "colab_type": "text"
      },
      "source": [
        "<a id='test'></a>\n",
        "## Проведем оценку результатов A/B-тестирования\n",
        "[К оглавлению](#content)\n",
        "* Что можно сказать про результаты A/A-тестирования?\n",
        "* Проверим статистическую разницу долей z-критерием\n"
      ]
    },
    {
      "cell_type": "code",
      "metadata": {
        "id": "yNECN-L9MafY",
        "colab_type": "code",
        "outputId": "ed9c5ccc-2494-4558-8a0a-5bd69c12ebb5",
        "colab": {
          "base_uri": "https://localhost:8080/",
          "height": 403
        }
      },
      "source": [
        "event_parts_per_groups = filtered_df.pivot_table(index='event', values='user_id', columns='group', aggfunc='nunique')\n",
        "event_parts_per_groups = event_parts_per_groups.loc[['StartReadingOffer', 'StartCheckProduct', 'OpenProductCard', 'OpenPaymentScreen']]\n",
        "event_parts_per_groups = event_parts_per_groups.reset_index()\n",
        "\n",
        "users_by_group_A1 = len(filtered_df[filtered_df['group']=='A1']['user_id'].unique())\n",
        "users_by_group_A2 = len(filtered_df[filtered_df['group']=='A2']['user_id'].unique())\n",
        "users_by_group_B = len(filtered_df[filtered_df['group']=='B']['user_id'].unique())\n",
        "event_parts_per_groups['A1_A2'] = event_parts_per_groups['A1'] + event_parts_per_groups['A2']\n",
        "users_by_group_A1_A2 = users_by_group_A1 + users_by_group_A2\n",
        "event_parts_per_groups['A1_part'] = event_parts_per_groups['A1'] / users_by_group_A1\n",
        "event_parts_per_groups['A2_part'] = event_parts_per_groups['A2'] / users_by_group_A2\n",
        "event_parts_per_groups['B_part'] = event_parts_per_groups['B'] / users_by_group_B\n",
        "event_parts_per_groups = event_parts_per_groups.set_index('event')\n",
        "event_parts_per_groups['A1_A2_part'] = event_parts_per_groups['A1_A2'] / users_by_group_A1_A2\n",
        "print(event_parts_per_groups)\n",
        "\n",
        "print('\\nПроверим нулевые гипотезы о том, что доли событий в группах A1 и A2 равны по-очередно:\\n')\n",
        "alpha =0.05\n",
        "\n",
        "def Z_test(index, group_1, group_2, part_1, part_2, number_1, number_2):\n",
        "    print('{}:'.format(index))\n",
        "    p1 = event_parts_per_groups[part_1][index]\n",
        "    p2 = event_parts_per_groups[part_2][index]\n",
        "    p = (event_parts_per_groups[group_1][index]+event_parts_per_groups[group_2][index])/\\\n",
        "    (number_1 + number_2)\n",
        "    n1 = number_1\n",
        "    n2 = number_2\n",
        "    z_value = (p1-p2)/mth.sqrt(p * (1-p) * (1/n1 + 1/n2))\n",
        "    distr = st.norm(0, 1)\n",
        "    p_value = (1 - distr.cdf(abs(z_value))) * 2\n",
        "    print('p-значение: ', p_value)\n",
        "    if p_value < alpha:\n",
        "        print(\"Отвергаем нулевую гипотезу: между долями есть значимая разница\")\n",
        "    else:\n",
        "        print(\"Не получилось отвергнуть нулевую гипотезу, нет оснований считать доли разными\")\n",
        "\n",
        "Z_test('StartReadingOffer', 'A1', 'A2', 'A1_part', 'A2_part', users_by_group_A1, users_by_group_A2)\n",
        "Z_test('StartCheckProduct', 'A1', 'A2', 'A1_part', 'A2_part', users_by_group_A1, users_by_group_A2)\n",
        "Z_test('OpenProductCard', 'A1', 'A2', 'A1_part', 'A2_part', users_by_group_A1, users_by_group_A2)\n",
        "Z_test('OpenPaymentScreen', 'A1', 'A2', 'A1_part', 'A2_part', users_by_group_A1, users_by_group_A2)\n",
        "\n"
      ],
      "execution_count": 0,
      "outputs": [
        {
          "output_type": "stream",
          "text": [
            "group                A1    A2     B  A1_A2   A1_part   A2_part    B_part  A1_A2_part\n",
            "event                                                                               \n",
            "StartReadingOffer  2206  2166  2220   4372  0.978271  0.977437  0.980132    0.977857\n",
            "StartCheckProduct  1318  1339  1315   2657  0.584479  0.604242  0.580574    0.594274\n",
            "OpenProductCard    1071  1085  1073   2156  0.474945  0.489621  0.473731    0.482219\n",
            "OpenPaymentScreen  1112  1132  1096   2244  0.493126  0.510830  0.483885    0.501901\n",
            "\n",
            "Проверим нулевые гипотезы о том, что доли событий в группах A1 и A2 равны по-очередно:\n",
            "\n",
            "StartReadingOffer:\n",
            "p-значение:  0.8497705060264933\n",
            "Не получилось отвергнуть нулевую гипотезу, нет оснований считать доли разными\n",
            "StartCheckProduct:\n",
            "p-значение:  0.17844987219688857\n",
            "Не получилось отвергнуть нулевую гипотезу, нет оснований считать доли разными\n",
            "OpenProductCard:\n",
            "p-значение:  0.3261357129982716\n",
            "Не получилось отвергнуть нулевую гипотезу, нет оснований считать доли разными\n",
            "OpenPaymentScreen:\n",
            "p-значение:  0.23651326366316505\n",
            "Не получилось отвергнуть нулевую гипотезу, нет оснований считать доли разными\n"
          ],
          "name": "stdout"
        }
      ]
    },
    {
      "cell_type": "markdown",
      "metadata": {
        "id": "6Muwdj3UcE3R",
        "colab_type": "text"
      },
      "source": [
        "> * Разницы между группами A1 и A2 не обнаружено\n",
        "* Хорошо, АА тест пройден, можно переходить к АВ тесту"
      ]
    },
    {
      "cell_type": "code",
      "metadata": {
        "id": "yY80gM6zcgwL",
        "colab_type": "code",
        "outputId": "0ab328ec-b0b5-4821-d388-8d7d0185b068",
        "colab": {
          "base_uri": "https://localhost:8080/",
          "height": 1000
        }
      },
      "source": [
        "print('Сравним группу B с контрольной группой A1')\n",
        "\n",
        "print('\\nПроверим нулевые гипотезы о том, что доли событий в группах A1 и B равны по-очередно:')\n",
        "alpha =0.05\n",
        "Z_test('StartReadingOffer', 'A1', 'B', 'A1_part', 'B_part', users_by_group_A1, users_by_group_B)\n",
        "Z_test('StartCheckProduct', 'A1', 'B', 'A1_part', 'B_part', users_by_group_A1, users_by_group_B)\n",
        "Z_test('OpenProductCard', 'A1', 'B', 'A1_part', 'B_part', users_by_group_A1, users_by_group_B)\n",
        "Z_test('OpenPaymentScreen', 'A1', 'B', 'A1_part', 'B_part', users_by_group_A1, users_by_group_B)\n",
        "print('\\nРазницы между группами A1 и B не обнаружено\\n\\n')\n",
        "\n",
        "print('Сравним группу B с контрольной группой A2')\n",
        "\n",
        "print('\\nПроверим нулевые гипотезы о том, что доли событий в группах A2 и B равны по-очередно:')\n",
        "alpha =0.05\n",
        "Z_test('StartReadingOffer', 'A2', 'B', 'A2_part', 'B_part', users_by_group_A2, users_by_group_B)\n",
        "Z_test('StartCheckProduct', 'A2', 'B', 'A2_part', 'B_part', users_by_group_A2, users_by_group_B)\n",
        "Z_test('OpenProductCard', 'A2', 'B', 'A2_part', 'B_part', users_by_group_A2, users_by_group_B)\n",
        "Z_test('OpenPaymentScreen', 'A2', 'B', 'A2_part', 'B_part', users_by_group_A2, users_by_group_B)\n",
        "print('\\nРазницы между группами A2 и B не обнаружено\\n\\n')\n",
        "\n",
        "print('Сравним группу B с объединенной контрольной группой A1_A2')\n",
        "\n",
        "print('\\nПроверим нулевые гипотезы о том, что доли событий в группах A1_A2 и B равны по-очередно:')\n",
        "alpha =0.05\n",
        "Z_test('StartReadingOffer', 'A1_A2', 'B', 'A1_A2_part', 'B_part', users_by_group_A1_A2, users_by_group_B)\n",
        "Z_test('StartCheckProduct', 'A1_A2', 'B', 'A1_A2_part', 'B_part', users_by_group_A1_A2, users_by_group_B)\n",
        "Z_test('OpenProductCard', 'A1_A2', 'B', 'A1_A2_part', 'B_part', users_by_group_A1_A2, users_by_group_B)\n",
        "Z_test('OpenPaymentScreen', 'A1_A2', 'B', 'A1_A2_part', 'B_part', users_by_group_A1_A2, users_by_group_B)\n",
        "print('\\nРазницы между объединенной группой A1_A2 и B не обнаружено\\n\\n')"
      ],
      "execution_count": 0,
      "outputs": [
        {
          "output_type": "stream",
          "text": [
            "Сравним группу B с контрольной группой A1\n",
            "\n",
            "Проверим нулевые гипотезы о том, что доли событий в группах A1 и B равны по-очередно:\n",
            "StartReadingOffer:\n",
            "p-значение:  0.6609483968688323\n",
            "Не получилось отвергнуть нулевую гипотезу, нет оснований считать доли разными\n",
            "StartCheckProduct:\n",
            "p-значение:  0.7900962987501854\n",
            "Не получилось отвергнуть нулевую гипотезу, нет оснований считать доли разными\n",
            "OpenProductCard:\n",
            "p-значение:  0.934870935427434\n",
            "Не получилось отвергнуть нулевую гипотезу, нет оснований считать доли разными\n",
            "OpenPaymentScreen:\n",
            "p-значение:  0.5342996314330497\n",
            "Не получилось отвергнуть нулевую гипотезу, нет оснований считать доли разными\n",
            "\n",
            "Разницы между группами A1 и B не обнаружено\n",
            "\n",
            "\n",
            "Сравним группу B с контрольной группой A2\n",
            "\n",
            "Проверим нулевые гипотезы о том, что доли событий в группах A2 и B равны по-очередно:\n",
            "StartReadingOffer:\n",
            "p-значение:  0.5311297624671363\n",
            "Не получилось отвергнуть нулевую гипотезу, нет оснований считать доли разными\n",
            "StartCheckProduct:\n",
            "p-значение:  0.10697657408290495\n",
            "Не получилось отвергнуть нулевую гипотезу, нет оснований считать доли разными\n",
            "OpenProductCard:\n",
            "p-значение:  0.2871673884225485\n",
            "Не получилось отвергнуть нулевую гипотезу, нет оснований считать доли разными\n",
            "OpenPaymentScreen:\n",
            "p-значение:  0.07128877064395422\n",
            "Не получилось отвергнуть нулевую гипотезу, нет оснований считать доли разными\n",
            "\n",
            "Разницы между группами A2 и B не обнаружено\n",
            "\n",
            "\n",
            "Сравним группу B с объединенной контрольной группой A1_A2\n",
            "\n",
            "Проверим нулевые гипотезы о том, что доли событий в группах A1_A2 и B равны по-очередно:\n",
            "StartReadingOffer:\n",
            "p-значение:  0.5419293576551318\n",
            "Не получилось отвергнуть нулевую гипотезу, нет оснований считать доли разными\n",
            "StartCheckProduct:\n",
            "p-значение:  0.28017662390135145\n",
            "Не получилось отвергнуть нулевую гипотезу, нет оснований считать доли разными\n",
            "OpenProductCard:\n",
            "p-значение:  0.5100336038612396\n",
            "Не получилось отвергнуть нулевую гипотезу, нет оснований считать доли разными\n",
            "OpenPaymentScreen:\n",
            "p-значение:  0.16237419735498726\n",
            "Не получилось отвергнуть нулевую гипотезу, нет оснований считать доли разными\n",
            "\n",
            "Разницы между объединенной группой A1_A2 и B не обнаружено\n",
            "\n",
            "\n"
          ],
          "name": "stdout"
        }
      ]
    },
    {
      "cell_type": "markdown",
      "metadata": {
        "id": "0eScVb2weL0z",
        "colab_type": "text"
      },
      "source": [
        "> * В рамках множественного сравнения групп мы использовали критический уровень значимости 0.05.\n",
        "* При множественном тестировании иногда используют поправки критического уровня значимости (уменьшение его)\n",
        "для снижения вероятности ошибки первого рода. \n",
        "* В нашем случае p-value в каждом тесте достаточно высок,\n",
        "для того, чтобы введение поправок критического уровня значимости было бессмысленным. Это не изменит результаты.\n"
      ]
    },
    {
      "cell_type": "markdown",
      "metadata": {
        "id": "HBnfTu5JuK83",
        "colab_type": "text"
      },
      "source": [
        "<a id='results'></a>\n",
        "## Опишем выводы по этапу исследовательского анализа данных и по проведённой оценке результатов A/B-тестирования\n",
        "[К оглавлению](#content)"
      ]
    },
    {
      "cell_type": "markdown",
      "metadata": {
        "id": "0GUoMObHfdzR",
        "colab_type": "text"
      },
      "source": [
        "На этапе подготовки данных мы выявили несущественное количество дублей строк и удалили их.\n",
        "Всего событий в логе: 154492. Всего пользователей: 6805. В среднем событий на одного пользователя: 6.\n",
        "* Кол-во событий в группе A2: 49828\n",
        "* Кол-во событий в группе B: 55018\n",
        "* Кол-во событий в группе A1: 49646\n",
        "\n",
        "Данные в логе были за период в 2 недели, но мы выяснили, что полноценные данные были лишь за 5 дней, поэтому неполноценные данные мы отсекли и взяли период с 1 по 5 августа. Количество данных уменьшилось несущественно.\n",
        "\n",
        "Больше всего пользователей теряем на первом шаге воронки  StartReadingOffer - StartCheckProduct - около 40%. До оплаты же доходит около 50% пользователей.\n",
        "\n",
        "Критический уровень значимости перед проведением тестирований мы взяли 0.05. Перед A/B тестированием мы провели A/A тестирование групп  и выяснилось, что всё впорядке и распределение на группы было корректным.\n",
        "\n",
        "**Мы провели A/B тестирование и не заметили статистически значимых отличий между контрольными группами и экспериментальной. Это значит, что внедрение чата с менеджером на сайт не дало никакого эффекта.**\n",
        "\n",
        "Проводя множественное сравнение при A/A и A/B тестированиях, мы не использовали никакие поправки критического уровня значимости, так как в этом не было никакого смысла - при уменьшении критического уровня значимости с помощью имеющихся поправок результаты тестирования не изменились бы, это видно из полученных p-value (минимальное p-value - 0.10).\n"
      ]
    }
  ]
}