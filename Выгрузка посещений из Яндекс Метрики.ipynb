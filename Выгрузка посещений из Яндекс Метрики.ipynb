{
  "nbformat": 4,
  "nbformat_minor": 0,
  "metadata": {
    "colab": {
      "name": "Выгрузка посещений из яндекс метрики",
      "provenance": [],
      "authorship_tag": "ABX9TyN0UvrcD+3xAhSitPHW5bn4",
      "include_colab_link": true
    },
    "kernelspec": {
      "name": "python3",
      "display_name": "Python 3"
    }
  },
  "cells": [
    {
      "cell_type": "markdown",
      "metadata": {
        "id": "view-in-github",
        "colab_type": "text"
      },
      "source": [
        "<a href=\"https://colab.research.google.com/github/alexeiveselov92/coding/blob/master/%D0%92%D1%8B%D0%B3%D1%80%D1%83%D0%B7%D0%BA%D0%B0%20%D0%BF%D0%BE%D1%81%D0%B5%D1%89%D0%B5%D0%BD%D0%B8%D0%B9%20%D0%B8%D0%B7%20%D1%8F%D0%BD%D0%B4%D0%B5%D0%BA%D1%81%20%D0%BC%D0%B5%D1%82%D1%80%D0%B8%D0%BA%D0%B8.ipynb\" target=\"_parent\"><img src=\"https://colab.research.google.com/assets/colab-badge.svg\" alt=\"Open In Colab\"/></a>"
      ]
    },
    {
      "cell_type": "code",
      "metadata": {
        "id": "x-dwm46d-z1p",
        "colab_type": "code",
        "outputId": "e0654e59-7a4e-4fa4-b2b0-02691c0add60",
        "colab": {
          "base_uri": "https://localhost:8080/",
          "height": 34
        }
      },
      "source": [
        "import pandas as pd\n",
        "import requests\n",
        "from bs4 import BeautifulSoup\n",
        "import json\n",
        "\n",
        "#достаем TOKEN из OAuth Yandex зарегистрировав приложение (https://oauth.yandex.ru/)\n",
        "id_with_token = '0ed90KAjgf12391a26dd' # ID специально изменен чтобы по нему нельзя было зайти\n",
        "#формируем ссылку, по которой переходим и разрешаем доступ, после чего получаем токен\n",
        "url_create_token = 'https://oauth.yandex.ru/authorize?response_type=token&client_id=' + id_with_token\n",
        "print(url_create_token)"
      ],
      "execution_count": 10,
      "outputs": [
        {
          "output_type": "stream",
          "text": [
            "https://oauth.yandex.ru/authorize?response_type=token&client_id=0ed90996761840a090efadabe91a26dd\n"
          ],
          "name": "stdout"
        }
      ]
    },
    {
      "cell_type": "code",
      "metadata": {
        "id": "4z6w0lkxE6q3",
        "colab_type": "code",
        "outputId": "6e17b41c-3102-4c84-e6df-515bc0b27be5",
        "colab": {
          "base_uri": "https://localhost:8080/",
          "height": 34
        }
      },
      "source": [
        "#вставляем полученный ТОКЕН\n",
        "TOKEN = 'AgAAAAAaq1gYAAYhI31tMIqyLk_2jN7hjBnuT2E'\n",
        "\n",
        "#указываем параметры запроса\n",
        "COUNTER_ID = 45008704\n",
        "DATE1 = '2018-03-01'\n",
        "DATE2 = '2019-05-31'\n",
        "SOURCE = 'visits'\n",
        "FIELDS = ['ym:s:visitID', 'ym:s:dateTime', 'ym:s:isNewUser','ym:s:visitDuration',\n",
        "                 'ym:s:startURL', 'ym:s:clientID', 'ym:s:lastTrafficSource']\n",
        "\n",
        "#формируем параметры запроса\n",
        "PARAM = {\n",
        "        'date1': DATE1,\n",
        "        'date2':DATE2,\n",
        "        'source':SOURCE,\n",
        "        'fields':','.join(FIELDS)\n",
        "}\n",
        "\n",
        "#запрос evaluate (для понимание возможности выгрузки данных)\n",
        "URL = 'https://api-metrika.yandex.ru/management/v1/counter/{counter_id}/logrequests/evaluate?'\\\n",
        "        .format(counter_id=COUNTER_ID)\n",
        "\n",
        "r = requests.get(URL,headers={'Authorization': 'OAuth {0}'.format(TOKEN)},params=PARAM)       \n",
        "print(r.text)"
      ],
      "execution_count": 2,
      "outputs": [
        {
          "output_type": "stream",
          "text": [
            "{\"log_request_evaluation\":{\"possible\":true,\"max_possible_day_quantity\":6744368}}\n"
          ],
          "name": "stdout"
        }
      ]
    },
    {
      "cell_type": "code",
      "metadata": {
        "id": "8GjqM0dkJtp4",
        "colab_type": "code",
        "outputId": "10cef190-c946-475c-abe8-16978e0442f6",
        "colab": {
          "base_uri": "https://localhost:8080/",
          "height": 34
        }
      },
      "source": [
        "data = json.loads(r.text)\n",
        "#Можно ли выполнить запрос получения данных из Logs API Яндекс.Метрики по данному запросу?\n",
        "data['log_request_evaluation']['possible']"
      ],
      "execution_count": 3,
      "outputs": [
        {
          "output_type": "execute_result",
          "data": {
            "text/plain": [
              "True"
            ]
          },
          "metadata": {
            "tags": []
          },
          "execution_count": 3
        }
      ]
    },
    {
      "cell_type": "code",
      "metadata": {
        "id": "rXnZ-OQnBN3Y",
        "colab_type": "code",
        "outputId": "7f052864-48a1-4a0c-d093-99045f9e3c69",
        "colab": {
          "base_uri": "https://localhost:8080/",
          "height": 54
        }
      },
      "source": [
        "#создадим запрос на отчет методом logrequests\n",
        "#параметры метода logrequests такие же, как у метода evaluate\n",
        "URL = 'https://api-metrika.yandex.ru/management/v1/counter/{counter_id}/logrequests?'\\\n",
        "        .format(counter_id=COUNTER_ID)\n",
        "r = requests.post(URL,headers={'Authorization': 'OAuth {0}'.format(TOKEN)},params=PARAM)\n",
        "data = json.loads(r.text)\n",
        "print(data)     \n",
        "#сохраним id запроса в request_id - он пригодится в дальнейшем для проверки статуса готовности данных\n",
        "request_id = data['log_request']['request_id']   "
      ],
      "execution_count": 4,
      "outputs": [
        {
          "output_type": "stream",
          "text": [
            "{'log_request': {'request_id': 8330416, 'counter_id': 45008704, 'source': 'visits', 'date1': '2018-03-01', 'date2': '2019-05-31', 'fields': ['ym:s:visitID', 'ym:s:dateTime', 'ym:s:isNewUser', 'ym:s:visitDuration', 'ym:s:startURL', 'ym:s:clientID', 'ym:s:lastTrafficSource'], 'status': 'created', 'attribution': 'LAST'}}\n"
          ],
          "name": "stdout"
        }
      ]
    },
    {
      "cell_type": "code",
      "metadata": {
        "id": "zwOlGTVJKTSr",
        "colab_type": "code",
        "outputId": "06488d51-7b40-4c5f-d663-7b15d7854456",
        "colab": {
          "base_uri": "https://localhost:8080/",
          "height": 459
        }
      },
      "source": [
        "#проверим создан ли отчёт циклом while\n",
        "import time\n",
        "status = 'created'\n",
        "while status == 'created':\n",
        "        time.sleep(60)\n",
        "        print ('trying')\n",
        "        URL = 'https://api-metrika.yandex.ru/management/v1/counter/{counter_id}/logrequest/{request_id}'\\\n",
        "        .format(counter_id=COUNTER_ID,request_id=request_id)\n",
        "        r = requests.get(URL,headers={'Authorization': 'OAuth {0}'.format(TOKEN)})\n",
        "        if r.status_code == 200:\n",
        "                status = json.loads(r.text)['log_request']['status']\n",
        "                print (json.dumps(json.loads(r.text)['log_request'], indent = 4))\n",
        "#indent - это количество пробелов"
      ],
      "execution_count": 5,
      "outputs": [
        {
          "output_type": "stream",
          "text": [
            "trying\n",
            "{\n",
            "    \"request_id\": 8330416,\n",
            "    \"counter_id\": 45008704,\n",
            "    \"source\": \"visits\",\n",
            "    \"date1\": \"2018-03-01\",\n",
            "    \"date2\": \"2019-05-31\",\n",
            "    \"fields\": [\n",
            "        \"ym:s:visitID\",\n",
            "        \"ym:s:dateTime\",\n",
            "        \"ym:s:isNewUser\",\n",
            "        \"ym:s:visitDuration\",\n",
            "        \"ym:s:startURL\",\n",
            "        \"ym:s:clientID\",\n",
            "        \"ym:s:lastTrafficSource\"\n",
            "    ],\n",
            "    \"status\": \"processed\",\n",
            "    \"size\": 528193,\n",
            "    \"parts\": [\n",
            "        {\n",
            "            \"part_number\": 0,\n",
            "            \"size\": 528193\n",
            "        }\n",
            "    ],\n",
            "    \"attribution\": \"LAST\"\n",
            "}\n"
          ],
          "name": "stdout"
        }
      ]
    },
    {
      "cell_type": "code",
      "metadata": {
        "id": "9NfIzvYBMHn7",
        "colab_type": "code",
        "outputId": "013c7013-2e75-43f0-a5a8-a2c8330221c4",
        "colab": {
          "base_uri": "https://localhost:8080/",
          "height": 34
        }
      },
      "source": [
        "#полученные данные мы получаем частями, если данных много, в таком случае в parts_number мы увидим количество частей\n",
        "#Сначала получим номера частей, которые есть в ответе:\n",
        "parts = json.loads(r.text)['log_request']['parts']\n",
        "print(parts)"
      ],
      "execution_count": 6,
      "outputs": [
        {
          "output_type": "stream",
          "text": [
            "[{'part_number': 0, 'size': 528193}]\n"
          ],
          "name": "stdout"
        }
      ]
    },
    {
      "cell_type": "code",
      "metadata": {
        "id": "1MubS5GKT2FZ",
        "colab_type": "code",
        "colab": {}
      },
      "source": [
        "#выше получили список словарей, где каждый содержит номер части и её размер. Чтобы пройтись циклом по номерам всех частей, сведём их в один список\n",
        "parts_list = []\n",
        "for part in parts:\n",
        "        parts_list.append(part['part_number'])\n",
        "\n",
        "#внутри цикла сделаем запрос для получения части данных\n",
        "\n",
        "# Обратите внимание на конструкцию StringIO(r.text). Функция StringIO() из библиотеки io позволяет прочитать строку как файл. \n",
        "# Дело в том, что метод read_csv() принимает как аргумент только файл, а часть данных в ответе от API возвращается в виде строки. \n",
        "# StringIO(r.text) превращает строку в особый тип файла — memory file (англ. «файл в памяти»). Преобразование позволяет прочитать его методом read_csv() в датафрейме tmp_df.\n",
        "# Добавим эти файлы в список tmp_dfs, чтобы затем объединить их в один датафрейм logs_df методом pd.concat()\n",
        "\n",
        "from io import StringIO\n",
        "import pandas as pd\n",
        "\n",
        "tmp_dfs = []\n",
        "\n",
        "for part_num in parts_list:\n",
        "        URL = 'https://api-metrika.yandex.ru/management/v1/counter/{counter_id}/logrequest/{request_id}/part/{part}/download' \\\n",
        "                        .format(\n",
        "                                counter_id=COUNTER_ID,\n",
        "                                request_id=request_id,\n",
        "                                part=part_num\n",
        "                        )\n",
        "\n",
        "        r = requests.get(URL,headers={'Authorization': 'OAuth {0}'.format(TOKEN)})\n",
        "        if r.status_code == 200:\n",
        "                tmp_df = pd.read_csv(StringIO(r.text), sep = '\\t') # StringIO\n",
        "                tmp_dfs.append(tmp_df)\n",
        "\n",
        "logs_df = pd.concat(tmp_dfs)"
      ],
      "execution_count": 0,
      "outputs": []
    },
    {
      "cell_type": "code",
      "metadata": {
        "id": "hOYNJSVvU7Mr",
        "colab_type": "code",
        "colab": {}
      },
      "source": [
        "#экспортируем данные в виде csv-файла вызовом метода to_csv()\n",
        "logs_df.to_csv('sessions_logs.csv',index=False)"
      ],
      "execution_count": 0,
      "outputs": []
    },
    {
      "cell_type": "code",
      "metadata": {
        "id": "27EX15LwVZsX",
        "colab_type": "code",
        "outputId": "97efb3df-6cd4-47cd-cc41-7beeaa7447d6",
        "colab": {
          "base_uri": "https://localhost:8080/",
          "height": 419
        }
      },
      "source": [
        "df = pd.read_csv('sessions_logs.csv')\n",
        "df"
      ],
      "execution_count": 9,
      "outputs": [
        {
          "output_type": "execute_result",
          "data": {
            "text/html": [
              "<div>\n",
              "<style scoped>\n",
              "    .dataframe tbody tr th:only-of-type {\n",
              "        vertical-align: middle;\n",
              "    }\n",
              "\n",
              "    .dataframe tbody tr th {\n",
              "        vertical-align: top;\n",
              "    }\n",
              "\n",
              "    .dataframe thead th {\n",
              "        text-align: right;\n",
              "    }\n",
              "</style>\n",
              "<table border=\"1\" class=\"dataframe\">\n",
              "  <thead>\n",
              "    <tr style=\"text-align: right;\">\n",
              "      <th></th>\n",
              "      <th>ym:s:visitID</th>\n",
              "      <th>ym:s:dateTime</th>\n",
              "      <th>ym:s:isNewUser</th>\n",
              "      <th>ym:s:visitDuration</th>\n",
              "      <th>ym:s:startURL</th>\n",
              "      <th>ym:s:clientID</th>\n",
              "      <th>ym:s:lastTrafficSource</th>\n",
              "    </tr>\n",
              "  </thead>\n",
              "  <tbody>\n",
              "    <tr>\n",
              "      <th>0</th>\n",
              "      <td>2837904752504748809</td>\n",
              "      <td>2018-05-25 10:09:07</td>\n",
              "      <td>1</td>\n",
              "      <td>24</td>\n",
              "      <td>https://ooocsk.com/kp?pm_block=premium&amp;pm_posi...</td>\n",
              "      <td>152723214758221731</td>\n",
              "      <td>ad</td>\n",
              "    </tr>\n",
              "    <tr>\n",
              "      <th>1</th>\n",
              "      <td>5491454137525076094</td>\n",
              "      <td>2018-09-19 13:57:15</td>\n",
              "      <td>1</td>\n",
              "      <td>15</td>\n",
              "      <td>https://ooocsk.com/opory-truboprovodov?pm_bloc...</td>\n",
              "      <td>1537354635558442809</td>\n",
              "      <td>ad</td>\n",
              "    </tr>\n",
              "    <tr>\n",
              "      <th>2</th>\n",
              "      <td>1825011232304276182</td>\n",
              "      <td>2018-04-10 16:51:05</td>\n",
              "      <td>0</td>\n",
              "      <td>39</td>\n",
              "      <td>https://ooocsk.com/</td>\n",
              "      <td>1523365898957644346</td>\n",
              "      <td>direct</td>\n",
              "    </tr>\n",
              "    <tr>\n",
              "      <th>3</th>\n",
              "      <td>1503074878692200205</td>\n",
              "      <td>2019-03-27 11:42:55</td>\n",
              "      <td>1</td>\n",
              "      <td>51</td>\n",
              "      <td>https://ooocsk.com/</td>\n",
              "      <td>155367617696327593</td>\n",
              "      <td>organic</td>\n",
              "    </tr>\n",
              "    <tr>\n",
              "      <th>4</th>\n",
              "      <td>18385994706501438966</td>\n",
              "      <td>2019-01-17 10:37:39</td>\n",
              "      <td>0</td>\n",
              "      <td>15</td>\n",
              "      <td>https://ooocsk.com/ov</td>\n",
              "      <td>1547203736419407708</td>\n",
              "      <td>organic</td>\n",
              "    </tr>\n",
              "    <tr>\n",
              "      <th>...</th>\n",
              "      <td>...</td>\n",
              "      <td>...</td>\n",
              "      <td>...</td>\n",
              "      <td>...</td>\n",
              "      <td>...</td>\n",
              "      <td>...</td>\n",
              "      <td>...</td>\n",
              "    </tr>\n",
              "    <tr>\n",
              "      <th>4685</th>\n",
              "      <td>1684863856460708633</td>\n",
              "      <td>2018-04-04 12:20:45</td>\n",
              "      <td>0</td>\n",
              "      <td>16</td>\n",
              "      <td>https://ooocsk.com/sfs-5371?pm_block=premium&amp;p...</td>\n",
              "      <td>1522821576212913491</td>\n",
              "      <td>ad</td>\n",
              "    </tr>\n",
              "    <tr>\n",
              "      <th>4686</th>\n",
              "      <td>3476962089154654402</td>\n",
              "      <td>2018-06-22 15:19:17</td>\n",
              "      <td>1</td>\n",
              "      <td>1616</td>\n",
              "      <td>https://ooocsk.com/</td>\n",
              "      <td>1529669988612366325</td>\n",
              "      <td>organic</td>\n",
              "    </tr>\n",
              "    <tr>\n",
              "      <th>4687</th>\n",
              "      <td>3635972728684032196</td>\n",
              "      <td>2018-06-29 15:48:55</td>\n",
              "      <td>1</td>\n",
              "      <td>0</td>\n",
              "      <td>https://ooocsk.com/ost-34-10-610-93</td>\n",
              "      <td>15302765301029233047</td>\n",
              "      <td>internal</td>\n",
              "    </tr>\n",
              "    <tr>\n",
              "      <th>4688</th>\n",
              "      <td>1528805563507683523</td>\n",
              "      <td>2018-03-28 14:58:50</td>\n",
              "      <td>1</td>\n",
              "      <td>15</td>\n",
              "      <td>https://ooocsk.com/otvody-stalnye-gost-17375-2001</td>\n",
              "      <td>1522238331645961906</td>\n",
              "      <td>ad</td>\n",
              "    </tr>\n",
              "    <tr>\n",
              "      <th>4689</th>\n",
              "      <td>1001738903859957208</td>\n",
              "      <td>2019-03-05 08:28:50</td>\n",
              "      <td>1</td>\n",
              "      <td>59</td>\n",
              "      <td>https://ooocsk.com/t-3</td>\n",
              "      <td>1551763730877160740</td>\n",
              "      <td>organic</td>\n",
              "    </tr>\n",
              "  </tbody>\n",
              "</table>\n",
              "<p>4690 rows × 7 columns</p>\n",
              "</div>"
            ],
            "text/plain": [
              "              ym:s:visitID  ... ym:s:lastTrafficSource\n",
              "0      2837904752504748809  ...                     ad\n",
              "1      5491454137525076094  ...                     ad\n",
              "2      1825011232304276182  ...                 direct\n",
              "3      1503074878692200205  ...                organic\n",
              "4     18385994706501438966  ...                organic\n",
              "...                    ...  ...                    ...\n",
              "4685   1684863856460708633  ...                     ad\n",
              "4686   3476962089154654402  ...                organic\n",
              "4687   3635972728684032196  ...               internal\n",
              "4688   1528805563507683523  ...                     ad\n",
              "4689   1001738903859957208  ...                organic\n",
              "\n",
              "[4690 rows x 7 columns]"
            ]
          },
          "metadata": {
            "tags": []
          },
          "execution_count": 9
        }
      ]
    },
    {
      "cell_type": "code",
      "metadata": {
        "id": "XN4aWPifVoWB",
        "colab_type": "code",
        "colab": {}
      },
      "source": [
        ""
      ],
      "execution_count": 0,
      "outputs": []
    }
  ]
}
