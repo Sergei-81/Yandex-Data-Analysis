{
  "nbformat": 4,
  "nbformat_minor": 0,
  "metadata": {
    "kernelspec": {
      "display_name": "Python 3",
      "language": "python",
      "name": "python3"
    },
    "language_info": {
      "codemirror_mode": {
        "name": "ipython",
        "version": 3
      },
      "file_extension": ".py",
      "mimetype": "text/x-python",
      "name": "python",
      "nbconvert_exporter": "python",
      "pygments_lexer": "ipython3",
      "version": "3.7.4"
    },
    "colab": {
      "name": "2. Исследование объявлений о продаже квартир.ipynb",
      "provenance": [],
      "toc_visible": true,
      "include_colab_link": true
    }
  },
  "cells": [
    {
      "cell_type": "markdown",
      "metadata": {
        "id": "view-in-github",
        "colab_type": "text"
      },
      "source": [
        "<a href=\"https://colab.research.google.com/github/alexeiveselov92/Yandex-Data-Analysis/blob/master/%D0%98%D1%81%D1%81%D0%BB%D0%B5%D0%B4%D0%BE%D0%B2%D0%B0%D0%BD%D0%B8%D0%B5%20%D0%BE%D0%B1%D1%8A%D1%8F%D0%B2%D0%BB%D0%B5%D0%BD%D0%B8%D0%B9%20%D0%BE%20%D0%BF%D1%80%D0%BE%D0%B4%D0%B0%D0%B6%D0%B5%20%D0%BA%D0%B2%D0%B0%D1%80%D1%82%D0%B8%D1%80.ipynb\" target=\"_parent\"><img src=\"https://colab.research.google.com/assets/colab-badge.svg\" alt=\"Open In Colab\"/></a>"
      ]
    },
    {
      "cell_type": "markdown",
      "metadata": {
        "id": "y7rFRoIKg654",
        "colab_type": "text"
      },
      "source": [
        "# Исследование объявлений о продаже квартир\n",
        "\n",
        "В вашем распоряжении данные сервиса Яндекс.Недвижимость — архив объявлений о продаже квартир в Санкт-Петербурге и соседних населённых пунктов за несколько лет. Нужно научиться определять рыночную стоимость объектов недвижимости. Ваша задача — установить параметры. Это позволит построить автоматизированную систему: она отследит аномалии и мошенническую деятельность. \n",
        "\n",
        "По каждой квартире на продажу доступны два вида данных. Первые вписаны пользователем, вторые — получены автоматически на основе картографических данных. Например, расстояние до центра, аэропорта, ближайшего парка и водоёма. "
      ]
    },
    {
      "cell_type": "markdown",
      "metadata": {
        "id": "suiGiwZtg655",
        "colab_type": "text"
      },
      "source": [
        "### Шаг 1. Откройте файл с данными и изучите общую информацию. "
      ]
    },
    {
      "cell_type": "code",
      "metadata": {
        "id": "8YfjP23dg656",
        "colab_type": "code",
        "outputId": "54a33c3e-4c4c-41ea-e5d7-648267b2939c",
        "colab": {}
      },
      "source": [
        "import pandas as pd\n",
        "data = pd.read_csv('/datasets/real_estate_data.csv', sep = '\\t')\n",
        "#посмотрим типы данных и кол-во ненулевых значений\n",
        "data.info()"
      ],
      "execution_count": 0,
      "outputs": [
        {
          "output_type": "stream",
          "text": [
            "<class 'pandas.core.frame.DataFrame'>\n",
            "RangeIndex: 23699 entries, 0 to 23698\n",
            "Data columns (total 22 columns):\n",
            "total_images            23699 non-null int64\n",
            "last_price              23699 non-null float64\n",
            "total_area              23699 non-null float64\n",
            "first_day_exposition    23699 non-null object\n",
            "rooms                   23699 non-null int64\n",
            "ceiling_height          14504 non-null float64\n",
            "floors_total            23613 non-null float64\n",
            "living_area             21796 non-null float64\n",
            "floor                   23699 non-null int64\n",
            "is_apartment            2775 non-null object\n",
            "studio                  23699 non-null bool\n",
            "open_plan               23699 non-null bool\n",
            "kitchen_area            21421 non-null float64\n",
            "balcony                 12180 non-null float64\n",
            "locality_name           23650 non-null object\n",
            "airports_nearest        18157 non-null float64\n",
            "cityCenters_nearest     18180 non-null float64\n",
            "parks_around3000        18181 non-null float64\n",
            "parks_nearest           8079 non-null float64\n",
            "ponds_around3000        18181 non-null float64\n",
            "ponds_nearest           9110 non-null float64\n",
            "days_exposition         20518 non-null float64\n",
            "dtypes: bool(2), float64(14), int64(3), object(3)\n",
            "memory usage: 3.7+ MB\n"
          ],
          "name": "stdout"
        }
      ]
    },
    {
      "cell_type": "markdown",
      "metadata": {
        "id": "ZsatT9Wrg66C",
        "colab_type": "text"
      },
      "source": [
        "### Вывод"
      ]
    },
    {
      "cell_type": "markdown",
      "metadata": {
        "id": "30H33ia1g66D",
        "colab_type": "text"
      },
      "source": [
        "Заметили следующее:\n",
        "1. first_day_exposition - object - должен быть тип datetime\n",
        "2. ceiling_height - нулевые значения\n",
        "3. floors_total - должен быть тип int, т.к. количество этажей - целое значение + нулевые значения\n",
        "4. is_apartment - должен быть тип bool + нулевые значения\n",
        "5. living_area - нулевые значения\n",
        "6. kitchen_area - нулевые значения\n",
        "7. balcony - нулевые значения\n",
        "8. locality_name  - нулевые значения\n",
        "9. airports_nearest - нулевые значения\n",
        "10. cityCenters_nearest - нулевые значения\n",
        "11. parks_around3000 - тип должен быть int + нулевые значения\n",
        "12. parks_nearest  - нулевые значения\n",
        "13. ponds_around3000 - тип должен быть int + нулевые значения\n",
        "14. ponds_nearest - нулевые значения\n",
        "15. days_exposition - тип должен быть int + нулевые значения \n"
      ]
    },
    {
      "cell_type": "markdown",
      "metadata": {
        "id": "uWxJtL19g66E",
        "colab_type": "text"
      },
      "source": [
        "### Шаг 2. Предобработка данных"
      ]
    },
    {
      "cell_type": "code",
      "metadata": {
        "id": "sJLmKKcBg66F",
        "colab_type": "code",
        "outputId": "665469f2-5d72-4ee6-bfea-205e481c8a7a",
        "colab": {}
      },
      "source": [
        "print(data.columns)\n",
        "#посмотрим значения в столбцах для выявления нестандартных значений на первый взгляд и ошибок, \n",
        "#все эти столбца оставляем как есть\n",
        "data['total_images'].value_counts()\n",
        "data['ceiling_height'].value_counts()\n",
        "data['floor'].value_counts()\n",
        "data['is_apartment'].value_counts()\n",
        "data['total_area'].value_counts()\n",
        "data['rooms'].value_counts()\n",
        "data['airports_nearest'].value_counts()\n",
        "data['cityCenters_nearest'].value_counts()\n",
        "data['parks_around3000'].value_counts()\n",
        "data['parks_nearest'].value_counts()\n",
        "data['ponds_around3000'].value_counts()\n",
        "\n",
        "#заменим пропуски в days_exposition и заменим тип данных\n",
        "data['days_exposition'] = data['days_exposition'].fillna(0).astype('int')\n",
        "\n",
        "#пропущенные значения в locality_name не будем трогать, причина не понятна\n",
        "data['locality_name'].value_counts()\n",
        "\n",
        "#переведем столбец с датой в формат даты без времени, т.к. время не указано\n",
        "data['first_day_exposition'] = pd.to_datetime(data['first_day_exposition'], format = '%Y-%m-%d')\n",
        "\n",
        "#заменим пропуски в balcony на 0 и изменим тип данных на int\n",
        "data['balcony'].value_counts()\n",
        "data['balcony'] = data['balcony'].fillna(0)\n",
        "data['balcony'] = data['balcony'].astype('int')\n",
        "\n",
        "#посмотрим параметр ceiling_height, видим что есть необоснованно большие значения но пока оставим их как есть,\n",
        "#медиана от среднего отличается не сильно из-за этих выбросов во всей выборке\n",
        "data['ceiling_height'].sort_values().plot(y = 'ceiling_height', kind = 'hist', bins = 30, range=(2,5))\n",
        "data['ceiling_height'].value_counts()\n",
        "data['ceiling_height'].describe()\n",
        "data[data['ceiling_height'] > 4].sort_values('ceiling_height').tail(20)\n",
        "\n",
        "#столбец апартаменты видимо появился не вместе с началом ведения записей, все пропущенные значения заменим на False, \n",
        "#апартаменты появились относительно недавно\n",
        "data['is_apartment'] = data['is_apartment'].fillna(False)\n",
        "\n",
        "#изменим цену на тип int для удобства просмотра\n",
        "data['last_price'] = data['last_price'].astype('int')\n",
        "data['last_price']\n",
        "\n",
        "#посмотрим данные с пропущенными значениями в floors_total- ничего общего между ними нет, оставим как есть\n",
        "data[data['floors_total'].isna()]\n",
        "\n",
        "#living_area слишком много знаков после запятой и есть пропущенные значения, \n",
        "#можно посчитать средний процент жилой площади от всей площади по всей выборке\n",
        "#и высчитать для строк с пропусками жилую площадь как вариант но мы не будем тратить на это время\n",
        "data['living_area'].value_counts()\n",
        "data['living_area'].describe()\n",
        "\n"
      ],
      "execution_count": 0,
      "outputs": [
        {
          "output_type": "stream",
          "text": [
            "Index(['total_images', 'last_price', 'total_area', 'first_day_exposition',\n",
            "       'rooms', 'ceiling_height', 'floors_total', 'living_area', 'floor',\n",
            "       'is_apartment', 'studio', 'open_plan', 'kitchen_area', 'balcony',\n",
            "       'locality_name', 'airports_nearest', 'cityCenters_nearest',\n",
            "       'parks_around3000', 'parks_nearest', 'ponds_around3000',\n",
            "       'ponds_nearest', 'days_exposition'],\n",
            "      dtype='object')\n"
          ],
          "name": "stdout"
        },
        {
          "output_type": "execute_result",
          "data": {
            "text/plain": [
              "count    21796.000000\n",
              "mean        34.457852\n",
              "std         22.030445\n",
              "min          2.000000\n",
              "25%         18.600000\n",
              "50%         30.000000\n",
              "75%         42.300000\n",
              "max        409.700000\n",
              "Name: living_area, dtype: float64"
            ]
          },
          "metadata": {
            "tags": []
          },
          "execution_count": 2
        }
      ]
    },
    {
      "cell_type": "markdown",
      "metadata": {
        "id": "uP7G9NABg66L",
        "colab_type": "text"
      },
      "source": [
        "<span style=\"color:green\">Хорошая и понятная предобработка!</span>"
      ]
    },
    {
      "cell_type": "markdown",
      "metadata": {
        "id": "sNRFrKf6g66M",
        "colab_type": "text"
      },
      "source": [
        "### Шаг 3. Посчитайте и добавьте в таблицу\n",
        "\n",
        "1. цену квадратного метра;\n",
        "2. день недели, месяц и год публикации объявления;\n",
        "3. этаж квартиры; варианты — первый, последний, другой;\n",
        "4. соотношение жилой и общей площади, а также отношение площади кухни к общей.\n"
      ]
    },
    {
      "cell_type": "code",
      "metadata": {
        "id": "xnLccUrBg66N",
        "colab_type": "code",
        "colab": {}
      },
      "source": [
        "#посчитаем цену квадратного метра\n",
        "data['price_per_square_meter'] = data['last_price'] / data['total_area']\n",
        "\n",
        "#для удобства просмотра приведем к типу int\n",
        "data['price_per_square_meter'] = data['price_per_square_meter'].astype('int')\n",
        "\n",
        "#создаю столбец дня недели\n",
        "data['weekday_exposition'] = data['first_day_exposition'].dt.weekday\n",
        "\n",
        "#создаю столбец месяца\n",
        "data['month_exposition'] = data['first_day_exposition'].dt.month\n",
        "\n",
        "#создаю столбец года\n",
        "data['year_exposition'] = data['first_day_exposition'].dt.year\n",
        "\n",
        "#напишем функцию категоризации по этажам, используя метод apply применимо к каждой строке датафрейма через axis = 1\n",
        "def floor_category(row):\n",
        "    floors_total = row['floors_total']\n",
        "    floor = row['floor']\n",
        "    if floor == 1:\n",
        "        return 'первый'\n",
        "    elif floor == floors_total:\n",
        "        return 'последний'\n",
        "    elif 1 < floor < floors_total:\n",
        "        return 'другой'\n",
        "    \n",
        "#категоризуем этажи с помощью функции  \n",
        "data['floor_category'] = data.apply(floor_category, axis = 1)\n",
        "\n",
        "#добавим столбец соотношения жилой плозади к общей\n",
        "data['useful_area_ratio'] = data['living_area'] / data['total_area']\n",
        "\n",
        "#добавим столбец отношения площади кухни к общей\n",
        "data['kitchen_area_ratio'] = data['kitchen_area'] / data['total_area']\n",
        "\n"
      ],
      "execution_count": 0,
      "outputs": []
    },
    {
      "cell_type": "markdown",
      "metadata": {
        "id": "Bg9jebV-g66S",
        "colab_type": "text"
      },
      "source": [
        "### Шаг 4. Проведите исследовательский анализ данных и выполните инструкции:"
      ]
    },
    {
      "cell_type": "markdown",
      "metadata": {
        "id": "kDgKALlAg66T",
        "colab_type": "text"
      },
      "source": [
        "#### 1. Изучите следующие параметры: площадь, цена, число комнат, высота потолков. Постройте гистограммы для каждого параметра."
      ]
    },
    {
      "cell_type": "code",
      "metadata": {
        "id": "lNEpv2KHg66U",
        "colab_type": "code",
        "outputId": "f39c6fc4-19a9-4672-c2c3-318c1d90624b",
        "colab": {}
      },
      "source": [
        "#изучим общую площадь\n",
        "data\n",
        "data.plot(y = 'total_area', kind = 'hist', bins = 100, grid=True, figsize = (5,3), range = (0,500))\n",
        "data['total_area'].describe()\n",
        "#распределение данных нормальное, есть выбросы но они не сильно влияют на данные, \n",
        "#по гистограмме кроме распределения нечего больше указать, с помошью describe получил общее представление\n",
        "\n",
        "#изучим цену\n",
        "#data['last_price'] = data['last_price']/1000000\n",
        "data.plot(y = 'last_price', kind = 'hist', bins = 100, grid=True, range = (0,15000000), figsize = (5,3))\n",
        "data['last_price'].describe()\n",
        "#с данными все впорядке но значения выводятся в экспоненциальной записи чисел\n",
        "\n",
        "#изучим число комнат\n",
        "data\n",
        "data.plot(y = 'rooms', kind = 'hist', bins = 30, grid=True, figsize = (5,3))\n",
        "data['rooms'].describe()\n",
        "#с данными все впорядке\n",
        "\n",
        "#изучим высоту потолков\n",
        "data\n",
        "data.plot(y = 'ceiling_height', kind = 'hist', bins = 30, range = (2,5), grid=True, figsize = (5,3))\n",
        "data['ceiling_height'].describe()\n",
        "#с данными все впорядке\n"
      ],
      "execution_count": 0,
      "outputs": [
        {
          "output_type": "execute_result",
          "data": {
            "text/plain": [
              "count    14504.000000\n",
              "mean         2.771499\n",
              "std          1.261056\n",
              "min          1.000000\n",
              "25%          2.520000\n",
              "50%          2.650000\n",
              "75%          2.800000\n",
              "max        100.000000\n",
              "Name: ceiling_height, dtype: float64"
            ]
          },
          "metadata": {
            "tags": []
          },
          "execution_count": 27
        },
        {
          "output_type": "display_data",
          "data": {
            "image/png": "[encoded data removed]",
            "text/plain": [
              "<Figure size 360x216 with 1 Axes>"
            ]
          },
          "metadata": {
            "tags": [],
            "needs_background": "light"
          }
        },
        {
          "output_type": "display_data",
          "data": {
            "image/png": "[encoded data removed]",
            "text/plain": [
              "<Figure size 360x216 with 1 Axes>"
            ]
          },
          "metadata": {
            "tags": [],
            "needs_background": "light"
          }
        },
        {
          "output_type": "display_data",
          "data": {
            "image/png": "[encoded data removed]",
            "text/plain": [
              "<Figure size 360x216 with 1 Axes>"
            ]
          },
          "metadata": {
            "tags": [],
            "needs_background": "light"
          }
        },
        {
          "output_type": "display_data",
          "data": {
            "image/png": "[encoded data removed]",
            "text/plain": [
              "<Figure size 360x216 with 1 Axes>"
            ]
          },
          "metadata": {
            "tags": [],
            "needs_background": "light"
          }
        }
      ]
    },
    {
      "cell_type": "markdown",
      "metadata": {
        "id": "kGXJm8cTg66a",
        "colab_type": "text"
      },
      "source": [
        "<span style=\"color:green\">Напиши, пожалуйста, чуть подробнее про распределения по параметрам, как в среднем выглядет  площадь квартир, каких больше, что с ценами, как рынок вообще представлен. Представь, что ты словами должен описать распределение,что ты пишешь статью для журнала недвижимости. Представь, что я , например, ничего не знаю о рынке недвижисоти в Санкт-Петербурге, не знаю, какие могут быть цены, площадь, сколько комнат вообще может быть. Попробуй описать рынок для меня :)  </span>"
      ]
    },
    {
      "cell_type": "markdown",
      "metadata": {
        "id": "ghsG_BY4g66b",
        "colab_type": "text"
      },
      "source": [
        "**Вывод:** \n",
        "1. Общая площадь в нашей выборке колеблется от 12 до 900 м2, среднее значение 60, а медиана 52 м2. Распределение данных Гаусса.\n",
        "\n",
        "2. Цены на недвижимость имеют среднее значение в 6,5 млн руб., медиана 4,6 млн руб. Распределение данных Гаусса.\n",
        "\n",
        "3. Количество комнат колеблется от 1 до 19. Больше всего однокомнатных квартир.\n",
        "\n",
        "4. Высота потолков в среднем составляет 2,77 м, медиана 2,65 м.\n",
        "\n",
        "Во всех данных есть неадекватные значения, наподобе 0 комнат, высоты потолков в 1 или 100 метров, а также цена квартиры в 12190 рублей. О данных неадекватных значениях мы спросим у сотрудников, предоставивших нам выборку данных, для общего изучения данных, мы не станем убирать эти выбивающиеся значения."
      ]
    },
    {
      "cell_type": "markdown",
      "metadata": {
        "id": "aMvTvOGSg66b",
        "colab_type": "text"
      },
      "source": [
        "\n",
        "\n",
        "\n",
        "#### 2. Изучите время продажи квартиры. Постройте гистограмму. Посчитайте среднее и медиану. Опишите, сколько обычно занимает продажа. Когда можно считать, что продажи прошли очень быстро, а когда необычно долго?\n",
        "\n",
        "Прежде чем начать выполнять это задание сделаем предположение, что дата снятия объявления может не считаться датой продажи, причем в непонятном для нас количестве случаев..."
      ]
    },
    {
      "cell_type": "code",
      "metadata": {
        "id": "hVQuPhyGg66c",
        "colab_type": "code",
        "outputId": "a67ec5b0-b345-44d0-a98e-bc8f829bdce9",
        "colab": {}
      },
      "source": [
        "print(data.columns)\n",
        "\n",
        "#диаграмма размаха\n",
        "import matplotlib.pyplot as plt\n",
        "plt.boxplot(data[data['days_exposition']!=0]['days_exposition'])\n",
        "plt.ylim(1,1000)\n",
        "\n",
        "data.plot(y = 'days_exposition', kind = 'hist', bins = 30, grid = True, range = (1,1600))\n",
        "data.plot(y = 'days_exposition', kind = 'hist', bins = 100, grid = True, range = (1,200))\n",
        "\n",
        "#среднее значение, медиана и межквартильный размах\n",
        "data[data['days_exposition']!=0]['days_exposition'].describe()\n",
        "#data[data['days_exposition']!=0]['days_exposition'].value_counts()\n",
        "\n"
      ],
      "execution_count": 0,
      "outputs": [
        {
          "output_type": "stream",
          "text": [
            "Index(['total_images', 'last_price', 'total_area', 'first_day_exposition',\n",
            "       'rooms', 'ceiling_height', 'floors_total', 'living_area', 'floor',\n",
            "       'is_apartment', 'studio', 'open_plan', 'kitchen_area', 'balcony',\n",
            "       'locality_name', 'airports_nearest', 'cityCenters_nearest',\n",
            "       'parks_around3000', 'parks_nearest', 'ponds_around3000',\n",
            "       'ponds_nearest', 'days_exposition', 'price_per_square_meter',\n",
            "       'weekday_exposition', 'month_exposition', 'year_exposition',\n",
            "       'floor_category', 'useful_area_ratio', 'kitchen_area_ratio'],\n",
            "      dtype='object')\n"
          ],
          "name": "stdout"
        },
        {
          "output_type": "execute_result",
          "data": {
            "text/plain": [
              "count    20518.000000\n",
              "mean       180.888634\n",
              "std        219.727988\n",
              "min          1.000000\n",
              "25%         45.000000\n",
              "50%         95.000000\n",
              "75%        232.000000\n",
              "max       1580.000000\n",
              "Name: days_exposition, dtype: float64"
            ]
          },
          "metadata": {
            "tags": []
          },
          "execution_count": 5
        },
        {
          "output_type": "display_data",
          "data": {
            "image/png": "[encoded data removed]",
            "text/plain": [
              "<Figure size 432x288 with 1 Axes>"
            ]
          },
          "metadata": {
            "tags": [],
            "needs_background": "light"
          }
        },
        {
          "output_type": "display_data",
          "data": {
            "image/png": "[encoded data removed]",
            "text/plain": [
              "<Figure size 432x288 with 1 Axes>"
            ]
          },
          "metadata": {
            "tags": [],
            "needs_background": "light"
          }
        },
        {
          "output_type": "display_data",
          "data": {
            "image/png": "[encoded data removed]",
            "text/plain": [
              "<Figure size 432x288 with 1 Axes>"
            ]
          },
          "metadata": {
            "tags": [],
            "needs_background": "light"
          }
        }
      ]
    },
    {
      "cell_type": "markdown",
      "metadata": {
        "id": "xtWevdvZg66i",
        "colab_type": "text"
      },
      "source": [
        "**Вывод:** судя по гистограмме - мы имеем распределение Пуассона. Среднее значение - 180 дней, а медиана - 95 дней.\n",
        "Сделав гистограмму со значениями от 0 до 200 с кол-вом корзин 100, обнаружили выбивающиеся значения и методом value_counts убедились в этом - у нас аномалии на 45, 60, 7, 30, 90 днях - это наиболее популярное количество дней до снятия объявления.\n",
        "\n",
        "Загуглил правила размещения объявлений в Яндекс Недвижимость, оказалось что именно после этих сроков объявление считается неактуальным и снимается автоматически.\n",
        "https://yandex.ru/support/realty/owner/home/add-ads-housing.html\n",
        "Наверное, нам нужно убрать эти значения из выборки, но нужно подумать есть ли еще критерии для снятия таких объявлений, ведь часть из таких квартир могла и правда продаться в этот срок.\n"
      ]
    },
    {
      "cell_type": "code",
      "metadata": {
        "id": "zzYtMcc3g66j",
        "colab_type": "code",
        "outputId": "0fa46b4a-7e19-4434-c080-03e394f0a5a0",
        "colab": {}
      },
      "source": [
        "data[data['days_exposition']==45]"
      ],
      "execution_count": 0,
      "outputs": [
        {
          "output_type": "execute_result",
          "data": {
            "text/html": [
              "<div>\n",
              "<style scoped>\n",
              "    .dataframe tbody tr th:only-of-type {\n",
              "        vertical-align: middle;\n",
              "    }\n",
              "\n",
              "    .dataframe tbody tr th {\n",
              "        vertical-align: top;\n",
              "    }\n",
              "\n",
              "    .dataframe thead th {\n",
              "        text-align: right;\n",
              "    }\n",
              "</style>\n",
              "<table border=\"1\" class=\"dataframe\">\n",
              "  <thead>\n",
              "    <tr style=\"text-align: right;\">\n",
              "      <th></th>\n",
              "      <th>total_images</th>\n",
              "      <th>last_price</th>\n",
              "      <th>total_area</th>\n",
              "      <th>first_day_exposition</th>\n",
              "      <th>rooms</th>\n",
              "      <th>ceiling_height</th>\n",
              "      <th>floors_total</th>\n",
              "      <th>living_area</th>\n",
              "      <th>floor</th>\n",
              "      <th>is_apartment</th>\n",
              "      <th>...</th>\n",
              "      <th>ponds_around3000</th>\n",
              "      <th>ponds_nearest</th>\n",
              "      <th>days_exposition</th>\n",
              "      <th>price_per_square_meter</th>\n",
              "      <th>weekday_exposition</th>\n",
              "      <th>month_exposition</th>\n",
              "      <th>year_exposition</th>\n",
              "      <th>floor_category</th>\n",
              "      <th>useful_area_ratio</th>\n",
              "      <th>kitchen_area_ratio</th>\n",
              "    </tr>\n",
              "  </thead>\n",
              "  <tbody>\n",
              "    <tr>\n",
              "      <th>78</th>\n",
              "      <td>9</td>\n",
              "      <td>4350000</td>\n",
              "      <td>37.0</td>\n",
              "      <td>2018-02-22</td>\n",
              "      <td>1</td>\n",
              "      <td>NaN</td>\n",
              "      <td>19.0</td>\n",
              "      <td>18.00</td>\n",
              "      <td>6</td>\n",
              "      <td>False</td>\n",
              "      <td>...</td>\n",
              "      <td>0.0</td>\n",
              "      <td>NaN</td>\n",
              "      <td>45</td>\n",
              "      <td>117567</td>\n",
              "      <td>3</td>\n",
              "      <td>2</td>\n",
              "      <td>2018</td>\n",
              "      <td>другой</td>\n",
              "      <td>0.486486</td>\n",
              "      <td>0.289189</td>\n",
              "    </tr>\n",
              "    <tr>\n",
              "      <th>89</th>\n",
              "      <td>9</td>\n",
              "      <td>2500000</td>\n",
              "      <td>63.0</td>\n",
              "      <td>2018-10-25</td>\n",
              "      <td>3</td>\n",
              "      <td>2.50</td>\n",
              "      <td>5.0</td>\n",
              "      <td>43.00</td>\n",
              "      <td>4</td>\n",
              "      <td>False</td>\n",
              "      <td>...</td>\n",
              "      <td>NaN</td>\n",
              "      <td>NaN</td>\n",
              "      <td>45</td>\n",
              "      <td>39682</td>\n",
              "      <td>3</td>\n",
              "      <td>10</td>\n",
              "      <td>2018</td>\n",
              "      <td>другой</td>\n",
              "      <td>0.682540</td>\n",
              "      <td>0.142857</td>\n",
              "    </tr>\n",
              "    <tr>\n",
              "      <th>110</th>\n",
              "      <td>6</td>\n",
              "      <td>3850000</td>\n",
              "      <td>72.3</td>\n",
              "      <td>2017-09-29</td>\n",
              "      <td>2</td>\n",
              "      <td>NaN</td>\n",
              "      <td>3.0</td>\n",
              "      <td>27.40</td>\n",
              "      <td>2</td>\n",
              "      <td>False</td>\n",
              "      <td>...</td>\n",
              "      <td>NaN</td>\n",
              "      <td>NaN</td>\n",
              "      <td>45</td>\n",
              "      <td>53250</td>\n",
              "      <td>4</td>\n",
              "      <td>9</td>\n",
              "      <td>2017</td>\n",
              "      <td>другой</td>\n",
              "      <td>0.378976</td>\n",
              "      <td>0.326418</td>\n",
              "    </tr>\n",
              "    <tr>\n",
              "      <th>153</th>\n",
              "      <td>12</td>\n",
              "      <td>4350000</td>\n",
              "      <td>55.0</td>\n",
              "      <td>2017-05-21</td>\n",
              "      <td>2</td>\n",
              "      <td>2.57</td>\n",
              "      <td>9.0</td>\n",
              "      <td>31.20</td>\n",
              "      <td>2</td>\n",
              "      <td>False</td>\n",
              "      <td>...</td>\n",
              "      <td>0.0</td>\n",
              "      <td>NaN</td>\n",
              "      <td>45</td>\n",
              "      <td>79090</td>\n",
              "      <td>6</td>\n",
              "      <td>5</td>\n",
              "      <td>2017</td>\n",
              "      <td>другой</td>\n",
              "      <td>0.567273</td>\n",
              "      <td>0.150909</td>\n",
              "    </tr>\n",
              "    <tr>\n",
              "      <th>158</th>\n",
              "      <td>15</td>\n",
              "      <td>3100000</td>\n",
              "      <td>47.3</td>\n",
              "      <td>2017-11-07</td>\n",
              "      <td>2</td>\n",
              "      <td>NaN</td>\n",
              "      <td>5.0</td>\n",
              "      <td>27.50</td>\n",
              "      <td>2</td>\n",
              "      <td>False</td>\n",
              "      <td>...</td>\n",
              "      <td>NaN</td>\n",
              "      <td>NaN</td>\n",
              "      <td>45</td>\n",
              "      <td>65539</td>\n",
              "      <td>1</td>\n",
              "      <td>11</td>\n",
              "      <td>2017</td>\n",
              "      <td>другой</td>\n",
              "      <td>0.581395</td>\n",
              "      <td>0.179704</td>\n",
              "    </tr>\n",
              "    <tr>\n",
              "      <th>166</th>\n",
              "      <td>0</td>\n",
              "      <td>2300000</td>\n",
              "      <td>60.0</td>\n",
              "      <td>2017-12-02</td>\n",
              "      <td>2</td>\n",
              "      <td>NaN</td>\n",
              "      <td>3.0</td>\n",
              "      <td>NaN</td>\n",
              "      <td>1</td>\n",
              "      <td>False</td>\n",
              "      <td>...</td>\n",
              "      <td>NaN</td>\n",
              "      <td>NaN</td>\n",
              "      <td>45</td>\n",
              "      <td>38333</td>\n",
              "      <td>5</td>\n",
              "      <td>12</td>\n",
              "      <td>2017</td>\n",
              "      <td>первый</td>\n",
              "      <td>NaN</td>\n",
              "      <td>NaN</td>\n",
              "    </tr>\n",
              "    <tr>\n",
              "      <th>189</th>\n",
              "      <td>0</td>\n",
              "      <td>6150000</td>\n",
              "      <td>62.0</td>\n",
              "      <td>2017-10-13</td>\n",
              "      <td>3</td>\n",
              "      <td>NaN</td>\n",
              "      <td>9.0</td>\n",
              "      <td>41.50</td>\n",
              "      <td>5</td>\n",
              "      <td>False</td>\n",
              "      <td>...</td>\n",
              "      <td>0.0</td>\n",
              "      <td>NaN</td>\n",
              "      <td>45</td>\n",
              "      <td>99193</td>\n",
              "      <td>4</td>\n",
              "      <td>10</td>\n",
              "      <td>2017</td>\n",
              "      <td>другой</td>\n",
              "      <td>0.669355</td>\n",
              "      <td>0.137097</td>\n",
              "    </tr>\n",
              "    <tr>\n",
              "      <th>210</th>\n",
              "      <td>4</td>\n",
              "      <td>4300000</td>\n",
              "      <td>58.5</td>\n",
              "      <td>2016-06-15</td>\n",
              "      <td>2</td>\n",
              "      <td>NaN</td>\n",
              "      <td>9.0</td>\n",
              "      <td>28.73</td>\n",
              "      <td>7</td>\n",
              "      <td>False</td>\n",
              "      <td>...</td>\n",
              "      <td>1.0</td>\n",
              "      <td>353.0</td>\n",
              "      <td>45</td>\n",
              "      <td>73504</td>\n",
              "      <td>2</td>\n",
              "      <td>6</td>\n",
              "      <td>2016</td>\n",
              "      <td>другой</td>\n",
              "      <td>0.491111</td>\n",
              "      <td>0.192137</td>\n",
              "    </tr>\n",
              "    <tr>\n",
              "      <th>227</th>\n",
              "      <td>13</td>\n",
              "      <td>2200000</td>\n",
              "      <td>47.0</td>\n",
              "      <td>2018-01-12</td>\n",
              "      <td>3</td>\n",
              "      <td>2.34</td>\n",
              "      <td>5.0</td>\n",
              "      <td>NaN</td>\n",
              "      <td>1</td>\n",
              "      <td>False</td>\n",
              "      <td>...</td>\n",
              "      <td>NaN</td>\n",
              "      <td>NaN</td>\n",
              "      <td>45</td>\n",
              "      <td>46808</td>\n",
              "      <td>4</td>\n",
              "      <td>1</td>\n",
              "      <td>2018</td>\n",
              "      <td>первый</td>\n",
              "      <td>NaN</td>\n",
              "      <td>NaN</td>\n",
              "    </tr>\n",
              "    <tr>\n",
              "      <th>235</th>\n",
              "      <td>0</td>\n",
              "      <td>4000000</td>\n",
              "      <td>60.0</td>\n",
              "      <td>2019-03-12</td>\n",
              "      <td>2</td>\n",
              "      <td>3.40</td>\n",
              "      <td>3.0</td>\n",
              "      <td>37.80</td>\n",
              "      <td>1</td>\n",
              "      <td>False</td>\n",
              "      <td>...</td>\n",
              "      <td>3.0</td>\n",
              "      <td>534.0</td>\n",
              "      <td>45</td>\n",
              "      <td>66666</td>\n",
              "      <td>1</td>\n",
              "      <td>3</td>\n",
              "      <td>2019</td>\n",
              "      <td>первый</td>\n",
              "      <td>0.630000</td>\n",
              "      <td>0.150000</td>\n",
              "    </tr>\n",
              "    <tr>\n",
              "      <th>289</th>\n",
              "      <td>11</td>\n",
              "      <td>3150000</td>\n",
              "      <td>33.0</td>\n",
              "      <td>2017-06-05</td>\n",
              "      <td>1</td>\n",
              "      <td>NaN</td>\n",
              "      <td>6.0</td>\n",
              "      <td>18.00</td>\n",
              "      <td>4</td>\n",
              "      <td>False</td>\n",
              "      <td>...</td>\n",
              "      <td>0.0</td>\n",
              "      <td>NaN</td>\n",
              "      <td>45</td>\n",
              "      <td>95454</td>\n",
              "      <td>0</td>\n",
              "      <td>6</td>\n",
              "      <td>2017</td>\n",
              "      <td>другой</td>\n",
              "      <td>0.545455</td>\n",
              "      <td>0.212121</td>\n",
              "    </tr>\n",
              "    <tr>\n",
              "      <th>322</th>\n",
              "      <td>6</td>\n",
              "      <td>2000000</td>\n",
              "      <td>25.0</td>\n",
              "      <td>2017-02-07</td>\n",
              "      <td>1</td>\n",
              "      <td>NaN</td>\n",
              "      <td>5.0</td>\n",
              "      <td>NaN</td>\n",
              "      <td>5</td>\n",
              "      <td>False</td>\n",
              "      <td>...</td>\n",
              "      <td>NaN</td>\n",
              "      <td>NaN</td>\n",
              "      <td>45</td>\n",
              "      <td>80000</td>\n",
              "      <td>1</td>\n",
              "      <td>2</td>\n",
              "      <td>2017</td>\n",
              "      <td>последний</td>\n",
              "      <td>NaN</td>\n",
              "      <td>NaN</td>\n",
              "    </tr>\n",
              "    <tr>\n",
              "      <th>340</th>\n",
              "      <td>13</td>\n",
              "      <td>3200000</td>\n",
              "      <td>32.2</td>\n",
              "      <td>2017-06-15</td>\n",
              "      <td>1</td>\n",
              "      <td>2.65</td>\n",
              "      <td>9.0</td>\n",
              "      <td>19.00</td>\n",
              "      <td>5</td>\n",
              "      <td>False</td>\n",
              "      <td>...</td>\n",
              "      <td>0.0</td>\n",
              "      <td>NaN</td>\n",
              "      <td>45</td>\n",
              "      <td>99378</td>\n",
              "      <td>3</td>\n",
              "      <td>6</td>\n",
              "      <td>2017</td>\n",
              "      <td>другой</td>\n",
              "      <td>0.590062</td>\n",
              "      <td>0.201863</td>\n",
              "    </tr>\n",
              "    <tr>\n",
              "      <th>349</th>\n",
              "      <td>4</td>\n",
              "      <td>2320000</td>\n",
              "      <td>25.0</td>\n",
              "      <td>2017-09-27</td>\n",
              "      <td>0</td>\n",
              "      <td>NaN</td>\n",
              "      <td>14.0</td>\n",
              "      <td>17.00</td>\n",
              "      <td>1</td>\n",
              "      <td>False</td>\n",
              "      <td>...</td>\n",
              "      <td>NaN</td>\n",
              "      <td>NaN</td>\n",
              "      <td>45</td>\n",
              "      <td>92800</td>\n",
              "      <td>2</td>\n",
              "      <td>9</td>\n",
              "      <td>2017</td>\n",
              "      <td>первый</td>\n",
              "      <td>0.680000</td>\n",
              "      <td>NaN</td>\n",
              "    </tr>\n",
              "    <tr>\n",
              "      <th>384</th>\n",
              "      <td>6</td>\n",
              "      <td>4100000</td>\n",
              "      <td>41.5</td>\n",
              "      <td>2018-01-11</td>\n",
              "      <td>1</td>\n",
              "      <td>2.70</td>\n",
              "      <td>17.0</td>\n",
              "      <td>16.50</td>\n",
              "      <td>14</td>\n",
              "      <td>False</td>\n",
              "      <td>...</td>\n",
              "      <td>2.0</td>\n",
              "      <td>830.0</td>\n",
              "      <td>45</td>\n",
              "      <td>98795</td>\n",
              "      <td>3</td>\n",
              "      <td>1</td>\n",
              "      <td>2018</td>\n",
              "      <td>другой</td>\n",
              "      <td>0.397590</td>\n",
              "      <td>0.281928</td>\n",
              "    </tr>\n",
              "    <tr>\n",
              "      <th>392</th>\n",
              "      <td>10</td>\n",
              "      <td>3900000</td>\n",
              "      <td>41.3</td>\n",
              "      <td>2018-01-19</td>\n",
              "      <td>2</td>\n",
              "      <td>2.55</td>\n",
              "      <td>5.0</td>\n",
              "      <td>NaN</td>\n",
              "      <td>3</td>\n",
              "      <td>False</td>\n",
              "      <td>...</td>\n",
              "      <td>0.0</td>\n",
              "      <td>NaN</td>\n",
              "      <td>45</td>\n",
              "      <td>94430</td>\n",
              "      <td>4</td>\n",
              "      <td>1</td>\n",
              "      <td>2018</td>\n",
              "      <td>другой</td>\n",
              "      <td>NaN</td>\n",
              "      <td>NaN</td>\n",
              "    </tr>\n",
              "    <tr>\n",
              "      <th>395</th>\n",
              "      <td>0</td>\n",
              "      <td>1450000</td>\n",
              "      <td>44.0</td>\n",
              "      <td>2019-03-01</td>\n",
              "      <td>2</td>\n",
              "      <td>2.50</td>\n",
              "      <td>5.0</td>\n",
              "      <td>27.00</td>\n",
              "      <td>5</td>\n",
              "      <td>False</td>\n",
              "      <td>...</td>\n",
              "      <td>NaN</td>\n",
              "      <td>NaN</td>\n",
              "      <td>45</td>\n",
              "      <td>32954</td>\n",
              "      <td>4</td>\n",
              "      <td>3</td>\n",
              "      <td>2019</td>\n",
              "      <td>последний</td>\n",
              "      <td>0.613636</td>\n",
              "      <td>0.136364</td>\n",
              "    </tr>\n",
              "    <tr>\n",
              "      <th>421</th>\n",
              "      <td>7</td>\n",
              "      <td>2499999</td>\n",
              "      <td>73.8</td>\n",
              "      <td>2017-12-19</td>\n",
              "      <td>3</td>\n",
              "      <td>NaN</td>\n",
              "      <td>5.0</td>\n",
              "      <td>NaN</td>\n",
              "      <td>2</td>\n",
              "      <td>False</td>\n",
              "      <td>...</td>\n",
              "      <td>NaN</td>\n",
              "      <td>NaN</td>\n",
              "      <td>45</td>\n",
              "      <td>33875</td>\n",
              "      <td>1</td>\n",
              "      <td>12</td>\n",
              "      <td>2017</td>\n",
              "      <td>другой</td>\n",
              "      <td>NaN</td>\n",
              "      <td>NaN</td>\n",
              "    </tr>\n",
              "    <tr>\n",
              "      <th>487</th>\n",
              "      <td>19</td>\n",
              "      <td>1300000</td>\n",
              "      <td>65.4</td>\n",
              "      <td>2018-11-04</td>\n",
              "      <td>3</td>\n",
              "      <td>2.50</td>\n",
              "      <td>5.0</td>\n",
              "      <td>49.30</td>\n",
              "      <td>2</td>\n",
              "      <td>False</td>\n",
              "      <td>...</td>\n",
              "      <td>NaN</td>\n",
              "      <td>NaN</td>\n",
              "      <td>45</td>\n",
              "      <td>19877</td>\n",
              "      <td>6</td>\n",
              "      <td>11</td>\n",
              "      <td>2018</td>\n",
              "      <td>другой</td>\n",
              "      <td>0.753823</td>\n",
              "      <td>0.077982</td>\n",
              "    </tr>\n",
              "    <tr>\n",
              "      <th>524</th>\n",
              "      <td>10</td>\n",
              "      <td>3800000</td>\n",
              "      <td>74.4</td>\n",
              "      <td>2017-05-18</td>\n",
              "      <td>3</td>\n",
              "      <td>NaN</td>\n",
              "      <td>5.0</td>\n",
              "      <td>44.40</td>\n",
              "      <td>3</td>\n",
              "      <td>False</td>\n",
              "      <td>...</td>\n",
              "      <td>NaN</td>\n",
              "      <td>NaN</td>\n",
              "      <td>45</td>\n",
              "      <td>51075</td>\n",
              "      <td>3</td>\n",
              "      <td>5</td>\n",
              "      <td>2017</td>\n",
              "      <td>другой</td>\n",
              "      <td>0.596774</td>\n",
              "      <td>0.119624</td>\n",
              "    </tr>\n",
              "    <tr>\n",
              "      <th>526</th>\n",
              "      <td>9</td>\n",
              "      <td>4350000</td>\n",
              "      <td>55.0</td>\n",
              "      <td>2017-05-30</td>\n",
              "      <td>2</td>\n",
              "      <td>NaN</td>\n",
              "      <td>9.0</td>\n",
              "      <td>30.00</td>\n",
              "      <td>9</td>\n",
              "      <td>False</td>\n",
              "      <td>...</td>\n",
              "      <td>NaN</td>\n",
              "      <td>NaN</td>\n",
              "      <td>45</td>\n",
              "      <td>79090</td>\n",
              "      <td>1</td>\n",
              "      <td>5</td>\n",
              "      <td>2017</td>\n",
              "      <td>последний</td>\n",
              "      <td>0.545455</td>\n",
              "      <td>0.150909</td>\n",
              "    </tr>\n",
              "    <tr>\n",
              "      <th>539</th>\n",
              "      <td>13</td>\n",
              "      <td>3250000</td>\n",
              "      <td>40.0</td>\n",
              "      <td>2018-06-25</td>\n",
              "      <td>1</td>\n",
              "      <td>NaN</td>\n",
              "      <td>10.0</td>\n",
              "      <td>NaN</td>\n",
              "      <td>1</td>\n",
              "      <td>False</td>\n",
              "      <td>...</td>\n",
              "      <td>1.0</td>\n",
              "      <td>1250.0</td>\n",
              "      <td>45</td>\n",
              "      <td>81250</td>\n",
              "      <td>0</td>\n",
              "      <td>6</td>\n",
              "      <td>2018</td>\n",
              "      <td>первый</td>\n",
              "      <td>NaN</td>\n",
              "      <td>NaN</td>\n",
              "    </tr>\n",
              "    <tr>\n",
              "      <th>584</th>\n",
              "      <td>15</td>\n",
              "      <td>2550000</td>\n",
              "      <td>54.0</td>\n",
              "      <td>2018-02-07</td>\n",
              "      <td>3</td>\n",
              "      <td>2.50</td>\n",
              "      <td>5.0</td>\n",
              "      <td>NaN</td>\n",
              "      <td>2</td>\n",
              "      <td>False</td>\n",
              "      <td>...</td>\n",
              "      <td>NaN</td>\n",
              "      <td>NaN</td>\n",
              "      <td>45</td>\n",
              "      <td>47222</td>\n",
              "      <td>2</td>\n",
              "      <td>2</td>\n",
              "      <td>2018</td>\n",
              "      <td>другой</td>\n",
              "      <td>NaN</td>\n",
              "      <td>NaN</td>\n",
              "    </tr>\n",
              "    <tr>\n",
              "      <th>588</th>\n",
              "      <td>10</td>\n",
              "      <td>13900000</td>\n",
              "      <td>165.0</td>\n",
              "      <td>2016-05-03</td>\n",
              "      <td>5</td>\n",
              "      <td>NaN</td>\n",
              "      <td>5.0</td>\n",
              "      <td>114.00</td>\n",
              "      <td>4</td>\n",
              "      <td>False</td>\n",
              "      <td>...</td>\n",
              "      <td>1.0</td>\n",
              "      <td>723.0</td>\n",
              "      <td>45</td>\n",
              "      <td>84242</td>\n",
              "      <td>1</td>\n",
              "      <td>5</td>\n",
              "      <td>2016</td>\n",
              "      <td>другой</td>\n",
              "      <td>0.690909</td>\n",
              "      <td>0.078788</td>\n",
              "    </tr>\n",
              "    <tr>\n",
              "      <th>602</th>\n",
              "      <td>0</td>\n",
              "      <td>3600000</td>\n",
              "      <td>59.0</td>\n",
              "      <td>2017-06-06</td>\n",
              "      <td>3</td>\n",
              "      <td>NaN</td>\n",
              "      <td>9.0</td>\n",
              "      <td>38.00</td>\n",
              "      <td>1</td>\n",
              "      <td>False</td>\n",
              "      <td>...</td>\n",
              "      <td>0.0</td>\n",
              "      <td>NaN</td>\n",
              "      <td>45</td>\n",
              "      <td>61016</td>\n",
              "      <td>1</td>\n",
              "      <td>6</td>\n",
              "      <td>2017</td>\n",
              "      <td>первый</td>\n",
              "      <td>0.644068</td>\n",
              "      <td>0.118644</td>\n",
              "    </tr>\n",
              "    <tr>\n",
              "      <th>686</th>\n",
              "      <td>9</td>\n",
              "      <td>1300000</td>\n",
              "      <td>42.0</td>\n",
              "      <td>2018-11-28</td>\n",
              "      <td>2</td>\n",
              "      <td>2.60</td>\n",
              "      <td>2.0</td>\n",
              "      <td>30.00</td>\n",
              "      <td>1</td>\n",
              "      <td>False</td>\n",
              "      <td>...</td>\n",
              "      <td>NaN</td>\n",
              "      <td>NaN</td>\n",
              "      <td>45</td>\n",
              "      <td>30952</td>\n",
              "      <td>2</td>\n",
              "      <td>11</td>\n",
              "      <td>2018</td>\n",
              "      <td>первый</td>\n",
              "      <td>0.714286</td>\n",
              "      <td>0.142857</td>\n",
              "    </tr>\n",
              "    <tr>\n",
              "      <th>725</th>\n",
              "      <td>1</td>\n",
              "      <td>4150000</td>\n",
              "      <td>58.0</td>\n",
              "      <td>2017-06-19</td>\n",
              "      <td>3</td>\n",
              "      <td>NaN</td>\n",
              "      <td>9.0</td>\n",
              "      <td>39.00</td>\n",
              "      <td>9</td>\n",
              "      <td>False</td>\n",
              "      <td>...</td>\n",
              "      <td>0.0</td>\n",
              "      <td>NaN</td>\n",
              "      <td>45</td>\n",
              "      <td>71551</td>\n",
              "      <td>0</td>\n",
              "      <td>6</td>\n",
              "      <td>2017</td>\n",
              "      <td>последний</td>\n",
              "      <td>0.672414</td>\n",
              "      <td>0.141379</td>\n",
              "    </tr>\n",
              "    <tr>\n",
              "      <th>731</th>\n",
              "      <td>6</td>\n",
              "      <td>3550000</td>\n",
              "      <td>42.0</td>\n",
              "      <td>2018-04-03</td>\n",
              "      <td>1</td>\n",
              "      <td>2.70</td>\n",
              "      <td>13.0</td>\n",
              "      <td>NaN</td>\n",
              "      <td>13</td>\n",
              "      <td>False</td>\n",
              "      <td>...</td>\n",
              "      <td>NaN</td>\n",
              "      <td>NaN</td>\n",
              "      <td>45</td>\n",
              "      <td>84523</td>\n",
              "      <td>1</td>\n",
              "      <td>4</td>\n",
              "      <td>2018</td>\n",
              "      <td>последний</td>\n",
              "      <td>NaN</td>\n",
              "      <td>NaN</td>\n",
              "    </tr>\n",
              "    <tr>\n",
              "      <th>746</th>\n",
              "      <td>7</td>\n",
              "      <td>2160000</td>\n",
              "      <td>36.0</td>\n",
              "      <td>2018-10-25</td>\n",
              "      <td>1</td>\n",
              "      <td>NaN</td>\n",
              "      <td>12.0</td>\n",
              "      <td>16.00</td>\n",
              "      <td>8</td>\n",
              "      <td>False</td>\n",
              "      <td>...</td>\n",
              "      <td>NaN</td>\n",
              "      <td>NaN</td>\n",
              "      <td>45</td>\n",
              "      <td>60000</td>\n",
              "      <td>3</td>\n",
              "      <td>10</td>\n",
              "      <td>2018</td>\n",
              "      <td>другой</td>\n",
              "      <td>0.444444</td>\n",
              "      <td>0.258333</td>\n",
              "    </tr>\n",
              "    <tr>\n",
              "      <th>774</th>\n",
              "      <td>9</td>\n",
              "      <td>2500000</td>\n",
              "      <td>30.0</td>\n",
              "      <td>2018-10-15</td>\n",
              "      <td>1</td>\n",
              "      <td>2.50</td>\n",
              "      <td>5.0</td>\n",
              "      <td>14.00</td>\n",
              "      <td>2</td>\n",
              "      <td>False</td>\n",
              "      <td>...</td>\n",
              "      <td>NaN</td>\n",
              "      <td>NaN</td>\n",
              "      <td>45</td>\n",
              "      <td>83333</td>\n",
              "      <td>0</td>\n",
              "      <td>10</td>\n",
              "      <td>2018</td>\n",
              "      <td>другой</td>\n",
              "      <td>0.466667</td>\n",
              "      <td>0.300000</td>\n",
              "    </tr>\n",
              "    <tr>\n",
              "      <th>...</th>\n",
              "      <td>...</td>\n",
              "      <td>...</td>\n",
              "      <td>...</td>\n",
              "      <td>...</td>\n",
              "      <td>...</td>\n",
              "      <td>...</td>\n",
              "      <td>...</td>\n",
              "      <td>...</td>\n",
              "      <td>...</td>\n",
              "      <td>...</td>\n",
              "      <td>...</td>\n",
              "      <td>...</td>\n",
              "      <td>...</td>\n",
              "      <td>...</td>\n",
              "      <td>...</td>\n",
              "      <td>...</td>\n",
              "      <td>...</td>\n",
              "      <td>...</td>\n",
              "      <td>...</td>\n",
              "      <td>...</td>\n",
              "      <td>...</td>\n",
              "    </tr>\n",
              "    <tr>\n",
              "      <th>23036</th>\n",
              "      <td>0</td>\n",
              "      <td>2500000</td>\n",
              "      <td>44.0</td>\n",
              "      <td>2017-12-07</td>\n",
              "      <td>2</td>\n",
              "      <td>NaN</td>\n",
              "      <td>5.0</td>\n",
              "      <td>NaN</td>\n",
              "      <td>2</td>\n",
              "      <td>False</td>\n",
              "      <td>...</td>\n",
              "      <td>NaN</td>\n",
              "      <td>NaN</td>\n",
              "      <td>45</td>\n",
              "      <td>56818</td>\n",
              "      <td>3</td>\n",
              "      <td>12</td>\n",
              "      <td>2017</td>\n",
              "      <td>другой</td>\n",
              "      <td>NaN</td>\n",
              "      <td>NaN</td>\n",
              "    </tr>\n",
              "    <tr>\n",
              "      <th>23078</th>\n",
              "      <td>0</td>\n",
              "      <td>3550000</td>\n",
              "      <td>45.0</td>\n",
              "      <td>2017-11-20</td>\n",
              "      <td>2</td>\n",
              "      <td>NaN</td>\n",
              "      <td>5.0</td>\n",
              "      <td>28.70</td>\n",
              "      <td>2</td>\n",
              "      <td>False</td>\n",
              "      <td>...</td>\n",
              "      <td>0.0</td>\n",
              "      <td>NaN</td>\n",
              "      <td>45</td>\n",
              "      <td>78888</td>\n",
              "      <td>0</td>\n",
              "      <td>11</td>\n",
              "      <td>2017</td>\n",
              "      <td>другой</td>\n",
              "      <td>0.637778</td>\n",
              "      <td>0.133333</td>\n",
              "    </tr>\n",
              "    <tr>\n",
              "      <th>23127</th>\n",
              "      <td>1</td>\n",
              "      <td>2900000</td>\n",
              "      <td>42.5</td>\n",
              "      <td>2017-12-07</td>\n",
              "      <td>2</td>\n",
              "      <td>2.60</td>\n",
              "      <td>3.0</td>\n",
              "      <td>28.40</td>\n",
              "      <td>3</td>\n",
              "      <td>False</td>\n",
              "      <td>...</td>\n",
              "      <td>0.0</td>\n",
              "      <td>NaN</td>\n",
              "      <td>45</td>\n",
              "      <td>68235</td>\n",
              "      <td>3</td>\n",
              "      <td>12</td>\n",
              "      <td>2017</td>\n",
              "      <td>последний</td>\n",
              "      <td>0.668235</td>\n",
              "      <td>0.122353</td>\n",
              "    </tr>\n",
              "    <tr>\n",
              "      <th>23156</th>\n",
              "      <td>0</td>\n",
              "      <td>4100000</td>\n",
              "      <td>65.0</td>\n",
              "      <td>2016-06-08</td>\n",
              "      <td>3</td>\n",
              "      <td>NaN</td>\n",
              "      <td>5.0</td>\n",
              "      <td>44.00</td>\n",
              "      <td>1</td>\n",
              "      <td>False</td>\n",
              "      <td>...</td>\n",
              "      <td>0.0</td>\n",
              "      <td>NaN</td>\n",
              "      <td>45</td>\n",
              "      <td>63076</td>\n",
              "      <td>2</td>\n",
              "      <td>6</td>\n",
              "      <td>2016</td>\n",
              "      <td>первый</td>\n",
              "      <td>0.676923</td>\n",
              "      <td>0.123077</td>\n",
              "    </tr>\n",
              "    <tr>\n",
              "      <th>23158</th>\n",
              "      <td>13</td>\n",
              "      <td>3100000</td>\n",
              "      <td>43.0</td>\n",
              "      <td>2019-02-26</td>\n",
              "      <td>1</td>\n",
              "      <td>NaN</td>\n",
              "      <td>3.0</td>\n",
              "      <td>21.00</td>\n",
              "      <td>3</td>\n",
              "      <td>False</td>\n",
              "      <td>...</td>\n",
              "      <td>NaN</td>\n",
              "      <td>NaN</td>\n",
              "      <td>45</td>\n",
              "      <td>72093</td>\n",
              "      <td>1</td>\n",
              "      <td>2</td>\n",
              "      <td>2019</td>\n",
              "      <td>последний</td>\n",
              "      <td>0.488372</td>\n",
              "      <td>0.372093</td>\n",
              "    </tr>\n",
              "    <tr>\n",
              "      <th>23172</th>\n",
              "      <td>13</td>\n",
              "      <td>4050000</td>\n",
              "      <td>41.9</td>\n",
              "      <td>2017-12-07</td>\n",
              "      <td>1</td>\n",
              "      <td>NaN</td>\n",
              "      <td>9.0</td>\n",
              "      <td>17.10</td>\n",
              "      <td>5</td>\n",
              "      <td>False</td>\n",
              "      <td>...</td>\n",
              "      <td>1.0</td>\n",
              "      <td>632.0</td>\n",
              "      <td>45</td>\n",
              "      <td>96658</td>\n",
              "      <td>3</td>\n",
              "      <td>12</td>\n",
              "      <td>2017</td>\n",
              "      <td>другой</td>\n",
              "      <td>0.408115</td>\n",
              "      <td>0.214797</td>\n",
              "    </tr>\n",
              "    <tr>\n",
              "      <th>23187</th>\n",
              "      <td>0</td>\n",
              "      <td>4400000</td>\n",
              "      <td>62.0</td>\n",
              "      <td>2017-12-28</td>\n",
              "      <td>3</td>\n",
              "      <td>NaN</td>\n",
              "      <td>12.0</td>\n",
              "      <td>NaN</td>\n",
              "      <td>1</td>\n",
              "      <td>False</td>\n",
              "      <td>...</td>\n",
              "      <td>0.0</td>\n",
              "      <td>NaN</td>\n",
              "      <td>45</td>\n",
              "      <td>70967</td>\n",
              "      <td>3</td>\n",
              "      <td>12</td>\n",
              "      <td>2017</td>\n",
              "      <td>первый</td>\n",
              "      <td>NaN</td>\n",
              "      <td>NaN</td>\n",
              "    </tr>\n",
              "    <tr>\n",
              "      <th>23192</th>\n",
              "      <td>8</td>\n",
              "      <td>2600000</td>\n",
              "      <td>36.0</td>\n",
              "      <td>2017-01-25</td>\n",
              "      <td>2</td>\n",
              "      <td>2.50</td>\n",
              "      <td>5.0</td>\n",
              "      <td>24.00</td>\n",
              "      <td>2</td>\n",
              "      <td>False</td>\n",
              "      <td>...</td>\n",
              "      <td>NaN</td>\n",
              "      <td>NaN</td>\n",
              "      <td>45</td>\n",
              "      <td>72222</td>\n",
              "      <td>2</td>\n",
              "      <td>1</td>\n",
              "      <td>2017</td>\n",
              "      <td>другой</td>\n",
              "      <td>0.666667</td>\n",
              "      <td>0.166667</td>\n",
              "    </tr>\n",
              "    <tr>\n",
              "      <th>23257</th>\n",
              "      <td>2</td>\n",
              "      <td>2300000</td>\n",
              "      <td>42.1</td>\n",
              "      <td>2018-03-09</td>\n",
              "      <td>1</td>\n",
              "      <td>2.60</td>\n",
              "      <td>17.0</td>\n",
              "      <td>NaN</td>\n",
              "      <td>13</td>\n",
              "      <td>False</td>\n",
              "      <td>...</td>\n",
              "      <td>NaN</td>\n",
              "      <td>NaN</td>\n",
              "      <td>45</td>\n",
              "      <td>54631</td>\n",
              "      <td>4</td>\n",
              "      <td>3</td>\n",
              "      <td>2018</td>\n",
              "      <td>другой</td>\n",
              "      <td>NaN</td>\n",
              "      <td>NaN</td>\n",
              "    </tr>\n",
              "    <tr>\n",
              "      <th>23259</th>\n",
              "      <td>2</td>\n",
              "      <td>3800000</td>\n",
              "      <td>38.6</td>\n",
              "      <td>2018-01-11</td>\n",
              "      <td>1</td>\n",
              "      <td>2.55</td>\n",
              "      <td>10.0</td>\n",
              "      <td>NaN</td>\n",
              "      <td>9</td>\n",
              "      <td>False</td>\n",
              "      <td>...</td>\n",
              "      <td>1.0</td>\n",
              "      <td>896.0</td>\n",
              "      <td>45</td>\n",
              "      <td>98445</td>\n",
              "      <td>3</td>\n",
              "      <td>1</td>\n",
              "      <td>2018</td>\n",
              "      <td>другой</td>\n",
              "      <td>NaN</td>\n",
              "      <td>NaN</td>\n",
              "    </tr>\n",
              "    <tr>\n",
              "      <th>23262</th>\n",
              "      <td>2</td>\n",
              "      <td>4250000</td>\n",
              "      <td>46.0</td>\n",
              "      <td>2019-02-09</td>\n",
              "      <td>2</td>\n",
              "      <td>2.50</td>\n",
              "      <td>5.0</td>\n",
              "      <td>31.30</td>\n",
              "      <td>1</td>\n",
              "      <td>False</td>\n",
              "      <td>...</td>\n",
              "      <td>0.0</td>\n",
              "      <td>NaN</td>\n",
              "      <td>45</td>\n",
              "      <td>92391</td>\n",
              "      <td>5</td>\n",
              "      <td>2</td>\n",
              "      <td>2019</td>\n",
              "      <td>первый</td>\n",
              "      <td>0.680435</td>\n",
              "      <td>0.108696</td>\n",
              "    </tr>\n",
              "    <tr>\n",
              "      <th>23290</th>\n",
              "      <td>11</td>\n",
              "      <td>3500000</td>\n",
              "      <td>33.5</td>\n",
              "      <td>2017-07-19</td>\n",
              "      <td>1</td>\n",
              "      <td>2.70</td>\n",
              "      <td>17.0</td>\n",
              "      <td>15.00</td>\n",
              "      <td>9</td>\n",
              "      <td>False</td>\n",
              "      <td>...</td>\n",
              "      <td>NaN</td>\n",
              "      <td>NaN</td>\n",
              "      <td>45</td>\n",
              "      <td>104477</td>\n",
              "      <td>2</td>\n",
              "      <td>7</td>\n",
              "      <td>2017</td>\n",
              "      <td>другой</td>\n",
              "      <td>0.447761</td>\n",
              "      <td>0.238806</td>\n",
              "    </tr>\n",
              "    <tr>\n",
              "      <th>23297</th>\n",
              "      <td>10</td>\n",
              "      <td>1850000</td>\n",
              "      <td>48.2</td>\n",
              "      <td>2019-03-13</td>\n",
              "      <td>2</td>\n",
              "      <td>NaN</td>\n",
              "      <td>5.0</td>\n",
              "      <td>42.20</td>\n",
              "      <td>2</td>\n",
              "      <td>False</td>\n",
              "      <td>...</td>\n",
              "      <td>NaN</td>\n",
              "      <td>NaN</td>\n",
              "      <td>45</td>\n",
              "      <td>38381</td>\n",
              "      <td>2</td>\n",
              "      <td>3</td>\n",
              "      <td>2019</td>\n",
              "      <td>другой</td>\n",
              "      <td>0.875519</td>\n",
              "      <td>0.124481</td>\n",
              "    </tr>\n",
              "    <tr>\n",
              "      <th>23380</th>\n",
              "      <td>6</td>\n",
              "      <td>2800000</td>\n",
              "      <td>31.5</td>\n",
              "      <td>2018-02-08</td>\n",
              "      <td>1</td>\n",
              "      <td>2.50</td>\n",
              "      <td>5.0</td>\n",
              "      <td>NaN</td>\n",
              "      <td>3</td>\n",
              "      <td>False</td>\n",
              "      <td>...</td>\n",
              "      <td>2.0</td>\n",
              "      <td>850.0</td>\n",
              "      <td>45</td>\n",
              "      <td>88888</td>\n",
              "      <td>3</td>\n",
              "      <td>2</td>\n",
              "      <td>2018</td>\n",
              "      <td>другой</td>\n",
              "      <td>NaN</td>\n",
              "      <td>NaN</td>\n",
              "    </tr>\n",
              "    <tr>\n",
              "      <th>23387</th>\n",
              "      <td>7</td>\n",
              "      <td>5600000</td>\n",
              "      <td>50.0</td>\n",
              "      <td>2017-08-21</td>\n",
              "      <td>1</td>\n",
              "      <td>NaN</td>\n",
              "      <td>5.0</td>\n",
              "      <td>27.00</td>\n",
              "      <td>1</td>\n",
              "      <td>False</td>\n",
              "      <td>...</td>\n",
              "      <td>3.0</td>\n",
              "      <td>56.0</td>\n",
              "      <td>45</td>\n",
              "      <td>112000</td>\n",
              "      <td>0</td>\n",
              "      <td>8</td>\n",
              "      <td>2017</td>\n",
              "      <td>первый</td>\n",
              "      <td>0.540000</td>\n",
              "      <td>0.200000</td>\n",
              "    </tr>\n",
              "    <tr>\n",
              "      <th>23390</th>\n",
              "      <td>8</td>\n",
              "      <td>2156000</td>\n",
              "      <td>36.0</td>\n",
              "      <td>2018-10-29</td>\n",
              "      <td>1</td>\n",
              "      <td>NaN</td>\n",
              "      <td>12.0</td>\n",
              "      <td>16.00</td>\n",
              "      <td>3</td>\n",
              "      <td>False</td>\n",
              "      <td>...</td>\n",
              "      <td>NaN</td>\n",
              "      <td>NaN</td>\n",
              "      <td>45</td>\n",
              "      <td>59888</td>\n",
              "      <td>0</td>\n",
              "      <td>10</td>\n",
              "      <td>2018</td>\n",
              "      <td>другой</td>\n",
              "      <td>0.444444</td>\n",
              "      <td>0.258333</td>\n",
              "    </tr>\n",
              "    <tr>\n",
              "      <th>23452</th>\n",
              "      <td>6</td>\n",
              "      <td>1350000</td>\n",
              "      <td>31.0</td>\n",
              "      <td>2017-12-19</td>\n",
              "      <td>1</td>\n",
              "      <td>NaN</td>\n",
              "      <td>5.0</td>\n",
              "      <td>NaN</td>\n",
              "      <td>1</td>\n",
              "      <td>False</td>\n",
              "      <td>...</td>\n",
              "      <td>NaN</td>\n",
              "      <td>NaN</td>\n",
              "      <td>45</td>\n",
              "      <td>43548</td>\n",
              "      <td>1</td>\n",
              "      <td>12</td>\n",
              "      <td>2017</td>\n",
              "      <td>первый</td>\n",
              "      <td>NaN</td>\n",
              "      <td>NaN</td>\n",
              "    </tr>\n",
              "    <tr>\n",
              "      <th>23454</th>\n",
              "      <td>2</td>\n",
              "      <td>3250000</td>\n",
              "      <td>45.9</td>\n",
              "      <td>2017-08-31</td>\n",
              "      <td>1</td>\n",
              "      <td>2.65</td>\n",
              "      <td>25.0</td>\n",
              "      <td>16.50</td>\n",
              "      <td>23</td>\n",
              "      <td>False</td>\n",
              "      <td>...</td>\n",
              "      <td>0.0</td>\n",
              "      <td>NaN</td>\n",
              "      <td>45</td>\n",
              "      <td>70806</td>\n",
              "      <td>3</td>\n",
              "      <td>8</td>\n",
              "      <td>2017</td>\n",
              "      <td>другой</td>\n",
              "      <td>0.359477</td>\n",
              "      <td>0.246187</td>\n",
              "    </tr>\n",
              "    <tr>\n",
              "      <th>23457</th>\n",
              "      <td>2</td>\n",
              "      <td>3200000</td>\n",
              "      <td>36.0</td>\n",
              "      <td>2018-02-20</td>\n",
              "      <td>1</td>\n",
              "      <td>NaN</td>\n",
              "      <td>5.0</td>\n",
              "      <td>NaN</td>\n",
              "      <td>5</td>\n",
              "      <td>False</td>\n",
              "      <td>...</td>\n",
              "      <td>1.0</td>\n",
              "      <td>827.0</td>\n",
              "      <td>45</td>\n",
              "      <td>88888</td>\n",
              "      <td>1</td>\n",
              "      <td>2</td>\n",
              "      <td>2018</td>\n",
              "      <td>последний</td>\n",
              "      <td>NaN</td>\n",
              "      <td>NaN</td>\n",
              "    </tr>\n",
              "    <tr>\n",
              "      <th>23482</th>\n",
              "      <td>19</td>\n",
              "      <td>3600000</td>\n",
              "      <td>39.7</td>\n",
              "      <td>2017-12-06</td>\n",
              "      <td>1</td>\n",
              "      <td>2.60</td>\n",
              "      <td>9.0</td>\n",
              "      <td>22.60</td>\n",
              "      <td>3</td>\n",
              "      <td>False</td>\n",
              "      <td>...</td>\n",
              "      <td>0.0</td>\n",
              "      <td>NaN</td>\n",
              "      <td>45</td>\n",
              "      <td>90680</td>\n",
              "      <td>2</td>\n",
              "      <td>12</td>\n",
              "      <td>2017</td>\n",
              "      <td>другой</td>\n",
              "      <td>0.569270</td>\n",
              "      <td>0.181360</td>\n",
              "    </tr>\n",
              "    <tr>\n",
              "      <th>23490</th>\n",
              "      <td>0</td>\n",
              "      <td>1800000</td>\n",
              "      <td>64.0</td>\n",
              "      <td>2018-02-07</td>\n",
              "      <td>3</td>\n",
              "      <td>NaN</td>\n",
              "      <td>9.0</td>\n",
              "      <td>NaN</td>\n",
              "      <td>6</td>\n",
              "      <td>False</td>\n",
              "      <td>...</td>\n",
              "      <td>NaN</td>\n",
              "      <td>NaN</td>\n",
              "      <td>45</td>\n",
              "      <td>28125</td>\n",
              "      <td>2</td>\n",
              "      <td>2</td>\n",
              "      <td>2018</td>\n",
              "      <td>другой</td>\n",
              "      <td>NaN</td>\n",
              "      <td>NaN</td>\n",
              "    </tr>\n",
              "    <tr>\n",
              "      <th>23500</th>\n",
              "      <td>7</td>\n",
              "      <td>2850000</td>\n",
              "      <td>29.0</td>\n",
              "      <td>2018-02-11</td>\n",
              "      <td>1</td>\n",
              "      <td>NaN</td>\n",
              "      <td>9.0</td>\n",
              "      <td>NaN</td>\n",
              "      <td>9</td>\n",
              "      <td>False</td>\n",
              "      <td>...</td>\n",
              "      <td>0.0</td>\n",
              "      <td>NaN</td>\n",
              "      <td>45</td>\n",
              "      <td>98275</td>\n",
              "      <td>6</td>\n",
              "      <td>2</td>\n",
              "      <td>2018</td>\n",
              "      <td>последний</td>\n",
              "      <td>NaN</td>\n",
              "      <td>NaN</td>\n",
              "    </tr>\n",
              "    <tr>\n",
              "      <th>23517</th>\n",
              "      <td>11</td>\n",
              "      <td>2700000</td>\n",
              "      <td>46.0</td>\n",
              "      <td>2018-08-15</td>\n",
              "      <td>2</td>\n",
              "      <td>2.60</td>\n",
              "      <td>5.0</td>\n",
              "      <td>NaN</td>\n",
              "      <td>3</td>\n",
              "      <td>False</td>\n",
              "      <td>...</td>\n",
              "      <td>NaN</td>\n",
              "      <td>NaN</td>\n",
              "      <td>45</td>\n",
              "      <td>58695</td>\n",
              "      <td>2</td>\n",
              "      <td>8</td>\n",
              "      <td>2018</td>\n",
              "      <td>другой</td>\n",
              "      <td>NaN</td>\n",
              "      <td>NaN</td>\n",
              "    </tr>\n",
              "    <tr>\n",
              "      <th>23530</th>\n",
              "      <td>0</td>\n",
              "      <td>3000000</td>\n",
              "      <td>30.0</td>\n",
              "      <td>2018-03-28</td>\n",
              "      <td>1</td>\n",
              "      <td>2.55</td>\n",
              "      <td>5.0</td>\n",
              "      <td>NaN</td>\n",
              "      <td>3</td>\n",
              "      <td>False</td>\n",
              "      <td>...</td>\n",
              "      <td>NaN</td>\n",
              "      <td>NaN</td>\n",
              "      <td>45</td>\n",
              "      <td>100000</td>\n",
              "      <td>2</td>\n",
              "      <td>3</td>\n",
              "      <td>2018</td>\n",
              "      <td>другой</td>\n",
              "      <td>NaN</td>\n",
              "      <td>NaN</td>\n",
              "    </tr>\n",
              "    <tr>\n",
              "      <th>23537</th>\n",
              "      <td>9</td>\n",
              "      <td>3600000</td>\n",
              "      <td>45.0</td>\n",
              "      <td>2017-06-14</td>\n",
              "      <td>2</td>\n",
              "      <td>2.50</td>\n",
              "      <td>5.0</td>\n",
              "      <td>28.70</td>\n",
              "      <td>3</td>\n",
              "      <td>False</td>\n",
              "      <td>...</td>\n",
              "      <td>1.0</td>\n",
              "      <td>658.0</td>\n",
              "      <td>45</td>\n",
              "      <td>80000</td>\n",
              "      <td>2</td>\n",
              "      <td>6</td>\n",
              "      <td>2017</td>\n",
              "      <td>другой</td>\n",
              "      <td>0.637778</td>\n",
              "      <td>0.122222</td>\n",
              "    </tr>\n",
              "    <tr>\n",
              "      <th>23601</th>\n",
              "      <td>10</td>\n",
              "      <td>2900000</td>\n",
              "      <td>43.4</td>\n",
              "      <td>2018-01-11</td>\n",
              "      <td>2</td>\n",
              "      <td>NaN</td>\n",
              "      <td>5.0</td>\n",
              "      <td>NaN</td>\n",
              "      <td>1</td>\n",
              "      <td>False</td>\n",
              "      <td>...</td>\n",
              "      <td>2.0</td>\n",
              "      <td>397.0</td>\n",
              "      <td>45</td>\n",
              "      <td>66820</td>\n",
              "      <td>3</td>\n",
              "      <td>1</td>\n",
              "      <td>2018</td>\n",
              "      <td>первый</td>\n",
              "      <td>NaN</td>\n",
              "      <td>NaN</td>\n",
              "    </tr>\n",
              "    <tr>\n",
              "      <th>23613</th>\n",
              "      <td>4</td>\n",
              "      <td>3950000</td>\n",
              "      <td>52.0</td>\n",
              "      <td>2018-03-04</td>\n",
              "      <td>3</td>\n",
              "      <td>NaN</td>\n",
              "      <td>5.0</td>\n",
              "      <td>NaN</td>\n",
              "      <td>2</td>\n",
              "      <td>False</td>\n",
              "      <td>...</td>\n",
              "      <td>0.0</td>\n",
              "      <td>NaN</td>\n",
              "      <td>45</td>\n",
              "      <td>75961</td>\n",
              "      <td>6</td>\n",
              "      <td>3</td>\n",
              "      <td>2018</td>\n",
              "      <td>другой</td>\n",
              "      <td>NaN</td>\n",
              "      <td>NaN</td>\n",
              "    </tr>\n",
              "    <tr>\n",
              "      <th>23670</th>\n",
              "      <td>9</td>\n",
              "      <td>2450000</td>\n",
              "      <td>45.6</td>\n",
              "      <td>2018-02-08</td>\n",
              "      <td>1</td>\n",
              "      <td>2.80</td>\n",
              "      <td>9.0</td>\n",
              "      <td>NaN</td>\n",
              "      <td>2</td>\n",
              "      <td>False</td>\n",
              "      <td>...</td>\n",
              "      <td>NaN</td>\n",
              "      <td>NaN</td>\n",
              "      <td>45</td>\n",
              "      <td>53728</td>\n",
              "      <td>3</td>\n",
              "      <td>2</td>\n",
              "      <td>2018</td>\n",
              "      <td>другой</td>\n",
              "      <td>NaN</td>\n",
              "      <td>NaN</td>\n",
              "    </tr>\n",
              "    <tr>\n",
              "      <th>23679</th>\n",
              "      <td>0</td>\n",
              "      <td>2500000</td>\n",
              "      <td>35.0</td>\n",
              "      <td>2017-12-08</td>\n",
              "      <td>1</td>\n",
              "      <td>NaN</td>\n",
              "      <td>9.0</td>\n",
              "      <td>NaN</td>\n",
              "      <td>4</td>\n",
              "      <td>False</td>\n",
              "      <td>...</td>\n",
              "      <td>NaN</td>\n",
              "      <td>NaN</td>\n",
              "      <td>45</td>\n",
              "      <td>71428</td>\n",
              "      <td>4</td>\n",
              "      <td>12</td>\n",
              "      <td>2017</td>\n",
              "      <td>другой</td>\n",
              "      <td>NaN</td>\n",
              "      <td>NaN</td>\n",
              "    </tr>\n",
              "    <tr>\n",
              "      <th>23695</th>\n",
              "      <td>14</td>\n",
              "      <td>3100000</td>\n",
              "      <td>59.0</td>\n",
              "      <td>2018-01-15</td>\n",
              "      <td>3</td>\n",
              "      <td>NaN</td>\n",
              "      <td>5.0</td>\n",
              "      <td>38.00</td>\n",
              "      <td>4</td>\n",
              "      <td>False</td>\n",
              "      <td>...</td>\n",
              "      <td>NaN</td>\n",
              "      <td>NaN</td>\n",
              "      <td>45</td>\n",
              "      <td>52542</td>\n",
              "      <td>0</td>\n",
              "      <td>1</td>\n",
              "      <td>2018</td>\n",
              "      <td>другой</td>\n",
              "      <td>0.644068</td>\n",
              "      <td>0.144068</td>\n",
              "    </tr>\n",
              "  </tbody>\n",
              "</table>\n",
              "<p>880 rows × 29 columns</p>\n",
              "</div>"
            ],
            "text/plain": [
              "       total_images  last_price  total_area first_day_exposition  rooms  \\\n",
              "78                9     4350000        37.0           2018-02-22      1   \n",
              "89                9     2500000        63.0           2018-10-25      3   \n",
              "110               6     3850000        72.3           2017-09-29      2   \n",
              "153              12     4350000        55.0           2017-05-21      2   \n",
              "158              15     3100000        47.3           2017-11-07      2   \n",
              "166               0     2300000        60.0           2017-12-02      2   \n",
              "189               0     6150000        62.0           2017-10-13      3   \n",
              "210               4     4300000        58.5           2016-06-15      2   \n",
              "227              13     2200000        47.0           2018-01-12      3   \n",
              "235               0     4000000        60.0           2019-03-12      2   \n",
              "289              11     3150000        33.0           2017-06-05      1   \n",
              "322               6     2000000        25.0           2017-02-07      1   \n",
              "340              13     3200000        32.2           2017-06-15      1   \n",
              "349               4     2320000        25.0           2017-09-27      0   \n",
              "384               6     4100000        41.5           2018-01-11      1   \n",
              "392              10     3900000        41.3           2018-01-19      2   \n",
              "395               0     1450000        44.0           2019-03-01      2   \n",
              "421               7     2499999        73.8           2017-12-19      3   \n",
              "487              19     1300000        65.4           2018-11-04      3   \n",
              "524              10     3800000        74.4           2017-05-18      3   \n",
              "526               9     4350000        55.0           2017-05-30      2   \n",
              "539              13     3250000        40.0           2018-06-25      1   \n",
              "584              15     2550000        54.0           2018-02-07      3   \n",
              "588              10    13900000       165.0           2016-05-03      5   \n",
              "602               0     3600000        59.0           2017-06-06      3   \n",
              "686               9     1300000        42.0           2018-11-28      2   \n",
              "725               1     4150000        58.0           2017-06-19      3   \n",
              "731               6     3550000        42.0           2018-04-03      1   \n",
              "746               7     2160000        36.0           2018-10-25      1   \n",
              "774               9     2500000        30.0           2018-10-15      1   \n",
              "...             ...         ...         ...                  ...    ...   \n",
              "23036             0     2500000        44.0           2017-12-07      2   \n",
              "23078             0     3550000        45.0           2017-11-20      2   \n",
              "23127             1     2900000        42.5           2017-12-07      2   \n",
              "23156             0     4100000        65.0           2016-06-08      3   \n",
              "23158            13     3100000        43.0           2019-02-26      1   \n",
              "23172            13     4050000        41.9           2017-12-07      1   \n",
              "23187             0     4400000        62.0           2017-12-28      3   \n",
              "23192             8     2600000        36.0           2017-01-25      2   \n",
              "23257             2     2300000        42.1           2018-03-09      1   \n",
              "23259             2     3800000        38.6           2018-01-11      1   \n",
              "23262             2     4250000        46.0           2019-02-09      2   \n",
              "23290            11     3500000        33.5           2017-07-19      1   \n",
              "23297            10     1850000        48.2           2019-03-13      2   \n",
              "23380             6     2800000        31.5           2018-02-08      1   \n",
              "23387             7     5600000        50.0           2017-08-21      1   \n",
              "23390             8     2156000        36.0           2018-10-29      1   \n",
              "23452             6     1350000        31.0           2017-12-19      1   \n",
              "23454             2     3250000        45.9           2017-08-31      1   \n",
              "23457             2     3200000        36.0           2018-02-20      1   \n",
              "23482            19     3600000        39.7           2017-12-06      1   \n",
              "23490             0     1800000        64.0           2018-02-07      3   \n",
              "23500             7     2850000        29.0           2018-02-11      1   \n",
              "23517            11     2700000        46.0           2018-08-15      2   \n",
              "23530             0     3000000        30.0           2018-03-28      1   \n",
              "23537             9     3600000        45.0           2017-06-14      2   \n",
              "23601            10     2900000        43.4           2018-01-11      2   \n",
              "23613             4     3950000        52.0           2018-03-04      3   \n",
              "23670             9     2450000        45.6           2018-02-08      1   \n",
              "23679             0     2500000        35.0           2017-12-08      1   \n",
              "23695            14     3100000        59.0           2018-01-15      3   \n",
              "\n",
              "       ceiling_height  floors_total  living_area  floor  is_apartment  ...  \\\n",
              "78                NaN          19.0        18.00      6         False  ...   \n",
              "89               2.50           5.0        43.00      4         False  ...   \n",
              "110               NaN           3.0        27.40      2         False  ...   \n",
              "153              2.57           9.0        31.20      2         False  ...   \n",
              "158               NaN           5.0        27.50      2         False  ...   \n",
              "166               NaN           3.0          NaN      1         False  ...   \n",
              "189               NaN           9.0        41.50      5         False  ...   \n",
              "210               NaN           9.0        28.73      7         False  ...   \n",
              "227              2.34           5.0          NaN      1         False  ...   \n",
              "235              3.40           3.0        37.80      1         False  ...   \n",
              "289               NaN           6.0        18.00      4         False  ...   \n",
              "322               NaN           5.0          NaN      5         False  ...   \n",
              "340              2.65           9.0        19.00      5         False  ...   \n",
              "349               NaN          14.0        17.00      1         False  ...   \n",
              "384              2.70          17.0        16.50     14         False  ...   \n",
              "392              2.55           5.0          NaN      3         False  ...   \n",
              "395              2.50           5.0        27.00      5         False  ...   \n",
              "421               NaN           5.0          NaN      2         False  ...   \n",
              "487              2.50           5.0        49.30      2         False  ...   \n",
              "524               NaN           5.0        44.40      3         False  ...   \n",
              "526               NaN           9.0        30.00      9         False  ...   \n",
              "539               NaN          10.0          NaN      1         False  ...   \n",
              "584              2.50           5.0          NaN      2         False  ...   \n",
              "588               NaN           5.0       114.00      4         False  ...   \n",
              "602               NaN           9.0        38.00      1         False  ...   \n",
              "686              2.60           2.0        30.00      1         False  ...   \n",
              "725               NaN           9.0        39.00      9         False  ...   \n",
              "731              2.70          13.0          NaN     13         False  ...   \n",
              "746               NaN          12.0        16.00      8         False  ...   \n",
              "774              2.50           5.0        14.00      2         False  ...   \n",
              "...               ...           ...          ...    ...           ...  ...   \n",
              "23036             NaN           5.0          NaN      2         False  ...   \n",
              "23078             NaN           5.0        28.70      2         False  ...   \n",
              "23127            2.60           3.0        28.40      3         False  ...   \n",
              "23156             NaN           5.0        44.00      1         False  ...   \n",
              "23158             NaN           3.0        21.00      3         False  ...   \n",
              "23172             NaN           9.0        17.10      5         False  ...   \n",
              "23187             NaN          12.0          NaN      1         False  ...   \n",
              "23192            2.50           5.0        24.00      2         False  ...   \n",
              "23257            2.60          17.0          NaN     13         False  ...   \n",
              "23259            2.55          10.0          NaN      9         False  ...   \n",
              "23262            2.50           5.0        31.30      1         False  ...   \n",
              "23290            2.70          17.0        15.00      9         False  ...   \n",
              "23297             NaN           5.0        42.20      2         False  ...   \n",
              "23380            2.50           5.0          NaN      3         False  ...   \n",
              "23387             NaN           5.0        27.00      1         False  ...   \n",
              "23390             NaN          12.0        16.00      3         False  ...   \n",
              "23452             NaN           5.0          NaN      1         False  ...   \n",
              "23454            2.65          25.0        16.50     23         False  ...   \n",
              "23457             NaN           5.0          NaN      5         False  ...   \n",
              "23482            2.60           9.0        22.60      3         False  ...   \n",
              "23490             NaN           9.0          NaN      6         False  ...   \n",
              "23500             NaN           9.0          NaN      9         False  ...   \n",
              "23517            2.60           5.0          NaN      3         False  ...   \n",
              "23530            2.55           5.0          NaN      3         False  ...   \n",
              "23537            2.50           5.0        28.70      3         False  ...   \n",
              "23601             NaN           5.0          NaN      1         False  ...   \n",
              "23613             NaN           5.0          NaN      2         False  ...   \n",
              "23670            2.80           9.0          NaN      2         False  ...   \n",
              "23679             NaN           9.0          NaN      4         False  ...   \n",
              "23695             NaN           5.0        38.00      4         False  ...   \n",
              "\n",
              "       ponds_around3000  ponds_nearest  days_exposition  \\\n",
              "78                  0.0            NaN               45   \n",
              "89                  NaN            NaN               45   \n",
              "110                 NaN            NaN               45   \n",
              "153                 0.0            NaN               45   \n",
              "158                 NaN            NaN               45   \n",
              "166                 NaN            NaN               45   \n",
              "189                 0.0            NaN               45   \n",
              "210                 1.0          353.0               45   \n",
              "227                 NaN            NaN               45   \n",
              "235                 3.0          534.0               45   \n",
              "289                 0.0            NaN               45   \n",
              "322                 NaN            NaN               45   \n",
              "340                 0.0            NaN               45   \n",
              "349                 NaN            NaN               45   \n",
              "384                 2.0          830.0               45   \n",
              "392                 0.0            NaN               45   \n",
              "395                 NaN            NaN               45   \n",
              "421                 NaN            NaN               45   \n",
              "487                 NaN            NaN               45   \n",
              "524                 NaN            NaN               45   \n",
              "526                 NaN            NaN               45   \n",
              "539                 1.0         1250.0               45   \n",
              "584                 NaN            NaN               45   \n",
              "588                 1.0          723.0               45   \n",
              "602                 0.0            NaN               45   \n",
              "686                 NaN            NaN               45   \n",
              "725                 0.0            NaN               45   \n",
              "731                 NaN            NaN               45   \n",
              "746                 NaN            NaN               45   \n",
              "774                 NaN            NaN               45   \n",
              "...                 ...            ...              ...   \n",
              "23036               NaN            NaN               45   \n",
              "23078               0.0            NaN               45   \n",
              "23127               0.0            NaN               45   \n",
              "23156               0.0            NaN               45   \n",
              "23158               NaN            NaN               45   \n",
              "23172               1.0          632.0               45   \n",
              "23187               0.0            NaN               45   \n",
              "23192               NaN            NaN               45   \n",
              "23257               NaN            NaN               45   \n",
              "23259               1.0          896.0               45   \n",
              "23262               0.0            NaN               45   \n",
              "23290               NaN            NaN               45   \n",
              "23297               NaN            NaN               45   \n",
              "23380               2.0          850.0               45   \n",
              "23387               3.0           56.0               45   \n",
              "23390               NaN            NaN               45   \n",
              "23452               NaN            NaN               45   \n",
              "23454               0.0            NaN               45   \n",
              "23457               1.0          827.0               45   \n",
              "23482               0.0            NaN               45   \n",
              "23490               NaN            NaN               45   \n",
              "23500               0.0            NaN               45   \n",
              "23517               NaN            NaN               45   \n",
              "23530               NaN            NaN               45   \n",
              "23537               1.0          658.0               45   \n",
              "23601               2.0          397.0               45   \n",
              "23613               0.0            NaN               45   \n",
              "23670               NaN            NaN               45   \n",
              "23679               NaN            NaN               45   \n",
              "23695               NaN            NaN               45   \n",
              "\n",
              "       price_per_square_meter weekday_exposition  month_exposition  \\\n",
              "78                     117567                  3                 2   \n",
              "89                      39682                  3                10   \n",
              "110                     53250                  4                 9   \n",
              "153                     79090                  6                 5   \n",
              "158                     65539                  1                11   \n",
              "166                     38333                  5                12   \n",
              "189                     99193                  4                10   \n",
              "210                     73504                  2                 6   \n",
              "227                     46808                  4                 1   \n",
              "235                     66666                  1                 3   \n",
              "289                     95454                  0                 6   \n",
              "322                     80000                  1                 2   \n",
              "340                     99378                  3                 6   \n",
              "349                     92800                  2                 9   \n",
              "384                     98795                  3                 1   \n",
              "392                     94430                  4                 1   \n",
              "395                     32954                  4                 3   \n",
              "421                     33875                  1                12   \n",
              "487                     19877                  6                11   \n",
              "524                     51075                  3                 5   \n",
              "526                     79090                  1                 5   \n",
              "539                     81250                  0                 6   \n",
              "584                     47222                  2                 2   \n",
              "588                     84242                  1                 5   \n",
              "602                     61016                  1                 6   \n",
              "686                     30952                  2                11   \n",
              "725                     71551                  0                 6   \n",
              "731                     84523                  1                 4   \n",
              "746                     60000                  3                10   \n",
              "774                     83333                  0                10   \n",
              "...                       ...                ...               ...   \n",
              "23036                   56818                  3                12   \n",
              "23078                   78888                  0                11   \n",
              "23127                   68235                  3                12   \n",
              "23156                   63076                  2                 6   \n",
              "23158                   72093                  1                 2   \n",
              "23172                   96658                  3                12   \n",
              "23187                   70967                  3                12   \n",
              "23192                   72222                  2                 1   \n",
              "23257                   54631                  4                 3   \n",
              "23259                   98445                  3                 1   \n",
              "23262                   92391                  5                 2   \n",
              "23290                  104477                  2                 7   \n",
              "23297                   38381                  2                 3   \n",
              "23380                   88888                  3                 2   \n",
              "23387                  112000                  0                 8   \n",
              "23390                   59888                  0                10   \n",
              "23452                   43548                  1                12   \n",
              "23454                   70806                  3                 8   \n",
              "23457                   88888                  1                 2   \n",
              "23482                   90680                  2                12   \n",
              "23490                   28125                  2                 2   \n",
              "23500                   98275                  6                 2   \n",
              "23517                   58695                  2                 8   \n",
              "23530                  100000                  2                 3   \n",
              "23537                   80000                  2                 6   \n",
              "23601                   66820                  3                 1   \n",
              "23613                   75961                  6                 3   \n",
              "23670                   53728                  3                 2   \n",
              "23679                   71428                  4                12   \n",
              "23695                   52542                  0                 1   \n",
              "\n",
              "       year_exposition  floor_category  useful_area_ratio  kitchen_area_ratio  \n",
              "78                2018          другой           0.486486            0.289189  \n",
              "89                2018          другой           0.682540            0.142857  \n",
              "110               2017          другой           0.378976            0.326418  \n",
              "153               2017          другой           0.567273            0.150909  \n",
              "158               2017          другой           0.581395            0.179704  \n",
              "166               2017          первый                NaN                 NaN  \n",
              "189               2017          другой           0.669355            0.137097  \n",
              "210               2016          другой           0.491111            0.192137  \n",
              "227               2018          первый                NaN                 NaN  \n",
              "235               2019          первый           0.630000            0.150000  \n",
              "289               2017          другой           0.545455            0.212121  \n",
              "322               2017       последний                NaN                 NaN  \n",
              "340               2017          другой           0.590062            0.201863  \n",
              "349               2017          первый           0.680000                 NaN  \n",
              "384               2018          другой           0.397590            0.281928  \n",
              "392               2018          другой                NaN                 NaN  \n",
              "395               2019       последний           0.613636            0.136364  \n",
              "421               2017          другой                NaN                 NaN  \n",
              "487               2018          другой           0.753823            0.077982  \n",
              "524               2017          другой           0.596774            0.119624  \n",
              "526               2017       последний           0.545455            0.150909  \n",
              "539               2018          первый                NaN                 NaN  \n",
              "584               2018          другой                NaN                 NaN  \n",
              "588               2016          другой           0.690909            0.078788  \n",
              "602               2017          первый           0.644068            0.118644  \n",
              "686               2018          первый           0.714286            0.142857  \n",
              "725               2017       последний           0.672414            0.141379  \n",
              "731               2018       последний                NaN                 NaN  \n",
              "746               2018          другой           0.444444            0.258333  \n",
              "774               2018          другой           0.466667            0.300000  \n",
              "...                ...             ...                ...                 ...  \n",
              "23036             2017          другой                NaN                 NaN  \n",
              "23078             2017          другой           0.637778            0.133333  \n",
              "23127             2017       последний           0.668235            0.122353  \n",
              "23156             2016          первый           0.676923            0.123077  \n",
              "23158             2019       последний           0.488372            0.372093  \n",
              "23172             2017          другой           0.408115            0.214797  \n",
              "23187             2017          первый                NaN                 NaN  \n",
              "23192             2017          другой           0.666667            0.166667  \n",
              "23257             2018          другой                NaN                 NaN  \n",
              "23259             2018          другой                NaN                 NaN  \n",
              "23262             2019          первый           0.680435            0.108696  \n",
              "23290             2017          другой           0.447761            0.238806  \n",
              "23297             2019          другой           0.875519            0.124481  \n",
              "23380             2018          другой                NaN                 NaN  \n",
              "23387             2017          первый           0.540000            0.200000  \n",
              "23390             2018          другой           0.444444            0.258333  \n",
              "23452             2017          первый                NaN                 NaN  \n",
              "23454             2017          другой           0.359477            0.246187  \n",
              "23457             2018       последний                NaN                 NaN  \n",
              "23482             2017          другой           0.569270            0.181360  \n",
              "23490             2018          другой                NaN                 NaN  \n",
              "23500             2018       последний                NaN                 NaN  \n",
              "23517             2018          другой                NaN                 NaN  \n",
              "23530             2018          другой                NaN                 NaN  \n",
              "23537             2017          другой           0.637778            0.122222  \n",
              "23601             2018          первый                NaN                 NaN  \n",
              "23613             2018          другой                NaN                 NaN  \n",
              "23670             2018          другой                NaN                 NaN  \n",
              "23679             2017          другой                NaN                 NaN  \n",
              "23695             2018          другой           0.644068            0.144068  \n",
              "\n",
              "[880 rows x 29 columns]"
            ]
          },
          "metadata": {
            "tags": []
          },
          "execution_count": 6
        }
      ]
    },
    {
      "cell_type": "markdown",
      "metadata": {
        "id": "iab9YVaIg66w",
        "colab_type": "text"
      },
      "source": [
        "**Вывод:** никаких общих особенностей в обьявлениях, снятых через 45 дней не выявлено, потому будем убирать эти данные из наших расчетов, как и данные с 60, 90, 30 и 7 дней в столбце days_exposition, так как это аномалии.\n",
        "\n",
        "До того, как мы очистим наши данные от аномалий, нам нужно дать ответ на вопрос, какое количество дней считать нормальным, а какое выбросом на текущий момент до очистки данных.\n",
        "Исходя из метода describe, межквартильный размах - от 45 до 232 дней, исходя же из метода boxplot - диаграмма размаха у нас от минимального значения до примерно 500 дней. Значит необоснованно быстрых значений у нас нет, а необоснованно долгие - от 500 дней и выше. Значит нормальные значения у нас лежат от 1 до 500.\n",
        "\n",
        "На текущий момент мы уже знаем, что эти данные неправильные, но они нам нужны, чтобы сравнить с данными, очищенными от аномалий далее.\n",
        "\n",
        "Считаю важным уточнить у сотрудников насчет выбивающихся значений по датам снятия объявлений, чтобы убедиться в том, какие данные необходимо исключить из выборки."
      ]
    },
    {
      "cell_type": "markdown",
      "metadata": {
        "id": "LMOzYJ4Vg66x",
        "colab_type": "text"
      },
      "source": [
        "<span style=\"color:green\">Тут вообще интересная картина, помнишь мы долбались с этим 45??)) По-моему, что-то с ними не чисто, с этими датами :D Я бы уточнила у ребят, которые собирают данные)</span>"
      ]
    },
    {
      "cell_type": "markdown",
      "metadata": {
        "id": "6_SzH0XLg663",
        "colab_type": "text"
      },
      "source": [
        "#### 3. Уберите редкие и выбивающиеся значения. Опишите, какие особенности обнаружили."
      ]
    },
    {
      "cell_type": "code",
      "metadata": {
        "id": "VMP7yTcog664",
        "colab_type": "code",
        "outputId": "af6dcc20-f8a1-497f-bef8-be5444246be5",
        "colab": {}
      },
      "source": [
        "#отфильтруем данные от аномалий и запишем их в новый датафрейм good_data\n",
        "good_data = data.query('days_exposition != 45 and days_exposition != 30 and days_exposition != 60 and days_exposition != 90 and days_exposition != 7 and days_exposition != 0')\n",
        "\n",
        "#диаграмма размаха\n",
        "plt.boxplot(good_data['days_exposition'])\n",
        "plt.ylim(1,1000)\n",
        "\n",
        "#гистограммы\n",
        "good_data.plot(y = 'days_exposition', kind = 'hist', bins = 30, grid = True, range = (1,1600))\n",
        "good_data.plot(y = 'days_exposition', kind = 'hist', bins = 100, grid = True, range = (1,200))\n",
        "\n",
        "#среднее значение, медиана и межквартильный размах\n",
        "#good_data['days_exposition'].value_counts()\n",
        "good_data['days_exposition'].describe()\n"
      ],
      "execution_count": 0,
      "outputs": [
        {
          "output_type": "execute_result",
          "data": {
            "text/plain": [
              "count    18454.000000\n",
              "mean       195.803349\n",
              "std        226.760010\n",
              "min          1.000000\n",
              "25%         44.000000\n",
              "50%        114.000000\n",
              "75%        259.000000\n",
              "max       1580.000000\n",
              "Name: days_exposition, dtype: float64"
            ]
          },
          "metadata": {
            "tags": []
          },
          "execution_count": 7
        },
        {
          "output_type": "display_data",
          "data": {
            "image/png": "[encoded data removed]",
            "text/plain": [
              "<Figure size 432x288 with 1 Axes>"
            ]
          },
          "metadata": {
            "tags": [],
            "needs_background": "light"
          }
        },
        {
          "output_type": "display_data",
          "data": {
            "image/png": "[encoded data removed]",
            "text/plain": [
              "<Figure size 432x288 with 1 Axes>"
            ]
          },
          "metadata": {
            "tags": [],
            "needs_background": "light"
          }
        },
        {
          "output_type": "display_data",
          "data": {
            "image/png": "[encoded data removed]",
            "text/plain": [
              "<Figure size 432x288 with 1 Axes>"
            ]
          },
          "metadata": {
            "tags": [],
            "needs_background": "light"
          }
        }
      ]
    },
    {
      "cell_type": "markdown",
      "metadata": {
        "id": "80hUDtOhg666",
        "colab_type": "text"
      },
      "source": [
        "Вывод: ожидаемо, в очищенных данных с аномалиями в значениях меньших медианы получаем бОльшие значения медианы и среднего значения - 114 и 195 соответственно, вместо 95 и 180. Аналогично, теперь нормальные значения располагаются от 1 до 600 дней вместо от 1 до 500 дней."
      ]
    },
    {
      "cell_type": "markdown",
      "metadata": {
        "id": "Unfmzbwmg667",
        "colab_type": "text"
      },
      "source": [
        "#### 4. Какие факторы больше всего влияют на стоимость квартиры? Изучите, зависит ли цена квадратного метра от общей площади квартиры, числа комнат, этажа (первого или последнего), удалённости от центра. Также изучите зависимость от даты размещения: дня недели, месяца и года."
      ]
    },
    {
      "cell_type": "markdown",
      "metadata": {
        "id": "pFqh1Q7jg668",
        "colab_type": "text"
      },
      "source": [
        "**Изучим зависимость цены квадратного метра от общей площади квартиры.**"
      ]
    },
    {
      "cell_type": "code",
      "metadata": {
        "id": "Uydah8sug669",
        "colab_type": "code",
        "outputId": "591254be-2942-48f4-cd29-50a577b43938",
        "colab": {}
      },
      "source": [
        "pivot_table_total_area = data.pivot_table(index = 'total_area', values = 'price_per_square_meter', aggfunc = ['mean', 'count', 'median'])\n",
        "pivot_table_total_area.columns = ['mean', 'count', 'median']\n",
        "pivot_table_total_area.plot(y = 'median', style = 'o')\n",
        "\n",
        "pivot_table_total_area.sort_values('median', ascending = False)\n",
        "\n",
        "data['total_area'].corr(data['price_per_square_meter'])"
      ],
      "execution_count": 0,
      "outputs": [
        {
          "output_type": "execute_result",
          "data": {
            "text/plain": [
              "0.30196014387792547"
            ]
          },
          "metadata": {
            "tags": []
          },
          "execution_count": 8
        },
        {
          "output_type": "display_data",
          "data": {
            "image/png": "[encoded data removed]",
            "text/plain": [
              "<Figure size 432x288 with 1 Axes>"
            ]
          },
          "metadata": {
            "tags": [],
            "needs_background": "light"
          }
        }
      ]
    },
    {
      "cell_type": "markdown",
      "metadata": {
        "id": "dkYogQyRg67E",
        "colab_type": "text"
      },
      "source": [
        "**Вывод:** видим, что зависимость очень слабая - согласно корреляции Пирсона - 0.3! То есть, чем больше площадь тем немного выше стоимость!"
      ]
    },
    {
      "cell_type": "markdown",
      "metadata": {
        "id": "XFvx14rSg67F",
        "colab_type": "text"
      },
      "source": [
        "**Изучим зависимость цены квадратного метра от числа комнат.**"
      ]
    },
    {
      "cell_type": "code",
      "metadata": {
        "id": "X5ByDh_ng67H",
        "colab_type": "code",
        "outputId": "8828e8b5-5190-42e3-dd69-bc70e7b59976",
        "colab": {}
      },
      "source": [
        "pivot_table_rooms = data.pivot_table(index = 'rooms', values = 'price_per_square_meter', aggfunc = ['mean', 'count', 'median'])\n",
        "pivot_table_rooms.columns = ['mean', 'count', 'median']\n",
        "pivot_table_rooms.query('count > 50').plot(y = 'median')\n",
        "\n",
        "pivot_table_rooms.query('count > 50').sort_values('median', ascending = False)\n",
        "\n",
        "data['rooms'].corr(data['price_per_square_meter'])"
      ],
      "execution_count": 0,
      "outputs": [
        {
          "output_type": "execute_result",
          "data": {
            "text/plain": [
              "0.0554194996705922"
            ]
          },
          "metadata": {
            "tags": []
          },
          "execution_count": 9
        },
        {
          "output_type": "display_data",
          "data": {
            "image/png": "[encoded data removed]",
            "text/plain": [
              "<Figure size 432x288 with 1 Axes>"
            ]
          },
          "metadata": {
            "tags": [],
            "needs_background": "light"
          }
        }
      ]
    },
    {
      "cell_type": "markdown",
      "metadata": {
        "id": "l8xUyFQXg67M",
        "colab_type": "text"
      },
      "source": [
        "**Вывод:** чем ближе количество комнат к 3 тем ниже стоимость квадратного метра."
      ]
    },
    {
      "cell_type": "markdown",
      "metadata": {
        "id": "-ZPAxThyg67M",
        "colab_type": "text"
      },
      "source": [
        "**Изучим зависимость цены квадратного метра от этажа (первого или последнего).**"
      ]
    },
    {
      "cell_type": "code",
      "metadata": {
        "id": "fkLS-TWBg67N",
        "colab_type": "code",
        "outputId": "e2e004dd-f21d-4214-cd14-77f4306a806a",
        "colab": {}
      },
      "source": [
        "pivot_table_floor_category = data.query('floor_category != \"другой\"').pivot_table(index = 'floor_category', values = 'price_per_square_meter', aggfunc = ['mean', 'count', 'median'])\n",
        "pivot_table_floor_category.columns = ['mean', 'count', 'median']\n",
        "pivot_table_floor_category.plot(y = 'median')\n",
        "pivot_table_floor_category"
      ],
      "execution_count": 0,
      "outputs": [
        {
          "output_type": "execute_result",
          "data": {
            "text/html": [
              "<div>\n",
              "<style scoped>\n",
              "    .dataframe tbody tr th:only-of-type {\n",
              "        vertical-align: middle;\n",
              "    }\n",
              "\n",
              "    .dataframe tbody tr th {\n",
              "        vertical-align: top;\n",
              "    }\n",
              "\n",
              "    .dataframe thead th {\n",
              "        text-align: right;\n",
              "    }\n",
              "</style>\n",
              "<table border=\"1\" class=\"dataframe\">\n",
              "  <thead>\n",
              "    <tr style=\"text-align: right;\">\n",
              "      <th></th>\n",
              "      <th>mean</th>\n",
              "      <th>count</th>\n",
              "      <th>median</th>\n",
              "    </tr>\n",
              "    <tr>\n",
              "      <th>floor_category</th>\n",
              "      <th></th>\n",
              "      <th></th>\n",
              "      <th></th>\n",
              "    </tr>\n",
              "  </thead>\n",
              "  <tbody>\n",
              "    <tr>\n",
              "      <th>первый</th>\n",
              "      <td>81983.111759</td>\n",
              "      <td>2917</td>\n",
              "      <td>81223</td>\n",
              "    </tr>\n",
              "    <tr>\n",
              "      <th>последний</th>\n",
              "      <td>93410.267686</td>\n",
              "      <td>3336</td>\n",
              "      <td>87777</td>\n",
              "    </tr>\n",
              "  </tbody>\n",
              "</table>\n",
              "</div>"
            ],
            "text/plain": [
              "                        mean  count  median\n",
              "floor_category                             \n",
              "первый          81983.111759   2917   81223\n",
              "последний       93410.267686   3336   87777"
            ]
          },
          "metadata": {
            "tags": []
          },
          "execution_count": 10
        },
        {
          "output_type": "display_data",
          "data": {
            "image/png": "[encoded data removed]",
            "text/plain": [
              "<Figure size 432x288 with 1 Axes>"
            ]
          },
          "metadata": {
            "tags": [],
            "needs_background": "light"
          }
        }
      ]
    },
    {
      "cell_type": "markdown",
      "metadata": {
        "id": "Vtfq3yITg67R",
        "colab_type": "text"
      },
      "source": [
        "**Вывод:** из графика ничего не понятно! Согласно медиане - как правило квартиры на первом этаже дешевле квартир на последнем этаже - в среднем на 10%!"
      ]
    },
    {
      "cell_type": "markdown",
      "metadata": {
        "id": "U8XlKffag67S",
        "colab_type": "text"
      },
      "source": [
        "**Изучим зависимость цены квадратного метра от удалённости от центра.**"
      ]
    },
    {
      "cell_type": "code",
      "metadata": {
        "id": "_mc9FTIwg67T",
        "colab_type": "code",
        "outputId": "bc365187-16e4-48be-daf0-0ddc3b9a3fc0",
        "colab": {}
      },
      "source": [
        "data.plot(kind = 'scatter', y = 'price_per_square_meter', x = 'cityCenters_nearest', alpha = 0.3)\n",
        "\n",
        "data['cityCenters_nearest'].corr(data['price_per_square_meter'])"
      ],
      "execution_count": 0,
      "outputs": [
        {
          "output_type": "execute_result",
          "data": {
            "text/plain": [
              "-0.3179507368286467"
            ]
          },
          "metadata": {
            "tags": []
          },
          "execution_count": 11
        },
        {
          "output_type": "display_data",
          "data": {
            "image/png": "[encoded data removed]",
            "text/plain": [
              "<Figure size 432x288 with 1 Axes>"
            ]
          },
          "metadata": {
            "tags": [],
            "needs_background": "light"
          }
        }
      ]
    },
    {
      "cell_type": "markdown",
      "metadata": {
        "id": "ZMrG_sJOg69-",
        "colab_type": "text"
      },
      "source": [
        "**Вывод:** видим явную зависимость стоимости квадратного метра от близости к центру! Чем ближе к центру, тем выше стоимость!"
      ]
    },
    {
      "cell_type": "markdown",
      "metadata": {
        "id": "ncM-178Wg6-A",
        "colab_type": "text"
      },
      "source": [
        "**Изучим зависимость цены квадратного метра от даты размещения: дня недели.**"
      ]
    },
    {
      "cell_type": "code",
      "metadata": {
        "id": "KfM85cnsg6-B",
        "colab_type": "code",
        "outputId": "bccbbb0f-4fb8-4132-e429-d9828562181c",
        "colab": {}
      },
      "source": [
        "pivot_table_weekday_exposition = data.pivot_table(index = 'weekday_exposition', values = 'price_per_square_meter', aggfunc = ['mean', 'count', 'median'])\n",
        "pivot_table_weekday_exposition.columns = ['mean', 'count', 'median']\n",
        "pivot_table_weekday_exposition.plot(y = 'median')\n",
        "\n",
        "pivot_table_weekday_exposition.sort_values('median', ascending = False)"
      ],
      "execution_count": 0,
      "outputs": [
        {
          "output_type": "execute_result",
          "data": {
            "text/html": [
              "<div>\n",
              "<style scoped>\n",
              "    .dataframe tbody tr th:only-of-type {\n",
              "        vertical-align: middle;\n",
              "    }\n",
              "\n",
              "    .dataframe tbody tr th {\n",
              "        vertical-align: top;\n",
              "    }\n",
              "\n",
              "    .dataframe thead th {\n",
              "        text-align: right;\n",
              "    }\n",
              "</style>\n",
              "<table border=\"1\" class=\"dataframe\">\n",
              "  <thead>\n",
              "    <tr style=\"text-align: right;\">\n",
              "      <th></th>\n",
              "      <th>mean</th>\n",
              "      <th>count</th>\n",
              "      <th>median</th>\n",
              "    </tr>\n",
              "    <tr>\n",
              "      <th>weekday_exposition</th>\n",
              "      <th></th>\n",
              "      <th></th>\n",
              "      <th></th>\n",
              "    </tr>\n",
              "  </thead>\n",
              "  <tbody>\n",
              "    <tr>\n",
              "      <th>1</th>\n",
              "      <td>99734.089410</td>\n",
              "      <td>4183</td>\n",
              "      <td>95634.0</td>\n",
              "    </tr>\n",
              "    <tr>\n",
              "      <th>2</th>\n",
              "      <td>99616.731002</td>\n",
              "      <td>3974</td>\n",
              "      <td>95473.0</td>\n",
              "    </tr>\n",
              "    <tr>\n",
              "      <th>3</th>\n",
              "      <td>100162.466356</td>\n",
              "      <td>4295</td>\n",
              "      <td>95143.0</td>\n",
              "    </tr>\n",
              "    <tr>\n",
              "      <th>0</th>\n",
              "      <td>99437.994463</td>\n",
              "      <td>3612</td>\n",
              "      <td>94688.0</td>\n",
              "    </tr>\n",
              "    <tr>\n",
              "      <th>4</th>\n",
              "      <td>99011.697000</td>\n",
              "      <td>4000</td>\n",
              "      <td>94616.0</td>\n",
              "    </tr>\n",
              "    <tr>\n",
              "      <th>6</th>\n",
              "      <td>97707.917010</td>\n",
              "      <td>1699</td>\n",
              "      <td>94501.0</td>\n",
              "    </tr>\n",
              "    <tr>\n",
              "      <th>5</th>\n",
              "      <td>99017.722107</td>\n",
              "      <td>1936</td>\n",
              "      <td>93545.5</td>\n",
              "    </tr>\n",
              "  </tbody>\n",
              "</table>\n",
              "</div>"
            ],
            "text/plain": [
              "                             mean  count   median\n",
              "weekday_exposition                               \n",
              "1                    99734.089410   4183  95634.0\n",
              "2                    99616.731002   3974  95473.0\n",
              "3                   100162.466356   4295  95143.0\n",
              "0                    99437.994463   3612  94688.0\n",
              "4                    99011.697000   4000  94616.0\n",
              "6                    97707.917010   1699  94501.0\n",
              "5                    99017.722107   1936  93545.5"
            ]
          },
          "metadata": {
            "tags": []
          },
          "execution_count": 12
        },
        {
          "output_type": "display_data",
          "data": {
            "image/png": "[encoded data removed]",
            "text/plain": [
              "<Figure size 432x288 with 1 Axes>"
            ]
          },
          "metadata": {
            "tags": [],
            "needs_background": "light"
          }
        }
      ]
    },
    {
      "cell_type": "markdown",
      "metadata": {
        "id": "nhKLNHkOg6-G",
        "colab_type": "text"
      },
      "source": [
        "**Вывод:** видим, что чем ближе ко вторнику выставлены объявления тем в среднем выше стоимость, но незначительно! По субботам стоимость самая низкая!\n",
        "\n",
        "Полагаю, что стоимость выставленной на продажу недвижимости зависит от общей активности людей, так как именно в рабочие дни мы видим более высокие цены."
      ]
    },
    {
      "cell_type": "markdown",
      "metadata": {
        "id": "lx0O4rYJg6-H",
        "colab_type": "text"
      },
      "source": [
        "<span style=\"color:green\">С чем это связано? Можешь тут порассуждать немного?))</span>"
      ]
    },
    {
      "cell_type": "markdown",
      "metadata": {
        "id": "NPFZzsVEg6-I",
        "colab_type": "text"
      },
      "source": [
        "**Изучим зависимость цены квадратного метра от даты размещения: месяца.**"
      ]
    },
    {
      "cell_type": "code",
      "metadata": {
        "id": "7wgMI-_Ag6-J",
        "colab_type": "code",
        "outputId": "967e477d-f49d-43a5-ac1f-eae285e8571c",
        "colab": {}
      },
      "source": [
        "pivot_table_month_exposition = data.pivot_table(index = 'month_exposition', values = 'price_per_square_meter', aggfunc = ['mean', 'count', 'median'])\n",
        "pivot_table_month_exposition.columns = ['mean', 'count', 'median']\n",
        "pivot_table_month_exposition.plot(y = 'median')\n",
        "\n",
        "pivot_table_month_exposition.sort_values('median', ascending = False)"
      ],
      "execution_count": 0,
      "outputs": [
        {
          "output_type": "execute_result",
          "data": {
            "text/html": [
              "<div>\n",
              "<style scoped>\n",
              "    .dataframe tbody tr th:only-of-type {\n",
              "        vertical-align: middle;\n",
              "    }\n",
              "\n",
              "    .dataframe tbody tr th {\n",
              "        vertical-align: top;\n",
              "    }\n",
              "\n",
              "    .dataframe thead th {\n",
              "        text-align: right;\n",
              "    }\n",
              "</style>\n",
              "<table border=\"1\" class=\"dataframe\">\n",
              "  <thead>\n",
              "    <tr style=\"text-align: right;\">\n",
              "      <th></th>\n",
              "      <th>mean</th>\n",
              "      <th>count</th>\n",
              "      <th>median</th>\n",
              "    </tr>\n",
              "    <tr>\n",
              "      <th>month_exposition</th>\n",
              "      <th></th>\n",
              "      <th></th>\n",
              "      <th></th>\n",
              "    </tr>\n",
              "  </thead>\n",
              "  <tbody>\n",
              "    <tr>\n",
              "      <th>4</th>\n",
              "      <td>101948.567045</td>\n",
              "      <td>2379</td>\n",
              "      <td>96451</td>\n",
              "    </tr>\n",
              "    <tr>\n",
              "      <th>8</th>\n",
              "      <td>100110.094037</td>\n",
              "      <td>1744</td>\n",
              "      <td>96026</td>\n",
              "    </tr>\n",
              "    <tr>\n",
              "      <th>9</th>\n",
              "      <td>100463.814740</td>\n",
              "      <td>1981</td>\n",
              "      <td>95607</td>\n",
              "    </tr>\n",
              "    <tr>\n",
              "      <th>11</th>\n",
              "      <td>99230.427246</td>\n",
              "      <td>2371</td>\n",
              "      <td>95588</td>\n",
              "    </tr>\n",
              "    <tr>\n",
              "      <th>3</th>\n",
              "      <td>98972.768844</td>\n",
              "      <td>2587</td>\n",
              "      <td>95238</td>\n",
              "    </tr>\n",
              "    <tr>\n",
              "      <th>1</th>\n",
              "      <td>99862.139333</td>\n",
              "      <td>1500</td>\n",
              "      <td>95222</td>\n",
              "    </tr>\n",
              "    <tr>\n",
              "      <th>2</th>\n",
              "      <td>98768.292045</td>\n",
              "      <td>2640</td>\n",
              "      <td>95000</td>\n",
              "    </tr>\n",
              "    <tr>\n",
              "      <th>7</th>\n",
              "      <td>99625.190560</td>\n",
              "      <td>1695</td>\n",
              "      <td>95000</td>\n",
              "    </tr>\n",
              "    <tr>\n",
              "      <th>12</th>\n",
              "      <td>99574.280926</td>\n",
              "      <td>1641</td>\n",
              "      <td>94262</td>\n",
              "    </tr>\n",
              "    <tr>\n",
              "      <th>10</th>\n",
              "      <td>97933.448049</td>\n",
              "      <td>2127</td>\n",
              "      <td>94202</td>\n",
              "    </tr>\n",
              "    <tr>\n",
              "      <th>5</th>\n",
              "      <td>98543.340659</td>\n",
              "      <td>1274</td>\n",
              "      <td>92857</td>\n",
              "    </tr>\n",
              "    <tr>\n",
              "      <th>6</th>\n",
              "      <td>97762.870455</td>\n",
              "      <td>1760</td>\n",
              "      <td>92799</td>\n",
              "    </tr>\n",
              "  </tbody>\n",
              "</table>\n",
              "</div>"
            ],
            "text/plain": [
              "                           mean  count  median\n",
              "month_exposition                              \n",
              "4                 101948.567045   2379   96451\n",
              "8                 100110.094037   1744   96026\n",
              "9                 100463.814740   1981   95607\n",
              "11                 99230.427246   2371   95588\n",
              "3                  98972.768844   2587   95238\n",
              "1                  99862.139333   1500   95222\n",
              "2                  98768.292045   2640   95000\n",
              "7                  99625.190560   1695   95000\n",
              "12                 99574.280926   1641   94262\n",
              "10                 97933.448049   2127   94202\n",
              "5                  98543.340659   1274   92857\n",
              "6                  97762.870455   1760   92799"
            ]
          },
          "metadata": {
            "tags": []
          },
          "execution_count": 13
        },
        {
          "output_type": "display_data",
          "data": {
            "image/png": "[encoded data removed]",
            "text/plain": [
              "<Figure size 432x288 with 1 Axes>"
            ]
          },
          "metadata": {
            "tags": [],
            "needs_background": "light"
          }
        }
      ]
    },
    {
      "cell_type": "markdown",
      "metadata": {
        "id": "_Y-ViKW9g6-V",
        "colab_type": "text"
      },
      "source": [
        "**Вывод:** самая высокая стоимость метра в апреле и августе! Самая низкая стоимость в мае и июне!\n",
        "На рынке недвижимости, как и во многих других сферах присутствует сезонность - в начале лета мы видим наименьшее предложение как по количеству, так и по стоимости недвижимости. Наверное, это связано с отпусками."
      ]
    },
    {
      "cell_type": "markdown",
      "metadata": {
        "id": "ougjyA-bg6-V",
        "colab_type": "text"
      },
      "source": [
        "<span style=\"color:green\">А на что тут рассчитывают люди, которые выставляют недвижимость? Писуща ли рунку недвижимости сезонность? Какая?</span>"
      ]
    },
    {
      "cell_type": "markdown",
      "metadata": {
        "id": "Dg3rE4T3g6-W",
        "colab_type": "text"
      },
      "source": [
        "**Изучим зависимость цены квадратного метра от даты размещения: года.**"
      ]
    },
    {
      "cell_type": "code",
      "metadata": {
        "id": "nflePBcwg6-X",
        "colab_type": "code",
        "outputId": "ebb7a0e4-ae5f-4253-c467-ca4bdee3e7d6",
        "colab": {}
      },
      "source": [
        "pivot_table_year_exposition = data.pivot_table(index = 'year_exposition', values = 'price_per_square_meter', aggfunc = ['mean', 'count', 'median'])\n",
        "pivot_table_year_exposition.columns = ['mean', 'count', 'median']\n",
        "pivot_table_year_exposition.plot(y = 'median')\n",
        "\n",
        "pivot_table_year_exposition.sort_values('median', ascending = False)"
      ],
      "execution_count": 0,
      "outputs": [
        {
          "output_type": "execute_result",
          "data": {
            "text/html": [
              "<div>\n",
              "<style scoped>\n",
              "    .dataframe tbody tr th:only-of-type {\n",
              "        vertical-align: middle;\n",
              "    }\n",
              "\n",
              "    .dataframe tbody tr th {\n",
              "        vertical-align: top;\n",
              "    }\n",
              "\n",
              "    .dataframe thead th {\n",
              "        text-align: right;\n",
              "    }\n",
              "</style>\n",
              "<table border=\"1\" class=\"dataframe\">\n",
              "  <thead>\n",
              "    <tr style=\"text-align: right;\">\n",
              "      <th></th>\n",
              "      <th>mean</th>\n",
              "      <th>count</th>\n",
              "      <th>median</th>\n",
              "    </tr>\n",
              "    <tr>\n",
              "      <th>year_exposition</th>\n",
              "      <th></th>\n",
              "      <th></th>\n",
              "      <th></th>\n",
              "    </tr>\n",
              "  </thead>\n",
              "  <tbody>\n",
              "    <tr>\n",
              "      <th>2014</th>\n",
              "      <td>124830.000000</td>\n",
              "      <td>137</td>\n",
              "      <td>107000.0</td>\n",
              "    </tr>\n",
              "    <tr>\n",
              "      <th>2019</th>\n",
              "      <td>107123.332060</td>\n",
              "      <td>2879</td>\n",
              "      <td>103305.0</td>\n",
              "    </tr>\n",
              "    <tr>\n",
              "      <th>2018</th>\n",
              "      <td>97773.107290</td>\n",
              "      <td>8519</td>\n",
              "      <td>95689.0</td>\n",
              "    </tr>\n",
              "    <tr>\n",
              "      <th>2015</th>\n",
              "      <td>104613.756507</td>\n",
              "      <td>1191</td>\n",
              "      <td>93414.0</td>\n",
              "    </tr>\n",
              "    <tr>\n",
              "      <th>2017</th>\n",
              "      <td>97621.434188</td>\n",
              "      <td>8190</td>\n",
              "      <td>92564.5</td>\n",
              "    </tr>\n",
              "    <tr>\n",
              "      <th>2016</th>\n",
              "      <td>98321.900467</td>\n",
              "      <td>2783</td>\n",
              "      <td>91743.0</td>\n",
              "    </tr>\n",
              "  </tbody>\n",
              "</table>\n",
              "</div>"
            ],
            "text/plain": [
              "                          mean  count    median\n",
              "year_exposition                                \n",
              "2014             124830.000000    137  107000.0\n",
              "2019             107123.332060   2879  103305.0\n",
              "2018              97773.107290   8519   95689.0\n",
              "2015             104613.756507   1191   93414.0\n",
              "2017              97621.434188   8190   92564.5\n",
              "2016              98321.900467   2783   91743.0"
            ]
          },
          "metadata": {
            "tags": []
          },
          "execution_count": 14
        },
        {
          "output_type": "display_data",
          "data": {
            "image/png": "[encoded data removed]",
            "text/plain": [
              "<Figure size 432x288 with 1 Axes>"
            ]
          },
          "metadata": {
            "tags": [],
            "needs_background": "light"
          }
        }
      ]
    },
    {
      "cell_type": "markdown",
      "metadata": {
        "id": "ddlq6nKyg6-f",
        "colab_type": "text"
      },
      "source": [
        "**Вывод:** видим, что с 2014 до 2016 года цена падала, но далее начала увеличиваться! В СРЕДНЕМ! Мы не рассматриваем сегментацию рынка и по факту стоимость аналогичных квартир могла себя вести абсолютно иначе от года к году!\n",
        "В выводе присутствует реальный пример."
      ]
    },
    {
      "cell_type": "markdown",
      "metadata": {
        "id": "PVanxInyg6-f",
        "colab_type": "text"
      },
      "source": [
        "<span style=\"color:green\">Вот тут можно было включить свои рассуждения) Они мне очень понравились и я считаю, что они должны быть в твоем исследовательском анализе :)</span>"
      ]
    },
    {
      "cell_type": "markdown",
      "metadata": {
        "id": "AoStr4pdg6-h",
        "colab_type": "text"
      },
      "source": [
        "#### 5. Выберите 10 населённых пунктов с наибольшим числом объявлений. Посчитайте среднюю цену квадратного метра в этих населённых пунктах. Выделите населённые пункты с самой высокой и низкой стоимостью жилья. Эти данные можно найти по имени в столбце 'locality_name'."
      ]
    },
    {
      "cell_type": "code",
      "metadata": {
        "id": "GfqxT4Qgg6-i",
        "colab_type": "code",
        "outputId": "9319261e-cd0c-4050-f28b-83fa42175aa1",
        "colab": {}
      },
      "source": [
        "locality_pivot_table = data.pivot_table(index = 'locality_name', values = 'price_per_square_meter', aggfunc=['count', 'mean'])\n",
        "locality_pivot_table.columns = ['count', 'mean']\n",
        "locality_pivot_table = locality_pivot_table.sort_values('count', ascending = False).head(10)\n",
        "locality_pivot_table\n",
        "#самая высокая стоимость\n",
        "locality_pivot_table[locality_pivot_table['mean']==locality_pivot_table['mean'].max()]\n",
        "#самая низкая стоимость\n",
        "locality_pivot_table[locality_pivot_table['mean']==locality_pivot_table['mean'].min()]\n"
      ],
      "execution_count": 0,
      "outputs": [
        {
          "output_type": "execute_result",
          "data": {
            "text/html": [
              "<div>\n",
              "<style scoped>\n",
              "    .dataframe tbody tr th:only-of-type {\n",
              "        vertical-align: middle;\n",
              "    }\n",
              "\n",
              "    .dataframe tbody tr th {\n",
              "        vertical-align: top;\n",
              "    }\n",
              "\n",
              "    .dataframe thead th {\n",
              "        text-align: right;\n",
              "    }\n",
              "</style>\n",
              "<table border=\"1\" class=\"dataframe\">\n",
              "  <thead>\n",
              "    <tr style=\"text-align: right;\">\n",
              "      <th></th>\n",
              "      <th>count</th>\n",
              "      <th>mean</th>\n",
              "    </tr>\n",
              "    <tr>\n",
              "      <th>locality_name</th>\n",
              "      <th></th>\n",
              "      <th></th>\n",
              "    </tr>\n",
              "  </thead>\n",
              "  <tbody>\n",
              "    <tr>\n",
              "      <th>Выборг</th>\n",
              "      <td>237</td>\n",
              "      <td>58141.489451</td>\n",
              "    </tr>\n",
              "  </tbody>\n",
              "</table>\n",
              "</div>"
            ],
            "text/plain": [
              "               count          mean\n",
              "locality_name                     \n",
              "Выборг           237  58141.489451"
            ]
          },
          "metadata": {
            "tags": []
          },
          "execution_count": 15
        }
      ]
    },
    {
      "cell_type": "markdown",
      "metadata": {
        "id": "7kgaHQFyg6-l",
        "colab_type": "text"
      },
      "source": [
        "**Вывод:** самая высокая стоимость жилья из 10 населённых пунктов с самым большим количеством объявлений в Санкт-Петербурге, тогда как самая низкая стоимость в Выборге."
      ]
    },
    {
      "cell_type": "markdown",
      "metadata": {
        "id": "MttMeVgSg6-l",
        "colab_type": "text"
      },
      "source": [
        "#### 6. Изучите предложения квартир: для каждой квартиры есть информация о расстоянии до центра. Выделите квартиры в Санкт-Петербурге ('locality_name'). Ваша задача — выяснить, какая область входит в центр. Создайте столбец с расстоянием до центра в километрах: округлите до целых значений. После этого посчитайте среднюю цену для каждого километра. Постройте график: он должен показывать, как цена зависит от удалённости от центра. Определите границу, где график сильно меняется — это и будет центральная зона."
      ]
    },
    {
      "cell_type": "code",
      "metadata": {
        "id": "TVRdnkSKg6-m",
        "colab_type": "code",
        "outputId": "c332d297-293f-497b-c3fe-8750e7af8453",
        "colab": {}
      },
      "source": [
        "data['cityCenters_nearest_km'] = data['cityCenters_nearest']/1000\n",
        "data['cityCenters_nearest_km'] = data['cityCenters_nearest_km'].fillna(999999)\n",
        "data['cityCenters_nearest_km'] = data['cityCenters_nearest_km'].astype('int')\n",
        "pivot_table_km = data.query('locality_name == \"Санкт-Петербург\" and cityCenters_nearest_km !=999999').pivot_table(index = 'cityCenters_nearest_km', values = 'price_per_square_meter', aggfunc = 'mean')\n",
        "pivot_table_km.plot()\n",
        "pivot_table_km"
      ],
      "execution_count": 0,
      "outputs": [
        {
          "output_type": "execute_result",
          "data": {
            "text/html": [
              "<div>\n",
              "<style scoped>\n",
              "    .dataframe tbody tr th:only-of-type {\n",
              "        vertical-align: middle;\n",
              "    }\n",
              "\n",
              "    .dataframe tbody tr th {\n",
              "        vertical-align: top;\n",
              "    }\n",
              "\n",
              "    .dataframe thead th {\n",
              "        text-align: right;\n",
              "    }\n",
              "</style>\n",
              "<table border=\"1\" class=\"dataframe\">\n",
              "  <thead>\n",
              "    <tr style=\"text-align: right;\">\n",
              "      <th></th>\n",
              "      <th>price_per_square_meter</th>\n",
              "    </tr>\n",
              "    <tr>\n",
              "      <th>cityCenters_nearest_km</th>\n",
              "      <th></th>\n",
              "    </tr>\n",
              "  </thead>\n",
              "  <tbody>\n",
              "    <tr>\n",
              "      <th>0</th>\n",
              "      <td>187323.674419</td>\n",
              "    </tr>\n",
              "    <tr>\n",
              "      <th>1</th>\n",
              "      <td>166603.312500</td>\n",
              "    </tr>\n",
              "    <tr>\n",
              "      <th>2</th>\n",
              "      <td>146662.420195</td>\n",
              "    </tr>\n",
              "    <tr>\n",
              "      <th>3</th>\n",
              "      <td>129415.891635</td>\n",
              "    </tr>\n",
              "    <tr>\n",
              "      <th>4</th>\n",
              "      <td>137475.039691</td>\n",
              "    </tr>\n",
              "    <tr>\n",
              "      <th>5</th>\n",
              "      <td>146978.789337</td>\n",
              "    </tr>\n",
              "    <tr>\n",
              "      <th>6</th>\n",
              "      <td>152277.455319</td>\n",
              "    </tr>\n",
              "    <tr>\n",
              "      <th>7</th>\n",
              "      <td>141399.287469</td>\n",
              "    </tr>\n",
              "    <tr>\n",
              "      <th>8</th>\n",
              "      <td>120580.929851</td>\n",
              "    </tr>\n",
              "    <tr>\n",
              "      <th>9</th>\n",
              "      <td>110012.108696</td>\n",
              "    </tr>\n",
              "    <tr>\n",
              "      <th>10</th>\n",
              "      <td>111640.850877</td>\n",
              "    </tr>\n",
              "    <tr>\n",
              "      <th>11</th>\n",
              "      <td>106790.438163</td>\n",
              "    </tr>\n",
              "    <tr>\n",
              "      <th>12</th>\n",
              "      <td>108295.312211</td>\n",
              "    </tr>\n",
              "    <tr>\n",
              "      <th>13</th>\n",
              "      <td>107208.716120</td>\n",
              "    </tr>\n",
              "    <tr>\n",
              "      <th>14</th>\n",
              "      <td>104986.032407</td>\n",
              "    </tr>\n",
              "    <tr>\n",
              "      <th>15</th>\n",
              "      <td>101882.678077</td>\n",
              "    </tr>\n",
              "    <tr>\n",
              "      <th>16</th>\n",
              "      <td>100085.150995</td>\n",
              "    </tr>\n",
              "    <tr>\n",
              "      <th>17</th>\n",
              "      <td>94095.434457</td>\n",
              "    </tr>\n",
              "    <tr>\n",
              "      <th>18</th>\n",
              "      <td>94831.528736</td>\n",
              "    </tr>\n",
              "    <tr>\n",
              "      <th>19</th>\n",
              "      <td>95433.951220</td>\n",
              "    </tr>\n",
              "    <tr>\n",
              "      <th>20</th>\n",
              "      <td>107045.773810</td>\n",
              "    </tr>\n",
              "    <tr>\n",
              "      <th>21</th>\n",
              "      <td>91492.220513</td>\n",
              "    </tr>\n",
              "    <tr>\n",
              "      <th>22</th>\n",
              "      <td>88714.237410</td>\n",
              "    </tr>\n",
              "    <tr>\n",
              "      <th>23</th>\n",
              "      <td>92720.233333</td>\n",
              "    </tr>\n",
              "    <tr>\n",
              "      <th>24</th>\n",
              "      <td>82439.909091</td>\n",
              "    </tr>\n",
              "    <tr>\n",
              "      <th>25</th>\n",
              "      <td>91135.600000</td>\n",
              "    </tr>\n",
              "    <tr>\n",
              "      <th>26</th>\n",
              "      <td>75171.333333</td>\n",
              "    </tr>\n",
              "    <tr>\n",
              "      <th>27</th>\n",
              "      <td>132115.000000</td>\n",
              "    </tr>\n",
              "    <tr>\n",
              "      <th>28</th>\n",
              "      <td>81840.200000</td>\n",
              "    </tr>\n",
              "    <tr>\n",
              "      <th>29</th>\n",
              "      <td>62481.666667</td>\n",
              "    </tr>\n",
              "  </tbody>\n",
              "</table>\n",
              "</div>"
            ],
            "text/plain": [
              "                        price_per_square_meter\n",
              "cityCenters_nearest_km                        \n",
              "0                                187323.674419\n",
              "1                                166603.312500\n",
              "2                                146662.420195\n",
              "3                                129415.891635\n",
              "4                                137475.039691\n",
              "5                                146978.789337\n",
              "6                                152277.455319\n",
              "7                                141399.287469\n",
              "8                                120580.929851\n",
              "9                                110012.108696\n",
              "10                               111640.850877\n",
              "11                               106790.438163\n",
              "12                               108295.312211\n",
              "13                               107208.716120\n",
              "14                               104986.032407\n",
              "15                               101882.678077\n",
              "16                               100085.150995\n",
              "17                                94095.434457\n",
              "18                                94831.528736\n",
              "19                                95433.951220\n",
              "20                               107045.773810\n",
              "21                                91492.220513\n",
              "22                                88714.237410\n",
              "23                                92720.233333\n",
              "24                                82439.909091\n",
              "25                                91135.600000\n",
              "26                                75171.333333\n",
              "27                               132115.000000\n",
              "28                                81840.200000\n",
              "29                                62481.666667"
            ]
          },
          "metadata": {
            "tags": []
          },
          "execution_count": 16
        },
        {
          "output_type": "display_data",
          "data": {
            "image/png": "[encoded data removed]",
            "text/plain": [
              "<Figure size 432x288 with 1 Axes>"
            ]
          },
          "metadata": {
            "tags": [],
            "needs_background": "light"
          }
        }
      ]
    },
    {
      "cell_type": "markdown",
      "metadata": {
        "id": "QEEoZTtDg6-p",
        "colab_type": "text"
      },
      "source": [
        "**Вывод:** судя по графику центром считать будем радиус в 3 километра!"
      ]
    },
    {
      "cell_type": "markdown",
      "metadata": {
        "id": "BFUKW5uag6-r",
        "colab_type": "text"
      },
      "source": [
        "<span style=\"color:green\">Не мало ли для Питера О_о</span>"
      ]
    },
    {
      "cell_type": "markdown",
      "metadata": {
        "id": "URNzI2PQg6-s",
        "colab_type": "text"
      },
      "source": [
        "#### 7. Выделите сегмент квартир в центре. Проанализируйте эту территорию и изучите следующие параметры: площадь, цена, число комнат, высота потолков. Также выделите факторы, которые влияют на стоимость квартиры (число комнат, этаж, удалённость от центра, дата размещения объявления). Сделайте выводы. Отличаются ли они от общих выводов по всему городу?"
      ]
    },
    {
      "cell_type": "code",
      "metadata": {
        "id": "VON2uGnQg6-s",
        "colab_type": "code",
        "colab": {}
      },
      "source": [
        "#выделим квартиры в центре, беря за радиус 3 км\n",
        "center_spb_data = data.query('cityCenters_nearest_km <= 3 and locality_name == \"Санкт-Петербург\"')"
      ],
      "execution_count": 0,
      "outputs": []
    },
    {
      "cell_type": "markdown",
      "metadata": {
        "id": "Prg2bZ7Sg6-u",
        "colab_type": "text"
      },
      "source": [
        "**Зависимость стоимости квадратного метра от количества комнат.**"
      ]
    },
    {
      "cell_type": "code",
      "metadata": {
        "id": "5TKt8z-zg6-v",
        "colab_type": "code",
        "outputId": "39160cea-be59-4906-b99c-7c6196552c2d",
        "colab": {}
      },
      "source": [
        "center_spb_rooms = center_spb_data.pivot_table(index = 'rooms', values = 'price_per_square_meter', aggfunc = ['mean', 'count', 'median'])\n",
        "center_spb_rooms.columns = ['mean', 'count', 'median']\n",
        "center_spb_rooms.query('count > 50').plot(y = 'median')\n",
        "\n",
        "center_spb_rooms.query('count > 50').sort_values('median', ascending = False)\n",
        "\n",
        "center_spb_data['rooms'].corr(center_spb_data['price_per_square_meter'])"
      ],
      "execution_count": 0,
      "outputs": [
        {
          "output_type": "execute_result",
          "data": {
            "text/plain": [
              "0.0017673487141106456"
            ]
          },
          "metadata": {
            "tags": []
          },
          "execution_count": 18
        },
        {
          "output_type": "display_data",
          "data": {
            "image/png": "[encoded data removed]",
            "text/plain": [
              "<Figure size 432x288 with 1 Axes>"
            ]
          },
          "metadata": {
            "tags": [],
            "needs_background": "light"
          }
        }
      ]
    },
    {
      "cell_type": "markdown",
      "metadata": {
        "id": "KLCMVR1zg6-y",
        "colab_type": "text"
      },
      "source": [
        "**Вывод:** в центре СПБ чем меньше комнат тем дороже стоимость метра квадратного, в отличие от всей выборки, где стоимость уменьшается в зависимости от близости кол-ва комнат к 3! Так мы считаем, исходя из поведения медианной стоимости, в зависимости от количества комнат. Хотя корреляция маленькая, правильнее смотреть именно на график."
      ]
    },
    {
      "cell_type": "markdown",
      "metadata": {
        "id": "-YsJpAslg6-z",
        "colab_type": "text"
      },
      "source": [
        "<span style=\"color:green\">Посмотри какой коэффициент корреляции, он же мизерный) Разве можем судить о связи?</span>"
      ]
    },
    {
      "cell_type": "markdown",
      "metadata": {
        "id": "gbMPXhA3g6-z",
        "colab_type": "text"
      },
      "source": [
        "**Зависимость стоимости квадратного метра от этажа.**"
      ]
    },
    {
      "cell_type": "code",
      "metadata": {
        "id": "O2pXg7-Xg6-z",
        "colab_type": "code",
        "outputId": "6243d573-9daa-470c-cadf-3c24c0df9335",
        "colab": {}
      },
      "source": [
        "center_spb_floor_category = center_spb_data.query('floor_category != \"другой\"').pivot_table(index = 'floor_category', values = 'price_per_square_meter', aggfunc = ['mean', 'count', 'median'])\n",
        "center_spb_floor_category.columns = ['mean', 'count', 'median']\n",
        "center_spb_floor_category.plot(y = 'median')\n",
        "center_spb_floor_category"
      ],
      "execution_count": 0,
      "outputs": [
        {
          "output_type": "execute_result",
          "data": {
            "text/html": [
              "<div>\n",
              "<style scoped>\n",
              "    .dataframe tbody tr th:only-of-type {\n",
              "        vertical-align: middle;\n",
              "    }\n",
              "\n",
              "    .dataframe tbody tr th {\n",
              "        vertical-align: top;\n",
              "    }\n",
              "\n",
              "    .dataframe thead th {\n",
              "        text-align: right;\n",
              "    }\n",
              "</style>\n",
              "<table border=\"1\" class=\"dataframe\">\n",
              "  <thead>\n",
              "    <tr style=\"text-align: right;\">\n",
              "      <th></th>\n",
              "      <th>mean</th>\n",
              "      <th>count</th>\n",
              "      <th>median</th>\n",
              "    </tr>\n",
              "    <tr>\n",
              "      <th>floor_category</th>\n",
              "      <th></th>\n",
              "      <th></th>\n",
              "      <th></th>\n",
              "    </tr>\n",
              "  </thead>\n",
              "  <tbody>\n",
              "    <tr>\n",
              "      <th>первый</th>\n",
              "      <td>123509.146341</td>\n",
              "      <td>164</td>\n",
              "      <td>107508.5</td>\n",
              "    </tr>\n",
              "    <tr>\n",
              "      <th>последний</th>\n",
              "      <td>146998.742537</td>\n",
              "      <td>268</td>\n",
              "      <td>114432.0</td>\n",
              "    </tr>\n",
              "  </tbody>\n",
              "</table>\n",
              "</div>"
            ],
            "text/plain": [
              "                         mean  count    median\n",
              "floor_category                                \n",
              "первый          123509.146341    164  107508.5\n",
              "последний       146998.742537    268  114432.0"
            ]
          },
          "metadata": {
            "tags": []
          },
          "execution_count": 19
        },
        {
          "output_type": "display_data",
          "data": {
            "image/png": "[encoded data removed]",
            "text/plain": [
              "<Figure size 432x288 with 1 Axes>"
            ]
          },
          "metadata": {
            "tags": [],
            "needs_background": "light"
          }
        }
      ]
    },
    {
      "cell_type": "markdown",
      "metadata": {
        "id": "9gA0WWSyg6-1",
        "colab_type": "text"
      },
      "source": [
        "**Вывод:** нет особых отличий от всей выборки квартир! Квартиры на первом этаже в среднем дешевле, чем на последнем!"
      ]
    },
    {
      "cell_type": "markdown",
      "metadata": {
        "id": "OBeLViTQg6-2",
        "colab_type": "text"
      },
      "source": [
        "**Зависимость стоимости квадратного метра от удаленности от центра.**"
      ]
    },
    {
      "cell_type": "code",
      "metadata": {
        "id": "GhAWEXAFg6-2",
        "colab_type": "code",
        "outputId": "9df79e65-1d1f-4851-c5c1-0075a58ae38c",
        "colab": {}
      },
      "source": [
        "center_spb_data.plot(kind = 'scatter', y = 'price_per_square_meter', x = 'cityCenters_nearest', alpha = 0.3)\n",
        "\n",
        "center_spb_data['cityCenters_nearest'].corr(center_spb_data['price_per_square_meter'])"
      ],
      "execution_count": 0,
      "outputs": [
        {
          "output_type": "execute_result",
          "data": {
            "text/plain": [
              "-0.16437506633061943"
            ]
          },
          "metadata": {
            "tags": []
          },
          "execution_count": 20
        },
        {
          "output_type": "display_data",
          "data": {
            "image/png": "[encoded data removed]",
            "text/plain": [
              "<Figure size 432x288 with 1 Axes>"
            ]
          },
          "metadata": {
            "tags": [],
            "needs_background": "light"
          }
        }
      ]
    },
    {
      "cell_type": "markdown",
      "metadata": {
        "id": "yAEMAzCQg6-5",
        "colab_type": "text"
      },
      "source": [
        "**Вывод:** ожидаемо, четкой зависимости нет, так как у нас уже сделана выборка по центру города!"
      ]
    },
    {
      "cell_type": "markdown",
      "metadata": {
        "id": "us5KuuV8g6-5",
        "colab_type": "text"
      },
      "source": [
        "**Зависимость стоимости квадратного метра от дня недели размещения объявления.**"
      ]
    },
    {
      "cell_type": "code",
      "metadata": {
        "id": "GbcJmaRAg6-6",
        "colab_type": "code",
        "outputId": "40606191-fd5f-4be1-ba18-df49bcfdb706",
        "colab": {}
      },
      "source": [
        "center_spb_weekday_exposition = center_spb_data.pivot_table(index = 'weekday_exposition', values = 'price_per_square_meter', aggfunc = ['mean', 'count', 'median'])\n",
        "center_spb_weekday_exposition.columns = ['mean', 'count', 'median']\n",
        "center_spb_weekday_exposition.plot(y = 'median')\n",
        "\n",
        "center_spb_weekday_exposition.sort_values('median', ascending = False)"
      ],
      "execution_count": 0,
      "outputs": [
        {
          "output_type": "execute_result",
          "data": {
            "text/html": [
              "<div>\n",
              "<style scoped>\n",
              "    .dataframe tbody tr th:only-of-type {\n",
              "        vertical-align: middle;\n",
              "    }\n",
              "\n",
              "    .dataframe tbody tr th {\n",
              "        vertical-align: top;\n",
              "    }\n",
              "\n",
              "    .dataframe thead th {\n",
              "        text-align: right;\n",
              "    }\n",
              "</style>\n",
              "<table border=\"1\" class=\"dataframe\">\n",
              "  <thead>\n",
              "    <tr style=\"text-align: right;\">\n",
              "      <th></th>\n",
              "      <th>mean</th>\n",
              "      <th>count</th>\n",
              "      <th>median</th>\n",
              "    </tr>\n",
              "    <tr>\n",
              "      <th>weekday_exposition</th>\n",
              "      <th></th>\n",
              "      <th></th>\n",
              "      <th></th>\n",
              "    </tr>\n",
              "  </thead>\n",
              "  <tbody>\n",
              "    <tr>\n",
              "      <th>0</th>\n",
              "      <td>145551.070588</td>\n",
              "      <td>170</td>\n",
              "      <td>121354.0</td>\n",
              "    </tr>\n",
              "    <tr>\n",
              "      <th>5</th>\n",
              "      <td>161508.078947</td>\n",
              "      <td>76</td>\n",
              "      <td>120568.0</td>\n",
              "    </tr>\n",
              "    <tr>\n",
              "      <th>4</th>\n",
              "      <td>139252.674528</td>\n",
              "      <td>212</td>\n",
              "      <td>117984.0</td>\n",
              "    </tr>\n",
              "    <tr>\n",
              "      <th>2</th>\n",
              "      <td>144332.984536</td>\n",
              "      <td>194</td>\n",
              "      <td>114902.5</td>\n",
              "    </tr>\n",
              "    <tr>\n",
              "      <th>1</th>\n",
              "      <td>148325.074074</td>\n",
              "      <td>189</td>\n",
              "      <td>114209.0</td>\n",
              "    </tr>\n",
              "    <tr>\n",
              "      <th>6</th>\n",
              "      <td>143555.014925</td>\n",
              "      <td>67</td>\n",
              "      <td>110843.0</td>\n",
              "    </tr>\n",
              "    <tr>\n",
              "      <th>3</th>\n",
              "      <td>147413.011952</td>\n",
              "      <td>251</td>\n",
              "      <td>110132.0</td>\n",
              "    </tr>\n",
              "  </tbody>\n",
              "</table>\n",
              "</div>"
            ],
            "text/plain": [
              "                             mean  count    median\n",
              "weekday_exposition                                \n",
              "0                   145551.070588    170  121354.0\n",
              "5                   161508.078947     76  120568.0\n",
              "4                   139252.674528    212  117984.0\n",
              "2                   144332.984536    194  114902.5\n",
              "1                   148325.074074    189  114209.0\n",
              "6                   143555.014925     67  110843.0\n",
              "3                   147413.011952    251  110132.0"
            ]
          },
          "metadata": {
            "tags": []
          },
          "execution_count": 21
        },
        {
          "output_type": "display_data",
          "data": {
            "image/png": "[encoded data removed]",
            "text/plain": [
              "<Figure size 432x288 with 1 Axes>"
            ]
          },
          "metadata": {
            "tags": [],
            "needs_background": "light"
          }
        }
      ]
    },
    {
      "cell_type": "markdown",
      "metadata": {
        "id": "RKoKNE4hg6-8",
        "colab_type": "text"
      },
      "source": [
        "**Вывод:** ситуация отличается от всей выборки, минимальные средние цены в четверг и воскресенье, самые высокие - в понедельник и субботу!"
      ]
    },
    {
      "cell_type": "markdown",
      "metadata": {
        "id": "VzQ-Va5Vg6-9",
        "colab_type": "text"
      },
      "source": [
        "<span style=\"color:green\">Классно, что везде ссылаешься на общую выборку :)</span>"
      ]
    },
    {
      "cell_type": "markdown",
      "metadata": {
        "id": "tpJyWgzKg6-9",
        "colab_type": "text"
      },
      "source": [
        "**Зависимость стоимости квадратного метра от месяца размещения объявления.**"
      ]
    },
    {
      "cell_type": "code",
      "metadata": {
        "id": "qxLhEyI8g6-9",
        "colab_type": "code",
        "outputId": "b3efa009-a5a6-4009-8011-a4861d4459c6",
        "colab": {}
      },
      "source": [
        "center_spb_month_exposition = center_spb_data.pivot_table(index = 'month_exposition', values = 'price_per_square_meter', aggfunc = ['mean', 'count', 'median'])\n",
        "center_spb_month_exposition.columns = ['mean', 'count', 'median']\n",
        "center_spb_month_exposition.plot(y = 'median')\n",
        "\n",
        "center_spb_month_exposition.sort_values('median', ascending = False)"
      ],
      "execution_count": 0,
      "outputs": [
        {
          "output_type": "execute_result",
          "data": {
            "text/html": [
              "<div>\n",
              "<style scoped>\n",
              "    .dataframe tbody tr th:only-of-type {\n",
              "        vertical-align: middle;\n",
              "    }\n",
              "\n",
              "    .dataframe tbody tr th {\n",
              "        vertical-align: top;\n",
              "    }\n",
              "\n",
              "    .dataframe thead th {\n",
              "        text-align: right;\n",
              "    }\n",
              "</style>\n",
              "<table border=\"1\" class=\"dataframe\">\n",
              "  <thead>\n",
              "    <tr style=\"text-align: right;\">\n",
              "      <th></th>\n",
              "      <th>mean</th>\n",
              "      <th>count</th>\n",
              "      <th>median</th>\n",
              "    </tr>\n",
              "    <tr>\n",
              "      <th>month_exposition</th>\n",
              "      <th></th>\n",
              "      <th></th>\n",
              "      <th></th>\n",
              "    </tr>\n",
              "  </thead>\n",
              "  <tbody>\n",
              "    <tr>\n",
              "      <th>4</th>\n",
              "      <td>168982.870690</td>\n",
              "      <td>116</td>\n",
              "      <td>123094.5</td>\n",
              "    </tr>\n",
              "    <tr>\n",
              "      <th>10</th>\n",
              "      <td>143129.021277</td>\n",
              "      <td>94</td>\n",
              "      <td>121978.0</td>\n",
              "    </tr>\n",
              "    <tr>\n",
              "      <th>12</th>\n",
              "      <td>162849.843373</td>\n",
              "      <td>83</td>\n",
              "      <td>121568.0</td>\n",
              "    </tr>\n",
              "    <tr>\n",
              "      <th>3</th>\n",
              "      <td>149574.508475</td>\n",
              "      <td>118</td>\n",
              "      <td>117409.0</td>\n",
              "    </tr>\n",
              "    <tr>\n",
              "      <th>1</th>\n",
              "      <td>147760.090909</td>\n",
              "      <td>77</td>\n",
              "      <td>117244.0</td>\n",
              "    </tr>\n",
              "    <tr>\n",
              "      <th>2</th>\n",
              "      <td>141960.713178</td>\n",
              "      <td>129</td>\n",
              "      <td>116406.0</td>\n",
              "    </tr>\n",
              "    <tr>\n",
              "      <th>9</th>\n",
              "      <td>155581.594059</td>\n",
              "      <td>101</td>\n",
              "      <td>116054.0</td>\n",
              "    </tr>\n",
              "    <tr>\n",
              "      <th>11</th>\n",
              "      <td>136308.390244</td>\n",
              "      <td>123</td>\n",
              "      <td>112639.0</td>\n",
              "    </tr>\n",
              "    <tr>\n",
              "      <th>7</th>\n",
              "      <td>137694.565657</td>\n",
              "      <td>99</td>\n",
              "      <td>112195.0</td>\n",
              "    </tr>\n",
              "    <tr>\n",
              "      <th>8</th>\n",
              "      <td>142370.175676</td>\n",
              "      <td>74</td>\n",
              "      <td>110491.0</td>\n",
              "    </tr>\n",
              "    <tr>\n",
              "      <th>6</th>\n",
              "      <td>131927.364706</td>\n",
              "      <td>85</td>\n",
              "      <td>110081.0</td>\n",
              "    </tr>\n",
              "    <tr>\n",
              "      <th>5</th>\n",
              "      <td>123652.833333</td>\n",
              "      <td>60</td>\n",
              "      <td>107799.0</td>\n",
              "    </tr>\n",
              "  </tbody>\n",
              "</table>\n",
              "</div>"
            ],
            "text/plain": [
              "                           mean  count    median\n",
              "month_exposition                                \n",
              "4                 168982.870690    116  123094.5\n",
              "10                143129.021277     94  121978.0\n",
              "12                162849.843373     83  121568.0\n",
              "3                 149574.508475    118  117409.0\n",
              "1                 147760.090909     77  117244.0\n",
              "2                 141960.713178    129  116406.0\n",
              "9                 155581.594059    101  116054.0\n",
              "11                136308.390244    123  112639.0\n",
              "7                 137694.565657     99  112195.0\n",
              "8                 142370.175676     74  110491.0\n",
              "6                 131927.364706     85  110081.0\n",
              "5                 123652.833333     60  107799.0"
            ]
          },
          "metadata": {
            "tags": []
          },
          "execution_count": 22
        },
        {
          "output_type": "display_data",
          "data": {
            "image/png": "[encoded data removed]",
            "text/plain": [
              "<Figure size 432x288 with 1 Axes>"
            ]
          },
          "metadata": {
            "tags": [],
            "needs_background": "light"
          }
        }
      ]
    },
    {
      "cell_type": "markdown",
      "metadata": {
        "id": "7oFA25z1g6-_",
        "colab_type": "text"
      },
      "source": [
        "**Вывод:** ситуация похожая с общей выборкой - самая высокая стоимость метра в апреле и августе! Самая низкая стоимость в мае и июне!"
      ]
    },
    {
      "cell_type": "markdown",
      "metadata": {
        "id": "zfHnemCVg6_A",
        "colab_type": "text"
      },
      "source": [
        "**Зависимость стоимости квадратного метра от года размещения объявления.**"
      ]
    },
    {
      "cell_type": "code",
      "metadata": {
        "id": "9ZKhpg9Gg6_A",
        "colab_type": "code",
        "outputId": "3126c877-1927-47da-c6fe-68272b79489d",
        "colab": {}
      },
      "source": [
        "center_spb_year_exposition = center_spb_data.pivot_table(index = 'year_exposition', values = 'price_per_square_meter', aggfunc = ['mean', 'count', 'median'])\n",
        "center_spb_year_exposition.columns = ['mean', 'count', 'median']\n",
        "center_spb_year_exposition.query('count > 50').plot(y = 'median')\n",
        "\n",
        "center_spb_year_exposition.query('count > 50').sort_values('median', ascending = False)"
      ],
      "execution_count": 0,
      "outputs": [
        {
          "output_type": "execute_result",
          "data": {
            "text/html": [
              "<div>\n",
              "<style scoped>\n",
              "    .dataframe tbody tr th:only-of-type {\n",
              "        vertical-align: middle;\n",
              "    }\n",
              "\n",
              "    .dataframe tbody tr th {\n",
              "        vertical-align: top;\n",
              "    }\n",
              "\n",
              "    .dataframe thead th {\n",
              "        text-align: right;\n",
              "    }\n",
              "</style>\n",
              "<table border=\"1\" class=\"dataframe\">\n",
              "  <thead>\n",
              "    <tr style=\"text-align: right;\">\n",
              "      <th></th>\n",
              "      <th>mean</th>\n",
              "      <th>count</th>\n",
              "      <th>median</th>\n",
              "    </tr>\n",
              "    <tr>\n",
              "      <th>year_exposition</th>\n",
              "      <th></th>\n",
              "      <th></th>\n",
              "      <th></th>\n",
              "    </tr>\n",
              "  </thead>\n",
              "  <tbody>\n",
              "    <tr>\n",
              "      <th>2019</th>\n",
              "      <td>173593.070866</td>\n",
              "      <td>127</td>\n",
              "      <td>131432</td>\n",
              "    </tr>\n",
              "    <tr>\n",
              "      <th>2018</th>\n",
              "      <td>140129.402941</td>\n",
              "      <td>340</td>\n",
              "      <td>117898</td>\n",
              "    </tr>\n",
              "    <tr>\n",
              "      <th>2017</th>\n",
              "      <td>141410.263158</td>\n",
              "      <td>418</td>\n",
              "      <td>114579</td>\n",
              "    </tr>\n",
              "    <tr>\n",
              "      <th>2016</th>\n",
              "      <td>135592.863946</td>\n",
              "      <td>147</td>\n",
              "      <td>109090</td>\n",
              "    </tr>\n",
              "    <tr>\n",
              "      <th>2015</th>\n",
              "      <td>154054.330508</td>\n",
              "      <td>118</td>\n",
              "      <td>107055</td>\n",
              "    </tr>\n",
              "  </tbody>\n",
              "</table>\n",
              "</div>"
            ],
            "text/plain": [
              "                          mean  count  median\n",
              "year_exposition                              \n",
              "2019             173593.070866    127  131432\n",
              "2018             140129.402941    340  117898\n",
              "2017             141410.263158    418  114579\n",
              "2016             135592.863946    147  109090\n",
              "2015             154054.330508    118  107055"
            ]
          },
          "metadata": {
            "tags": []
          },
          "execution_count": 23
        },
        {
          "output_type": "display_data",
          "data": {
            "image/png": "[encoded data removed]",
            "text/plain": [
              "<Figure size 432x288 with 1 Axes>"
            ]
          },
          "metadata": {
            "tags": [],
            "needs_background": "light"
          }
        }
      ]
    },
    {
      "cell_type": "markdown",
      "metadata": {
        "id": "rXgP9Fuzg6_G",
        "colab_type": "text"
      },
      "source": [
        "**Вывод:** в отличие от всей выборки - цены в центре СПБ в 2016-2017 годах не падали, а планомерно расли!"
      ]
    },
    {
      "cell_type": "markdown",
      "metadata": {
        "id": "2GxUCGDNg6_H",
        "colab_type": "text"
      },
      "source": [
        "### Шаг 5. Общий вывод"
      ]
    },
    {
      "cell_type": "markdown",
      "metadata": {
        "id": "ZY8Txoucg6_H",
        "colab_type": "text"
      },
      "source": [
        "Мы обработали полученный архив данных - обработали пропущенные значения там, где это необходимо, заменили типы данных на необходимые для удобной работы.\n",
        "Посчитали и добавили в таблицу цену квадратного метра жилья, вывели из даты дни недели, месяцы и года размещения объявлений, добавили категории по этажам квартир. Изучили следующие параметры на наличие выбивающихся значений - площадь, цена, число комнат, высота потолков. Были определены аномалии в данных параметрах. Изучая время продажи квартир мы выявили, что большое количество объявлений было автоматически снято с Яндекс Недвижимость и дату из снятия нельзя считать датой продажи квартиры, поэтому, изучая средние сроки продажи квартир - данные значения не учитывались.  Мы выявили при помощи диаграммы размаха, что нормальные значения продажи квартир варьируются от 1 до 600 дней.\n",
        "Мы выявили, что на стоимость квадратного метра квартиры больше всего влияют количество комнат, этаж квартиры, близость к центру. Незначительно на стоимость квадратного метра влияют день, месяц, год размещения и общая площадь. Нужно учитывать, что в 2016-2017 годах стоимость квартир в среднем по рынку была ниже на 10-20 %, тогда как в центре Санкт-Петербурга данной зависимости от года не обнаружено.  В данном случае имело место постоянное удорожание стоимости, начиная с 2015 года по текущий момент. Судя, по резкости изменения цен в зависимости от удаления от центра СПБ, мы выявили центр города в радиусе 3 километров.\n",
        "\n",
        "Также важно учитывать, что, рассматривая среднюю стоимость квартир в 2014-2019 годах, мы не делали сегментацию рынка, а лишь смотрели средние показатели по рынку в целом. Т.е. возможно, что цены на аналогичные квартиры в разных годах вели себя абсолютно по-разному. Т.е. например в то время, когда средняя стоимость метра по рынку в 2016-2017 годах была наиболее низкой, какие-то аналогичные прошлым годам квартиры могли и не падать в цене, а наоборот дорожать! Именно об этом нам и говорят данные, полученные при изучении единственного сегмента квартир - находящихся в радиусе 3 км в центре СПБ. "
      ]
    },
    {
      "cell_type": "markdown",
      "metadata": {
        "id": "F0jAv4jDg6_I",
        "colab_type": "text"
      },
      "source": [
        "### Чек-лист готовности проекта\n",
        "\n",
        "Поставьте 'x' в выполненных пунктах. Далее нажмите Shift+Enter."
      ]
    },
    {
      "cell_type": "markdown",
      "metadata": {
        "id": "I6SW-rMug6_I",
        "colab_type": "text"
      },
      "source": [
        "- [x]  открыт файл\n",
        "- [x]  файлы изучены (выведены первые строки, метод info())\n",
        "- [x]  определены пропущенные значения\n",
        "- [x]  заполнены пропущенные значения\n",
        "- [x]  есть пояснение какие пропущенные значения обнаружены\n",
        "- [x]  изменены типы данных\n",
        "- [x]  есть пояснение в каких столбцах изменены типы и почему\n",
        "- [x]  посчитано и добавлено в таблицу: цена квадратного метра\n",
        "- [x]  посчитано и добавлено в таблицу: день недели, месяц и год публикации объявления\n",
        "- [x]  посчитано и добавлено в таблицу: этаж квартиры; варианты — первый, последний, другой\n",
        "- [x]  посчитано и добавлено в таблицу: соотношение жилой и общей площади, а также отношение площади кухни к общей\n",
        "- [x]  изучены следующие параметры: площадь, цена, число комнат, высота потолков\n",
        "- [x]  построены гистограммы для каждого параметра\n",
        "- [x]  выполнено задание: \"Изучите время продажи квартиры. Постройте гистограмму. Посчитайте среднее и медиану. Опишите, сколько обычно занимает продажа. Когда можно считать, что продажи прошли очень быстро, а когда необычно долго?\"\n",
        "- [x]  выполнено задание: \"Уберите редкие и выбивающиеся значения. Опишите, какие особенности обнаружили.\"\n",
        "- [x]  выполнено задание: \"Какие факторы больше всего влияют на стоимость квартиры? Изучите, зависит ли цена от квадратного метра, числа комнат, этажа (первого или последнего), удалённости от центра. Также изучите зависимость от даты размещения: дня недели, месяца и года. \"Выберите 10 населённых пунктов с наибольшим числом объявлений. Посчитайте среднюю цену квадратного метра в этих населённых пунктах. Выделите населённые пункты с самой высокой и низкой стоимостью жилья. Эти данные можно найти по имени в столбце '*locality_name'*. \"\n",
        "- [x]  выполнено задание: \"Изучите предложения квартир: для каждой квартиры есть информация о расстоянии до центра. Выделите квартиры в Санкт-Петербурге (*'locality_name'*). Ваша задача — выяснить, какая область входит в центр. Создайте столбец с расстоянием до центра в километрах: округлите до целых значений. После этого посчитайте среднюю цену для каждого километра. Постройте график: он должен показывать, как цена зависит от удалённости от центра. Определите границу, где график сильно меняется — это и будет центральная зона. \"\n",
        "- [x]  выполнено задание: \"Выделите сегмент квартир в центре. Проанализируйте эту территорию и изучите следующие параметры: площадь, цена, число комнат, высота потолков. Также выделите факторы, которые влияют на стоимость квартиры (число комнат, этаж, удалённость от центра, дата размещения объявления). Сделайте выводы. Отличаются ли они от общих выводов по всему городу?\"\n",
        "- [x]  в каждом этапе есть выводы\n",
        "- [x]  есть общий вывод"
      ]
    }
  ]
}